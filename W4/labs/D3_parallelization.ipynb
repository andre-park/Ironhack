{
 "cells": [
  {
   "cell_type": "markdown",
   "metadata": {
    "colab_type": "text",
    "id": "MLBUDdX8SEjl"
   },
   "source": [
    "# Parallelization Lab\n",
    "\n",
    "In this lab, you will be leveraging several concepts you have learned to obtain a list of links from a web page and crawl and index the pages referenced by those links - both sequentially and in parallel. Follow the steps below to complete the lab.\n",
    "\n",
    "### Step 1: Use the requests library to retrieve the content from the URL below."
   ]
  },
  {
   "cell_type": "code",
   "execution_count": 1,
   "metadata": {
    "ExecuteTime": {
     "end_time": "2020-06-25T01:04:33.728787Z",
     "start_time": "2020-06-25T01:04:33.142989Z"
    },
    "colab": {},
    "colab_type": "code",
    "id": "HlQZvSUqSEjn"
   },
   "outputs": [],
   "source": [
    "import requests\n",
    "from bs4 import BeautifulSoup\n",
    "import pandas as pd\n",
    "import numpy as np\n",
    "import re\n",
    "url = 'https://en.wikipedia.org/wiki/Data_science'"
   ]
  },
  {
   "cell_type": "code",
   "execution_count": 2,
   "metadata": {
    "ExecuteTime": {
     "end_time": "2020-06-25T01:04:34.330897Z",
     "start_time": "2020-06-25T01:04:33.728787Z"
    },
    "colab": {},
    "colab_type": "code",
    "id": "dHlgfatrSEjs"
   },
   "outputs": [],
   "source": [
    "# your code here\n",
    "html = requests.get(url)"
   ]
  },
  {
   "cell_type": "markdown",
   "metadata": {
    "colab_type": "text",
    "id": "Ig5G0TTDSEjw"
   },
   "source": [
    "### Step 2: Use BeautifulSoup to extract a list of all the unique links on the page."
   ]
  },
  {
   "cell_type": "code",
   "execution_count": 3,
   "metadata": {
    "ExecuteTime": {
     "end_time": "2020-06-25T01:04:34.415515Z",
     "start_time": "2020-06-25T01:04:34.330897Z"
    },
    "colab": {},
    "colab_type": "code",
    "id": "VfmrZsypSEj0",
    "scrolled": true
   },
   "outputs": [
    {
     "data": {
      "text/plain": [
       "['/wiki/Data_analysis',\n",
       " '/wiki/Information_visualization',\n",
       " 'https://www.mediawiki.org/wiki/Special:MyLanguage/How_to_contribute',\n",
       " '#cite_ref-:4_31-2',\n",
       " '/wiki/Data_curation',\n",
       " '/wiki/Information_privacy',\n",
       " '/wiki/Recurrent_neural_network',\n",
       " '/wiki/Mathematics',\n",
       " '/wiki/TensorFlow',\n",
       " '/wiki/Perceptron',\n",
       " '/wiki/Data_warehouse',\n",
       " '/wiki/Deep_learning',\n",
       " 'https://flowingdata.com/2009/06/04/rise-of-the-data-scientist/',\n",
       " '/wiki/Template:Machine_learning_bar',\n",
       " '/wiki/Montpellier_2_University',\n",
       " '/wiki/Vasant_Dhar',\n",
       " '/wiki/State%E2%80%93action%E2%80%93reward%E2%80%93state%E2%80%93action',\n",
       " '/static/favicon/wikipedia.ico',\n",
       " '/static/apple-touch/wikipedia.png',\n",
       " '#cite_ref-28',\n",
       " '/wiki/Pytorch',\n",
       " 'https://ru.wikipedia.org/wiki/%D0%9D%D0%B0%D1%83%D0%BA%D0%B0_%D0%BE_%D0%B4%D0%B0%D0%BD%D0%BD%D1%8B%D1%85',\n",
       " '/wiki/American_Statistical_Association',\n",
       " '/w/index.php?title=Special:UserLogin&returnto=Data+science',\n",
       " '/wiki/Wikipedia:File_Upload_Wizard',\n",
       " '#cite_ref-15',\n",
       " '/wiki/Special:MyContributions',\n",
       " '/wiki/Dimensionality_reduction',\n",
       " '/w/index.php?title=Data_science&action=edit&section=9',\n",
       " '/wiki/Computer_science',\n",
       " 'https://www.forbes.com/sites/peterpham/2015/08/28/the-impacts-of-big-data-that-you-may-not-have-heard-of/',\n",
       " '/wiki/Journal_of_Machine_Learning_Research',\n",
       " '#cite_ref-:5_32-1',\n",
       " '//foundation.wikimedia.org/wiki/Terms_of_Use',\n",
       " 'https://hy.wikipedia.org/wiki/%D5%8F%D5%BE%D5%B5%D5%A1%D5%AC%D5%B6%D5%A5%D6%80%D5%AB_%D5%A3%D5%AB%D5%BF%D5%B8%D6%82%D5%A9%D5%B5%D5%B8%D6%82%D5%B6',\n",
       " 'https://en.wikipedia.org/w/index.php?title=Template:Machine_learning_bar&action=edit',\n",
       " '#cite_ref-:4_31-1',\n",
       " '#cite_note-7',\n",
       " '/wiki/Support-vector_machine',\n",
       " '/wiki/Jim_Gray_(computer_scientist)',\n",
       " 'https://eu.wikipedia.org/wiki/Datu_zientzia',\n",
       " 'https://foundation.wikimedia.org/wiki/Privacy_policy',\n",
       " 'https://az.wikipedia.org/wiki/Veril%C9%99nl%C9%99r_elmi_(Data_Science)',\n",
       " '#cite_note-35',\n",
       " '/w/index.php?title=Data_science&action=edit&section=12',\n",
       " '#cite_note-11',\n",
       " 'https://www.nsf.gov/pubs/2005/nsb0540/',\n",
       " '/wiki/DBSCAN',\n",
       " '/wiki/Data_quality',\n",
       " '#cite_note-13',\n",
       " '/wiki/Conference_on_Neural_Information_Processing_Systems',\n",
       " 'https://benfry.com/phd/dissertation/2.html',\n",
       " '/wiki/Template_talk:Data',\n",
       " '#Technologies_and_techniques',\n",
       " '#cite_ref-1',\n",
       " '/wiki/Data_degradation',\n",
       " '/wiki/Category:CS1_maint:_others',\n",
       " '/wiki/Extract,_transform,_load',\n",
       " '#cite_note-9',\n",
       " '#References',\n",
       " '/w/index.php?title=Data_science&action=edit&section=13',\n",
       " '/wiki/Data_editing',\n",
       " '/wiki/Peter_Naur',\n",
       " '#cite_note-:6-33',\n",
       " '/wiki/National_Science_Board',\n",
       " '#cite_ref-:5_32-0',\n",
       " '#mw-head',\n",
       " '/wiki/DeepDream',\n",
       " '/wiki/Linear_regression',\n",
       " '/wiki/Machine_learning',\n",
       " '/wiki/Data_storage',\n",
       " 'https://ar.wikipedia.org/wiki/%D8%B9%D9%84%D9%85_%D8%A7%D9%84%D8%A8%D9%8A%D8%A7%D9%86%D8%A7%D8%AA',\n",
       " 'https://vi.wikipedia.org/wiki/Khoa_h%E1%BB%8Dc_d%E1%BB%AF_li%E1%BB%87u',\n",
       " '/wiki/Relevance_vector_machine',\n",
       " '#cite_ref-14',\n",
       " 'https://www.glassdoor.com/List/Best-Jobs-in-America-LST_KQ0,20.htm',\n",
       " '#cite_note-22',\n",
       " '/wiki/Information_explosion',\n",
       " '/wiki/Statistical_learning_theory',\n",
       " '/wiki/K-nearest_neighbors_algorithm',\n",
       " 'http://www.datascienceassn.org/about-data-science',\n",
       " '/w/index.php?title=Data_science&action=edit&section=10',\n",
       " 'https://magazine.amstat.org/blog/2016/06/01/datascience-2/',\n",
       " '#cite_note-1',\n",
       " '#cite_note-28',\n",
       " '#cite_note-:4-31',\n",
       " '/w/load.php?lang=en&modules=ext.cite.styles%7Cext.uls.interlanguage%7Cext.visualEditor.desktopArticleTarget.noscript%7Cext.wikimediaBadges%7Cjquery.makeCollapsible.styles%7Cmediawiki.toc.styles%7Cskins.vector.styles.legacy%7Cwikibase.client.init&only=styles&skin=vector',\n",
       " 'https://tr.wikipedia.org/wiki/Veri_bilimi',\n",
       " '/wiki/Statistics',\n",
       " 'https://ta.wikipedia.org/wiki/%E0%AE%A4%E0%AE%B0%E0%AE%B5%E0%AF%81_%E0%AE%85%E0%AE%B1%E0%AE%BF%E0%AE%B5%E0%AE%BF%E0%AE%AF%E0%AE%B2%E0%AF%8D',\n",
       " '#cite_ref-13',\n",
       " '/wiki/Ensemble_learning',\n",
       " '#cite_ref-:3_30-5',\n",
       " '#cite_ref-7',\n",
       " 'https://ko.wikipedia.org/wiki/%EB%8D%B0%EC%9D%B4%ED%84%B0_%EC%82%AC%EC%9D%B4%EC%96%B8%EC%8A%A4',\n",
       " '/wiki/Data_compression',\n",
       " '/wiki/Database',\n",
       " '/wiki/Jeffrey_T._Leek',\n",
       " 'https://cran.r-project.org/doc/FAQ/R-FAQ.html#What-is-R_003f',\n",
       " '/wiki/Information_science',\n",
       " '/wiki/Special:SpecialPages',\n",
       " 'https://zh.wikipedia.org/wiki/%E6%95%B0%E6%8D%AE%E7%A7%91%E5%AD%A6',\n",
       " '/wiki/Convolutional_neural_network',\n",
       " '#p-search',\n",
       " '/wiki/Conditional_random_field',\n",
       " 'https://en.wikipedia.org/w/index.php?title=Template:Data&action=edit',\n",
       " '/wiki/Human%E2%80%93computer_interaction',\n",
       " '/wiki/Doi_(identifier)',\n",
       " 'https://commons.wikimedia.org/wiki/Category:Data_science',\n",
       " 'https://he.wikipedia.org/wiki/%D7%9E%D7%93%D7%A2_%D7%94%D7%A0%D7%AA%D7%95%D7%A0%D7%99%D7%9D',\n",
       " '#cite_ref-:6_33-2',\n",
       " '#cite_ref-:0_20-2',\n",
       " 'https://fi.wikipedia.org/wiki/Datatiede',\n",
       " '/wiki/Wikipedia:General_disclaimer',\n",
       " '/wiki/Tableau_Software',\n",
       " '/wiki/Category:Information_science',\n",
       " '/wiki/Portal:Current_events',\n",
       " '#Specializations_and_associated_careers',\n",
       " '#cite_note-8',\n",
       " '/wiki/Logistic_regression',\n",
       " '/wiki/Data_management',\n",
       " '#cite_note-:1-23',\n",
       " '/w/index.php?title=Data_science&action=edit&section=5',\n",
       " '//www.worldcat.org/issn/0017-8012',\n",
       " '#cite_ref-:3_30-0',\n",
       " '/wiki/Template:Data',\n",
       " '/wiki/Mean-shift',\n",
       " '#cite_ref-11',\n",
       " '/wiki/ISSN_(identifier)',\n",
       " 'https://towardsdatascience.com/how-data-science-will-impact-future-of-businesses-7f11f5699c4d',\n",
       " '/wiki/Data_scrubbing',\n",
       " '/wiki/Nathan_Yau',\n",
       " '#cite_note-12',\n",
       " '/wiki/Data_library',\n",
       " '/wiki/Data_fusion',\n",
       " '/wiki/Wikipedia:Contents',\n",
       " 'https://doi.org/10.1145%2F2500499',\n",
       " '/wiki/Category:Computer_occupations',\n",
       " '/wiki/Glossary_of_artificial_intelligence',\n",
       " '/wiki/Special:BookSources/978-0-9825442-0-4',\n",
       " '/wiki/U-Net',\n",
       " '#cite_note-10',\n",
       " '#cite_ref-2',\n",
       " '/wiki/Unsupervised_learning',\n",
       " '/wiki/R_(programming_language)',\n",
       " 'https://th.wikipedia.org/wiki/%E0%B8%A7%E0%B8%B4%E0%B8%97%E0%B8%A2%E0%B8%B2%E0%B8%81%E0%B8%B2%E0%B8%A3%E0%B8%82%E0%B9%89%E0%B8%AD%E0%B8%A1%E0%B8%B9%E0%B8%A5',\n",
       " '#cite_note-25',\n",
       " '#cite_note-24',\n",
       " '/wiki/Data_format_management',\n",
       " '#cite_ref-21',\n",
       " '/wiki/Big_data',\n",
       " '#cite_note-TansleyTolle2009-4',\n",
       " '/wiki/Data_integration',\n",
       " '/wiki/Computational_learning_theory',\n",
       " 'https://doi.org/10.1007%2F978-4-431-65950-1_3',\n",
       " 'https://lv.wikipedia.org/wiki/Datu_m%C4%81c%C4%ABba',\n",
       " '#cite_note-:7-17',\n",
       " 'https://web.archive.org/web/20141109113411/http://cacm.acm.org/magazines/2013/12/169933-data-science-and-prediction/fulltext',\n",
       " '/wiki/Q-learning',\n",
       " '/wiki/Data_reduction',\n",
       " '//www.wikimediafoundation.org/',\n",
       " '/wiki/Special:RecentChangesLinked/Data_science',\n",
       " '/wiki/Data_science',\n",
       " '#cite_ref-:1_23-0',\n",
       " '/wiki/Semi-supervised_learning',\n",
       " '#cite_ref-:0_20-1',\n",
       " '/wiki/Naive_Bayes_classifier',\n",
       " '/wiki/Wikipedia:Community_portal',\n",
       " 'https://arxiv.org/list/cs.LG/recent',\n",
       " '/wiki/Learning_to_rank',\n",
       " '/wiki/Machine_Learning_(journal)',\n",
       " '/wiki/William_S._Cleveland',\n",
       " '/wiki/Special:BookSources/0-12-241770-4',\n",
       " '/wiki/Independent_component_analysis',\n",
       " '/wiki/Data_validation',\n",
       " 'https://es.wikipedia.org/wiki/Ciencia_de_datos',\n",
       " '//en.wikipedia.org/w/api.php?action=rsd',\n",
       " '/wiki/Online_machine_learning',\n",
       " '/wiki/Local_outlier_factor',\n",
       " 'https://hbr.org/2012/10/data-scientist-the-sexiest-job-of-the-21st-century',\n",
       " '#cite_ref-8',\n",
       " '/w/index.php?title=Special:CiteThisPage&page=Data_science&id=962714125&wpFormIdentifier=titleform',\n",
       " '/wiki/Automated_machine_learning',\n",
       " '/wiki/Data_mining',\n",
       " 'https://doi.org/10.1145%2F3076253',\n",
       " '/w/index.php?title=Data_science&action=history',\n",
       " '/wiki/Empirical_research',\n",
       " '#cite_ref-TansleyTolle2009_4-0',\n",
       " '#cite_ref-34',\n",
       " 'https://statmodeling.stat.columbia.edu/2013/11/14/statistics-least-important-part-data-science/',\n",
       " 'https://web.archive.org/web/20190620184935/https://magazine.amstat.org/blog/2015/10/01/asa-statement-on-the-role-of-statistics-in-data-science/',\n",
       " '/wiki/Bayesian_network',\n",
       " 'https://stats.wikimedia.org/#/en.wikipedia.org',\n",
       " 'https://my.wikipedia.org/wiki/%E1%80%A1%E1%80%81%E1%80%BB%E1%80%80%E1%80%BA%E1%80%A1%E1%80%9C%E1%80%80%E1%80%BA%E1%80%9E%E1%80%AD%E1%80%95%E1%80%B9%E1%80%95%E1%80%B6%E1%80%95%E1%80%8A%E1%80%AC',\n",
       " '#Foundations',\n",
       " 'https://www.mastersindatascience.org/careers/data-scientist/',\n",
       " '/wiki/Python_(programming_language)',\n",
       " 'https://www.statisticsviews.com/details/feature/5133141/Nate-Silver-What-I-need-from-statisticians.html',\n",
       " 'https://en.wikipedia.org/w/index.php?title=Data_science&oldid=962714125',\n",
       " '/w/index.php?title=Special:RecentChanges&feed=atom',\n",
       " '/wiki/John_Tukey',\n",
       " '/wiki/Special:Random',\n",
       " '/wiki/Probably_approximately_correct_learning',\n",
       " '#cite_note-:3-30',\n",
       " '/w/index.php?title=Data_science&action=edit&section=8',\n",
       " 'https://donate.wikimedia.org/wiki/Special:FundraiserRedirector?utm_source=donate&utm_medium=sidebar&utm_campaign=C13_en.wikipedia.org&uselang=en',\n",
       " '/wiki/K-means_clustering',\n",
       " '#cite_ref-:4_31-3',\n",
       " '/w/index.php?title=Special:CreateAccount&returnto=Data+science',\n",
       " '#Etymology',\n",
       " 'https://books.google.com/books?id=oGs_AQAAIAAJ',\n",
       " 'http://courses.csail.mit.edu/18.337/2015/docs/50YearsDataScience.pdf',\n",
       " '/w/index.php?title=Data_science&action=edit&section=11',\n",
       " '#cite_note-14',\n",
       " 'https://www.wikidata.org/wiki/Special:EntityPage/Q2374463#sitelinks-wikipedia',\n",
       " '/wiki/Hidden_Markov_model',\n",
       " '#cite_ref-:4_31-0',\n",
       " 'https://pl.wikipedia.org/wiki/Danologia',\n",
       " '#cite_ref-10',\n",
       " '#cite_ref-:7_17-0',\n",
       " '/wiki/Data_recovery',\n",
       " '/w/load.php?lang=en&modules=site.styles&only=styles&skin=vector',\n",
       " '/wiki/T-distributed_stochastic_neighbor_embedding',\n",
       " '/wiki/List_of_datasets_for_machine-learning_research',\n",
       " '/wiki/Graphical_model',\n",
       " '#cite_ref-:1_23-2',\n",
       " '/wiki/Regression_analysis',\n",
       " '#cite_note-2',\n",
       " '/wiki/Long_short-term_memory',\n",
       " '#cite_note-26',\n",
       " 'https://id.wikipedia.org/wiki/Ilmu_data',\n",
       " 'https://www.wikidata.org/wiki/Special:EntityPage/Q2374463',\n",
       " '/wiki/Distributed_computing',\n",
       " '#cite_ref-6',\n",
       " '/wiki/Category:Computational_fields_of_study',\n",
       " '#cite_note-:5-32',\n",
       " '/wiki/Generative_adversarial_network',\n",
       " '/wiki/Feature_engineering',\n",
       " '#cite_ref-19',\n",
       " '#Educational_path',\n",
       " 'https://web.archive.org/web/20170320193019/https://books.google.com/books?id=oGs_AQAAIAAJ',\n",
       " '//foundation.wikimedia.org/wiki/Privacy_policy',\n",
       " '#cite_ref-36',\n",
       " '#cite_note-:0-20',\n",
       " '/wiki/Special:RecentChanges',\n",
       " '//en.m.wikipedia.org/w/index.php?title=Data_science&mobileaction=toggle_view_mobile',\n",
       " 'https://www.forbes.com/sites/gilpress/2013/05/28/a-very-short-history-of-data-science/',\n",
       " '#cite_note-27',\n",
       " '#cite_ref-16',\n",
       " '#cite_ref-24',\n",
       " 'https://www.mediawiki.org/',\n",
       " '/wiki/Artificial_neural_network',\n",
       " '/wiki/Multilayer_perceptron',\n",
       " '//meta.wikimedia.org',\n",
       " '/wiki/Boosting_(machine_learning)',\n",
       " '#cite_ref-:3_30-3',\n",
       " '#cite_ref-:3_30-2',\n",
       " '#cite_ref-:3_30-1',\n",
       " '/wiki/Nate_Silver',\n",
       " '/wiki/Data_retention',\n",
       " '/wiki/Data_wrangling',\n",
       " '#cite_ref-:3_30-4',\n",
       " '#cite_note-29',\n",
       " '/wiki/Category:Use_dmy_dates_from_December_2012',\n",
       " '/wiki/Inter-disciplinary',\n",
       " '//pubmed.ncbi.nlm.nih.gov/19265007',\n",
       " '/wiki/Committee_on_Data_for_Science_and_Technology',\n",
       " 'https://web.archive.org/web/20140102194117/http://simplystatistics.org/2013/12/12/the-key-word-in-data-science-is-not-data-it-is-science/',\n",
       " '/wiki/Autoencoder',\n",
       " '#cite_ref-:0_20-0',\n",
       " '/wiki/Help:Category',\n",
       " 'https://it.wikipedia.org/wiki/Scienza_dei_dati',\n",
       " '/wiki/David_Donoho',\n",
       " '#cite_ref-:6_33-0',\n",
       " 'http://cacm.acm.org/magazines/2013/12/169933-data-science-and-prediction/fulltext',\n",
       " '/wiki/Data_cleansing',\n",
       " '/wiki/Category:CS1_maint:_date_and_year',\n",
       " '/wiki/Jupyter_Notebook',\n",
       " 'http://priceonomics.com/whats-the-difference-between-data-science-and/',\n",
       " '/wiki/Structured_prediction',\n",
       " '/wiki/Help:Contents',\n",
       " '/wiki/ISBN_(identifier)',\n",
       " 'https://zh-yue.wikipedia.org/wiki/%E6%95%B8%E6%93%9A%E7%A7%91%E5%AD%B8',\n",
       " '/wiki/OPTICS_algorithm',\n",
       " '/wiki/Statistical_classification',\n",
       " '/wiki/Data_(computing)',\n",
       " '//shop.wikimedia.org',\n",
       " '/w/index.php?title=Data_science&action=edit&section=3',\n",
       " 'https://foundation.wikimedia.org/wiki/Cookie_statement',\n",
       " '#cite_note-6',\n",
       " 'https://doi.org/10.1126%2Fscience.1170411',\n",
       " '#Relationship_to_statistics',\n",
       " '/wiki/DJ_Patil',\n",
       " '/wiki/Wikipedia:About',\n",
       " 'https://wikimediafoundation.org/',\n",
       " '#cite_ref-:6_33-1',\n",
       " '#Early_usage',\n",
       " '/wiki/Data_preservation',\n",
       " '#cite_note-BellHey2009-5',\n",
       " '/w/index.php?title=Data_science&oldid=962714125',\n",
       " 'https://doi.org/10.3390%2Fbdcc2020014',\n",
       " '/wiki/Expectation%E2%80%93maximization_algorithm',\n",
       " '/wiki/Data_steward',\n",
       " 'https://el.wikipedia.org/wiki/%CE%95%CF%80%CE%B9%CF%83%CF%84%CE%AE%CE%BC%CE%B7_%CE%B4%CE%B5%CE%B4%CE%BF%CE%BC%CE%AD%CE%BD%CF%89%CE%BD',\n",
       " '//www.worldcat.org/issn/0036-8075',\n",
       " '/wiki/Decision_tree_learning',\n",
       " '/w/index.php?title=Data_science&action=edit',\n",
       " '#cite_ref-26',\n",
       " '/wiki/Proper_generalized_decomposition',\n",
       " '#cite_ref-27',\n",
       " '/wiki/Data_pre-processing',\n",
       " '/wiki/C.F._Jeff_Wu',\n",
       " '#cite_ref-25',\n",
       " '/w/index.php?title=Data_science&action=edit&section=2',\n",
       " '/wiki/Grammar_induction',\n",
       " '/w/index.php?title=Data_science&action=edit&section=4',\n",
       " '/wiki/Ben_Fry',\n",
       " '/wiki/Data_migration',\n",
       " '/wiki/Feature_learning',\n",
       " '/w/index.php?title=Data_science&action=edit&section=7',\n",
       " '/wiki/Data_loss',\n",
       " 'https://www.oreilly.com/library/view/doing-data-science/9781449363871/ch01.html',\n",
       " '#cite_ref-18',\n",
       " '/wiki/Knowledge',\n",
       " '#cite_ref-12',\n",
       " '#cite_ref-BellHey2009_5-0',\n",
       " '/wiki/Random_forest',\n",
       " '/wiki/Special:BookSources/9784431702085',\n",
       " '/wiki/Data_archaeology',\n",
       " '/wiki/Data_collection',\n",
       " '//en.wikipedia.org/wiki/Wikipedia:Contact_us',\n",
       " '/wiki/Linear_discriminant_analysis',\n",
       " '/wiki/Turing_award',\n",
       " 'https://medriscoll.com/post/4740157098/the-three-sexy-skills-of-data-geeks',\n",
       " '/wiki/Data_scraping',\n",
       " '#cite_ref-35',\n",
       " '#Modern_usage',\n",
       " 'https://www.datasciencecentral.com/profiles/blogs/data-science-without-statistics-is-possible-even-desirable',\n",
       " 'https://nl.wikipedia.org/wiki/Datawetenschap',\n",
       " '/wiki/Special:WhatLinksHere/Data_science',\n",
       " '#cite_note-3',\n",
       " '/wiki/PMID_(identifier)',\n",
       " '/wiki/Talk:Data_science',\n",
       " '/wiki/Occam_learning',\n",
       " '//en.wikipedia.org/wiki/Wikipedia:Text_of_Creative_Commons_Attribution-ShareAlike_3.0_Unported_License',\n",
       " '/wiki/Domain_knowledge',\n",
       " '/wiki/Self-organizing_map',\n",
       " '/wiki/K-nearest_neighbors_classification',\n",
       " '/wiki/File:Kernel_Machine.svg',\n",
       " '/wiki/Empirical_risk_minimization',\n",
       " 'https://ja.wikipedia.org/wiki/%E3%83%87%E3%83%BC%E3%82%BF%E3%82%B5%E3%82%A4%E3%82%A8%E3%83%B3%E3%82%B9',\n",
       " '/wiki/Data_integrity',\n",
       " '/wiki/Outline_of_machine_learning',\n",
       " '#cite_ref-29',\n",
       " 'https://www.northeastern.edu/graduate/blog/data-science-careers-shaping-our-future/',\n",
       " 'https://www.stat.purdue.edu/~wsc/',\n",
       " 'https://www.wired.com/2014/07/a-drag-and-drop-toolkit-that-lets-anyone-create-interactive-maps/',\n",
       " 'https://en.wikipedia.org/wiki/Data_science',\n",
       " '/w/index.php?title=Data_science&printable=yes',\n",
       " '/wiki/Restricted_Boltzmann_machine',\n",
       " '/w/index.php?title=Data_science&action=edit&section=6',\n",
       " '/wiki/Principal_component_analysis',\n",
       " '#cite_note-36',\n",
       " '/wiki/Supervised_learning',\n",
       " 'https://ms.wikipedia.org/wiki/Sains_data',\n",
       " '/wiki/BIRCH',\n",
       " '#cite_ref-:7_17-1',\n",
       " '/wiki/Jeff_Hammerbacher',\n",
       " 'https://de.wikipedia.org/wiki/Data_Science',\n",
       " '/wiki/Factor_analysis',\n",
       " '//creativecommons.org/licenses/by-sa/3.0/',\n",
       " '/wiki/Apache_Hadoop',\n",
       " '/wiki/Hierarchical_clustering',\n",
       " '#cite_ref-:1_23-1',\n",
       " '/wiki/Unstructured_data',\n",
       " '#Techniques',\n",
       " '/wiki/Cluster_analysis',\n",
       " '/wiki/Non-negative_matrix_factorization',\n",
       " '/wiki/Computational_science',\n",
       " '/wiki/CURE_data_clustering_algorithm',\n",
       " '#Impacts_of_data_science',\n",
       " '/wiki/Main_Page',\n",
       " 'https://hi.wikipedia.org/wiki/%E0%A4%86%E0%A4%81%E0%A4%95%E0%A4%A1%E0%A4%BC%E0%A4%BE_%E0%A4%B5%E0%A4%BF%E0%A4%9C%E0%A5%8D%E0%A4%9E%E0%A4%BE%E0%A4%A8',\n",
       " '#cite_note-21',\n",
       " '/wiki/Special:MyTalk',\n",
       " '//login.wikimedia.org',\n",
       " '#cite_ref-9',\n",
       " '#Technologies',\n",
       " '/wiki/Data_security',\n",
       " 'http://simplystatistics.org/2013/12/12/the-key-word-in-data-science-is-not-data-it-is-science/',\n",
       " '//www.worldcat.org/oclc/489990740',\n",
       " '/wiki/Bootstrap_aggregating',\n",
       " '#cite_note-16',\n",
       " '#cite_ref-3',\n",
       " '/wiki/Data_corruption',\n",
       " 'http://www2.isye.gatech.edu/~jeffwu/presentations/datascience.pdf',\n",
       " 'https://uk.wikipedia.org/wiki/%D0%9D%D0%B0%D1%83%D0%BA%D0%B0_%D0%BF%D1%80%D0%BE_%D0%B4%D0%B0%D0%BD%D1%96',\n",
       " '/wiki/Canonical_correlation',\n",
       " 'https://pt.wikipedia.org/wiki/Ci%C3%AAncia_de_dados',\n",
       " '/wiki/Data_farming',\n",
       " '/w/index.php?title=Data_science&action=info',\n",
       " 'https://simple.wikipedia.org/wiki/Data_science',\n",
       " '/wiki/Template_talk:Machine_learning_bar',\n",
       " '/wiki/Association_rule_learning',\n",
       " '/wiki/OCLC_(identifier)',\n",
       " 'https://sites.engineering.ucsb.edu/~shell/che210d/python.pdf',\n",
       " 'https://fr.wikipedia.org/wiki/Science_des_donn%C3%A9es',\n",
       " '#cite_note-34',\n",
       " '/wiki/Bias%E2%80%93variance_dilemma',\n",
       " 'https://www.springer.com/book/9784431702085',\n",
       " '/w/index.php?title=Special:ElectronPdf&page=Data+science&action=show-download-screen',\n",
       " '/w/index.php?title=Data_science&action=edit&section=1',\n",
       " 'https://fa.wikipedia.org/wiki/%D8%B9%D9%84%D9%85_%D8%AF%D8%A7%D8%AF%D9%87%E2%80%8C%D9%87%D8%A7',\n",
       " '/wiki/Temporal_difference_learning',\n",
       " '/w/opensearch_desc.php',\n",
       " '/wiki/Reinforcement_learning',\n",
       " '#Careers_in_data_science',\n",
       " 'https://ca.wikipedia.org/wiki/Ci%C3%A8ncia_de_les_dades',\n",
       " 'https://magazine.amstat.org/blog/2015/10/01/asa-statement-on-the-role-of-statistics-in-data-science/',\n",
       " '/wiki/International_Conference_on_Machine_Learning',\n",
       " '/wiki/Anomaly_detection',\n",
       " '#cite_ref-22',\n",
       " '/wiki/Category:Data_analysis',\n",
       " 'https://cs.wikipedia.org/wiki/Data_science',\n",
       " '#cite_note-18',\n",
       " 'https://www.forbes.com/sites/gilpress/2013/08/19/data-science-whats-the-half-life-of-a-buzzword/',\n",
       " '/wiki/Basic_research',\n",
       " '#cite_note-15',\n",
       " '#cite_note-19',\n",
       " '/wiki/Gated_recurrent_unit',\n",
       " 'https://www.mdpi.com/2504-2289/2/2/14',\n",
       " '/wiki/Vapnik%E2%80%93Chervonenkis_theory',\n",
       " '/wiki/Andrew_Gelman',\n",
       " 'mw-data:TemplateStyles:r951705291']"
      ]
     },
     "execution_count": 3,
     "metadata": {},
     "output_type": "execute_result"
    }
   ],
   "source": [
    "# your code here\n",
    "soup = BeautifulSoup(html.content)\n",
    "links = soup.find_all(href = re.compile('.*'))\n",
    "unique_links = list(set([link['href'] for link in links]))\n",
    "unique_links"
   ]
  },
  {
   "cell_type": "markdown",
   "metadata": {
    "colab_type": "text",
    "id": "i7TXSNXCSEj3"
   },
   "source": [
    "### Step 3: Use list comprehensions with conditions to clean the link list.\n",
    "\n",
    "There are two types of links, absolute and relative. Absolute links have the full URL and begin with *http* while relative links begin with a forward slash (/) and point to an internal page within the *wikipedia.org* domain. Clean the respective types of URLs as follows.\n",
    "\n",
    "- Absolute Links: Create a list of these and remove any that contain a percentage sign (%).\n",
    "- Relative Links: Create a list of these, add the domain to the link so that you have the full URL, and remove any that contain a percentage sign (%).\n",
    "- Combine the list of absolute and relative links and ensure there are no duplicates."
   ]
  },
  {
   "cell_type": "code",
   "execution_count": 4,
   "metadata": {
    "ExecuteTime": {
     "end_time": "2020-06-25T01:04:34.431169Z",
     "start_time": "2020-06-25T01:04:34.415515Z"
    },
    "colab": {},
    "colab_type": "code",
    "id": "1ZqaDQ4gSEj4"
   },
   "outputs": [],
   "source": [
    "domain = 'http://wikipedia.org'"
   ]
  },
  {
   "cell_type": "code",
   "execution_count": 5,
   "metadata": {
    "ExecuteTime": {
     "end_time": "2020-06-25T01:04:35.803561Z",
     "start_time": "2020-06-25T01:04:34.431169Z"
    },
    "colab": {},
    "colab_type": "code",
    "id": "mHDkpTrISEj7"
   },
   "outputs": [],
   "source": [
    "# your code here\n",
    "html = requests.get(domain)\n",
    "soup = BeautifulSoup(html.content)\n",
    "links = soup.find_all(href = re.compile('.*'))"
   ]
  },
  {
   "cell_type": "code",
   "execution_count": 6,
   "metadata": {
    "ExecuteTime": {
     "end_time": "2020-06-25T01:04:35.825196Z",
     "start_time": "2020-06-25T01:04:35.803561Z"
    }
   },
   "outputs": [
    {
     "data": {
      "text/plain": [
       "['https://en.wikipedia.org/wiki/List_of_Wikipedia_mobile_applications',\n",
       " 'https://creativecommons.org/licenses/by-sa/3.0/']"
      ]
     },
     "execution_count": 6,
     "metadata": {},
     "output_type": "execute_result"
    }
   ],
   "source": [
    "absolute_links = [link['href'] for link in links if link['href'].startswith('http') and '%' not in link['href']]\n",
    "absolute_links"
   ]
  },
  {
   "cell_type": "code",
   "execution_count": 7,
   "metadata": {
    "ExecuteTime": {
     "end_time": "2020-06-25T01:04:35.840817Z",
     "start_time": "2020-06-25T01:04:35.825196Z"
    }
   },
   "outputs": [
    {
     "data": {
      "text/plain": [
       "['http:/static/apple-touch/wikipedia.png',\n",
       " 'http:/static/favicon/wikipedia.ico',\n",
       " 'http://creativecommons.org/licenses/by-sa/3.0/',\n",
       " 'http://upload.wikimedia.org',\n",
       " 'http://en.wikipedia.org/',\n",
       " 'http://ja.wikipedia.org/',\n",
       " 'http://es.wikipedia.org/',\n",
       " 'http://de.wikipedia.org/',\n",
       " 'http://ru.wikipedia.org/',\n",
       " 'http://fr.wikipedia.org/',\n",
       " 'http://it.wikipedia.org/',\n",
       " 'http://zh.wikipedia.org/',\n",
       " 'http://pt.wikipedia.org/',\n",
       " 'http://pl.wikipedia.org/',\n",
       " 'http://ar.wikipedia.org/',\n",
       " 'http://de.wikipedia.org/',\n",
       " 'http://en.wikipedia.org/',\n",
       " 'http://es.wikipedia.org/',\n",
       " 'http://fr.wikipedia.org/',\n",
       " 'http://it.wikipedia.org/',\n",
       " 'http://nl.wikipedia.org/',\n",
       " 'http://ja.wikipedia.org/',\n",
       " 'http://pl.wikipedia.org/',\n",
       " 'http://pt.wikipedia.org/',\n",
       " 'http://ru.wikipedia.org/',\n",
       " 'http://ceb.wikipedia.org/',\n",
       " 'http://sv.wikipedia.org/',\n",
       " 'http://uk.wikipedia.org/',\n",
       " 'http://vi.wikipedia.org/',\n",
       " 'http://war.wikipedia.org/',\n",
       " 'http://zh.wikipedia.org/',\n",
       " 'http://ast.wikipedia.org/',\n",
       " 'http://az.wikipedia.org/',\n",
       " 'http://bg.wikipedia.org/',\n",
       " 'http://zh-min-nan.wikipedia.org/',\n",
       " 'http://be.wikipedia.org/',\n",
       " 'http://ca.wikipedia.org/',\n",
       " 'http://cs.wikipedia.org/',\n",
       " 'http://cy.wikipedia.org/',\n",
       " 'http://da.wikipedia.org/',\n",
       " 'http://et.wikipedia.org/',\n",
       " 'http://el.wikipedia.org/',\n",
       " 'http://eo.wikipedia.org/',\n",
       " 'http://eu.wikipedia.org/',\n",
       " 'http://fa.wikipedia.org/',\n",
       " 'http://gl.wikipedia.org/',\n",
       " 'http://hy.wikipedia.org/',\n",
       " 'http://hi.wikipedia.org/',\n",
       " 'http://hr.wikipedia.org/',\n",
       " 'http://id.wikipedia.org/',\n",
       " 'http://he.wikipedia.org/',\n",
       " 'http://ka.wikipedia.org/',\n",
       " 'http://la.wikipedia.org/',\n",
       " 'http://lv.wikipedia.org/',\n",
       " 'http://lt.wikipedia.org/',\n",
       " 'http://hu.wikipedia.org/',\n",
       " 'http://mk.wikipedia.org/',\n",
       " 'http://arz.wikipedia.org/',\n",
       " 'http://ms.wikipedia.org/',\n",
       " 'http://min.wikipedia.org/',\n",
       " 'http://no.wikipedia.org/',\n",
       " 'http://nn.wikipedia.org/',\n",
       " 'http://ce.wikipedia.org/',\n",
       " 'http://uz.wikipedia.org/',\n",
       " 'http://kk.wikipedia.org/',\n",
       " 'http://ro.wikipedia.org/',\n",
       " 'http://simple.wikipedia.org/',\n",
       " 'http://sk.wikipedia.org/',\n",
       " 'http://sl.wikipedia.org/',\n",
       " 'http://sr.wikipedia.org/',\n",
       " 'http://sh.wikipedia.org/',\n",
       " 'http://fi.wikipedia.org/',\n",
       " 'http://ta.wikipedia.org/',\n",
       " 'http://tt.wikipedia.org/',\n",
       " 'http://th.wikipedia.org/',\n",
       " 'http://tg.wikipedia.org/',\n",
       " 'http://azb.wikipedia.org/',\n",
       " 'http://tr.wikipedia.org/',\n",
       " 'http://ur.wikipedia.org/',\n",
       " 'http://vo.wikipedia.org/',\n",
       " 'http://ko.wikipedia.org/',\n",
       " 'http://ace.wikipedia.org/',\n",
       " 'http://af.wikipedia.org/',\n",
       " 'http://als.wikipedia.org/',\n",
       " 'http://am.wikipedia.org/',\n",
       " 'http://an.wikipedia.org/',\n",
       " 'http://bn.wikipedia.org/',\n",
       " 'http://map-bms.wikipedia.org/',\n",
       " 'http://ba.wikipedia.org/',\n",
       " 'http://be-tarask.wikipedia.org/',\n",
       " 'http://bcl.wikipedia.org/',\n",
       " 'http://bpy.wikipedia.org/',\n",
       " 'http://bar.wikipedia.org/',\n",
       " 'http://bs.wikipedia.org/',\n",
       " 'http://br.wikipedia.org/',\n",
       " 'http://cv.wikipedia.org/',\n",
       " 'http://nv.wikipedia.org/',\n",
       " 'http://eml.wikipedia.org/',\n",
       " 'http://fo.wikipedia.org/',\n",
       " 'http://fy.wikipedia.org/',\n",
       " 'http://ga.wikipedia.org/',\n",
       " 'http://gd.wikipedia.org/',\n",
       " 'http://gu.wikipedia.org/',\n",
       " 'http://hsb.wikipedia.org/',\n",
       " 'http://io.wikipedia.org/',\n",
       " 'http://ilo.wikipedia.org/',\n",
       " 'http://ia.wikipedia.org/',\n",
       " 'http://os.wikipedia.org/',\n",
       " 'http://is.wikipedia.org/',\n",
       " 'http://jv.wikipedia.org/',\n",
       " 'http://kn.wikipedia.org/',\n",
       " 'http://ht.wikipedia.org/',\n",
       " 'http://ku.wikipedia.org/',\n",
       " 'http://ckb.wikipedia.org/',\n",
       " 'http://ky.wikipedia.org/',\n",
       " 'http://mrj.wikipedia.org/',\n",
       " 'http://lb.wikipedia.org/',\n",
       " 'http://li.wikipedia.org/',\n",
       " 'http://lmo.wikipedia.org/',\n",
       " 'http://mai.wikipedia.org/',\n",
       " 'http://mg.wikipedia.org/',\n",
       " 'http://ml.wikipedia.org/',\n",
       " 'http://zh-classical.wikipedia.org/',\n",
       " 'http://mr.wikipedia.org/',\n",
       " 'http://xmf.wikipedia.org/',\n",
       " 'http://mzn.wikipedia.org/',\n",
       " 'http://cdo.wikipedia.org/',\n",
       " 'http://mn.wikipedia.org/',\n",
       " 'http://my.wikipedia.org/',\n",
       " 'http://new.wikipedia.org/',\n",
       " 'http://ne.wikipedia.org/',\n",
       " 'http://nap.wikipedia.org/',\n",
       " 'http://frr.wikipedia.org/',\n",
       " 'http://oc.wikipedia.org/',\n",
       " 'http://mhr.wikipedia.org/',\n",
       " 'http://or.wikipedia.org/',\n",
       " 'http://pa.wikipedia.org/',\n",
       " 'http://pnb.wikipedia.org/',\n",
       " 'http://ps.wikipedia.org/',\n",
       " 'http://pms.wikipedia.org/',\n",
       " 'http://nds.wikipedia.org/',\n",
       " 'http://qu.wikipedia.org/',\n",
       " 'http://sa.wikipedia.org/',\n",
       " 'http://sah.wikipedia.org/',\n",
       " 'http://sco.wikipedia.org/',\n",
       " 'http://sq.wikipedia.org/',\n",
       " 'http://scn.wikipedia.org/',\n",
       " 'http://si.wikipedia.org/',\n",
       " 'http://sd.wikipedia.org/',\n",
       " 'http://szl.wikipedia.org/',\n",
       " 'http://su.wikipedia.org/',\n",
       " 'http://sw.wikipedia.org/',\n",
       " 'http://tl.wikipedia.org/',\n",
       " 'http://te.wikipedia.org/',\n",
       " 'http://bug.wikipedia.org/',\n",
       " 'http://vec.wikipedia.org/',\n",
       " 'http://wa.wikipedia.org/',\n",
       " 'http://wuu.wikipedia.org/',\n",
       " 'http://yi.wikipedia.org/',\n",
       " 'http://yo.wikipedia.org/',\n",
       " 'http://zh-yue.wikipedia.org/',\n",
       " 'http://diq.wikipedia.org/',\n",
       " 'http://bat-smg.wikipedia.org/',\n",
       " 'http://kbd.wikipedia.org/',\n",
       " 'http://ang.wikipedia.org/',\n",
       " 'http://ab.wikipedia.org/',\n",
       " 'http://hyw.wikipedia.org/',\n",
       " 'http://roa-rup.wikipedia.org/',\n",
       " 'http://frp.wikipedia.org/',\n",
       " 'http://ig.wikipedia.org/',\n",
       " 'http://arc.wikipedia.org/',\n",
       " 'http://gn.wikipedia.org/',\n",
       " 'http://av.wikipedia.org/',\n",
       " 'http://ay.wikipedia.org/',\n",
       " 'http://bjn.wikipedia.org/',\n",
       " 'http://bh.wikipedia.org/',\n",
       " 'http://bi.wikipedia.org/',\n",
       " 'http://bo.wikipedia.org/',\n",
       " 'http://bxr.wikipedia.org/',\n",
       " 'http://cbk-zam.wikipedia.org/',\n",
       " 'http://co.wikipedia.org/',\n",
       " 'http://za.wikipedia.org/',\n",
       " 'http://se.wikipedia.org/',\n",
       " 'http://pdc.wikipedia.org/',\n",
       " 'http://dsb.wikipedia.org/',\n",
       " 'http://myv.wikipedia.org/',\n",
       " 'http://ext.wikipedia.org/',\n",
       " 'http://hif.wikipedia.org/',\n",
       " 'http://fur.wikipedia.org/',\n",
       " 'http://gv.wikipedia.org/',\n",
       " 'http://gag.wikipedia.org/',\n",
       " 'http://ki.wikipedia.org/',\n",
       " 'http://glk.wikipedia.org/',\n",
       " 'http://gan.wikipedia.org/',\n",
       " 'http://hak.wikipedia.org/',\n",
       " 'http://xal.wikipedia.org/',\n",
       " 'http://ha.wikipedia.org/',\n",
       " 'http://haw.wikipedia.org/',\n",
       " 'http://ie.wikipedia.org/',\n",
       " 'http://pam.wikipedia.org/',\n",
       " 'http://csb.wikipedia.org/',\n",
       " 'http://kw.wikipedia.org/',\n",
       " 'http://km.wikipedia.org/',\n",
       " 'http://rw.wikipedia.org/',\n",
       " 'http://kv.wikipedia.org/',\n",
       " 'http://kg.wikipedia.org/',\n",
       " 'http://gom.wikipedia.org/',\n",
       " 'http://gcr.wikipedia.org/',\n",
       " 'http://lo.wikipedia.org/',\n",
       " 'http://lad.wikipedia.org/',\n",
       " 'http://lbe.wikipedia.org/',\n",
       " 'http://lez.wikipedia.org/',\n",
       " 'http://ln.wikipedia.org/',\n",
       " 'http://jbo.wikipedia.org/',\n",
       " 'http://lrc.wikipedia.org/',\n",
       " 'http://lg.wikipedia.org/',\n",
       " 'http://lij.wikipedia.org/',\n",
       " 'http://mt.wikipedia.org/',\n",
       " 'http://ty.wikipedia.org/',\n",
       " 'http://mi.wikipedia.org/',\n",
       " 'http://mwl.wikipedia.org/',\n",
       " 'http://mdf.wikipedia.org/',\n",
       " 'http://nah.wikipedia.org/',\n",
       " 'http://na.wikipedia.org/',\n",
       " 'http://nds-nl.wikipedia.org/',\n",
       " 'http://nrm.wikipedia.org/',\n",
       " 'http://nov.wikipedia.org/',\n",
       " 'http://as.wikipedia.org/',\n",
       " 'http://pi.wikipedia.org/',\n",
       " 'http://pag.wikipedia.org/',\n",
       " 'http://pap.wikipedia.org/',\n",
       " 'http://koi.wikipedia.org/',\n",
       " 'http://pfl.wikipedia.org/',\n",
       " 'http://pcd.wikipedia.org/',\n",
       " 'http://krc.wikipedia.org/',\n",
       " 'http://kaa.wikipedia.org/',\n",
       " 'http://crh.wikipedia.org/',\n",
       " 'http://ksh.wikipedia.org/',\n",
       " 'http://rm.wikipedia.org/',\n",
       " 'http://rue.wikipedia.org/',\n",
       " 'http://sc.wikipedia.org/',\n",
       " 'http://stq.wikipedia.org/',\n",
       " 'http://nso.wikipedia.org/',\n",
       " 'http://sn.wikipedia.org/',\n",
       " 'http://so.wikipedia.org/',\n",
       " 'http://srn.wikipedia.org/',\n",
       " 'http://kab.wikipedia.org/',\n",
       " 'http://roa-tara.wikipedia.org/',\n",
       " 'http://tet.wikipedia.org/',\n",
       " 'http://tpi.wikipedia.org/',\n",
       " 'http://to.wikipedia.org/',\n",
       " 'http://tk.wikipedia.org/',\n",
       " 'http://tyv.wikipedia.org/',\n",
       " 'http://udm.wikipedia.org/',\n",
       " 'http://ug.wikipedia.org/',\n",
       " 'http://vep.wikipedia.org/',\n",
       " 'http://fiu-vro.wikipedia.org/',\n",
       " 'http://vls.wikipedia.org/',\n",
       " 'http://wo.wikipedia.org/',\n",
       " 'http://xh.wikipedia.org/',\n",
       " 'http://zea.wikipedia.org/',\n",
       " 'http://zu.wikipedia.org/',\n",
       " 'http://dv.wikipedia.org/',\n",
       " 'http://ak.wikipedia.org/',\n",
       " 'http://bm.wikipedia.org/',\n",
       " 'http://ch.wikipedia.org/',\n",
       " 'http://ny.wikipedia.org/',\n",
       " 'http://ee.wikipedia.org/',\n",
       " 'http://ff.wikipedia.org/',\n",
       " 'http://got.wikipedia.org/',\n",
       " 'http://iu.wikipedia.org/',\n",
       " 'http://ik.wikipedia.org/',\n",
       " 'http://kl.wikipedia.org/',\n",
       " 'http://ks.wikipedia.org/',\n",
       " 'http://ltg.wikipedia.org/',\n",
       " 'http://fj.wikipedia.org/',\n",
       " 'http://cr.wikipedia.org/',\n",
       " 'http://pih.wikipedia.org/',\n",
       " 'http://om.wikipedia.org/',\n",
       " 'http://pnt.wikipedia.org/',\n",
       " 'http://dz.wikipedia.org/',\n",
       " 'http://rmy.wikipedia.org/',\n",
       " 'http://rn.wikipedia.org/',\n",
       " 'http://sm.wikipedia.org/',\n",
       " 'http://sg.wikipedia.org/',\n",
       " 'http://st.wikipedia.org/',\n",
       " 'http://tn.wikipedia.org/',\n",
       " 'http://cu.wikipedia.org/',\n",
       " 'http://ss.wikipedia.org/',\n",
       " 'http://chr.wikipedia.org/',\n",
       " 'http://chy.wikipedia.org/',\n",
       " 'http://ve.wikipedia.org/',\n",
       " 'http://ts.wikipedia.org/',\n",
       " 'http://tum.wikipedia.org/',\n",
       " 'http://tw.wikipedia.org/',\n",
       " 'http://ti.wikipedia.org/',\n",
       " 'http://nqo.wikipedia.org/',\n",
       " 'http://meta.wikimedia.org/wiki/List_of_Wikipedias',\n",
       " 'http://de.wikipedia.org/wiki/Wikipedia:Sprachen',\n",
       " 'http://meta.wikimedia.org/wiki/Lista_de_Wikipedias',\n",
       " 'http://eo.wikipedia.org/wiki/Vikipedio:Internacia_Vikipedio',\n",
       " 'http://wikimediafoundation.org/',\n",
       " 'http://itunes.apple.com/app/apple-store/id324715238?pt=208305&ct=portal&mt=8',\n",
       " 'http://commons.wikimedia.org/',\n",
       " 'http://www.wikivoyage.org/',\n",
       " 'http://www.wiktionary.org/',\n",
       " 'http://www.wikibooks.org/',\n",
       " 'http://www.wikinews.org/',\n",
       " 'http://www.wikidata.org/',\n",
       " 'http://www.wikiversity.org/',\n",
       " 'http://www.wikiquote.org/',\n",
       " 'http://www.mediawiki.org/',\n",
       " 'http://www.wikisource.org/',\n",
       " 'http://species.wikimedia.org/',\n",
       " 'http://meta.wikimedia.org/',\n",
       " 'http://meta.wikimedia.org/wiki/Terms_of_Use',\n",
       " 'http://meta.wikimedia.org/wiki/Privacy_policy']"
      ]
     },
     "execution_count": 7,
     "metadata": {},
     "output_type": "execute_result"
    }
   ],
   "source": [
    "relative_links = ['http:' + link['href'] for link in links if link['href'].startswith('/') and\\\n",
    "                  '%' not in link['href']]\n",
    "relative_links"
   ]
  },
  {
   "cell_type": "code",
   "execution_count": 8,
   "metadata": {
    "ExecuteTime": {
     "end_time": "2020-06-25T01:04:35.856441Z",
     "start_time": "2020-06-25T01:04:35.840817Z"
    }
   },
   "outputs": [
    {
     "data": {
      "text/plain": [
       "['http://se.wikipedia.org/',\n",
       " 'http://pt.wikipedia.org/',\n",
       " 'http://ie.wikipedia.org/',\n",
       " 'http://dsb.wikipedia.org/',\n",
       " 'https://en.wikipedia.org/wiki/List_of_Wikipedia_mobile_applications',\n",
       " 'http://cv.wikipedia.org/',\n",
       " 'http://bug.wikipedia.org/',\n",
       " 'http://av.wikipedia.org/',\n",
       " 'http://ks.wikipedia.org/',\n",
       " 'http://ki.wikipedia.org/',\n",
       " 'http://st.wikipedia.org/',\n",
       " 'http://meta.wikimedia.org/wiki/Privacy_policy',\n",
       " 'http://hu.wikipedia.org/',\n",
       " 'http://bjn.wikipedia.org/',\n",
       " 'http://ca.wikipedia.org/',\n",
       " 'http://species.wikimedia.org/',\n",
       " 'http://uk.wikipedia.org/',\n",
       " 'http://vi.wikipedia.org/',\n",
       " 'http://he.wikipedia.org/',\n",
       " 'http://mhr.wikipedia.org/',\n",
       " 'http://frp.wikipedia.org/',\n",
       " 'http://hsb.wikipedia.org/',\n",
       " 'http://na.wikipedia.org/',\n",
       " 'http://myv.wikipedia.org/',\n",
       " 'http://es.wikipedia.org/',\n",
       " 'http://lt.wikipedia.org/',\n",
       " 'http://crh.wikipedia.org/',\n",
       " 'http://fy.wikipedia.org/',\n",
       " 'http://xal.wikipedia.org/',\n",
       " 'http://nds.wikipedia.org/',\n",
       " 'http://bar.wikipedia.org/',\n",
       " 'http://gag.wikipedia.org/',\n",
       " 'http://mai.wikipedia.org/',\n",
       " 'http://os.wikipedia.org/',\n",
       " 'http://srn.wikipedia.org/',\n",
       " 'http://pnt.wikipedia.org/',\n",
       " 'http://bi.wikipedia.org/',\n",
       " 'http://udm.wikipedia.org/',\n",
       " 'http://cu.wikipedia.org/',\n",
       " 'http://nov.wikipedia.org/',\n",
       " 'http://bo.wikipedia.org/',\n",
       " 'http://tum.wikipedia.org/',\n",
       " 'http://gd.wikipedia.org/',\n",
       " 'http://vls.wikipedia.org/',\n",
       " 'http://th.wikipedia.org/',\n",
       " 'http://be-tarask.wikipedia.org/',\n",
       " 'http://new.wikipedia.org/',\n",
       " 'http://pi.wikipedia.org/',\n",
       " 'http://nds-nl.wikipedia.org/',\n",
       " 'http://hy.wikipedia.org/',\n",
       " 'http://en.wikipedia.org/',\n",
       " 'http://sh.wikipedia.org/',\n",
       " 'http://hak.wikipedia.org/',\n",
       " 'http://dv.wikipedia.org/',\n",
       " 'http://ss.wikipedia.org/',\n",
       " 'http://ia.wikipedia.org/',\n",
       " 'http://sr.wikipedia.org/',\n",
       " 'http://sm.wikipedia.org/',\n",
       " 'http://war.wikipedia.org/',\n",
       " 'http://ay.wikipedia.org/',\n",
       " 'http://nqo.wikipedia.org/',\n",
       " 'http://ab.wikipedia.org/',\n",
       " 'http://ang.wikipedia.org/',\n",
       " 'http://jv.wikipedia.org/',\n",
       " 'http://lij.wikipedia.org/',\n",
       " 'http://lad.wikipedia.org/',\n",
       " 'http://xh.wikipedia.org/',\n",
       " 'http://ky.wikipedia.org/',\n",
       " 'http://lo.wikipedia.org/',\n",
       " 'http://eu.wikipedia.org/',\n",
       " 'http://tn.wikipedia.org/',\n",
       " 'http://bm.wikipedia.org/',\n",
       " 'http://sk.wikipedia.org/',\n",
       " 'http://et.wikipedia.org/',\n",
       " 'http://vep.wikipedia.org/',\n",
       " 'http://kab.wikipedia.org/',\n",
       " 'http://ro.wikipedia.org/',\n",
       " 'http://sc.wikipedia.org/',\n",
       " 'http://id.wikipedia.org/',\n",
       " 'http://ja.wikipedia.org/',\n",
       " 'http://ak.wikipedia.org/',\n",
       " 'http://mn.wikipedia.org/',\n",
       " 'http://kl.wikipedia.org/',\n",
       " 'http://el.wikipedia.org/',\n",
       " 'http://fur.wikipedia.org/',\n",
       " 'http://haw.wikipedia.org/',\n",
       " 'http://tr.wikipedia.org/',\n",
       " 'http://meta.wikimedia.org/',\n",
       " 'http://www.wikibooks.org/',\n",
       " 'http://as.wikipedia.org/',\n",
       " 'http://tt.wikipedia.org/',\n",
       " 'http://ace.wikipedia.org/',\n",
       " 'http://is.wikipedia.org/',\n",
       " 'http://zh.wikipedia.org/',\n",
       " 'http://la.wikipedia.org/',\n",
       " 'http://jbo.wikipedia.org/',\n",
       " 'http://sg.wikipedia.org/',\n",
       " 'http://ku.wikipedia.org/',\n",
       " 'http://sd.wikipedia.org/',\n",
       " 'http://tl.wikipedia.org/',\n",
       " 'http://cbk-zam.wikipedia.org/',\n",
       " 'http://ka.wikipedia.org/',\n",
       " 'http://tg.wikipedia.org/',\n",
       " 'http://ur.wikipedia.org/',\n",
       " 'http://azb.wikipedia.org/',\n",
       " 'http://ksh.wikipedia.org/',\n",
       " 'http://za.wikipedia.org/',\n",
       " 'http://hyw.wikipedia.org/',\n",
       " 'http://sah.wikipedia.org/',\n",
       " 'http://cr.wikipedia.org/',\n",
       " 'http://io.wikipedia.org/',\n",
       " 'http://fj.wikipedia.org/',\n",
       " 'http://stq.wikipedia.org/',\n",
       " 'http://mr.wikipedia.org/',\n",
       " 'http://roa-tara.wikipedia.org/',\n",
       " 'http://cdo.wikipedia.org/',\n",
       " 'http://am.wikipedia.org/',\n",
       " 'http://rue.wikipedia.org/',\n",
       " 'http://mk.wikipedia.org/',\n",
       " 'http://hif.wikipedia.org/',\n",
       " 'http://mg.wikipedia.org/',\n",
       " 'http://csb.wikipedia.org/',\n",
       " 'http://li.wikipedia.org/',\n",
       " 'http://nah.wikipedia.org/',\n",
       " 'http://ceb.wikipedia.org/',\n",
       " 'http://de.wikipedia.org/wiki/Wikipedia:Sprachen',\n",
       " 'http://hr.wikipedia.org/',\n",
       " 'http://ilo.wikipedia.org/',\n",
       " 'http://te.wikipedia.org/',\n",
       " 'http://commons.wikimedia.org/',\n",
       " 'http://chr.wikipedia.org/',\n",
       " 'http://kk.wikipedia.org/',\n",
       " 'http://szl.wikipedia.org/',\n",
       " 'http://scn.wikipedia.org/',\n",
       " 'http://www.wikidata.org/',\n",
       " 'http://itunes.apple.com/app/apple-store/id324715238?pt=208305&ct=portal&mt=8',\n",
       " 'http://dz.wikipedia.org/',\n",
       " 'http://km.wikipedia.org/',\n",
       " 'http://eo.wikipedia.org/wiki/Vikipedio:Internacia_Vikipedio',\n",
       " 'http://www.wikisource.org/',\n",
       " 'http://eml.wikipedia.org/',\n",
       " 'http://tk.wikipedia.org/',\n",
       " 'http://mwl.wikipedia.org/',\n",
       " 'http://nl.wikipedia.org/',\n",
       " 'http://oc.wikipedia.org/',\n",
       " 'http://ve.wikipedia.org/',\n",
       " 'http://pap.wikipedia.org/',\n",
       " 'http://uz.wikipedia.org/',\n",
       " 'http://tyv.wikipedia.org/',\n",
       " 'http://www.wiktionary.org/',\n",
       " 'http://gcr.wikipedia.org/',\n",
       " 'http://sw.wikipedia.org/',\n",
       " 'http://rw.wikipedia.org/',\n",
       " 'http://ga.wikipedia.org/',\n",
       " 'http://frr.wikipedia.org/',\n",
       " 'http://pdc.wikipedia.org/',\n",
       " 'http://iu.wikipedia.org/',\n",
       " 'http://ti.wikipedia.org/',\n",
       " 'http://ar.wikipedia.org/',\n",
       " 'http://pfl.wikipedia.org/',\n",
       " 'http://nv.wikipedia.org/',\n",
       " 'http://zu.wikipedia.org/',\n",
       " 'http://rn.wikipedia.org/',\n",
       " 'http://ko.wikipedia.org/',\n",
       " 'http://ms.wikipedia.org/',\n",
       " 'http://wikimediafoundation.org/',\n",
       " 'http://pag.wikipedia.org/',\n",
       " 'http://lg.wikipedia.org/',\n",
       " 'http://xmf.wikipedia.org/',\n",
       " 'http://nn.wikipedia.org/',\n",
       " 'http://yo.wikipedia.org/',\n",
       " 'http://ast.wikipedia.org/',\n",
       " 'http://lmo.wikipedia.org/',\n",
       " 'http://gl.wikipedia.org/',\n",
       " 'http://vo.wikipedia.org/',\n",
       " 'http:/static/apple-touch/wikipedia.png',\n",
       " 'http://tet.wikipedia.org/',\n",
       " 'http://eo.wikipedia.org/',\n",
       " 'http://si.wikipedia.org/',\n",
       " 'http://sn.wikipedia.org/',\n",
       " 'http://lrc.wikipedia.org/',\n",
       " 'http://de.wikipedia.org/',\n",
       " 'http://nso.wikipedia.org/',\n",
       " 'http://rmy.wikipedia.org/',\n",
       " 'http://pms.wikipedia.org/',\n",
       " 'http://mt.wikipedia.org/',\n",
       " 'http://arz.wikipedia.org/',\n",
       " 'http://krc.wikipedia.org/',\n",
       " 'http://www.mediawiki.org/',\n",
       " 'http://ext.wikipedia.org/',\n",
       " 'http://ik.wikipedia.org/',\n",
       " 'http://ug.wikipedia.org/',\n",
       " 'http://fr.wikipedia.org/',\n",
       " 'http://be.wikipedia.org/',\n",
       " 'http://it.wikipedia.org/',\n",
       " 'http://bh.wikipedia.org/',\n",
       " 'http://lez.wikipedia.org/',\n",
       " 'http://bs.wikipedia.org/',\n",
       " 'http://diq.wikipedia.org/',\n",
       " 'http://ty.wikipedia.org/',\n",
       " 'http://ig.wikipedia.org/',\n",
       " 'http://pcd.wikipedia.org/',\n",
       " 'http://pih.wikipedia.org/',\n",
       " 'http://da.wikipedia.org/',\n",
       " 'http://koi.wikipedia.org/',\n",
       " 'http://om.wikipedia.org/',\n",
       " 'http://wa.wikipedia.org/',\n",
       " 'http://qu.wikipedia.org/',\n",
       " 'http://sq.wikipedia.org/',\n",
       " 'http://www.wikiquote.org/',\n",
       " 'http://zea.wikipedia.org/',\n",
       " 'http://yi.wikipedia.org/',\n",
       " 'http://mzn.wikipedia.org/',\n",
       " 'http://gom.wikipedia.org/',\n",
       " 'http://so.wikipedia.org/',\n",
       " 'http://kbd.wikipedia.org/',\n",
       " 'http://kn.wikipedia.org/',\n",
       " 'http://mi.wikipedia.org/',\n",
       " 'http://fiu-vro.wikipedia.org/',\n",
       " 'http://sl.wikipedia.org/',\n",
       " 'http://ny.wikipedia.org/',\n",
       " 'http://pl.wikipedia.org/',\n",
       " 'http://ts.wikipedia.org/',\n",
       " 'http://upload.wikimedia.org',\n",
       " 'http://pnb.wikipedia.org/',\n",
       " 'http://zh-classical.wikipedia.org/',\n",
       " 'http://roa-rup.wikipedia.org/',\n",
       " 'http://no.wikipedia.org/',\n",
       " 'http://map-bms.wikipedia.org/',\n",
       " 'http://als.wikipedia.org/',\n",
       " 'http://pam.wikipedia.org/',\n",
       " 'http://got.wikipedia.org/',\n",
       " 'http://tw.wikipedia.org/',\n",
       " 'http://ba.wikipedia.org/',\n",
       " 'http://sv.wikipedia.org/',\n",
       " 'https://creativecommons.org/licenses/by-sa/3.0/',\n",
       " 'http://nrm.wikipedia.org/',\n",
       " 'http://ln.wikipedia.org/',\n",
       " 'http://gn.wikipedia.org/',\n",
       " 'http://or.wikipedia.org/',\n",
       " 'http://kw.wikipedia.org/',\n",
       " 'http://zh-min-nan.wikipedia.org/',\n",
       " 'http://hi.wikipedia.org/',\n",
       " 'http://ce.wikipedia.org/',\n",
       " 'http://glk.wikipedia.org/',\n",
       " 'http://meta.wikimedia.org/wiki/Lista_de_Wikipedias',\n",
       " 'http://co.wikipedia.org/',\n",
       " 'http://sco.wikipedia.org/',\n",
       " 'http://ps.wikipedia.org/',\n",
       " 'http://mdf.wikipedia.org/',\n",
       " 'http://meta.wikimedia.org/wiki/Terms_of_Use',\n",
       " 'http://wuu.wikipedia.org/',\n",
       " 'http://rm.wikipedia.org/',\n",
       " 'http://gu.wikipedia.org/',\n",
       " 'http://simple.wikipedia.org/',\n",
       " 'http://bxr.wikipedia.org/',\n",
       " 'http://ltg.wikipedia.org/',\n",
       " 'http://ru.wikipedia.org/',\n",
       " 'http://kv.wikipedia.org/',\n",
       " 'http://arc.wikipedia.org/',\n",
       " 'http:/static/favicon/wikipedia.ico',\n",
       " 'http://cs.wikipedia.org/',\n",
       " 'http://nap.wikipedia.org/',\n",
       " 'http://fo.wikipedia.org/',\n",
       " 'http://pa.wikipedia.org/',\n",
       " 'http://kg.wikipedia.org/',\n",
       " 'http://sa.wikipedia.org/',\n",
       " 'http://chy.wikipedia.org/',\n",
       " 'http://ee.wikipedia.org/',\n",
       " 'http://mrj.wikipedia.org/',\n",
       " 'http://gv.wikipedia.org/',\n",
       " 'http://zh-yue.wikipedia.org/',\n",
       " 'http://bg.wikipedia.org/',\n",
       " 'http://ta.wikipedia.org/',\n",
       " 'http://az.wikipedia.org/',\n",
       " 'http://ha.wikipedia.org/',\n",
       " 'http://lb.wikipedia.org/',\n",
       " 'http://tpi.wikipedia.org/',\n",
       " 'http://creativecommons.org/licenses/by-sa/3.0/',\n",
       " 'http://ml.wikipedia.org/',\n",
       " 'http://www.wikiversity.org/',\n",
       " 'http://gan.wikipedia.org/',\n",
       " 'http://bat-smg.wikipedia.org/',\n",
       " 'http://ch.wikipedia.org/',\n",
       " 'http://ff.wikipedia.org/',\n",
       " 'http://min.wikipedia.org/',\n",
       " 'http://wo.wikipedia.org/',\n",
       " 'http://www.wikivoyage.org/',\n",
       " 'http://fa.wikipedia.org/',\n",
       " 'http://kaa.wikipedia.org/',\n",
       " 'http://meta.wikimedia.org/wiki/List_of_Wikipedias',\n",
       " 'http://su.wikipedia.org/',\n",
       " 'http://cy.wikipedia.org/',\n",
       " 'http://bn.wikipedia.org/',\n",
       " 'http://br.wikipedia.org/',\n",
       " 'http://vec.wikipedia.org/',\n",
       " 'http://fi.wikipedia.org/',\n",
       " 'http://ht.wikipedia.org/',\n",
       " 'http://www.wikinews.org/',\n",
       " 'http://bpy.wikipedia.org/',\n",
       " 'http://lbe.wikipedia.org/',\n",
       " 'http://my.wikipedia.org/',\n",
       " 'http://ckb.wikipedia.org/',\n",
       " 'http://bcl.wikipedia.org/',\n",
       " 'http://an.wikipedia.org/',\n",
       " 'http://to.wikipedia.org/',\n",
       " 'http://af.wikipedia.org/',\n",
       " 'http://ne.wikipedia.org/',\n",
       " 'http://lv.wikipedia.org/']"
      ]
     },
     "execution_count": 8,
     "metadata": {},
     "output_type": "execute_result"
    }
   ],
   "source": [
    "all_links = list(set(absolute_links + relative_links))\n",
    "all_links"
   ]
  },
  {
   "cell_type": "markdown",
   "metadata": {
    "colab_type": "text",
    "id": "liPZ-FYLSEkA"
   },
   "source": [
    "### Step 4: Use the os library to create a folder called *wikipedia* and make that the current working directory."
   ]
  },
  {
   "cell_type": "code",
   "execution_count": 9,
   "metadata": {
    "ExecuteTime": {
     "end_time": "2020-06-25T01:04:35.872065Z",
     "start_time": "2020-06-25T01:04:35.856441Z"
    },
    "colab": {},
    "colab_type": "code",
    "id": "S5I-1EAcSEkA"
   },
   "outputs": [],
   "source": [
    "import os"
   ]
  },
  {
   "cell_type": "code",
   "execution_count": 10,
   "metadata": {
    "ExecuteTime": {
     "end_time": "2020-06-25T01:04:35.987921Z",
     "start_time": "2020-06-25T01:04:35.872065Z"
    },
    "colab": {},
    "colab_type": "code",
    "id": "jErdx2cdSEkD"
   },
   "outputs": [
    {
     "ename": "FileExistsError",
     "evalue": "[WinError 183] Não é possível criar um arquivo já existente: './wikipedia'",
     "output_type": "error",
     "traceback": [
      "\u001b[1;31m---------------------------------------------------------------------------\u001b[0m",
      "\u001b[1;31mFileExistsError\u001b[0m                           Traceback (most recent call last)",
      "\u001b[1;32m<ipython-input-10-7af9668979b3>\u001b[0m in \u001b[0;36m<module>\u001b[1;34m\u001b[0m\n\u001b[0;32m      1\u001b[0m \u001b[1;31m# your code here\u001b[0m\u001b[1;33m\u001b[0m\u001b[1;33m\u001b[0m\u001b[1;33m\u001b[0m\u001b[0m\n\u001b[1;32m----> 2\u001b[1;33m \u001b[0mos\u001b[0m\u001b[1;33m.\u001b[0m\u001b[0mmkdir\u001b[0m\u001b[1;33m(\u001b[0m\u001b[1;34m'./wikipedia'\u001b[0m\u001b[1;33m)\u001b[0m\u001b[1;33m\u001b[0m\u001b[1;33m\u001b[0m\u001b[0m\n\u001b[0m",
      "\u001b[1;31mFileExistsError\u001b[0m: [WinError 183] Não é possível criar um arquivo já existente: './wikipedia'"
     ]
    }
   ],
   "source": [
    "# your code here\n",
    "os.mkdir('./wikipedia')"
   ]
  },
  {
   "cell_type": "markdown",
   "metadata": {
    "colab_type": "text",
    "id": "qyDm2n-rSEkG"
   },
   "source": [
    "### Step 5: Write a function called index_page that accepts a link and does the following.\n",
    "\n",
    "- Tries to request the content of the page referenced by that link.\n",
    "- Slugifies the filename using the `slugify` function from the [python-slugify](https://pypi.org/project/python-slugify/) library and adds a .html file extension.\n",
    "    - If you don't already have the python-slugify library installed, you can pip install it as follows: `$ pip3 install python-slugify`.\n",
    "    - To import the slugify function, you would do the following: `from slugify import slugify`.\n",
    "    - You can then slugify a link as follows `slugify(link)`.\n",
    "- Creates a file in the wikipedia folder using the slugified filename and writes the contents of the page to the file.\n",
    "- If an exception occurs during the process above, just `pass`."
   ]
  },
  {
   "cell_type": "code",
   "execution_count": 11,
   "metadata": {
    "ExecuteTime": {
     "end_time": "2020-06-25T01:04:52.096668Z",
     "start_time": "2020-06-25T01:04:52.081038Z"
    }
   },
   "outputs": [],
   "source": [
    "def index_page(link):\n",
    "    try:\n",
    "        import requests\n",
    "        from slugify import slugify\n",
    "        response = requests.get(link)\n",
    "        f = open(f'{slugify(link)}.html', 'w')\n",
    "        f.write(f'{requests.get(link).content}')\n",
    "        f.close()\n",
    "    except:\n",
    "        pass"
   ]
  },
  {
   "cell_type": "code",
   "execution_count": 12,
   "metadata": {
    "ExecuteTime": {
     "end_time": "2020-06-25T01:04:52.585709Z",
     "start_time": "2020-06-25T01:04:52.570081Z"
    }
   },
   "outputs": [
    {
     "data": {
      "text/plain": [
       "'C:\\\\Users\\\\55119\\\\Desktop\\\\DAFT-202006\\\\W4\\\\labs'"
      ]
     },
     "execution_count": 12,
     "metadata": {},
     "output_type": "execute_result"
    }
   ],
   "source": [
    "pwd"
   ]
  },
  {
   "cell_type": "code",
   "execution_count": 13,
   "metadata": {
    "ExecuteTime": {
     "end_time": "2020-06-25T01:04:54.105163Z",
     "start_time": "2020-06-25T01:04:54.089538Z"
    }
   },
   "outputs": [],
   "source": [
    "os.chdir('./wikipedia')"
   ]
  },
  {
   "cell_type": "markdown",
   "metadata": {
    "colab_type": "text",
    "id": "VVDNEdyVSEkM"
   },
   "source": [
    "### Step 6: Sequentially loop through the list of links, running the index_page function each time.\n",
    "\n",
    "Remember to include `%%time` at the beginning of the cell so that it measures the time it takes for the cell to run. \n",
    "\n",
    "_hint: Use tqdm to keep track of the time._ "
   ]
  },
  {
   "cell_type": "code",
   "execution_count": 14,
   "metadata": {
    "ExecuteTime": {
     "end_time": "2020-06-25T00:55:54.773121Z",
     "start_time": "2020-06-25T00:45:34.817543Z"
    },
    "colab": {},
    "colab_type": "code",
    "id": "1akpUc5_SEkN"
   },
   "outputs": [],
   "source": [
    "# your code here\n",
    "for l in all_links:\n",
    "    index_page(l)"
   ]
  },
  {
   "cell_type": "markdown",
   "metadata": {
    "colab_type": "text",
    "id": "KWa8qXs3SEkQ"
   },
   "source": [
    "### Step 7: Perform the page indexing in parallel and note the difference in performance.\n",
    "\n",
    "Remember to include `%%time` at the beginning of the cell so that it measures the time it takes for the cell to run.\n",
    "\n",
    "Use both methods, i.e., for one hand use the `multiprocess` module to use the function created in the jupyter notebook and run the download in parallel.\n",
    "\n",
    "And for another hand create a python file containing the function to download the file and use the `multiprocessing` module to run. "
   ]
  },
  {
   "cell_type": "code",
   "execution_count": 39,
   "metadata": {
    "ExecuteTime": {
     "end_time": "2020-06-25T00:36:45.901321Z",
     "start_time": "2020-06-25T00:36:45.870084Z"
    }
   },
   "outputs": [],
   "source": [
    "from multiprocess import Pool"
   ]
  },
  {
   "cell_type": "code",
   "execution_count": 17,
   "metadata": {
    "ExecuteTime": {
     "end_time": "2020-06-24T23:46:57.873445Z",
     "start_time": "2020-06-24T23:45:35.552107Z"
    },
    "colab": {},
    "colab_type": "code",
    "id": "BSA-oQV9SEkT"
   },
   "outputs": [],
   "source": [
    "# your code here\n",
    "pool = Pool(processes = 8)\n",
    "result = pool.map(index_page, all_links)\n",
    "pool.terminate()"
   ]
  },
  {
   "cell_type": "code",
   "execution_count": 14,
   "metadata": {
    "ExecuteTime": {
     "end_time": "2020-06-25T01:05:02.153029Z",
     "start_time": "2020-06-25T01:05:02.137375Z"
    }
   },
   "outputs": [
    {
     "data": {
      "text/plain": [
       "8"
      ]
     },
     "execution_count": 14,
     "metadata": {},
     "output_type": "execute_result"
    }
   ],
   "source": [
    "from multiprocessing import Pool, cpu_count\n",
    "\n",
    "cpu_count()"
   ]
  },
  {
   "cell_type": "code",
   "execution_count": 25,
   "metadata": {
    "ExecuteTime": {
     "end_time": "2020-06-24T23:53:48.391564Z",
     "start_time": "2020-06-24T23:53:48.376109Z"
    }
   },
   "outputs": [],
   "source": [
    "os.chdir('./labs')"
   ]
  },
  {
   "cell_type": "code",
   "execution_count": 17,
   "metadata": {
    "ExecuteTime": {
     "end_time": "2020-06-25T00:56:51.897716Z",
     "start_time": "2020-06-25T00:56:51.866641Z"
    }
   },
   "outputs": [
    {
     "data": {
      "text/plain": [
       "'C:\\\\Users\\\\55119\\\\Desktop\\\\DAFT-202006\\\\W4\\\\labs\\\\wikipedia'"
      ]
     },
     "execution_count": 17,
     "metadata": {},
     "output_type": "execute_result"
    }
   ],
   "source": [
    "pwd"
   ]
  },
  {
   "cell_type": "code",
   "execution_count": 15,
   "metadata": {
    "ExecuteTime": {
     "end_time": "2020-06-25T01:05:06.225901Z",
     "start_time": "2020-06-25T01:05:06.210234Z"
    }
   },
   "outputs": [],
   "source": [
    "from w4d3 import index_pages"
   ]
  },
  {
   "cell_type": "code",
   "execution_count": 34,
   "metadata": {
    "ExecuteTime": {
     "end_time": "2020-06-25T00:17:47.564823Z",
     "start_time": "2020-06-25T00:16:25.048992Z"
    }
   },
   "outputs": [],
   "source": [
    "pool = Pool(processes = 8)\n",
    "result = pool.map(index_pages, all_links)\n",
    "pool.terminate()"
   ]
  },
  {
   "cell_type": "markdown",
   "metadata": {
    "colab_type": "text",
    "id": "4Sx1hLdbTEp5"
   },
   "source": [
    "**BONUS**: Create a function that counts how many files are there in the wikipedia folder using the `os` module. \n",
    "\n",
    "Delete the files from the folder before you run and perform the above solution asynchronously. \n",
    "\n",
    "Use your function to check how many files are being downloaded."
   ]
  },
  {
   "cell_type": "code",
   "execution_count": 16,
   "metadata": {
    "ExecuteTime": {
     "end_time": "2020-06-25T01:05:09.879951Z",
     "start_time": "2020-06-25T01:05:09.864384Z"
    }
   },
   "outputs": [],
   "source": [
    "import os.path"
   ]
  },
  {
   "cell_type": "code",
   "execution_count": 37,
   "metadata": {
    "ExecuteTime": {
     "end_time": "2020-06-25T00:20:39.187262Z",
     "start_time": "2020-06-25T00:20:39.156155Z"
    }
   },
   "outputs": [],
   "source": [
    "os.chdir('./wikipedia')"
   ]
  },
  {
   "cell_type": "code",
   "execution_count": 17,
   "metadata": {
    "ExecuteTime": {
     "end_time": "2020-06-25T01:05:12.778572Z",
     "start_time": "2020-06-25T01:05:12.762946Z"
    }
   },
   "outputs": [],
   "source": [
    "def how_many_files():\n",
    "    return len([name for name in os.listdir('.') if os.path.isfile(name)])"
   ]
  },
  {
   "cell_type": "code",
   "execution_count": 50,
   "metadata": {
    "ExecuteTime": {
     "end_time": "2020-06-25T00:44:08.958650Z",
     "start_time": "2020-06-25T00:44:08.943146Z"
    }
   },
   "outputs": [
    {
     "data": {
      "text/plain": [
       "'C:\\\\Users\\\\55119\\\\Desktop\\\\DAFT-202006\\\\W4\\\\labs\\\\wikipedia'"
      ]
     },
     "execution_count": 50,
     "metadata": {},
     "output_type": "execute_result"
    }
   ],
   "source": [
    "pwd"
   ]
  },
  {
   "cell_type": "code",
   "execution_count": 19,
   "metadata": {
    "ExecuteTime": {
     "end_time": "2020-06-25T01:05:22.963191Z",
     "start_time": "2020-06-25T01:05:22.758248Z"
    },
    "scrolled": true
   },
   "outputs": [
    {
     "data": {
      "text/plain": [
       "23"
      ]
     },
     "execution_count": 19,
     "metadata": {},
     "output_type": "execute_result"
    }
   ],
   "source": [
    "pool = Pool(processes = 8)\n",
    "result = pool.map_async(index_pages, all_links)\n",
    "pool.terminate()\n",
    "how_many_files()"
   ]
  },
  {
   "cell_type": "code",
   "execution_count": 20,
   "metadata": {
    "ExecuteTime": {
     "end_time": "2020-06-25T01:06:54.272923Z",
     "start_time": "2020-06-25T01:06:54.241643Z"
    }
   },
   "outputs": [
    {
     "data": {
      "text/plain": [
       "307"
      ]
     },
     "execution_count": 20,
     "metadata": {},
     "output_type": "execute_result"
    }
   ],
   "source": [
    "how_many_files()"
   ]
  }
 ],
 "metadata": {
  "colab": {
   "collapsed_sections": [],
   "name": "main.ipynb",
   "provenance": []
  },
  "kernelspec": {
   "display_name": "Python 3",
   "language": "python",
   "name": "python3"
  },
  "language_info": {
   "codemirror_mode": {
    "name": "ipython",
    "version": 3
   },
   "file_extension": ".py",
   "mimetype": "text/x-python",
   "name": "python",
   "nbconvert_exporter": "python",
   "pygments_lexer": "ipython3",
   "version": "3.7.4"
  },
  "toc": {
   "base_numbering": 1,
   "nav_menu": {},
   "number_sections": true,
   "sideBar": true,
   "skip_h1_title": false,
   "title_cell": "Table of Contents",
   "title_sidebar": "Contents",
   "toc_cell": false,
   "toc_position": {},
   "toc_section_display": true,
   "toc_window_display": false
  },
  "varInspector": {
   "cols": {
    "lenName": 16,
    "lenType": 16,
    "lenVar": 40
   },
   "kernels_config": {
    "python": {
     "delete_cmd_postfix": "",
     "delete_cmd_prefix": "del ",
     "library": "var_list.py",
     "varRefreshCmd": "print(var_dic_list())"
    },
    "r": {
     "delete_cmd_postfix": ") ",
     "delete_cmd_prefix": "rm(",
     "library": "var_list.r",
     "varRefreshCmd": "cat(var_dic_list()) "
    }
   },
   "types_to_exclude": [
    "module",
    "function",
    "builtin_function_or_method",
    "instance",
    "_Feature"
   ],
   "window_display": false
  }
 },
 "nbformat": 4,
 "nbformat_minor": 1
}
