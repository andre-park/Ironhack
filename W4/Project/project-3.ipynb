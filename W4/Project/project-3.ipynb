{
 "cells": [
  {
   "cell_type": "code",
   "execution_count": 1,
   "metadata": {
    "ExecuteTime": {
     "end_time": "2020-06-29T11:30:20.218643Z",
     "start_time": "2020-06-29T11:30:16.409342Z"
    }
   },
   "outputs": [],
   "source": [
    "import bs4 as BeautifulSoup\n",
    "import pandas as pd\n",
    "import requests\n",
    "from multiprocess import Pool\n",
    "from selenium import webdriver\n",
    "from selenium.webdriver.support.wait import WebDriverWait\n",
    "from selenium.webdriver.support import expected_conditions as EC\n",
    "from selenium.webdriver.common.by import By\n",
    "from selenium.webdriver.common.keys import Keys\n",
    "import sqlalchemy as db\n",
    "import psycopg2\n",
    "import os"
   ]
  },
  {
   "cell_type": "code",
   "execution_count": 16,
   "metadata": {
    "ExecuteTime": {
     "end_time": "2020-06-29T02:44:53.848238Z",
     "start_time": "2020-06-29T02:43:01.307070Z"
    }
   },
   "outputs": [],
   "source": [
    "driver = webdriver.Chrome(executable_path = ('../chromedriver'))\n",
    "site = 'https://www.cryptodatadownload.com/data/'\n",
    "driver.get(site)\n",
    "driver.maximize_window()\n",
    "driver.implicitly_wait(5)\n",
    "#Accepting cookies\n",
    "try:\n",
    "    cookies = WebDriverWait(driver, 40).until(EC.visibility_of_element_located((By.LINK_TEXT,'Use necessary cookies only')))\n",
    "\n",
    "    driver.execute_script(\"arguments[0].click();\", cookies)\n",
    "\n",
    "except:\n",
    "    pass\n",
    "\n",
    "table_elems = driver.find_elements(By.CLASS_NAME, 'pricing-body')\n",
    "region_tables = [table.find_elements(By.TAG_NAME, 'a') for table in table_elems]\n",
    "exchange_elems = [elem for table in region_tables for elem in table]\n",
    "#Iterating trought the list of elements and \n",
    "download_links = []\n",
    "for i in range(0,24):\n",
    "    \n",
    "\n",
    "        table_elems = WebDriverWait(driver, 40).until(EC.visibility_of_all_elements_located((By.CLASS_NAME, 'pricing-body')))\n",
    "        region_tables = [table.find_elements(By.TAG_NAME, 'a') for table in table_elems]\n",
    "        exchange_elems = [elem for table in region_tables for elem in table]\n",
    "\n",
    "        if exchange_elems[i] == exchange_elems[23]:\n",
    "\n",
    "            driver.implicitly_wait(5)\n",
    "            driver.execute_script(\"arguments[0].click();\", exchange_elems[i])\n",
    "            driver.implicitly_wait(5)\n",
    "            #Downloading the data\n",
    "            elems = driver.find_elements_by_tag_name('a')\n",
    "            link = [e.get_attribute('href') for e in elems if e.get_attribute('href').endswith('BTCUSD_d.csv')]\n",
    "\n",
    "            if link != []:\n",
    "                download_links.append(link[0])\n",
    "            \n",
    "            driver.implicitly_wait(5)\n",
    "            driver.quit()\n",
    "           \n",
    "        else:\n",
    "\n",
    "            driver.implicitly_wait(5)\n",
    "            driver.execute_script(\"arguments[0].click();\", exchange_elems[i])\n",
    "            driver.implicitly_wait(5)\n",
    "            #Downloading the data\n",
    "            elems = driver.find_elements_by_tag_name('a')\n",
    "          \n",
    "            link = [e.get_attribute('href') for e in elems if e.get_attribute('href').endswith('BTCUSD_d.csv')]\n",
    "\n",
    "            if link != []:\n",
    "                download_links.append(link[0])\n",
    "\n",
    "            driver.implicitly_wait(10)\n",
    "            driver.back()\n"
   ]
  },
  {
   "cell_type": "code",
   "execution_count": 5,
   "metadata": {
    "ExecuteTime": {
     "end_time": "2020-06-29T00:13:51.802932Z",
     "start_time": "2020-06-29T00:13:51.793557Z"
    }
   },
   "outputs": [],
   "source": [
    "# Changing the path for the download files\n"
   ]
  },
  {
   "cell_type": "code",
   "execution_count": 17,
   "metadata": {
    "ExecuteTime": {
     "end_time": "2020-06-29T02:45:15.795110Z",
     "start_time": "2020-06-29T02:45:15.788070Z"
    }
   },
   "outputs": [
    {
     "data": {
      "text/plain": [
       "['https://www.cryptodatadownload.com/cdd/Gemini_BTCUSD_d.csv',\n",
       " 'https://www.cryptodatadownload.com/cdd/Coinbase_BTCUSD_d.csv',\n",
       " 'https://www.cryptodatadownload.com/cdd/Kraken_BTCUSD_d.csv',\n",
       " 'https://www.cryptodatadownload.com/cdd/Bitstamp_BTCUSD_d.csv',\n",
       " 'https://www.cryptodatadownload.com/cdd/Cexio_BTCUSD_d.csv',\n",
       " 'https://www.cryptodatadownload.com/cdd/Bitfinex_BTCUSD_d.csv',\n",
       " 'https://www.cryptodatadownload.com/cdd/Poloniex_BTCUSD_d.csv',\n",
       " 'https://www.cryptodatadownload.com/cdd/Bittrex_BTCUSD_d.csv',\n",
       " 'https://www.cryptodatadownload.com/cdd/Itbit_BTCUSD_d.csv',\n",
       " 'https://www.cryptodatadownload.com/cdd/HitBTC_BTCUSD_d.csv',\n",
       " 'https://www.cryptodatadownload.com/cdd/Exmo_BTCUSD_d.csv',\n",
       " 'https://www.cryptodatadownload.com/cdd/Yobit_BTCUSD_d.csv',\n",
       " 'https://www.cryptodatadownload.com/cdd/Gemini_BTCUSD_d.csv',\n",
       " 'https://www.cryptodatadownload.com/cdd/Bitbay_BTCUSD_d.csv',\n",
       " 'https://www.cryptodatadownload.com/cdd/Abucoins_BTCUSD_d.csv',\n",
       " 'https://www.cryptodatadownload.com/cdd/Okcoin_BTCUSD_d.csv']"
      ]
     },
     "execution_count": 17,
     "metadata": {},
     "output_type": "execute_result"
    }
   ],
   "source": [
    "download_links"
   ]
  },
  {
   "cell_type": "code",
   "execution_count": 19,
   "metadata": {
    "ExecuteTime": {
     "end_time": "2020-06-29T02:46:38.727830Z",
     "start_time": "2020-06-29T02:46:38.718994Z"
    }
   },
   "outputs": [],
   "source": [
    "def enter_link(link):\n",
    "    '''\n",
    "    Enters a link with selenium. With headless chrome driver and direct download to a specified path.\n",
    "    '''\n",
    "    from selenium import webdriver\n",
    "    options = webdriver.ChromeOptions() \n",
    "    options.add_experimental_option(\"prefs\", {\n",
    "        \"download.default_directory\": \"C:\\\\Users\\\\55119\\\\Desktop\\\\DAFT-202006\\\\W4\\\\Project\\\\data\"})\n",
    "    options.add_argument(\"--headless\")\n",
    "    driver = webdriver.Chrome(executable_path = ('../chromedriver'), options = options)\n",
    "    driver.get(link)"
   ]
  },
  {
   "cell_type": "code",
   "execution_count": 20,
   "metadata": {
    "ExecuteTime": {
     "end_time": "2020-06-29T02:46:56.077413Z",
     "start_time": "2020-06-29T02:46:43.201437Z"
    }
   },
   "outputs": [],
   "source": [
    "pool = Pool(processes = 8)\n",
    "result = pool.map(enter_link, download_links)\n",
    "pool.terminate()"
   ]
  },
  {
   "cell_type": "code",
   "execution_count": 21,
   "metadata": {
    "ExecuteTime": {
     "end_time": "2020-06-29T02:49:18.542812Z",
     "start_time": "2020-06-29T02:47:31.721826Z"
    }
   },
   "outputs": [],
   "source": [
    "driver = webdriver.Chrome(executable_path = ('../chromedriver'))\n",
    "site = 'https://www.cryptodatadownload.com/data/'\n",
    "driver.get(site)\n",
    "driver.maximize_window()\n",
    "driver.implicitly_wait(5)\n",
    "#Accepting cookies\n",
    "try:\n",
    "    cookies = WebDriverWait(driver, 40).until(EC.visibility_of_element_located((By.LINK_TEXT,'Use necessary cookies only')))\n",
    "\n",
    "    \n",
    "    driver.execute_script(\"arguments[0].click();\", cookies)\n",
    "\n",
    "except:\n",
    "    pass\n",
    "table_elems = driver.find_elements(By.CLASS_NAME, 'pricing-body')\n",
    "region_tables = [table.find_elements(By.TAG_NAME, 'a') for table in table_elems]\n",
    "exchange_elems = [elem for table in region_tables for elem in table]\n",
    "#Iterating trought the list of elements and \n",
    "download_links = []\n",
    "for i in range(0,24):\n",
    "\n",
    "\n",
    "    table_elems = WebDriverWait(driver, 40).until(EC.visibility_of_all_elements_located((By.CLASS_NAME, 'pricing-body')))\n",
    "    region_tables = [table.find_elements(By.TAG_NAME, 'a') for table in table_elems]\n",
    "    exchange_elems = [elem for table in region_tables for elem in table]\n",
    "\n",
    "    if exchange_elems[i] == exchange_elems[23]:\n",
    "\n",
    "        driver.implicitly_wait(5)\n",
    "        driver.execute_script(\"arguments[0].click();\", exchange_elems[i])\n",
    "        driver.implicitly_wait(5)\n",
    "        #Downloading the data\n",
    "        elems = driver.find_elements_by_tag_name('a')\n",
    "        link = [e.get_attribute('href') for e in elems if e.get_attribute('href').endswith('ETHUSD_d.csv')]\n",
    "\n",
    "        if link != []:\n",
    "            download_links.append(link[0])\n",
    "\n",
    "            driver.implicitly_wait(5)\n",
    "            driver.quit()\n",
    "\n",
    "    else:\n",
    "\n",
    "        driver.implicitly_wait(5)\n",
    "        driver.execute_script(\"arguments[0].click();\", exchange_elems[i])\n",
    "        driver.implicitly_wait(5)\n",
    "        #Downloading the data\n",
    "        elems = driver.find_elements_by_tag_name('a')\n",
    "\n",
    "        link = [e.get_attribute('href') for e in elems if e.get_attribute('href').endswith('ETHUSD_d.csv')]\n",
    "\n",
    "        if link != []:\n",
    "            download_links.append(link[0])\n",
    "\n",
    "        driver.implicitly_wait(10)\n",
    "        driver.back()\n"
   ]
  },
  {
   "cell_type": "code",
   "execution_count": 22,
   "metadata": {
    "ExecuteTime": {
     "end_time": "2020-06-29T02:49:32.097259Z",
     "start_time": "2020-06-29T02:49:32.090349Z"
    }
   },
   "outputs": [
    {
     "data": {
      "text/plain": [
       "['https://www.cryptodatadownload.com/cdd/Gemini_ETHUSD_d.csv',\n",
       " 'https://www.cryptodatadownload.com/cdd/Coinbase_ETHUSD_d.csv',\n",
       " 'https://www.cryptodatadownload.com/cdd/Kraken_ETHUSD_d.csv',\n",
       " 'https://www.cryptodatadownload.com/cdd/Bitstamp_ETHUSD_d.csv',\n",
       " 'https://www.cryptodatadownload.com/cdd/Bitfinex_ETHUSD_d.csv',\n",
       " 'https://www.cryptodatadownload.com/cdd/Poloniex_ETHUSD_d.csv',\n",
       " 'https://www.cryptodatadownload.com/cdd/Bittrex_ETHUSD_d.csv',\n",
       " 'https://www.cryptodatadownload.com/cdd/HitBTC_ETHUSD_d.csv',\n",
       " 'https://www.cryptodatadownload.com/cdd/Exmo_ETHUSD_d.csv',\n",
       " 'https://www.cryptodatadownload.com/cdd/Yobit_ETHUSD_d.csv',\n",
       " 'https://www.cryptodatadownload.com/cdd/Bitbay_ETHUSD_d.csv',\n",
       " 'https://www.cryptodatadownload.com/cdd/Okcoin_ETHUSD_d.csv']"
      ]
     },
     "execution_count": 22,
     "metadata": {},
     "output_type": "execute_result"
    }
   ],
   "source": [
    "download_links"
   ]
  },
  {
   "cell_type": "code",
   "execution_count": 23,
   "metadata": {
    "ExecuteTime": {
     "end_time": "2020-06-29T02:49:50.095267Z",
     "start_time": "2020-06-29T02:49:40.212326Z"
    }
   },
   "outputs": [],
   "source": [
    "pool = Pool(processes = 8)\n",
    "result = pool.map(enter_link, download_links)\n",
    "pool.terminate()"
   ]
  },
  {
   "cell_type": "code",
   "execution_count": 12,
   "metadata": {
    "ExecuteTime": {
     "end_time": "2020-06-29T11:36:58.985771Z",
     "start_time": "2020-06-29T11:36:52.960012Z"
    }
   },
   "outputs": [
    {
     "name": "stdout",
     "output_type": "stream",
     "text": [
      "········\n"
     ]
    }
   ],
   "source": [
    "from getpass import getpass\n",
    "db_server = 'postgresql'\n",
    "user = 'postgres'\n",
    "password = getpass()\n",
    "ip = 'localhost'\n",
    "db_name = 'project3_btc/eth'\n",
    "\n",
    "# create the engine\n",
    "engine = db.create_engine(f'{db_server}://{user}:{password}@{ip}/{db_name}')\n",
    "\n",
    "# open the connection\n",
    "conn = engine.connect()"
   ]
  },
  {
   "cell_type": "code",
   "execution_count": 14,
   "metadata": {
    "ExecuteTime": {
     "end_time": "2020-06-29T11:38:33.123588Z",
     "start_time": "2020-06-29T11:38:33.101649Z"
    }
   },
   "outputs": [],
   "source": [
    "def file_to_sql(file):\n",
    "    csv = pd.read_csv(file, header = 1)\n",
    "    csv.to_sql(file, con=conn, if_exists='replace', index=False)"
   ]
  },
  {
   "cell_type": "code",
   "execution_count": 15,
   "metadata": {
    "ExecuteTime": {
     "end_time": "2020-06-29T11:38:50.662206Z",
     "start_time": "2020-06-29T11:38:33.539499Z"
    }
   },
   "outputs": [],
   "source": [
    "for file in os.listdir('.\\data'):\n",
    "    file_to_sql(os.path.join('.\\data', file))"
   ]
  },
  {
   "cell_type": "code",
   "execution_count": null,
   "metadata": {},
   "outputs": [],
   "source": []
  }
 ],
 "metadata": {
  "kernelspec": {
   "display_name": "Python 3",
   "language": "python",
   "name": "python3"
  },
  "language_info": {
   "codemirror_mode": {
    "name": "ipython",
    "version": 3
   },
   "file_extension": ".py",
   "mimetype": "text/x-python",
   "name": "python",
   "nbconvert_exporter": "python",
   "pygments_lexer": "ipython3",
   "version": "3.7.4"
  },
  "toc": {
   "base_numbering": 1,
   "nav_menu": {},
   "number_sections": true,
   "sideBar": true,
   "skip_h1_title": false,
   "title_cell": "Table of Contents",
   "title_sidebar": "Contents",
   "toc_cell": false,
   "toc_position": {},
   "toc_section_display": true,
   "toc_window_display": false
  },
  "varInspector": {
   "cols": {
    "lenName": 16,
    "lenType": 16,
    "lenVar": 40
   },
   "kernels_config": {
    "python": {
     "delete_cmd_postfix": "",
     "delete_cmd_prefix": "del ",
     "library": "var_list.py",
     "varRefreshCmd": "print(var_dic_list())"
    },
    "r": {
     "delete_cmd_postfix": ") ",
     "delete_cmd_prefix": "rm(",
     "library": "var_list.r",
     "varRefreshCmd": "cat(var_dic_list()) "
    }
   },
   "types_to_exclude": [
    "module",
    "function",
    "builtin_function_or_method",
    "instance",
    "_Feature"
   ],
   "window_display": false
  }
 },
 "nbformat": 4,
 "nbformat_minor": 2
}
