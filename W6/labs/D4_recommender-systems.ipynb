{
 "cells": [
  {
   "cell_type": "markdown",
   "metadata": {},
   "source": [
    "# Intro to Recommender Systems Lab\n",
    "\n",
    "Complete the exercises below to solidify your knowledge and understanding of recommender systems.\n",
    "\n",
    "For this lab, we are going to be putting together a user similarity based recommender system in a step-by-step fashion. Our data set contains customer grocery purchases, and we will use similar purchase behavior to inform our recommender system. Our recommender system will generate 5 recommendations for each customer based on the purchases they have made."
   ]
  },
  {
   "cell_type": "code",
   "execution_count": 1,
   "metadata": {
    "ExecuteTime": {
     "end_time": "2020-07-09T21:01:35.712376Z",
     "start_time": "2020-07-09T21:01:34.798621Z"
    }
   },
   "outputs": [],
   "source": [
    "import pandas as pd\n",
    "from scipy.spatial.distance import pdist, squareform"
   ]
  },
  {
   "cell_type": "code",
   "execution_count": 2,
   "metadata": {
    "ExecuteTime": {
     "end_time": "2020-07-09T21:01:35.904621Z",
     "start_time": "2020-07-09T21:01:35.733549Z"
    }
   },
   "outputs": [],
   "source": [
    "data = pd.read_csv('../data/customer_product_sales.csv')"
   ]
  },
  {
   "cell_type": "code",
   "execution_count": 3,
   "metadata": {
    "ExecuteTime": {
     "end_time": "2020-07-09T21:01:35.979526Z",
     "start_time": "2020-07-09T21:01:35.937635Z"
    }
   },
   "outputs": [
    {
     "data": {
      "text/html": [
       "<div>\n",
       "<style scoped>\n",
       "    .dataframe tbody tr th:only-of-type {\n",
       "        vertical-align: middle;\n",
       "    }\n",
       "\n",
       "    .dataframe tbody tr th {\n",
       "        vertical-align: top;\n",
       "    }\n",
       "\n",
       "    .dataframe thead th {\n",
       "        text-align: right;\n",
       "    }\n",
       "</style>\n",
       "<table border=\"1\" class=\"dataframe\">\n",
       "  <thead>\n",
       "    <tr style=\"text-align: right;\">\n",
       "      <th></th>\n",
       "      <th>CustomerID</th>\n",
       "      <th>FirstName</th>\n",
       "      <th>LastName</th>\n",
       "      <th>SalesID</th>\n",
       "      <th>ProductID</th>\n",
       "      <th>ProductName</th>\n",
       "      <th>Quantity</th>\n",
       "    </tr>\n",
       "  </thead>\n",
       "  <tbody>\n",
       "    <tr>\n",
       "      <th>0</th>\n",
       "      <td>61288</td>\n",
       "      <td>Rosa</td>\n",
       "      <td>Andersen</td>\n",
       "      <td>134196</td>\n",
       "      <td>229</td>\n",
       "      <td>Bread - Hot Dog Buns</td>\n",
       "      <td>16</td>\n",
       "    </tr>\n",
       "    <tr>\n",
       "      <th>1</th>\n",
       "      <td>77352</td>\n",
       "      <td>Myron</td>\n",
       "      <td>Murray</td>\n",
       "      <td>6167892</td>\n",
       "      <td>229</td>\n",
       "      <td>Bread - Hot Dog Buns</td>\n",
       "      <td>20</td>\n",
       "    </tr>\n",
       "    <tr>\n",
       "      <th>2</th>\n",
       "      <td>40094</td>\n",
       "      <td>Susan</td>\n",
       "      <td>Stevenson</td>\n",
       "      <td>5970885</td>\n",
       "      <td>229</td>\n",
       "      <td>Bread - Hot Dog Buns</td>\n",
       "      <td>11</td>\n",
       "    </tr>\n",
       "    <tr>\n",
       "      <th>3</th>\n",
       "      <td>23548</td>\n",
       "      <td>Tricia</td>\n",
       "      <td>Vincent</td>\n",
       "      <td>6426954</td>\n",
       "      <td>229</td>\n",
       "      <td>Bread - Hot Dog Buns</td>\n",
       "      <td>6</td>\n",
       "    </tr>\n",
       "    <tr>\n",
       "      <th>4</th>\n",
       "      <td>78981</td>\n",
       "      <td>Scott</td>\n",
       "      <td>Burch</td>\n",
       "      <td>819094</td>\n",
       "      <td>229</td>\n",
       "      <td>Bread - Hot Dog Buns</td>\n",
       "      <td>20</td>\n",
       "    </tr>\n",
       "  </tbody>\n",
       "</table>\n",
       "</div>"
      ],
      "text/plain": [
       "   CustomerID FirstName   LastName  SalesID  ProductID           ProductName  \\\n",
       "0       61288      Rosa   Andersen   134196        229  Bread - Hot Dog Buns   \n",
       "1       77352     Myron     Murray  6167892        229  Bread - Hot Dog Buns   \n",
       "2       40094     Susan  Stevenson  5970885        229  Bread - Hot Dog Buns   \n",
       "3       23548    Tricia    Vincent  6426954        229  Bread - Hot Dog Buns   \n",
       "4       78981     Scott      Burch   819094        229  Bread - Hot Dog Buns   \n",
       "\n",
       "   Quantity  \n",
       "0        16  \n",
       "1        20  \n",
       "2        11  \n",
       "3         6  \n",
       "4        20  "
      ]
     },
     "execution_count": 3,
     "metadata": {},
     "output_type": "execute_result"
    }
   ],
   "source": [
    "data.head()"
   ]
  },
  {
   "cell_type": "markdown",
   "metadata": {},
   "source": [
    "## Step 1: Create a data frame that contains the total quantity of each product purchased by each customer.\n",
    "\n",
    "You will need to group by CustomerID and ProductName and then sum the Quantity field."
   ]
  },
  {
   "cell_type": "code",
   "execution_count": 5,
   "metadata": {
    "ExecuteTime": {
     "end_time": "2020-07-09T21:03:51.245213Z",
     "start_time": "2020-07-09T21:03:51.164315Z"
    }
   },
   "outputs": [],
   "source": [
    "df = data.groupby(by=['CustomerID','ProductName'], as_index=False).Quantity.sum()"
   ]
  },
  {
   "cell_type": "markdown",
   "metadata": {},
   "source": [
    "## Step 2: Use the `pivot_table` method to create a product by customer matrix.\n",
    "\n",
    "The rows of the matrix should represent the products, the columns should represent the customers, and the values should be the quantities of each product purchased by each customer. You will also need to replace nulls with zeros, which you can do using the `fillna` method."
   ]
  },
  {
   "cell_type": "code",
   "execution_count": 51,
   "metadata": {
    "ExecuteTime": {
     "end_time": "2020-07-09T23:54:44.546553Z",
     "start_time": "2020-07-09T23:54:44.100005Z"
    }
   },
   "outputs": [
    {
     "data": {
      "text/html": [
       "<div>\n",
       "<style scoped>\n",
       "    .dataframe tbody tr th:only-of-type {\n",
       "        vertical-align: middle;\n",
       "    }\n",
       "\n",
       "    .dataframe tbody tr th {\n",
       "        vertical-align: top;\n",
       "    }\n",
       "\n",
       "    .dataframe thead tr th {\n",
       "        text-align: left;\n",
       "    }\n",
       "\n",
       "    .dataframe thead tr:last-of-type th {\n",
       "        text-align: right;\n",
       "    }\n",
       "</style>\n",
       "<table border=\"1\" class=\"dataframe\">\n",
       "  <thead>\n",
       "    <tr>\n",
       "      <th></th>\n",
       "      <th colspan=\"21\" halign=\"left\">Quantity</th>\n",
       "    </tr>\n",
       "    <tr>\n",
       "      <th>CustomerID</th>\n",
       "      <th>33</th>\n",
       "      <th>200</th>\n",
       "      <th>264</th>\n",
       "      <th>356</th>\n",
       "      <th>412</th>\n",
       "      <th>464</th>\n",
       "      <th>477</th>\n",
       "      <th>639</th>\n",
       "      <th>649</th>\n",
       "      <th>669</th>\n",
       "      <th>...</th>\n",
       "      <th>97697</th>\n",
       "      <th>97753</th>\n",
       "      <th>97769</th>\n",
       "      <th>97793</th>\n",
       "      <th>97900</th>\n",
       "      <th>97928</th>\n",
       "      <th>98069</th>\n",
       "      <th>98159</th>\n",
       "      <th>98185</th>\n",
       "      <th>98200</th>\n",
       "    </tr>\n",
       "    <tr>\n",
       "      <th>ProductName</th>\n",
       "      <th></th>\n",
       "      <th></th>\n",
       "      <th></th>\n",
       "      <th></th>\n",
       "      <th></th>\n",
       "      <th></th>\n",
       "      <th></th>\n",
       "      <th></th>\n",
       "      <th></th>\n",
       "      <th></th>\n",
       "      <th></th>\n",
       "      <th></th>\n",
       "      <th></th>\n",
       "      <th></th>\n",
       "      <th></th>\n",
       "      <th></th>\n",
       "      <th></th>\n",
       "      <th></th>\n",
       "      <th></th>\n",
       "      <th></th>\n",
       "      <th></th>\n",
       "    </tr>\n",
       "  </thead>\n",
       "  <tbody>\n",
       "    <tr>\n",
       "      <th>Anchovy Paste - 56 G Tube</th>\n",
       "      <td>0</td>\n",
       "      <td>0</td>\n",
       "      <td>0</td>\n",
       "      <td>0</td>\n",
       "      <td>0</td>\n",
       "      <td>0</td>\n",
       "      <td>0</td>\n",
       "      <td>1</td>\n",
       "      <td>0</td>\n",
       "      <td>0</td>\n",
       "      <td>...</td>\n",
       "      <td>0</td>\n",
       "      <td>25</td>\n",
       "      <td>0</td>\n",
       "      <td>0</td>\n",
       "      <td>0</td>\n",
       "      <td>0</td>\n",
       "      <td>0</td>\n",
       "      <td>0</td>\n",
       "      <td>0</td>\n",
       "      <td>0</td>\n",
       "    </tr>\n",
       "    <tr>\n",
       "      <th>Appetizer - Mini Egg Roll, Shrimp</th>\n",
       "      <td>0</td>\n",
       "      <td>0</td>\n",
       "      <td>0</td>\n",
       "      <td>0</td>\n",
       "      <td>0</td>\n",
       "      <td>0</td>\n",
       "      <td>0</td>\n",
       "      <td>0</td>\n",
       "      <td>0</td>\n",
       "      <td>0</td>\n",
       "      <td>...</td>\n",
       "      <td>25</td>\n",
       "      <td>25</td>\n",
       "      <td>0</td>\n",
       "      <td>0</td>\n",
       "      <td>0</td>\n",
       "      <td>0</td>\n",
       "      <td>0</td>\n",
       "      <td>0</td>\n",
       "      <td>0</td>\n",
       "      <td>0</td>\n",
       "    </tr>\n",
       "    <tr>\n",
       "      <th>Appetizer - Mushroom Tart</th>\n",
       "      <td>0</td>\n",
       "      <td>0</td>\n",
       "      <td>0</td>\n",
       "      <td>0</td>\n",
       "      <td>0</td>\n",
       "      <td>0</td>\n",
       "      <td>0</td>\n",
       "      <td>1</td>\n",
       "      <td>0</td>\n",
       "      <td>0</td>\n",
       "      <td>...</td>\n",
       "      <td>25</td>\n",
       "      <td>0</td>\n",
       "      <td>0</td>\n",
       "      <td>0</td>\n",
       "      <td>0</td>\n",
       "      <td>0</td>\n",
       "      <td>0</td>\n",
       "      <td>0</td>\n",
       "      <td>25</td>\n",
       "      <td>0</td>\n",
       "    </tr>\n",
       "    <tr>\n",
       "      <th>Appetizer - Sausage Rolls</th>\n",
       "      <td>0</td>\n",
       "      <td>0</td>\n",
       "      <td>0</td>\n",
       "      <td>0</td>\n",
       "      <td>0</td>\n",
       "      <td>0</td>\n",
       "      <td>0</td>\n",
       "      <td>0</td>\n",
       "      <td>0</td>\n",
       "      <td>0</td>\n",
       "      <td>...</td>\n",
       "      <td>0</td>\n",
       "      <td>0</td>\n",
       "      <td>0</td>\n",
       "      <td>0</td>\n",
       "      <td>25</td>\n",
       "      <td>25</td>\n",
       "      <td>25</td>\n",
       "      <td>0</td>\n",
       "      <td>25</td>\n",
       "      <td>0</td>\n",
       "    </tr>\n",
       "    <tr>\n",
       "      <th>Apricots - Dried</th>\n",
       "      <td>1</td>\n",
       "      <td>0</td>\n",
       "      <td>0</td>\n",
       "      <td>0</td>\n",
       "      <td>1</td>\n",
       "      <td>0</td>\n",
       "      <td>0</td>\n",
       "      <td>0</td>\n",
       "      <td>0</td>\n",
       "      <td>0</td>\n",
       "      <td>...</td>\n",
       "      <td>0</td>\n",
       "      <td>25</td>\n",
       "      <td>0</td>\n",
       "      <td>0</td>\n",
       "      <td>0</td>\n",
       "      <td>0</td>\n",
       "      <td>0</td>\n",
       "      <td>0</td>\n",
       "      <td>0</td>\n",
       "      <td>0</td>\n",
       "    </tr>\n",
       "    <tr>\n",
       "      <th>...</th>\n",
       "      <td>...</td>\n",
       "      <td>...</td>\n",
       "      <td>...</td>\n",
       "      <td>...</td>\n",
       "      <td>...</td>\n",
       "      <td>...</td>\n",
       "      <td>...</td>\n",
       "      <td>...</td>\n",
       "      <td>...</td>\n",
       "      <td>...</td>\n",
       "      <td>...</td>\n",
       "      <td>...</td>\n",
       "      <td>...</td>\n",
       "      <td>...</td>\n",
       "      <td>...</td>\n",
       "      <td>...</td>\n",
       "      <td>...</td>\n",
       "      <td>...</td>\n",
       "      <td>...</td>\n",
       "      <td>...</td>\n",
       "      <td>...</td>\n",
       "    </tr>\n",
       "    <tr>\n",
       "      <th>Yeast Dry - Fermipan</th>\n",
       "      <td>0</td>\n",
       "      <td>0</td>\n",
       "      <td>0</td>\n",
       "      <td>0</td>\n",
       "      <td>0</td>\n",
       "      <td>0</td>\n",
       "      <td>0</td>\n",
       "      <td>0</td>\n",
       "      <td>0</td>\n",
       "      <td>0</td>\n",
       "      <td>...</td>\n",
       "      <td>0</td>\n",
       "      <td>0</td>\n",
       "      <td>0</td>\n",
       "      <td>25</td>\n",
       "      <td>0</td>\n",
       "      <td>0</td>\n",
       "      <td>0</td>\n",
       "      <td>0</td>\n",
       "      <td>0</td>\n",
       "      <td>0</td>\n",
       "    </tr>\n",
       "    <tr>\n",
       "      <th>Yoghurt Tubes</th>\n",
       "      <td>0</td>\n",
       "      <td>0</td>\n",
       "      <td>0</td>\n",
       "      <td>0</td>\n",
       "      <td>0</td>\n",
       "      <td>0</td>\n",
       "      <td>0</td>\n",
       "      <td>0</td>\n",
       "      <td>2</td>\n",
       "      <td>0</td>\n",
       "      <td>...</td>\n",
       "      <td>0</td>\n",
       "      <td>0</td>\n",
       "      <td>0</td>\n",
       "      <td>0</td>\n",
       "      <td>0</td>\n",
       "      <td>0</td>\n",
       "      <td>0</td>\n",
       "      <td>25</td>\n",
       "      <td>0</td>\n",
       "      <td>0</td>\n",
       "    </tr>\n",
       "    <tr>\n",
       "      <th>Yogurt - Blueberry, 175 Gr</th>\n",
       "      <td>0</td>\n",
       "      <td>1</td>\n",
       "      <td>0</td>\n",
       "      <td>0</td>\n",
       "      <td>0</td>\n",
       "      <td>0</td>\n",
       "      <td>0</td>\n",
       "      <td>0</td>\n",
       "      <td>0</td>\n",
       "      <td>0</td>\n",
       "      <td>...</td>\n",
       "      <td>25</td>\n",
       "      <td>0</td>\n",
       "      <td>0</td>\n",
       "      <td>25</td>\n",
       "      <td>0</td>\n",
       "      <td>0</td>\n",
       "      <td>0</td>\n",
       "      <td>0</td>\n",
       "      <td>0</td>\n",
       "      <td>0</td>\n",
       "    </tr>\n",
       "    <tr>\n",
       "      <th>Yogurt - French Vanilla</th>\n",
       "      <td>1</td>\n",
       "      <td>0</td>\n",
       "      <td>0</td>\n",
       "      <td>1</td>\n",
       "      <td>0</td>\n",
       "      <td>0</td>\n",
       "      <td>2</td>\n",
       "      <td>0</td>\n",
       "      <td>0</td>\n",
       "      <td>1</td>\n",
       "      <td>...</td>\n",
       "      <td>0</td>\n",
       "      <td>0</td>\n",
       "      <td>25</td>\n",
       "      <td>0</td>\n",
       "      <td>0</td>\n",
       "      <td>0</td>\n",
       "      <td>0</td>\n",
       "      <td>0</td>\n",
       "      <td>0</td>\n",
       "      <td>25</td>\n",
       "    </tr>\n",
       "    <tr>\n",
       "      <th>Zucchini - Yellow</th>\n",
       "      <td>0</td>\n",
       "      <td>0</td>\n",
       "      <td>0</td>\n",
       "      <td>0</td>\n",
       "      <td>0</td>\n",
       "      <td>0</td>\n",
       "      <td>0</td>\n",
       "      <td>0</td>\n",
       "      <td>0</td>\n",
       "      <td>0</td>\n",
       "      <td>...</td>\n",
       "      <td>0</td>\n",
       "      <td>0</td>\n",
       "      <td>0</td>\n",
       "      <td>0</td>\n",
       "      <td>0</td>\n",
       "      <td>0</td>\n",
       "      <td>0</td>\n",
       "      <td>0</td>\n",
       "      <td>0</td>\n",
       "      <td>0</td>\n",
       "    </tr>\n",
       "  </tbody>\n",
       "</table>\n",
       "<p>452 rows × 1000 columns</p>\n",
       "</div>"
      ],
      "text/plain": [
       "                                  Quantity                                \\\n",
       "CustomerID                           33    200   264   356   412   464     \n",
       "ProductName                                                                \n",
       "Anchovy Paste - 56 G Tube                0     0     0     0     0     0   \n",
       "Appetizer - Mini Egg Roll, Shrimp        0     0     0     0     0     0   \n",
       "Appetizer - Mushroom Tart                0     0     0     0     0     0   \n",
       "Appetizer - Sausage Rolls                0     0     0     0     0     0   \n",
       "Apricots - Dried                         1     0     0     0     1     0   \n",
       "...                                    ...   ...   ...   ...   ...   ...   \n",
       "Yeast Dry - Fermipan                     0     0     0     0     0     0   \n",
       "Yoghurt Tubes                            0     0     0     0     0     0   \n",
       "Yogurt - Blueberry, 175 Gr               0     1     0     0     0     0   \n",
       "Yogurt - French Vanilla                  1     0     0     1     0     0   \n",
       "Zucchini - Yellow                        0     0     0     0     0     0   \n",
       "\n",
       "                                                           ...              \\\n",
       "CustomerID                        477   639   649   669    ... 97697 97753   \n",
       "ProductName                                                ...               \n",
       "Anchovy Paste - 56 G Tube             0     1     0     0  ...     0    25   \n",
       "Appetizer - Mini Egg Roll, Shrimp     0     0     0     0  ...    25    25   \n",
       "Appetizer - Mushroom Tart             0     1     0     0  ...    25     0   \n",
       "Appetizer - Sausage Rolls             0     0     0     0  ...     0     0   \n",
       "Apricots - Dried                      0     0     0     0  ...     0    25   \n",
       "...                                 ...   ...   ...   ...  ...   ...   ...   \n",
       "Yeast Dry - Fermipan                  0     0     0     0  ...     0     0   \n",
       "Yoghurt Tubes                         0     0     2     0  ...     0     0   \n",
       "Yogurt - Blueberry, 175 Gr            0     0     0     0  ...    25     0   \n",
       "Yogurt - French Vanilla               2     0     0     1  ...     0     0   \n",
       "Zucchini - Yellow                     0     0     0     0  ...     0     0   \n",
       "\n",
       "                                                                             \\\n",
       "CustomerID                        97769 97793 97900 97928 98069 98159 98185   \n",
       "ProductName                                                                   \n",
       "Anchovy Paste - 56 G Tube             0     0     0     0     0     0     0   \n",
       "Appetizer - Mini Egg Roll, Shrimp     0     0     0     0     0     0     0   \n",
       "Appetizer - Mushroom Tart             0     0     0     0     0     0    25   \n",
       "Appetizer - Sausage Rolls             0     0    25    25    25     0    25   \n",
       "Apricots - Dried                      0     0     0     0     0     0     0   \n",
       "...                                 ...   ...   ...   ...   ...   ...   ...   \n",
       "Yeast Dry - Fermipan                  0    25     0     0     0     0     0   \n",
       "Yoghurt Tubes                         0     0     0     0     0    25     0   \n",
       "Yogurt - Blueberry, 175 Gr            0    25     0     0     0     0     0   \n",
       "Yogurt - French Vanilla              25     0     0     0     0     0     0   \n",
       "Zucchini - Yellow                     0     0     0     0     0     0     0   \n",
       "\n",
       "                                         \n",
       "CustomerID                        98200  \n",
       "ProductName                              \n",
       "Anchovy Paste - 56 G Tube             0  \n",
       "Appetizer - Mini Egg Roll, Shrimp     0  \n",
       "Appetizer - Mushroom Tart             0  \n",
       "Appetizer - Sausage Rolls             0  \n",
       "Apricots - Dried                      0  \n",
       "...                                 ...  \n",
       "Yeast Dry - Fermipan                  0  \n",
       "Yoghurt Tubes                         0  \n",
       "Yogurt - Blueberry, 175 Gr            0  \n",
       "Yogurt - French Vanilla              25  \n",
       "Zucchini - Yellow                     0  \n",
       "\n",
       "[452 rows x 1000 columns]"
      ]
     },
     "execution_count": 51,
     "metadata": {},
     "output_type": "execute_result"
    }
   ],
   "source": [
    "pt = df.pivot_table(index ='ProductName' , columns = 'CustomerID', fill_value = 0)\n",
    "pt"
   ]
  },
  {
   "cell_type": "markdown",
   "metadata": {},
   "source": [
    "## Step 3: Create a customer similarity matrix using `squareform` and `pdist`. For the distance metric, choose \"euclidean.\""
   ]
  },
  {
   "cell_type": "code",
   "execution_count": 26,
   "metadata": {
    "ExecuteTime": {
     "end_time": "2020-07-09T23:21:24.961599Z",
     "start_time": "2020-07-09T23:21:24.305052Z"
    }
   },
   "outputs": [],
   "source": [
    "s_matrix = pd.DataFrame(squareform(pdist(pt.T)), index = pt.column, columns = pt.column)"
   ]
  },
  {
   "cell_type": "markdown",
   "metadata": {},
   "source": [
    "## Step 4: Check your results by generating a list of the top 5 most similar customers for a specific CustomerID."
   ]
  },
  {
   "cell_type": "code",
   "execution_count": 64,
   "metadata": {
    "ExecuteTime": {
     "end_time": "2020-07-10T00:05:22.944299Z",
     "start_time": "2020-07-10T00:05:22.913150Z"
    }
   },
   "outputs": [
    {
     "data": {
      "text/plain": [
       "Int64Index([   33,   200,   264,   356,   412,   464,   477,   639,   649,\n",
       "              669,\n",
       "            ...\n",
       "            97697, 97753, 97769, 97793, 97900, 97928, 98069, 98159, 98185,\n",
       "            98200],\n",
       "           dtype='int64', name='CustomerID', length=1000)"
      ]
     },
     "execution_count": 64,
     "metadata": {},
     "output_type": "execute_result"
    }
   ],
   "source": [
    "s_matrix.index"
   ]
  },
  {
   "cell_type": "code",
   "execution_count": 68,
   "metadata": {
    "ExecuteTime": {
     "end_time": "2020-07-10T00:06:29.871387Z",
     "start_time": "2020-07-10T00:06:29.840098Z"
    }
   },
   "outputs": [
    {
     "data": {
      "text/html": [
       "<div>\n",
       "<style scoped>\n",
       "    .dataframe tbody tr th:only-of-type {\n",
       "        vertical-align: middle;\n",
       "    }\n",
       "\n",
       "    .dataframe tbody tr th {\n",
       "        vertical-align: top;\n",
       "    }\n",
       "\n",
       "    .dataframe thead th {\n",
       "        text-align: right;\n",
       "    }\n",
       "</style>\n",
       "<table border=\"1\" class=\"dataframe\">\n",
       "  <thead>\n",
       "    <tr style=\"text-align: right;\">\n",
       "      <th>CustomerID</th>\n",
       "      <th>33</th>\n",
       "    </tr>\n",
       "    <tr>\n",
       "      <th>CustomerID</th>\n",
       "      <th></th>\n",
       "    </tr>\n",
       "  </thead>\n",
       "  <tbody>\n",
       "    <tr>\n",
       "      <th>264</th>\n",
       "      <td>10.488088</td>\n",
       "    </tr>\n",
       "    <tr>\n",
       "      <th>3317</th>\n",
       "      <td>10.488088</td>\n",
       "    </tr>\n",
       "    <tr>\n",
       "      <th>3535</th>\n",
       "      <td>10.488088</td>\n",
       "    </tr>\n",
       "    <tr>\n",
       "      <th>2503</th>\n",
       "      <td>10.630146</td>\n",
       "    </tr>\n",
       "    <tr>\n",
       "      <th>3305</th>\n",
       "      <td>10.677078</td>\n",
       "    </tr>\n",
       "  </tbody>\n",
       "</table>\n",
       "</div>"
      ],
      "text/plain": [
       "CustomerID         33\n",
       "CustomerID           \n",
       "264         10.488088\n",
       "3317        10.488088\n",
       "3535        10.488088\n",
       "2503        10.630146\n",
       "3305        10.677078"
      ]
     },
     "execution_count": 68,
     "metadata": {},
     "output_type": "execute_result"
    }
   ],
   "source": [
    "s_matrix.iloc[:,[0]].drop(33).sort_values(by = 33).head(5)"
   ]
  },
  {
   "cell_type": "markdown",
   "metadata": {},
   "source": [
    "## Step 5: From the data frame you created in Step 1, select the records for the list of similar CustomerIDs you obtained in Step 4."
   ]
  },
  {
   "cell_type": "code",
   "execution_count": 40,
   "metadata": {
    "ExecuteTime": {
     "end_time": "2020-07-09T23:33:25.486874Z",
     "start_time": "2020-07-09T23:33:25.478255Z"
    }
   },
   "outputs": [],
   "source": [
    "similar_customers = s_matrix.iloc[:,[0]].drop(33).sort_values(by = 33).head(5).index"
   ]
  },
  {
   "cell_type": "code",
   "execution_count": 69,
   "metadata": {
    "ExecuteTime": {
     "end_time": "2020-07-10T00:08:27.767502Z",
     "start_time": "2020-07-10T00:08:27.720638Z"
    }
   },
   "outputs": [
    {
     "data": {
      "text/html": [
       "<div>\n",
       "<style scoped>\n",
       "    .dataframe tbody tr th:only-of-type {\n",
       "        vertical-align: middle;\n",
       "    }\n",
       "\n",
       "    .dataframe tbody tr th {\n",
       "        vertical-align: top;\n",
       "    }\n",
       "\n",
       "    .dataframe thead th {\n",
       "        text-align: right;\n",
       "    }\n",
       "</style>\n",
       "<table border=\"1\" class=\"dataframe\">\n",
       "  <thead>\n",
       "    <tr style=\"text-align: right;\">\n",
       "      <th></th>\n",
       "      <th>CustomerID</th>\n",
       "      <th>FirstName</th>\n",
       "      <th>LastName</th>\n",
       "      <th>SalesID</th>\n",
       "      <th>ProductID</th>\n",
       "      <th>ProductName</th>\n",
       "      <th>Quantity</th>\n",
       "    </tr>\n",
       "  </thead>\n",
       "  <tbody>\n",
       "    <tr>\n",
       "      <th>230</th>\n",
       "      <td>92255</td>\n",
       "      <td>Brendan</td>\n",
       "      <td>Liu</td>\n",
       "      <td>1037077</td>\n",
       "      <td>270</td>\n",
       "      <td>Cheese Cloth No 100</td>\n",
       "      <td>24</td>\n",
       "    </tr>\n",
       "    <tr>\n",
       "      <th>392</th>\n",
       "      <td>92255</td>\n",
       "      <td>Brendan</td>\n",
       "      <td>Liu</td>\n",
       "      <td>3285561</td>\n",
       "      <td>153</td>\n",
       "      <td>Arizona - Green Tea</td>\n",
       "      <td>24</td>\n",
       "    </tr>\n",
       "    <tr>\n",
       "      <th>2875</th>\n",
       "      <td>92255</td>\n",
       "      <td>Brendan</td>\n",
       "      <td>Liu</td>\n",
       "      <td>4289376</td>\n",
       "      <td>409</td>\n",
       "      <td>Skirt - 29 Foot</td>\n",
       "      <td>24</td>\n",
       "    </tr>\n",
       "    <tr>\n",
       "      <th>3196</th>\n",
       "      <td>92255</td>\n",
       "      <td>Brendan</td>\n",
       "      <td>Liu</td>\n",
       "      <td>4932967</td>\n",
       "      <td>85</td>\n",
       "      <td>Cheese - Parmesan Cubes</td>\n",
       "      <td>24</td>\n",
       "    </tr>\n",
       "    <tr>\n",
       "      <th>4739</th>\n",
       "      <td>92255</td>\n",
       "      <td>Brendan</td>\n",
       "      <td>Liu</td>\n",
       "      <td>507732</td>\n",
       "      <td>252</td>\n",
       "      <td>Nantucket - Pomegranate Pear</td>\n",
       "      <td>24</td>\n",
       "    </tr>\n",
       "    <tr>\n",
       "      <th>...</th>\n",
       "      <td>...</td>\n",
       "      <td>...</td>\n",
       "      <td>...</td>\n",
       "      <td>...</td>\n",
       "      <td>...</td>\n",
       "      <td>...</td>\n",
       "      <td>...</td>\n",
       "    </tr>\n",
       "    <tr>\n",
       "      <th>65041</th>\n",
       "      <td>91777</td>\n",
       "      <td>Ramona</td>\n",
       "      <td>Cabrera</td>\n",
       "      <td>4813508</td>\n",
       "      <td>327</td>\n",
       "      <td>Appetizer - Mini Egg Roll, Shrimp</td>\n",
       "      <td>24</td>\n",
       "    </tr>\n",
       "    <tr>\n",
       "      <th>65356</th>\n",
       "      <td>91777</td>\n",
       "      <td>Ramona</td>\n",
       "      <td>Cabrera</td>\n",
       "      <td>2466278</td>\n",
       "      <td>18</td>\n",
       "      <td>Lamb - Whole, Fresh</td>\n",
       "      <td>24</td>\n",
       "    </tr>\n",
       "    <tr>\n",
       "      <th>65684</th>\n",
       "      <td>91777</td>\n",
       "      <td>Ramona</td>\n",
       "      <td>Cabrera</td>\n",
       "      <td>3127413</td>\n",
       "      <td>169</td>\n",
       "      <td>Water - Aquafina Vitamin</td>\n",
       "      <td>24</td>\n",
       "    </tr>\n",
       "    <tr>\n",
       "      <th>65820</th>\n",
       "      <td>91777</td>\n",
       "      <td>Ramona</td>\n",
       "      <td>Cabrera</td>\n",
       "      <td>4445712</td>\n",
       "      <td>353</td>\n",
       "      <td>Milk Powder</td>\n",
       "      <td>24</td>\n",
       "    </tr>\n",
       "    <tr>\n",
       "      <th>67896</th>\n",
       "      <td>91777</td>\n",
       "      <td>Ramona</td>\n",
       "      <td>Cabrera</td>\n",
       "      <td>2716494</td>\n",
       "      <td>351</td>\n",
       "      <td>Hot Chocolate - Individual</td>\n",
       "      <td>24</td>\n",
       "    </tr>\n",
       "  </tbody>\n",
       "</table>\n",
       "<p>417 rows × 7 columns</p>\n",
       "</div>"
      ],
      "text/plain": [
       "       CustomerID FirstName LastName  SalesID  ProductID  \\\n",
       "230         92255   Brendan      Liu  1037077        270   \n",
       "392         92255   Brendan      Liu  3285561        153   \n",
       "2875        92255   Brendan      Liu  4289376        409   \n",
       "3196        92255   Brendan      Liu  4932967         85   \n",
       "4739        92255   Brendan      Liu   507732        252   \n",
       "...           ...       ...      ...      ...        ...   \n",
       "65041       91777    Ramona  Cabrera  4813508        327   \n",
       "65356       91777    Ramona  Cabrera  2466278         18   \n",
       "65684       91777    Ramona  Cabrera  3127413        169   \n",
       "65820       91777    Ramona  Cabrera  4445712        353   \n",
       "67896       91777    Ramona  Cabrera  2716494        351   \n",
       "\n",
       "                             ProductName  Quantity  \n",
       "230                  Cheese Cloth No 100        24  \n",
       "392                  Arizona - Green Tea        24  \n",
       "2875                     Skirt - 29 Foot        24  \n",
       "3196             Cheese - Parmesan Cubes        24  \n",
       "4739        Nantucket - Pomegranate Pear        24  \n",
       "...                                  ...       ...  \n",
       "65041  Appetizer - Mini Egg Roll, Shrimp        24  \n",
       "65356                Lamb - Whole, Fresh        24  \n",
       "65684           Water - Aquafina Vitamin        24  \n",
       "65820                        Milk Powder        24  \n",
       "67896         Hot Chocolate - Individual        24  \n",
       "\n",
       "[417 rows x 7 columns]"
      ]
     },
     "execution_count": 69,
     "metadata": {},
     "output_type": "execute_result"
    }
   ],
   "source": [
    "records = []\n",
    "for index in similar_customers:\n",
    "    records.append(data.loc[data['CustomerID']==index,:])\n",
    "onefive = pd.concat(records)\n",
    "onefive"
   ]
  },
  {
   "cell_type": "markdown",
   "metadata": {},
   "source": [
    "## Step 6: Aggregate those customer purchase records by ProductName, sum the Quantity field, and then rank them in descending order by quantity.\n",
    "\n",
    "This will give you the total number of each product purchased by the 5 most similar customers to the customer you selected in order from most purchased to least."
   ]
  },
  {
   "cell_type": "code",
   "execution_count": 70,
   "metadata": {
    "ExecuteTime": {
     "end_time": "2020-07-10T00:08:35.087222Z",
     "start_time": "2020-07-10T00:08:35.071601Z"
    }
   },
   "outputs": [],
   "source": [
    "onesix = onefive.groupby(by = 'ProductName', \n",
    "                         as_index = False).Quantity.sum().sort_values(by = 'Quantity', \n",
    "                                                                      ascending = False)"
   ]
  },
  {
   "cell_type": "code",
   "execution_count": 71,
   "metadata": {
    "ExecuteTime": {
     "end_time": "2020-07-10T00:08:39.113222Z",
     "start_time": "2020-07-10T00:08:39.082037Z"
    }
   },
   "outputs": [
    {
     "data": {
      "text/html": [
       "<div>\n",
       "<style scoped>\n",
       "    .dataframe tbody tr th:only-of-type {\n",
       "        vertical-align: middle;\n",
       "    }\n",
       "\n",
       "    .dataframe tbody tr th {\n",
       "        vertical-align: top;\n",
       "    }\n",
       "\n",
       "    .dataframe thead th {\n",
       "        text-align: right;\n",
       "    }\n",
       "</style>\n",
       "<table border=\"1\" class=\"dataframe\">\n",
       "  <thead>\n",
       "    <tr style=\"text-align: right;\">\n",
       "      <th></th>\n",
       "      <th>ProductName</th>\n",
       "      <th>Quantity</th>\n",
       "    </tr>\n",
       "  </thead>\n",
       "  <tbody>\n",
       "    <tr>\n",
       "      <th>21</th>\n",
       "      <td>Beef - Tenderlion, Center Cut</td>\n",
       "      <td>122</td>\n",
       "    </tr>\n",
       "    <tr>\n",
       "      <th>227</th>\n",
       "      <td>Turnip - White, Organic</td>\n",
       "      <td>122</td>\n",
       "    </tr>\n",
       "    <tr>\n",
       "      <th>209</th>\n",
       "      <td>Squid U5 - Thailand</td>\n",
       "      <td>121</td>\n",
       "    </tr>\n",
       "    <tr>\n",
       "      <th>134</th>\n",
       "      <td>Muffin Chocolate Individual Wrap</td>\n",
       "      <td>98</td>\n",
       "    </tr>\n",
       "    <tr>\n",
       "      <th>159</th>\n",
       "      <td>Pastry - Butterscotch Baked</td>\n",
       "      <td>98</td>\n",
       "    </tr>\n",
       "    <tr>\n",
       "      <th>...</th>\n",
       "      <td>...</td>\n",
       "      <td>...</td>\n",
       "    </tr>\n",
       "    <tr>\n",
       "      <th>75</th>\n",
       "      <td>Crackers Cheez It</td>\n",
       "      <td>24</td>\n",
       "    </tr>\n",
       "    <tr>\n",
       "      <th>188</th>\n",
       "      <td>Sauce - Gravy, Au Jus, Mix</td>\n",
       "      <td>24</td>\n",
       "    </tr>\n",
       "    <tr>\n",
       "      <th>187</th>\n",
       "      <td>Sardines</td>\n",
       "      <td>24</td>\n",
       "    </tr>\n",
       "    <tr>\n",
       "      <th>186</th>\n",
       "      <td>Salsify, Organic</td>\n",
       "      <td>24</td>\n",
       "    </tr>\n",
       "    <tr>\n",
       "      <th>48</th>\n",
       "      <td>Cheese - Cambozola</td>\n",
       "      <td>24</td>\n",
       "    </tr>\n",
       "  </tbody>\n",
       "</table>\n",
       "<p>262 rows × 2 columns</p>\n",
       "</div>"
      ],
      "text/plain": [
       "                          ProductName  Quantity\n",
       "21      Beef - Tenderlion, Center Cut       122\n",
       "227           Turnip - White, Organic       122\n",
       "209               Squid U5 - Thailand       121\n",
       "134  Muffin Chocolate Individual Wrap        98\n",
       "159       Pastry - Butterscotch Baked        98\n",
       "..                                ...       ...\n",
       "75                  Crackers Cheez It        24\n",
       "188        Sauce - Gravy, Au Jus, Mix        24\n",
       "187                          Sardines        24\n",
       "186                  Salsify, Organic        24\n",
       "48                 Cheese - Cambozola        24\n",
       "\n",
       "[262 rows x 2 columns]"
      ]
     },
     "execution_count": 71,
     "metadata": {},
     "output_type": "execute_result"
    }
   ],
   "source": [
    "onesix"
   ]
  },
  {
   "cell_type": "markdown",
   "metadata": {},
   "source": [
    "## Step 7: Filter the list for products that the chosen customer has not yet purchased and then recommend the top 5 products with the highest quantities that are left.\n",
    "\n",
    "- Merge the ranked products data frame with the customer product matrix on the ProductName field.\n",
    "- Filter for records where the chosen customer has not purchased the product.\n",
    "- Show the top 5 results."
   ]
  },
  {
   "cell_type": "code",
   "execution_count": 72,
   "metadata": {
    "ExecuteTime": {
     "end_time": "2020-07-10T00:08:44.980071Z",
     "start_time": "2020-07-10T00:08:44.942241Z"
    }
   },
   "outputs": [
    {
     "name": "stderr",
     "output_type": "stream",
     "text": [
      "C:\\Users\\55119\\AppData\\Roaming\\Python\\Python37\\site-packages\\pandas\\core\\reshape\\merge.py:618: UserWarning: merging between different levels can give an unintended result (1 levels on the left, 2 on the right)\n",
      "  warnings.warn(msg, UserWarning)\n"
     ]
    }
   ],
   "source": [
    "oneseven = pd.merge(onesix, pt[[('Quantity',    33)]], how = 'left', on = 'ProductName')"
   ]
  },
  {
   "cell_type": "code",
   "execution_count": 73,
   "metadata": {
    "ExecuteTime": {
     "end_time": "2020-07-10T00:08:46.959270Z",
     "start_time": "2020-07-10T00:08:46.928085Z"
    }
   },
   "outputs": [],
   "source": [
    "oneseven = oneseven.rename(columns = {('Quantity',    33):33})"
   ]
  },
  {
   "cell_type": "code",
   "execution_count": 74,
   "metadata": {
    "ExecuteTime": {
     "end_time": "2020-07-10T00:08:49.340014Z",
     "start_time": "2020-07-10T00:08:49.308866Z"
    }
   },
   "outputs": [
    {
     "data": {
      "text/html": [
       "<div>\n",
       "<style scoped>\n",
       "    .dataframe tbody tr th:only-of-type {\n",
       "        vertical-align: middle;\n",
       "    }\n",
       "\n",
       "    .dataframe tbody tr th {\n",
       "        vertical-align: top;\n",
       "    }\n",
       "\n",
       "    .dataframe thead th {\n",
       "        text-align: right;\n",
       "    }\n",
       "</style>\n",
       "<table border=\"1\" class=\"dataframe\">\n",
       "  <thead>\n",
       "    <tr style=\"text-align: right;\">\n",
       "      <th></th>\n",
       "      <th>ProductName</th>\n",
       "      <th>Quantity</th>\n",
       "      <th>33</th>\n",
       "    </tr>\n",
       "  </thead>\n",
       "  <tbody>\n",
       "    <tr>\n",
       "      <th>0</th>\n",
       "      <td>Beef - Tenderlion, Center Cut</td>\n",
       "      <td>122</td>\n",
       "      <td>0</td>\n",
       "    </tr>\n",
       "    <tr>\n",
       "      <th>1</th>\n",
       "      <td>Turnip - White, Organic</td>\n",
       "      <td>122</td>\n",
       "      <td>0</td>\n",
       "    </tr>\n",
       "    <tr>\n",
       "      <th>2</th>\n",
       "      <td>Squid U5 - Thailand</td>\n",
       "      <td>121</td>\n",
       "      <td>0</td>\n",
       "    </tr>\n",
       "    <tr>\n",
       "      <th>3</th>\n",
       "      <td>Muffin Chocolate Individual Wrap</td>\n",
       "      <td>98</td>\n",
       "      <td>0</td>\n",
       "    </tr>\n",
       "    <tr>\n",
       "      <th>4</th>\n",
       "      <td>Pastry - Butterscotch Baked</td>\n",
       "      <td>98</td>\n",
       "      <td>0</td>\n",
       "    </tr>\n",
       "  </tbody>\n",
       "</table>\n",
       "</div>"
      ],
      "text/plain": [
       "                        ProductName  Quantity  33\n",
       "0     Beef - Tenderlion, Center Cut       122   0\n",
       "1           Turnip - White, Organic       122   0\n",
       "2               Squid U5 - Thailand       121   0\n",
       "3  Muffin Chocolate Individual Wrap        98   0\n",
       "4       Pastry - Butterscotch Baked        98   0"
      ]
     },
     "execution_count": 74,
     "metadata": {},
     "output_type": "execute_result"
    }
   ],
   "source": [
    "oneseven.head(5)"
   ]
  },
  {
   "cell_type": "markdown",
   "metadata": {},
   "source": [
    "## Step 8: Now that we have generated product recommendations for a single user, put the pieces together and iterate over a list of all CustomerIDs.\n",
    "\n",
    "- Create an empty dictionary that will hold the recommendations for all customers.\n",
    "- Create a list of unique CustomerIDs to iterate over.\n",
    "- Iterate over the customer list performing steps 4 through 7 for each and appending the results of each iteration to the dictionary you created."
   ]
  },
  {
   "cell_type": "code",
   "execution_count": 87,
   "metadata": {
    "ExecuteTime": {
     "end_time": "2020-07-10T00:20:12.764696Z",
     "start_time": "2020-07-10T00:20:12.733586Z"
    }
   },
   "outputs": [],
   "source": [
    "def recommendations(df):\n",
    "    pt = df.pivot_table(index='ProductName',columns='CustomerID',values='Quantity',fill_value = 0)\n",
    "    similarities = pd.DataFrame(1/(1 + squareform(pdist(pt.T, metric = 'cosine'))), \n",
    "                         index=pt.columns, columns=pt.columns)\n",
    "    rec = {}\n",
    "    customers = df['CustomerID'].unique()\n",
    "    for customer in customers:\n",
    "        onefour = similarities[[customer]].drop(customer).sort_values(by=customer,ascending=False).head()\n",
    "        records = []\n",
    "        for index in onefour.index:\n",
    "            records.append(df.loc[df['CustomerID']==index,:])\n",
    "        onefive = pd.concat(records)\n",
    "        onesix = onefive.groupby('ProductName')[['Quantity']].sum().sort_values(by='Quantity',ascending = False)\n",
    "        oneseven = pd.merge(left = pt, right=onesix, how='left', left_on ='ProductName', right_on ='ProductName')\n",
    "        o=oneseven.loc[oneseven[customer]==0,:][['Quantity']].sort_values(by = 'Quantity', ascending = False).head()\n",
    "        r = {}\n",
    "        for index in o.index:\n",
    "            r[index] = o.at[index,'Quantity']\n",
    "        rec[customer] = r\n",
    "    return rec"
   ]
  },
  {
   "cell_type": "code",
   "execution_count": 81,
   "metadata": {
    "ExecuteTime": {
     "end_time": "2020-07-10T00:17:45.170161Z",
     "start_time": "2020-07-10T00:17:28.470794Z"
    }
   },
   "outputs": [],
   "source": [
    "euc = recommendations(data)"
   ]
  },
  {
   "cell_type": "markdown",
   "metadata": {},
   "source": [
    "##  Step 9: Store the results in a Pandas data frame. The data frame should a column for Customer ID and then a column for each of the 5 product recommendations for each customer."
   ]
  },
  {
   "cell_type": "code",
   "execution_count": 77,
   "metadata": {
    "ExecuteTime": {
     "end_time": "2020-07-10T00:14:29.320257Z",
     "start_time": "2020-07-10T00:14:11.688764Z"
    },
    "collapsed": true
   },
   "outputs": [
    {
     "data": {
      "text/html": [
       "<div>\n",
       "<style scoped>\n",
       "    .dataframe tbody tr th:only-of-type {\n",
       "        vertical-align: middle;\n",
       "    }\n",
       "\n",
       "    .dataframe tbody tr th {\n",
       "        vertical-align: top;\n",
       "    }\n",
       "\n",
       "    .dataframe thead th {\n",
       "        text-align: right;\n",
       "    }\n",
       "</style>\n",
       "<table border=\"1\" class=\"dataframe\">\n",
       "  <thead>\n",
       "    <tr style=\"text-align: right;\">\n",
       "      <th></th>\n",
       "      <th>61288</th>\n",
       "      <th>77352</th>\n",
       "      <th>40094</th>\n",
       "      <th>23548</th>\n",
       "      <th>78981</th>\n",
       "      <th>83106</th>\n",
       "      <th>11253</th>\n",
       "      <th>35107</th>\n",
       "      <th>15088</th>\n",
       "      <th>26031</th>\n",
       "      <th>...</th>\n",
       "      <th>25270</th>\n",
       "      <th>17390</th>\n",
       "      <th>97029</th>\n",
       "      <th>38154</th>\n",
       "      <th>74403</th>\n",
       "      <th>49005</th>\n",
       "      <th>41286</th>\n",
       "      <th>85878</th>\n",
       "      <th>68506</th>\n",
       "      <th>3472</th>\n",
       "    </tr>\n",
       "  </thead>\n",
       "  <tbody>\n",
       "    <tr>\n",
       "      <th>Mushrooms - Black, Dried</th>\n",
       "      <td>15.0</td>\n",
       "      <td>NaN</td>\n",
       "      <td>NaN</td>\n",
       "      <td>NaN</td>\n",
       "      <td>NaN</td>\n",
       "      <td>NaN</td>\n",
       "      <td>NaN</td>\n",
       "      <td>NaN</td>\n",
       "      <td>NaN</td>\n",
       "      <td>NaN</td>\n",
       "      <td>...</td>\n",
       "      <td>NaN</td>\n",
       "      <td>NaN</td>\n",
       "      <td>NaN</td>\n",
       "      <td>NaN</td>\n",
       "      <td>NaN</td>\n",
       "      <td>NaN</td>\n",
       "      <td>NaN</td>\n",
       "      <td>17.0</td>\n",
       "      <td>NaN</td>\n",
       "      <td>NaN</td>\n",
       "    </tr>\n",
       "    <tr>\n",
       "      <th>Wine - Magnotta, Merlot Sr Vqa</th>\n",
       "      <td>14.0</td>\n",
       "      <td>NaN</td>\n",
       "      <td>NaN</td>\n",
       "      <td>NaN</td>\n",
       "      <td>NaN</td>\n",
       "      <td>NaN</td>\n",
       "      <td>NaN</td>\n",
       "      <td>NaN</td>\n",
       "      <td>NaN</td>\n",
       "      <td>NaN</td>\n",
       "      <td>...</td>\n",
       "      <td>NaN</td>\n",
       "      <td>NaN</td>\n",
       "      <td>NaN</td>\n",
       "      <td>NaN</td>\n",
       "      <td>NaN</td>\n",
       "      <td>NaN</td>\n",
       "      <td>NaN</td>\n",
       "      <td>NaN</td>\n",
       "      <td>NaN</td>\n",
       "      <td>NaN</td>\n",
       "    </tr>\n",
       "    <tr>\n",
       "      <th>Chicken - Soup Base</th>\n",
       "      <td>12.0</td>\n",
       "      <td>NaN</td>\n",
       "      <td>NaN</td>\n",
       "      <td>NaN</td>\n",
       "      <td>NaN</td>\n",
       "      <td>NaN</td>\n",
       "      <td>NaN</td>\n",
       "      <td>NaN</td>\n",
       "      <td>NaN</td>\n",
       "      <td>NaN</td>\n",
       "      <td>...</td>\n",
       "      <td>NaN</td>\n",
       "      <td>NaN</td>\n",
       "      <td>NaN</td>\n",
       "      <td>NaN</td>\n",
       "      <td>NaN</td>\n",
       "      <td>NaN</td>\n",
       "      <td>NaN</td>\n",
       "      <td>NaN</td>\n",
       "      <td>NaN</td>\n",
       "      <td>NaN</td>\n",
       "    </tr>\n",
       "    <tr>\n",
       "      <th>Wine - Chardonnay South</th>\n",
       "      <td>12.0</td>\n",
       "      <td>NaN</td>\n",
       "      <td>NaN</td>\n",
       "      <td>NaN</td>\n",
       "      <td>NaN</td>\n",
       "      <td>NaN</td>\n",
       "      <td>NaN</td>\n",
       "      <td>NaN</td>\n",
       "      <td>NaN</td>\n",
       "      <td>NaN</td>\n",
       "      <td>...</td>\n",
       "      <td>NaN</td>\n",
       "      <td>NaN</td>\n",
       "      <td>NaN</td>\n",
       "      <td>NaN</td>\n",
       "      <td>NaN</td>\n",
       "      <td>NaN</td>\n",
       "      <td>NaN</td>\n",
       "      <td>NaN</td>\n",
       "      <td>NaN</td>\n",
       "      <td>NaN</td>\n",
       "    </tr>\n",
       "    <tr>\n",
       "      <th>Milk - 1%</th>\n",
       "      <td>11.0</td>\n",
       "      <td>NaN</td>\n",
       "      <td>NaN</td>\n",
       "      <td>NaN</td>\n",
       "      <td>NaN</td>\n",
       "      <td>NaN</td>\n",
       "      <td>NaN</td>\n",
       "      <td>NaN</td>\n",
       "      <td>NaN</td>\n",
       "      <td>NaN</td>\n",
       "      <td>...</td>\n",
       "      <td>NaN</td>\n",
       "      <td>NaN</td>\n",
       "      <td>NaN</td>\n",
       "      <td>NaN</td>\n",
       "      <td>NaN</td>\n",
       "      <td>NaN</td>\n",
       "      <td>NaN</td>\n",
       "      <td>NaN</td>\n",
       "      <td>NaN</td>\n",
       "      <td>NaN</td>\n",
       "    </tr>\n",
       "    <tr>\n",
       "      <th>...</th>\n",
       "      <td>...</td>\n",
       "      <td>...</td>\n",
       "      <td>...</td>\n",
       "      <td>...</td>\n",
       "      <td>...</td>\n",
       "      <td>...</td>\n",
       "      <td>...</td>\n",
       "      <td>...</td>\n",
       "      <td>...</td>\n",
       "      <td>...</td>\n",
       "      <td>...</td>\n",
       "      <td>...</td>\n",
       "      <td>...</td>\n",
       "      <td>...</td>\n",
       "      <td>...</td>\n",
       "      <td>...</td>\n",
       "      <td>...</td>\n",
       "      <td>...</td>\n",
       "      <td>...</td>\n",
       "      <td>...</td>\n",
       "      <td>...</td>\n",
       "    </tr>\n",
       "    <tr>\n",
       "      <th>Garbag Bags - Black</th>\n",
       "      <td>NaN</td>\n",
       "      <td>NaN</td>\n",
       "      <td>NaN</td>\n",
       "      <td>NaN</td>\n",
       "      <td>NaN</td>\n",
       "      <td>NaN</td>\n",
       "      <td>NaN</td>\n",
       "      <td>NaN</td>\n",
       "      <td>NaN</td>\n",
       "      <td>NaN</td>\n",
       "      <td>...</td>\n",
       "      <td>NaN</td>\n",
       "      <td>NaN</td>\n",
       "      <td>NaN</td>\n",
       "      <td>NaN</td>\n",
       "      <td>NaN</td>\n",
       "      <td>NaN</td>\n",
       "      <td>NaN</td>\n",
       "      <td>NaN</td>\n",
       "      <td>NaN</td>\n",
       "      <td>NaN</td>\n",
       "    </tr>\n",
       "    <tr>\n",
       "      <th>Cheese - Cambozola</th>\n",
       "      <td>NaN</td>\n",
       "      <td>NaN</td>\n",
       "      <td>NaN</td>\n",
       "      <td>NaN</td>\n",
       "      <td>NaN</td>\n",
       "      <td>NaN</td>\n",
       "      <td>NaN</td>\n",
       "      <td>NaN</td>\n",
       "      <td>NaN</td>\n",
       "      <td>NaN</td>\n",
       "      <td>...</td>\n",
       "      <td>NaN</td>\n",
       "      <td>NaN</td>\n",
       "      <td>NaN</td>\n",
       "      <td>NaN</td>\n",
       "      <td>NaN</td>\n",
       "      <td>NaN</td>\n",
       "      <td>NaN</td>\n",
       "      <td>NaN</td>\n",
       "      <td>NaN</td>\n",
       "      <td>NaN</td>\n",
       "    </tr>\n",
       "    <tr>\n",
       "      <th>Truffle Cups - Brown</th>\n",
       "      <td>NaN</td>\n",
       "      <td>NaN</td>\n",
       "      <td>NaN</td>\n",
       "      <td>NaN</td>\n",
       "      <td>NaN</td>\n",
       "      <td>NaN</td>\n",
       "      <td>NaN</td>\n",
       "      <td>NaN</td>\n",
       "      <td>NaN</td>\n",
       "      <td>NaN</td>\n",
       "      <td>...</td>\n",
       "      <td>NaN</td>\n",
       "      <td>NaN</td>\n",
       "      <td>NaN</td>\n",
       "      <td>NaN</td>\n",
       "      <td>NaN</td>\n",
       "      <td>NaN</td>\n",
       "      <td>NaN</td>\n",
       "      <td>NaN</td>\n",
       "      <td>NaN</td>\n",
       "      <td>NaN</td>\n",
       "    </tr>\n",
       "    <tr>\n",
       "      <th>Oil - Safflower</th>\n",
       "      <td>NaN</td>\n",
       "      <td>NaN</td>\n",
       "      <td>NaN</td>\n",
       "      <td>NaN</td>\n",
       "      <td>NaN</td>\n",
       "      <td>NaN</td>\n",
       "      <td>NaN</td>\n",
       "      <td>NaN</td>\n",
       "      <td>NaN</td>\n",
       "      <td>NaN</td>\n",
       "      <td>...</td>\n",
       "      <td>NaN</td>\n",
       "      <td>NaN</td>\n",
       "      <td>NaN</td>\n",
       "      <td>NaN</td>\n",
       "      <td>NaN</td>\n",
       "      <td>NaN</td>\n",
       "      <td>NaN</td>\n",
       "      <td>NaN</td>\n",
       "      <td>NaN</td>\n",
       "      <td>NaN</td>\n",
       "    </tr>\n",
       "    <tr>\n",
       "      <th>Remy Red</th>\n",
       "      <td>NaN</td>\n",
       "      <td>NaN</td>\n",
       "      <td>NaN</td>\n",
       "      <td>NaN</td>\n",
       "      <td>NaN</td>\n",
       "      <td>NaN</td>\n",
       "      <td>NaN</td>\n",
       "      <td>NaN</td>\n",
       "      <td>NaN</td>\n",
       "      <td>NaN</td>\n",
       "      <td>...</td>\n",
       "      <td>NaN</td>\n",
       "      <td>NaN</td>\n",
       "      <td>NaN</td>\n",
       "      <td>NaN</td>\n",
       "      <td>NaN</td>\n",
       "      <td>NaN</td>\n",
       "      <td>NaN</td>\n",
       "      <td>NaN</td>\n",
       "      <td>NaN</td>\n",
       "      <td>NaN</td>\n",
       "    </tr>\n",
       "  </tbody>\n",
       "</table>\n",
       "<p>452 rows × 1000 columns</p>\n",
       "</div>"
      ],
      "text/plain": [
       "                                61288  77352  40094  23548  78981  83106  \\\n",
       "Mushrooms - Black, Dried         15.0    NaN    NaN    NaN    NaN    NaN   \n",
       "Wine - Magnotta, Merlot Sr Vqa   14.0    NaN    NaN    NaN    NaN    NaN   \n",
       "Chicken - Soup Base              12.0    NaN    NaN    NaN    NaN    NaN   \n",
       "Wine - Chardonnay South          12.0    NaN    NaN    NaN    NaN    NaN   \n",
       "Milk - 1%                        11.0    NaN    NaN    NaN    NaN    NaN   \n",
       "...                               ...    ...    ...    ...    ...    ...   \n",
       "Garbag Bags - Black               NaN    NaN    NaN    NaN    NaN    NaN   \n",
       "Cheese - Cambozola                NaN    NaN    NaN    NaN    NaN    NaN   \n",
       "Truffle Cups - Brown              NaN    NaN    NaN    NaN    NaN    NaN   \n",
       "Oil - Safflower                   NaN    NaN    NaN    NaN    NaN    NaN   \n",
       "Remy Red                          NaN    NaN    NaN    NaN    NaN    NaN   \n",
       "\n",
       "                                11253  35107  15088  26031  ...  25270  17390  \\\n",
       "Mushrooms - Black, Dried          NaN    NaN    NaN    NaN  ...    NaN    NaN   \n",
       "Wine - Magnotta, Merlot Sr Vqa    NaN    NaN    NaN    NaN  ...    NaN    NaN   \n",
       "Chicken - Soup Base               NaN    NaN    NaN    NaN  ...    NaN    NaN   \n",
       "Wine - Chardonnay South           NaN    NaN    NaN    NaN  ...    NaN    NaN   \n",
       "Milk - 1%                         NaN    NaN    NaN    NaN  ...    NaN    NaN   \n",
       "...                               ...    ...    ...    ...  ...    ...    ...   \n",
       "Garbag Bags - Black               NaN    NaN    NaN    NaN  ...    NaN    NaN   \n",
       "Cheese - Cambozola                NaN    NaN    NaN    NaN  ...    NaN    NaN   \n",
       "Truffle Cups - Brown              NaN    NaN    NaN    NaN  ...    NaN    NaN   \n",
       "Oil - Safflower                   NaN    NaN    NaN    NaN  ...    NaN    NaN   \n",
       "Remy Red                          NaN    NaN    NaN    NaN  ...    NaN    NaN   \n",
       "\n",
       "                                97029  38154  74403  49005  41286  85878  \\\n",
       "Mushrooms - Black, Dried          NaN    NaN    NaN    NaN    NaN   17.0   \n",
       "Wine - Magnotta, Merlot Sr Vqa    NaN    NaN    NaN    NaN    NaN    NaN   \n",
       "Chicken - Soup Base               NaN    NaN    NaN    NaN    NaN    NaN   \n",
       "Wine - Chardonnay South           NaN    NaN    NaN    NaN    NaN    NaN   \n",
       "Milk - 1%                         NaN    NaN    NaN    NaN    NaN    NaN   \n",
       "...                               ...    ...    ...    ...    ...    ...   \n",
       "Garbag Bags - Black               NaN    NaN    NaN    NaN    NaN    NaN   \n",
       "Cheese - Cambozola                NaN    NaN    NaN    NaN    NaN    NaN   \n",
       "Truffle Cups - Brown              NaN    NaN    NaN    NaN    NaN    NaN   \n",
       "Oil - Safflower                   NaN    NaN    NaN    NaN    NaN    NaN   \n",
       "Remy Red                          NaN    NaN    NaN    NaN    NaN    NaN   \n",
       "\n",
       "                                68506  3472   \n",
       "Mushrooms - Black, Dried          NaN    NaN  \n",
       "Wine - Magnotta, Merlot Sr Vqa    NaN    NaN  \n",
       "Chicken - Soup Base               NaN    NaN  \n",
       "Wine - Chardonnay South           NaN    NaN  \n",
       "Milk - 1%                         NaN    NaN  \n",
       "...                               ...    ...  \n",
       "Garbag Bags - Black               NaN    NaN  \n",
       "Cheese - Cambozola                NaN    NaN  \n",
       "Truffle Cups - Brown              NaN    NaN  \n",
       "Oil - Safflower                   NaN    NaN  \n",
       "Remy Red                          NaN    NaN  \n",
       "\n",
       "[452 rows x 1000 columns]"
      ]
     },
     "execution_count": 77,
     "metadata": {},
     "output_type": "execute_result"
    }
   ],
   "source": [
    "pd.DataFrame(recommendations(data))"
   ]
  },
  {
   "cell_type": "markdown",
   "metadata": {},
   "source": [
    "## Step 10: Change the distance metric used in Step 3 to something other than euclidean (correlation, cityblock, consine, jaccard, etc.). Regenerate the recommendations for all customers and note the differences."
   ]
  },
  {
   "cell_type": "code",
   "execution_count": 80,
   "metadata": {
    "ExecuteTime": {
     "end_time": "2020-07-10T00:17:28.389566Z",
     "start_time": "2020-07-10T00:17:11.100722Z"
    }
   },
   "outputs": [],
   "source": [
    "cityblock = recommendations(data)"
   ]
  },
  {
   "cell_type": "code",
   "execution_count": 82,
   "metadata": {
    "ExecuteTime": {
     "end_time": "2020-07-10T00:17:54.298101Z",
     "start_time": "2020-07-10T00:17:54.267000Z"
    }
   },
   "outputs": [
    {
     "data": {
      "text/plain": [
       "{'Oranges - Navel, 72': 3.0,\n",
       " 'Chocolate - Dark': 3.0,\n",
       " 'Pecan Raisin - Tarts': 3.0,\n",
       " 'Bay Leaf': 3.0,\n",
       " 'Wine - Charddonnay Errazuriz': 3.0}"
      ]
     },
     "execution_count": 82,
     "metadata": {},
     "output_type": "execute_result"
    }
   ],
   "source": [
    "cityblock[33]"
   ]
  },
  {
   "cell_type": "code",
   "execution_count": 83,
   "metadata": {
    "ExecuteTime": {
     "end_time": "2020-07-10T00:17:59.376480Z",
     "start_time": "2020-07-10T00:17:59.360814Z"
    }
   },
   "outputs": [
    {
     "data": {
      "text/plain": [
       "{'Oranges - Navel, 72': 3.0,\n",
       " 'Chocolate - Dark': 3.0,\n",
       " 'Pecan Raisin - Tarts': 3.0,\n",
       " 'Bay Leaf': 3.0,\n",
       " 'Wine - Charddonnay Errazuriz': 3.0}"
      ]
     },
     "execution_count": 83,
     "metadata": {},
     "output_type": "execute_result"
    }
   ],
   "source": [
    "euc[33]"
   ]
  },
  {
   "cell_type": "code",
   "execution_count": 85,
   "metadata": {
    "ExecuteTime": {
     "end_time": "2020-07-10T00:18:32.578226Z",
     "start_time": "2020-07-10T00:18:32.562570Z"
    }
   },
   "outputs": [
    {
     "data": {
      "text/plain": [
       "{'Cheese - Boursin, Garlic / Herbs': 4.0,\n",
       " 'Pork - Kidney': 4.0,\n",
       " 'Bay Leaf': 3.0,\n",
       " 'Wine - Ej Gallo Sierra Valley': 3.0,\n",
       " 'Oranges - Navel, 72': 3.0}"
      ]
     },
     "execution_count": 85,
     "metadata": {},
     "output_type": "execute_result"
    }
   ],
   "source": [
    "cityblock[61288]"
   ]
  },
  {
   "cell_type": "code",
   "execution_count": 86,
   "metadata": {
    "ExecuteTime": {
     "end_time": "2020-07-10T00:18:42.092196Z",
     "start_time": "2020-07-10T00:18:42.061123Z"
    }
   },
   "outputs": [
    {
     "data": {
      "text/plain": [
       "{'Cheese - Boursin, Garlic / Herbs': 4.0,\n",
       " 'Pork - Kidney': 4.0,\n",
       " 'Bay Leaf': 3.0,\n",
       " 'Wine - Ej Gallo Sierra Valley': 3.0,\n",
       " 'Oranges - Navel, 72': 3.0}"
      ]
     },
     "execution_count": 86,
     "metadata": {},
     "output_type": "execute_result"
    }
   ],
   "source": [
    "euc[61288]"
   ]
  },
  {
   "cell_type": "code",
   "execution_count": null,
   "metadata": {},
   "outputs": [],
   "source": [
    "# For cityblock and euclidean metrics the distances are very similar"
   ]
  },
  {
   "cell_type": "code",
   "execution_count": 89,
   "metadata": {
    "ExecuteTime": {
     "end_time": "2020-07-10T00:20:43.401988Z",
     "start_time": "2020-07-10T00:20:26.326945Z"
    }
   },
   "outputs": [],
   "source": [
    "cosine = recommendations(data)"
   ]
  },
  {
   "cell_type": "code",
   "execution_count": 90,
   "metadata": {
    "ExecuteTime": {
     "end_time": "2020-07-10T00:20:57.881842Z",
     "start_time": "2020-07-10T00:20:57.866388Z"
    }
   },
   "outputs": [
    {
     "data": {
      "text/plain": [
       "{'Mangoes': 62.0,\n",
       " 'Lettuce - Frisee': 58.0,\n",
       " 'Zucchini - Yellow': 55.0,\n",
       " 'Apricots Fresh': 55.0,\n",
       " 'Juice - Apple Cider': 52.0}"
      ]
     },
     "execution_count": 90,
     "metadata": {},
     "output_type": "execute_result"
    }
   ],
   "source": [
    "cosine[77352]"
   ]
  },
  {
   "cell_type": "code",
   "execution_count": 91,
   "metadata": {
    "ExecuteTime": {
     "end_time": "2020-07-10T00:21:04.118500Z",
     "start_time": "2020-07-10T00:21:04.102875Z"
    }
   },
   "outputs": [
    {
     "data": {
      "text/plain": [
       "{'Juice - Lime': 3.0,\n",
       " 'Bread Crumbs - Panko': 3.0,\n",
       " 'Soup - Campbells Tomato Ravioli': 3.0,\n",
       " 'Veal - Sweetbread': 3.0,\n",
       " 'Sausage - Liver': 3.0}"
      ]
     },
     "execution_count": 91,
     "metadata": {},
     "output_type": "execute_result"
    }
   ],
   "source": [
    "euc[77352]"
   ]
  },
  {
   "cell_type": "code",
   "execution_count": 92,
   "metadata": {
    "ExecuteTime": {
     "end_time": "2020-07-10T00:22:39.055995Z",
     "start_time": "2020-07-10T00:22:39.024917Z"
    }
   },
   "outputs": [
    {
     "data": {
      "text/plain": [
       "{'Juice - Lime': 3.0,\n",
       " 'Bread Crumbs - Panko': 3.0,\n",
       " 'Soup - Campbells Tomato Ravioli': 3.0,\n",
       " 'Veal - Sweetbread': 3.0,\n",
       " 'Sausage - Liver': 3.0}"
      ]
     },
     "execution_count": 92,
     "metadata": {},
     "output_type": "execute_result"
    }
   ],
   "source": [
    "cityblock[77352]"
   ]
  },
  {
   "cell_type": "code",
   "execution_count": null,
   "metadata": {},
   "outputs": [],
   "source": [
    "#Comparing the recommendations generated by the cosine distance we can observe that the way it is calculated is\n",
    "#totally different the euclidean or the cityblock."
   ]
  }
 ],
 "metadata": {
  "kernelspec": {
   "display_name": "Python 3",
   "language": "python",
   "name": "python3"
  },
  "language_info": {
   "codemirror_mode": {
    "name": "ipython",
    "version": 3
   },
   "file_extension": ".py",
   "mimetype": "text/x-python",
   "name": "python",
   "nbconvert_exporter": "python",
   "pygments_lexer": "ipython3",
   "version": "3.7.4"
  },
  "toc": {
   "base_numbering": 1,
   "nav_menu": {},
   "number_sections": true,
   "sideBar": true,
   "skip_h1_title": false,
   "title_cell": "Table of Contents",
   "title_sidebar": "Contents",
   "toc_cell": false,
   "toc_position": {},
   "toc_section_display": true,
   "toc_window_display": false
  },
  "varInspector": {
   "cols": {
    "lenName": 16,
    "lenType": 16,
    "lenVar": 40
   },
   "kernels_config": {
    "python": {
     "delete_cmd_postfix": "",
     "delete_cmd_prefix": "del ",
     "library": "var_list.py",
     "varRefreshCmd": "print(var_dic_list())"
    },
    "r": {
     "delete_cmd_postfix": ") ",
     "delete_cmd_prefix": "rm(",
     "library": "var_list.r",
     "varRefreshCmd": "cat(var_dic_list()) "
    }
   },
   "types_to_exclude": [
    "module",
    "function",
    "builtin_function_or_method",
    "instance",
    "_Feature"
   ],
   "window_display": false
  }
 },
 "nbformat": 4,
 "nbformat_minor": 2
}
