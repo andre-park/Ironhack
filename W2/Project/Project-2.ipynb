{
 "cells": [
  {
   "cell_type": "markdown",
   "metadata": {},
   "source": [
    "# Shark Attacks - Project 2"
   ]
  },
  {
   "cell_type": "markdown",
   "metadata": {},
   "source": [
    "## About:\n",
    "    Our goal for the analysis of the dataset was focused on identifying the statistics related to the reported attack's country, year/decade, sex of the victim and if the incident was fatal.\n",
    "    \n",
    "    Due to the lack of some information, we had to create some assumptions during our analysis, which are documented on the step we encountered the aforementioned absence of information."
   ]
  },
  {
   "cell_type": "markdown",
   "metadata": {},
   "source": [
    "## The team:\n",
    "    André Park - https://github.com/andre-park\n",
    "    Felipe Oda - https://github.com/fk-oda"
   ]
  },
  {
   "cell_type": "markdown",
   "metadata": {},
   "source": [
    "Importing the libraries for the development of the project."
   ]
  },
  {
   "cell_type": "code",
   "execution_count": 326,
   "metadata": {
    "ExecuteTime": {
     "end_time": "2020-06-17T11:37:55.863338Z",
     "start_time": "2020-06-17T11:37:55.853277Z"
    }
   },
   "outputs": [],
   "source": [
    "import pandas as pd\n",
    "import numpy as np\n",
    "import re"
   ]
  },
  {
   "cell_type": "markdown",
   "metadata": {
    "ExecuteTime": {
     "end_time": "2020-06-14T19:28:53.521619Z",
     "start_time": "2020-06-14T19:28:53.514182Z"
    }
   },
   "source": [
    "Reading the database attacks.csv from kaggle with latin_1 encoding, this is a global file so it should have special characters."
   ]
  },
  {
   "cell_type": "code",
   "execution_count": 327,
   "metadata": {
    "ExecuteTime": {
     "end_time": "2020-06-17T11:37:56.059542Z",
     "start_time": "2020-06-17T11:37:55.867904Z"
    }
   },
   "outputs": [],
   "source": [
    "attacks = pd.read_csv('attacks.csv', encoding = 'latin_1')"
   ]
  },
  {
   "cell_type": "code",
   "execution_count": 328,
   "metadata": {
    "ExecuteTime": {
     "end_time": "2020-06-17T11:37:56.123804Z",
     "start_time": "2020-06-17T11:37:56.060538Z"
    }
   },
   "outputs": [
    {
     "name": "stdout",
     "output_type": "stream",
     "text": [
      "<class 'pandas.core.frame.DataFrame'>\n",
      "RangeIndex: 25723 entries, 0 to 25722\n",
      "Data columns (total 24 columns):\n",
      " #   Column                  Non-Null Count  Dtype  \n",
      "---  ------                  --------------  -----  \n",
      " 0   Case Number             8702 non-null   object \n",
      " 1   Date                    6302 non-null   object \n",
      " 2   Year                    6300 non-null   float64\n",
      " 3   Type                    6298 non-null   object \n",
      " 4   Country                 6252 non-null   object \n",
      " 5   Area                    5847 non-null   object \n",
      " 6   Location                5762 non-null   object \n",
      " 7   Activity                5758 non-null   object \n",
      " 8   Name                    6092 non-null   object \n",
      " 9   Sex                     5737 non-null   object \n",
      " 10  Age                     3471 non-null   object \n",
      " 11  Injury                  6274 non-null   object \n",
      " 12  Fatal (Y/N)             5763 non-null   object \n",
      " 13  Time                    2948 non-null   object \n",
      " 14  Species                 3464 non-null   object \n",
      " 15  Investigator or Source  6285 non-null   object \n",
      " 16  pdf                     6302 non-null   object \n",
      " 17  href formula            6301 non-null   object \n",
      " 18  href                    6302 non-null   object \n",
      " 19  Case Number.1           6302 non-null   object \n",
      " 20  Case Number.2           6302 non-null   object \n",
      " 21  original order          6309 non-null   float64\n",
      " 22  Unnamed: 22             1 non-null      object \n",
      " 23  Unnamed: 23             2 non-null      object \n",
      "dtypes: float64(2), object(22)\n",
      "memory usage: 4.7+ MB\n"
     ]
    }
   ],
   "source": [
    "attacks.info()"
   ]
  },
  {
   "cell_type": "code",
   "execution_count": 329,
   "metadata": {
    "ExecuteTime": {
     "end_time": "2020-06-17T11:37:56.139607Z",
     "start_time": "2020-06-17T11:37:56.127342Z"
    }
   },
   "outputs": [
    {
     "data": {
      "text/plain": [
       "(25723, 24)"
      ]
     },
     "execution_count": 329,
     "metadata": {},
     "output_type": "execute_result"
    }
   ],
   "source": [
    "attacks.shape"
   ]
  },
  {
   "cell_type": "markdown",
   "metadata": {},
   "source": [
    "## Data cleaning"
   ]
  },
  {
   "cell_type": "markdown",
   "metadata": {},
   "source": [
    "### Standardizing the column names."
   ]
  },
  {
   "cell_type": "code",
   "execution_count": 330,
   "metadata": {
    "ExecuteTime": {
     "end_time": "2020-06-17T11:37:56.154986Z",
     "start_time": "2020-06-17T11:37:56.142419Z"
    }
   },
   "outputs": [
    {
     "data": {
      "text/plain": [
       "Index(['case', 'date', 'year', 'type', 'country', 'area', 'location',\n",
       "       'activity', 'name', 'sex', 'age', 'injury', 'fatal', 'time', 'species',\n",
       "       'investigator', 'pdf', 'href', 'href', 'case', 'case', 'original',\n",
       "       'unnamed:', 'unnamed:'],\n",
       "      dtype='object')"
      ]
     },
     "execution_count": 330,
     "metadata": {},
     "output_type": "execute_result"
    }
   ],
   "source": [
    "attacks.columns = [column.split(' ')[0].lower() for column in attacks.columns]\n",
    "attacks.columns"
   ]
  },
  {
   "cell_type": "markdown",
   "metadata": {},
   "source": [
    "### Assigning new dataframe with only the columns of interest."
   ]
  },
  {
   "cell_type": "code",
   "execution_count": 331,
   "metadata": {
    "ExecuteTime": {
     "end_time": "2020-06-17T11:37:56.171091Z",
     "start_time": "2020-06-17T11:37:56.158447Z"
    }
   },
   "outputs": [],
   "source": [
    "df = attacks.loc[:,['date', 'year', 'country', 'activity', 'name', 'sex', 'fatal']]"
   ]
  },
  {
   "cell_type": "markdown",
   "metadata": {},
   "source": [
    "### Removing empty rows."
   ]
  },
  {
   "cell_type": "code",
   "execution_count": 332,
   "metadata": {
    "ExecuteTime": {
     "end_time": "2020-06-17T11:37:56.187614Z",
     "start_time": "2020-06-17T11:37:56.173085Z"
    }
   },
   "outputs": [
    {
     "data": {
      "text/plain": [
       "19421"
      ]
     },
     "execution_count": 332,
     "metadata": {},
     "output_type": "execute_result"
    }
   ],
   "source": [
    "empty_rows = df.isna().all(axis = 1)\n",
    "empty_rows.sum()"
   ]
  },
  {
   "cell_type": "code",
   "execution_count": 333,
   "metadata": {
    "ExecuteTime": {
     "end_time": "2020-06-17T11:37:56.219068Z",
     "start_time": "2020-06-17T11:37:56.192500Z"
    }
   },
   "outputs": [
    {
     "data": {
      "text/html": [
       "<div>\n",
       "<style scoped>\n",
       "    .dataframe tbody tr th:only-of-type {\n",
       "        vertical-align: middle;\n",
       "    }\n",
       "\n",
       "    .dataframe tbody tr th {\n",
       "        vertical-align: top;\n",
       "    }\n",
       "\n",
       "    .dataframe thead th {\n",
       "        text-align: right;\n",
       "    }\n",
       "</style>\n",
       "<table border=\"1\" class=\"dataframe\">\n",
       "  <thead>\n",
       "    <tr style=\"text-align: right;\">\n",
       "      <th></th>\n",
       "      <th>date</th>\n",
       "      <th>year</th>\n",
       "      <th>country</th>\n",
       "      <th>activity</th>\n",
       "      <th>name</th>\n",
       "      <th>sex</th>\n",
       "      <th>fatal</th>\n",
       "    </tr>\n",
       "  </thead>\n",
       "  <tbody>\n",
       "    <tr>\n",
       "      <th>6302</th>\n",
       "      <td>NaN</td>\n",
       "      <td>NaN</td>\n",
       "      <td>NaN</td>\n",
       "      <td>NaN</td>\n",
       "      <td>NaN</td>\n",
       "      <td>NaN</td>\n",
       "      <td>NaN</td>\n",
       "    </tr>\n",
       "    <tr>\n",
       "      <th>6303</th>\n",
       "      <td>NaN</td>\n",
       "      <td>NaN</td>\n",
       "      <td>NaN</td>\n",
       "      <td>NaN</td>\n",
       "      <td>NaN</td>\n",
       "      <td>NaN</td>\n",
       "      <td>NaN</td>\n",
       "    </tr>\n",
       "    <tr>\n",
       "      <th>6304</th>\n",
       "      <td>NaN</td>\n",
       "      <td>NaN</td>\n",
       "      <td>NaN</td>\n",
       "      <td>NaN</td>\n",
       "      <td>NaN</td>\n",
       "      <td>NaN</td>\n",
       "      <td>NaN</td>\n",
       "    </tr>\n",
       "    <tr>\n",
       "      <th>6305</th>\n",
       "      <td>NaN</td>\n",
       "      <td>NaN</td>\n",
       "      <td>NaN</td>\n",
       "      <td>NaN</td>\n",
       "      <td>NaN</td>\n",
       "      <td>NaN</td>\n",
       "      <td>NaN</td>\n",
       "    </tr>\n",
       "    <tr>\n",
       "      <th>6306</th>\n",
       "      <td>NaN</td>\n",
       "      <td>NaN</td>\n",
       "      <td>NaN</td>\n",
       "      <td>NaN</td>\n",
       "      <td>NaN</td>\n",
       "      <td>NaN</td>\n",
       "      <td>NaN</td>\n",
       "    </tr>\n",
       "    <tr>\n",
       "      <th>...</th>\n",
       "      <td>...</td>\n",
       "      <td>...</td>\n",
       "      <td>...</td>\n",
       "      <td>...</td>\n",
       "      <td>...</td>\n",
       "      <td>...</td>\n",
       "      <td>...</td>\n",
       "    </tr>\n",
       "    <tr>\n",
       "      <th>25718</th>\n",
       "      <td>NaN</td>\n",
       "      <td>NaN</td>\n",
       "      <td>NaN</td>\n",
       "      <td>NaN</td>\n",
       "      <td>NaN</td>\n",
       "      <td>NaN</td>\n",
       "      <td>NaN</td>\n",
       "    </tr>\n",
       "    <tr>\n",
       "      <th>25719</th>\n",
       "      <td>NaN</td>\n",
       "      <td>NaN</td>\n",
       "      <td>NaN</td>\n",
       "      <td>NaN</td>\n",
       "      <td>NaN</td>\n",
       "      <td>NaN</td>\n",
       "      <td>NaN</td>\n",
       "    </tr>\n",
       "    <tr>\n",
       "      <th>25720</th>\n",
       "      <td>NaN</td>\n",
       "      <td>NaN</td>\n",
       "      <td>NaN</td>\n",
       "      <td>NaN</td>\n",
       "      <td>NaN</td>\n",
       "      <td>NaN</td>\n",
       "      <td>NaN</td>\n",
       "    </tr>\n",
       "    <tr>\n",
       "      <th>25721</th>\n",
       "      <td>NaN</td>\n",
       "      <td>NaN</td>\n",
       "      <td>NaN</td>\n",
       "      <td>NaN</td>\n",
       "      <td>NaN</td>\n",
       "      <td>NaN</td>\n",
       "      <td>NaN</td>\n",
       "    </tr>\n",
       "    <tr>\n",
       "      <th>25722</th>\n",
       "      <td>NaN</td>\n",
       "      <td>NaN</td>\n",
       "      <td>NaN</td>\n",
       "      <td>NaN</td>\n",
       "      <td>NaN</td>\n",
       "      <td>NaN</td>\n",
       "      <td>NaN</td>\n",
       "    </tr>\n",
       "  </tbody>\n",
       "</table>\n",
       "<p>19421 rows × 7 columns</p>\n",
       "</div>"
      ],
      "text/plain": [
       "      date  year country activity name  sex fatal\n",
       "6302   NaN   NaN     NaN      NaN  NaN  NaN   NaN\n",
       "6303   NaN   NaN     NaN      NaN  NaN  NaN   NaN\n",
       "6304   NaN   NaN     NaN      NaN  NaN  NaN   NaN\n",
       "6305   NaN   NaN     NaN      NaN  NaN  NaN   NaN\n",
       "6306   NaN   NaN     NaN      NaN  NaN  NaN   NaN\n",
       "...    ...   ...     ...      ...  ...  ...   ...\n",
       "25718  NaN   NaN     NaN      NaN  NaN  NaN   NaN\n",
       "25719  NaN   NaN     NaN      NaN  NaN  NaN   NaN\n",
       "25720  NaN   NaN     NaN      NaN  NaN  NaN   NaN\n",
       "25721  NaN   NaN     NaN      NaN  NaN  NaN   NaN\n",
       "25722  NaN   NaN     NaN      NaN  NaN  NaN   NaN\n",
       "\n",
       "[19421 rows x 7 columns]"
      ]
     },
     "execution_count": 333,
     "metadata": {},
     "output_type": "execute_result"
    }
   ],
   "source": [
    "df.loc[empty_rows,:]"
   ]
  },
  {
   "cell_type": "markdown",
   "metadata": {},
   "source": [
    "There are 19421 rows that are completely empty. Drop them."
   ]
  },
  {
   "cell_type": "code",
   "execution_count": 334,
   "metadata": {
    "ExecuteTime": {
     "end_time": "2020-06-17T11:37:56.252116Z",
     "start_time": "2020-06-17T11:37:56.222429Z"
    }
   },
   "outputs": [
    {
     "data": {
      "text/plain": [
       "(6302, 7)"
      ]
     },
     "execution_count": 334,
     "metadata": {},
     "output_type": "execute_result"
    }
   ],
   "source": [
    "df = df.drop(index = df.loc[empty_rows,:].index)\n",
    "df.shape"
   ]
  },
  {
   "cell_type": "markdown",
   "metadata": {},
   "source": [
    "### Removing duplicated rows."
   ]
  },
  {
   "cell_type": "code",
   "execution_count": 335,
   "metadata": {
    "ExecuteTime": {
     "end_time": "2020-06-17T11:37:56.268103Z",
     "start_time": "2020-06-17T11:37:56.253114Z"
    }
   },
   "outputs": [
    {
     "data": {
      "text/plain": [
       "12"
      ]
     },
     "execution_count": 335,
     "metadata": {},
     "output_type": "execute_result"
    }
   ],
   "source": [
    "df.duplicated().sum()"
   ]
  },
  {
   "cell_type": "code",
   "execution_count": 336,
   "metadata": {
    "ExecuteTime": {
     "end_time": "2020-06-17T11:37:56.298512Z",
     "start_time": "2020-06-17T11:37:56.269100Z"
    }
   },
   "outputs": [],
   "source": [
    "df = df.drop_duplicates()"
   ]
  },
  {
   "cell_type": "code",
   "execution_count": 337,
   "metadata": {
    "ExecuteTime": {
     "end_time": "2020-06-17T11:37:56.347388Z",
     "start_time": "2020-06-17T11:37:56.299994Z"
    }
   },
   "outputs": [
    {
     "data": {
      "text/html": [
       "<div>\n",
       "<style scoped>\n",
       "    .dataframe tbody tr th:only-of-type {\n",
       "        vertical-align: middle;\n",
       "    }\n",
       "\n",
       "    .dataframe tbody tr th {\n",
       "        vertical-align: top;\n",
       "    }\n",
       "\n",
       "    .dataframe thead th {\n",
       "        text-align: right;\n",
       "    }\n",
       "</style>\n",
       "<table border=\"1\" class=\"dataframe\">\n",
       "  <thead>\n",
       "    <tr style=\"text-align: right;\">\n",
       "      <th></th>\n",
       "      <th>date</th>\n",
       "      <th>year</th>\n",
       "      <th>country</th>\n",
       "      <th>activity</th>\n",
       "      <th>name</th>\n",
       "      <th>sex</th>\n",
       "      <th>fatal</th>\n",
       "    </tr>\n",
       "  </thead>\n",
       "  <tbody>\n",
       "    <tr>\n",
       "      <th>2827</th>\n",
       "      <td>07-Feb-1986</td>\n",
       "      <td>1986.0</td>\n",
       "      <td>SOUTH AFRICA</td>\n",
       "      <td>Swimming</td>\n",
       "      <td>Johan Fourie</td>\n",
       "      <td>M</td>\n",
       "      <td>N</td>\n",
       "    </tr>\n",
       "    <tr>\n",
       "      <th>3519</th>\n",
       "      <td>Aug-1967</td>\n",
       "      <td>1967.0</td>\n",
       "      <td>BAHAMAS</td>\n",
       "      <td>Photographing sharks underwater using Scuba</td>\n",
       "      <td>Richard  Winer</td>\n",
       "      <td>M</td>\n",
       "      <td>N</td>\n",
       "    </tr>\n",
       "    <tr>\n",
       "      <th>4070</th>\n",
       "      <td>15-Aug-1959</td>\n",
       "      <td>1959.0</td>\n",
       "      <td>USA</td>\n",
       "      <td>Spearfishing on Scuba</td>\n",
       "      <td>Lt. James C. Neal</td>\n",
       "      <td>M</td>\n",
       "      <td>Y</td>\n",
       "    </tr>\n",
       "    <tr>\n",
       "      <th>647</th>\n",
       "      <td>29-Jul-2013</td>\n",
       "      <td>2013.0</td>\n",
       "      <td>MEXICO</td>\n",
       "      <td>Wading</td>\n",
       "      <td>Bonnie Davis</td>\n",
       "      <td>F</td>\n",
       "      <td>N</td>\n",
       "    </tr>\n",
       "    <tr>\n",
       "      <th>2403</th>\n",
       "      <td>1995</td>\n",
       "      <td>1995.0</td>\n",
       "      <td>USA</td>\n",
       "      <td>Scuba diving</td>\n",
       "      <td>Nunley</td>\n",
       "      <td>M</td>\n",
       "      <td>NaN</td>\n",
       "    </tr>\n",
       "    <tr>\n",
       "      <th>1525</th>\n",
       "      <td>24-Nov-2005-</td>\n",
       "      <td>2005.0</td>\n",
       "      <td>NEW CALEDONIA</td>\n",
       "      <td>Spearfishing</td>\n",
       "      <td>Emile</td>\n",
       "      <td>NaN</td>\n",
       "      <td>N</td>\n",
       "    </tr>\n",
       "    <tr>\n",
       "      <th>3773</th>\n",
       "      <td>Jan-1963</td>\n",
       "      <td>1963.0</td>\n",
       "      <td>MOZAMBIQUE</td>\n",
       "      <td>NaN</td>\n",
       "      <td>Canoe, occupant: Jopie Averes</td>\n",
       "      <td>NaN</td>\n",
       "      <td>N</td>\n",
       "    </tr>\n",
       "    <tr>\n",
       "      <th>5716</th>\n",
       "      <td>21-Jul-1889</td>\n",
       "      <td>1889.0</td>\n",
       "      <td>USA</td>\n",
       "      <td>Swimming</td>\n",
       "      <td>Eddie Roe</td>\n",
       "      <td>M</td>\n",
       "      <td>Y</td>\n",
       "    </tr>\n",
       "    <tr>\n",
       "      <th>716</th>\n",
       "      <td>19-Dec-2012</td>\n",
       "      <td>2012.0</td>\n",
       "      <td>AUSTRALIA</td>\n",
       "      <td>Surfing</td>\n",
       "      <td>Richard Wands</td>\n",
       "      <td>M</td>\n",
       "      <td>N</td>\n",
       "    </tr>\n",
       "    <tr>\n",
       "      <th>5378</th>\n",
       "      <td>01-Jan-1912</td>\n",
       "      <td>1912.0</td>\n",
       "      <td>AUSTRALIA</td>\n",
       "      <td>Bathing</td>\n",
       "      <td>Samuel Tristing</td>\n",
       "      <td>M</td>\n",
       "      <td>Y</td>\n",
       "    </tr>\n",
       "  </tbody>\n",
       "</table>\n",
       "</div>"
      ],
      "text/plain": [
       "               date    year        country  \\\n",
       "2827    07-Feb-1986  1986.0   SOUTH AFRICA   \n",
       "3519       Aug-1967  1967.0        BAHAMAS   \n",
       "4070    15-Aug-1959  1959.0            USA   \n",
       "647     29-Jul-2013  2013.0         MEXICO   \n",
       "2403           1995  1995.0            USA   \n",
       "1525   24-Nov-2005-  2005.0  NEW CALEDONIA   \n",
       "3773       Jan-1963  1963.0     MOZAMBIQUE   \n",
       "5716    21-Jul-1889  1889.0            USA   \n",
       "716     19-Dec-2012  2012.0      AUSTRALIA   \n",
       "5378    01-Jan-1912  1912.0      AUSTRALIA   \n",
       "\n",
       "                                         activity  \\\n",
       "2827                                     Swimming   \n",
       "3519  Photographing sharks underwater using Scuba   \n",
       "4070                        Spearfishing on Scuba   \n",
       "647                                        Wading   \n",
       "2403                                 Scuba diving   \n",
       "1525                                 Spearfishing   \n",
       "3773                                          NaN   \n",
       "5716                                     Swimming   \n",
       "716                                       Surfing   \n",
       "5378                                      Bathing   \n",
       "\n",
       "                               name  sex fatal  \n",
       "2827                   Johan Fourie    M     N  \n",
       "3519                 Richard  Winer    M     N  \n",
       "4070              Lt. James C. Neal    M     Y  \n",
       "647                    Bonnie Davis    F     N  \n",
       "2403                         Nunley    M   NaN  \n",
       "1525                          Emile  NaN     N  \n",
       "3773  Canoe, occupant: Jopie Averes  NaN     N  \n",
       "5716                      Eddie Roe    M     Y  \n",
       "716                   Richard Wands    M     N  \n",
       "5378                Samuel Tristing    M     Y  "
      ]
     },
     "execution_count": 337,
     "metadata": {},
     "output_type": "execute_result"
    }
   ],
   "source": [
    "df.sample(10)"
   ]
  },
  {
   "cell_type": "code",
   "execution_count": 338,
   "metadata": {
    "ExecuteTime": {
     "end_time": "2020-06-17T11:37:56.380738Z",
     "start_time": "2020-06-17T11:37:56.348417Z"
    }
   },
   "outputs": [
    {
     "name": "stdout",
     "output_type": "stream",
     "text": [
      "<class 'pandas.core.frame.DataFrame'>\n",
      "Int64Index: 6290 entries, 0 to 6301\n",
      "Data columns (total 7 columns):\n",
      " #   Column    Non-Null Count  Dtype  \n",
      "---  ------    --------------  -----  \n",
      " 0   date      6290 non-null   object \n",
      " 1   year      6288 non-null   float64\n",
      " 2   country   6240 non-null   object \n",
      " 3   activity  5747 non-null   object \n",
      " 4   name      6080 non-null   object \n",
      " 5   sex       5727 non-null   object \n",
      " 6   fatal     5751 non-null   object \n",
      "dtypes: float64(1), object(6)\n",
      "memory usage: 393.1+ KB\n"
     ]
    }
   ],
   "source": [
    "df.info()"
   ]
  },
  {
   "cell_type": "markdown",
   "metadata": {},
   "source": [
    "### Cleaning 'year' column."
   ]
  },
  {
   "cell_type": "code",
   "execution_count": 339,
   "metadata": {
    "ExecuteTime": {
     "end_time": "2020-06-17T11:37:56.412134Z",
     "start_time": "2020-06-17T11:37:56.381774Z"
    }
   },
   "outputs": [
    {
     "data": {
      "text/plain": [
       "array([2018., 2017.,   nan, 2016., 2015., 2014., 2013., 2012., 2011.,\n",
       "       2010., 2009., 2008., 2007., 2006., 2005., 2004., 2003., 2002.,\n",
       "       2001., 2000., 1999., 1998., 1997., 1996., 1995., 1984., 1994.,\n",
       "       1993., 1992., 1991., 1990., 1989., 1969., 1988., 1987., 1986.,\n",
       "       1985., 1983., 1982., 1981., 1980., 1979., 1978., 1977., 1976.,\n",
       "       1975., 1974., 1973., 1972., 1971., 1970., 1968., 1967., 1966.,\n",
       "       1965., 1964., 1963., 1962., 1961., 1960., 1959., 1958., 1957.,\n",
       "       1956., 1955., 1954., 1953., 1952., 1951., 1950., 1949., 1948.,\n",
       "       1848., 1947., 1946., 1945., 1944., 1943., 1942., 1941., 1940.,\n",
       "       1939., 1938., 1937., 1936., 1935., 1934., 1933., 1932., 1931.,\n",
       "       1930., 1929., 1928., 1927., 1926., 1925., 1924., 1923., 1922.,\n",
       "       1921., 1920., 1919., 1918., 1917., 1916., 1915., 1914., 1913.,\n",
       "       1912., 1911., 1910., 1909., 1908., 1907., 1906., 1905., 1904.,\n",
       "       1903., 1902., 1901., 1900., 1899., 1898., 1897., 1896., 1895.,\n",
       "       1894., 1893., 1892., 1891., 1890., 1889., 1888., 1887., 1886.,\n",
       "       1885., 1884., 1883., 1882., 1881., 1880., 1879., 1878., 1877.,\n",
       "       1876., 1875., 1874., 1873., 1872., 1871., 1870., 1869., 1868.,\n",
       "       1867., 1866., 1865., 1864., 1863., 1862., 1861., 1860., 1859.,\n",
       "       1858., 1857., 1856., 1855., 1853., 1852., 1851., 1850., 1849.,\n",
       "       1847., 1846., 1845., 1844., 1842., 1841., 1840., 1839., 1837.,\n",
       "       1836., 1835., 1834., 1832., 1831., 1830., 1829., 1828., 1827.,\n",
       "       1826., 1825., 1823., 1822., 1819., 1818., 1817., 1816., 1815.,\n",
       "       1812., 1811., 1810., 1808., 1807., 1805., 1804., 1803., 1802.,\n",
       "       1801., 1800., 1797., 1792., 1791., 1788., 1787., 1786., 1785.,\n",
       "       1784., 1783., 1780., 1779., 1776., 1771., 1767., 1764., 1758.,\n",
       "       1753., 1751., 1749., 1755., 1748., 1742., 1738., 1733., 1723.,\n",
       "       1721., 1703., 1700., 1642., 1638., 1637., 1617., 1595., 1580.,\n",
       "       1555., 1554., 1543.,  500.,   77.,    5.,    0.])"
      ]
     },
     "execution_count": 339,
     "metadata": {},
     "output_type": "execute_result"
    }
   ],
   "source": [
    "df.year.unique()"
   ]
  },
  {
   "cell_type": "code",
   "execution_count": 340,
   "metadata": {
    "ExecuteTime": {
     "end_time": "2020-06-17T11:37:56.463105Z",
     "start_time": "2020-06-17T11:37:56.417258Z"
    }
   },
   "outputs": [
    {
     "data": {
      "text/html": [
       "<div>\n",
       "<style scoped>\n",
       "    .dataframe tbody tr th:only-of-type {\n",
       "        vertical-align: middle;\n",
       "    }\n",
       "\n",
       "    .dataframe tbody tr th {\n",
       "        vertical-align: top;\n",
       "    }\n",
       "\n",
       "    .dataframe thead th {\n",
       "        text-align: right;\n",
       "    }\n",
       "</style>\n",
       "<table border=\"1\" class=\"dataframe\">\n",
       "  <thead>\n",
       "    <tr style=\"text-align: right;\">\n",
       "      <th></th>\n",
       "      <th>date</th>\n",
       "      <th>year</th>\n",
       "      <th>country</th>\n",
       "      <th>activity</th>\n",
       "      <th>name</th>\n",
       "      <th>sex</th>\n",
       "      <th>fatal</th>\n",
       "    </tr>\n",
       "  </thead>\n",
       "  <tbody>\n",
       "    <tr>\n",
       "      <th>6174</th>\n",
       "      <td>Circa 500 A.D.</td>\n",
       "      <td>500.0</td>\n",
       "      <td>MEXICO</td>\n",
       "      <td>NaN</td>\n",
       "      <td>male</td>\n",
       "      <td>M</td>\n",
       "      <td>N</td>\n",
       "    </tr>\n",
       "    <tr>\n",
       "      <th>6175</th>\n",
       "      <td>77  A.D.</td>\n",
       "      <td>77.0</td>\n",
       "      <td>NaN</td>\n",
       "      <td>Sponge diving</td>\n",
       "      <td>males</td>\n",
       "      <td>M</td>\n",
       "      <td>Y</td>\n",
       "    </tr>\n",
       "    <tr>\n",
       "      <th>6176</th>\n",
       "      <td>Ca. 5 A.D.</td>\n",
       "      <td>5.0</td>\n",
       "      <td>AUSTRALIA</td>\n",
       "      <td>NaN</td>\n",
       "      <td>male</td>\n",
       "      <td>M</td>\n",
       "      <td>N</td>\n",
       "    </tr>\n",
       "  </tbody>\n",
       "</table>\n",
       "</div>"
      ],
      "text/plain": [
       "                date   year    country       activity   name sex fatal\n",
       "6174  Circa 500 A.D.  500.0     MEXICO            NaN   male   M     N\n",
       "6175        77  A.D.   77.0        NaN  Sponge diving  males   M     Y\n",
       "6176      Ca. 5 A.D.    5.0  AUSTRALIA            NaN   male   M     N"
      ]
     },
     "execution_count": 340,
     "metadata": {},
     "output_type": "execute_result"
    }
   ],
   "source": [
    "strange_years = (df.year == 500) | (df.year == 77)| (df.year == 5)\n",
    "df.loc[strange_years,:]"
   ]
  },
  {
   "cell_type": "code",
   "execution_count": 341,
   "metadata": {
    "ExecuteTime": {
     "end_time": "2020-06-17T11:37:56.528092Z",
     "start_time": "2020-06-17T11:37:56.468305Z"
    }
   },
   "outputs": [
    {
     "data": {
      "text/html": [
       "<div>\n",
       "<style scoped>\n",
       "    .dataframe tbody tr th:only-of-type {\n",
       "        vertical-align: middle;\n",
       "    }\n",
       "\n",
       "    .dataframe tbody tr th {\n",
       "        vertical-align: top;\n",
       "    }\n",
       "\n",
       "    .dataframe thead th {\n",
       "        text-align: right;\n",
       "    }\n",
       "</style>\n",
       "<table border=\"1\" class=\"dataframe\">\n",
       "  <thead>\n",
       "    <tr style=\"text-align: right;\">\n",
       "      <th></th>\n",
       "      <th>date</th>\n",
       "      <th>year</th>\n",
       "      <th>country</th>\n",
       "      <th>activity</th>\n",
       "      <th>name</th>\n",
       "      <th>sex</th>\n",
       "      <th>fatal</th>\n",
       "    </tr>\n",
       "  </thead>\n",
       "  <tbody>\n",
       "    <tr>\n",
       "      <th>0</th>\n",
       "      <td>25-Jun-2018</td>\n",
       "      <td>2018.0</td>\n",
       "      <td>USA</td>\n",
       "      <td>Paddling</td>\n",
       "      <td>Julie Wolfe</td>\n",
       "      <td>F</td>\n",
       "      <td>N</td>\n",
       "    </tr>\n",
       "    <tr>\n",
       "      <th>1</th>\n",
       "      <td>18-Jun-2018</td>\n",
       "      <td>2018.0</td>\n",
       "      <td>USA</td>\n",
       "      <td>Standing</td>\n",
       "      <td>Adyson McNeely</td>\n",
       "      <td>F</td>\n",
       "      <td>N</td>\n",
       "    </tr>\n",
       "    <tr>\n",
       "      <th>2</th>\n",
       "      <td>09-Jun-2018</td>\n",
       "      <td>2018.0</td>\n",
       "      <td>USA</td>\n",
       "      <td>Surfing</td>\n",
       "      <td>John Denges</td>\n",
       "      <td>M</td>\n",
       "      <td>N</td>\n",
       "    </tr>\n",
       "    <tr>\n",
       "      <th>3</th>\n",
       "      <td>08-Jun-2018</td>\n",
       "      <td>2018.0</td>\n",
       "      <td>AUSTRALIA</td>\n",
       "      <td>Surfing</td>\n",
       "      <td>male</td>\n",
       "      <td>M</td>\n",
       "      <td>N</td>\n",
       "    </tr>\n",
       "    <tr>\n",
       "      <th>4</th>\n",
       "      <td>04-Jun-2018</td>\n",
       "      <td>2018.0</td>\n",
       "      <td>MEXICO</td>\n",
       "      <td>Free diving</td>\n",
       "      <td>Gustavo Ramos</td>\n",
       "      <td>M</td>\n",
       "      <td>N</td>\n",
       "    </tr>\n",
       "    <tr>\n",
       "      <th>...</th>\n",
       "      <td>...</td>\n",
       "      <td>...</td>\n",
       "      <td>...</td>\n",
       "      <td>...</td>\n",
       "      <td>...</td>\n",
       "      <td>...</td>\n",
       "      <td>...</td>\n",
       "    </tr>\n",
       "    <tr>\n",
       "      <th>6297</th>\n",
       "      <td>Before 1903</td>\n",
       "      <td>0.0</td>\n",
       "      <td>AUSTRALIA</td>\n",
       "      <td>Diving</td>\n",
       "      <td>male</td>\n",
       "      <td>M</td>\n",
       "      <td>Y</td>\n",
       "    </tr>\n",
       "    <tr>\n",
       "      <th>6298</th>\n",
       "      <td>Before 1903</td>\n",
       "      <td>0.0</td>\n",
       "      <td>AUSTRALIA</td>\n",
       "      <td>Pearl diving</td>\n",
       "      <td>Ahmun</td>\n",
       "      <td>M</td>\n",
       "      <td>Y</td>\n",
       "    </tr>\n",
       "    <tr>\n",
       "      <th>6299</th>\n",
       "      <td>1900-1905</td>\n",
       "      <td>0.0</td>\n",
       "      <td>USA</td>\n",
       "      <td>Swimming</td>\n",
       "      <td>Coast Guard personnel</td>\n",
       "      <td>M</td>\n",
       "      <td>Y</td>\n",
       "    </tr>\n",
       "    <tr>\n",
       "      <th>6300</th>\n",
       "      <td>1883-1889</td>\n",
       "      <td>0.0</td>\n",
       "      <td>PANAMA</td>\n",
       "      <td>NaN</td>\n",
       "      <td>Jules Patterson</td>\n",
       "      <td>M</td>\n",
       "      <td>Y</td>\n",
       "    </tr>\n",
       "    <tr>\n",
       "      <th>6301</th>\n",
       "      <td>1845-1853</td>\n",
       "      <td>0.0</td>\n",
       "      <td>CEYLON (SRI LANKA)</td>\n",
       "      <td>Swimming</td>\n",
       "      <td>male</td>\n",
       "      <td>M</td>\n",
       "      <td>Y</td>\n",
       "    </tr>\n",
       "  </tbody>\n",
       "</table>\n",
       "<p>6287 rows × 7 columns</p>\n",
       "</div>"
      ],
      "text/plain": [
       "             date    year             country      activity  \\\n",
       "0     25-Jun-2018  2018.0                 USA      Paddling   \n",
       "1     18-Jun-2018  2018.0                 USA      Standing   \n",
       "2     09-Jun-2018  2018.0                 USA       Surfing   \n",
       "3     08-Jun-2018  2018.0           AUSTRALIA       Surfing   \n",
       "4     04-Jun-2018  2018.0              MEXICO   Free diving   \n",
       "...           ...     ...                 ...           ...   \n",
       "6297  Before 1903     0.0           AUSTRALIA        Diving   \n",
       "6298  Before 1903     0.0           AUSTRALIA  Pearl diving   \n",
       "6299    1900-1905     0.0                 USA      Swimming   \n",
       "6300    1883-1889     0.0              PANAMA           NaN   \n",
       "6301    1845-1853     0.0  CEYLON (SRI LANKA)      Swimming   \n",
       "\n",
       "                       name sex fatal  \n",
       "0               Julie Wolfe   F     N  \n",
       "1           Adyson McNeely    F     N  \n",
       "2               John Denges   M     N  \n",
       "3                      male   M     N  \n",
       "4            Gustavo Ramos    M     N  \n",
       "...                     ...  ..   ...  \n",
       "6297                   male   M     Y  \n",
       "6298                  Ahmun   M     Y  \n",
       "6299  Coast Guard personnel   M     Y  \n",
       "6300        Jules Patterson   M     Y  \n",
       "6301                   male   M     Y  \n",
       "\n",
       "[6287 rows x 7 columns]"
      ]
     },
     "execution_count": 341,
     "metadata": {},
     "output_type": "execute_result"
    }
   ],
   "source": [
    "df.drop(index = df.loc[strange_years,:].index)"
   ]
  },
  {
   "cell_type": "code",
   "execution_count": 342,
   "metadata": {
    "ExecuteTime": {
     "end_time": "2020-06-17T11:37:56.561454Z",
     "start_time": "2020-06-17T11:37:56.532503Z"
    }
   },
   "outputs": [
    {
     "data": {
      "text/plain": [
       "array(['25-Jun-2018', '18-Jun-2018', '09-Jun-2018', ..., '1900-1905',\n",
       "       '1883-1889', '1845-1853'], dtype=object)"
      ]
     },
     "execution_count": 342,
     "metadata": {},
     "output_type": "execute_result"
    }
   ],
   "source": [
    "df.date.unique()"
   ]
  },
  {
   "cell_type": "markdown",
   "metadata": {},
   "source": [
    "Check the rows with year value as NaN or zero."
   ]
  },
  {
   "cell_type": "code",
   "execution_count": 343,
   "metadata": {
    "ExecuteTime": {
     "end_time": "2020-06-17T11:37:56.613866Z",
     "start_time": "2020-06-17T11:37:56.566294Z"
    }
   },
   "outputs": [
    {
     "data": {
      "text/html": [
       "<div>\n",
       "<style scoped>\n",
       "    .dataframe tbody tr th:only-of-type {\n",
       "        vertical-align: middle;\n",
       "    }\n",
       "\n",
       "    .dataframe tbody tr th {\n",
       "        vertical-align: top;\n",
       "    }\n",
       "\n",
       "    .dataframe thead th {\n",
       "        text-align: right;\n",
       "    }\n",
       "</style>\n",
       "<table border=\"1\" class=\"dataframe\">\n",
       "  <thead>\n",
       "    <tr style=\"text-align: right;\">\n",
       "      <th></th>\n",
       "      <th>date</th>\n",
       "      <th>year</th>\n",
       "      <th>country</th>\n",
       "      <th>activity</th>\n",
       "      <th>name</th>\n",
       "      <th>sex</th>\n",
       "      <th>fatal</th>\n",
       "    </tr>\n",
       "  </thead>\n",
       "  <tbody>\n",
       "    <tr>\n",
       "      <th>187</th>\n",
       "      <td>Reported 08-Jan-2017</td>\n",
       "      <td>NaN</td>\n",
       "      <td>AUSTRALIA</td>\n",
       "      <td>Spearfishing</td>\n",
       "      <td>Kerry Daniel</td>\n",
       "      <td>M</td>\n",
       "      <td>NaN</td>\n",
       "    </tr>\n",
       "    <tr>\n",
       "      <th>6079</th>\n",
       "      <td>Reported 19-Aug-1836</td>\n",
       "      <td>NaN</td>\n",
       "      <td>ENGLAND</td>\n",
       "      <td>Swimming</td>\n",
       "      <td>a boy</td>\n",
       "      <td>M</td>\n",
       "      <td>Y</td>\n",
       "    </tr>\n",
       "    <tr>\n",
       "      <th>6177</th>\n",
       "      <td>Ca. 214 B.C.</td>\n",
       "      <td>0.0</td>\n",
       "      <td>NaN</td>\n",
       "      <td>Ascending from a dive</td>\n",
       "      <td>Tharsys, a sponge diver</td>\n",
       "      <td>M</td>\n",
       "      <td>Y</td>\n",
       "    </tr>\n",
       "    <tr>\n",
       "      <th>6178</th>\n",
       "      <td>Ca. 336.B.C..</td>\n",
       "      <td>0.0</td>\n",
       "      <td>GREECE</td>\n",
       "      <td>Washing his pig in preparation for a religious...</td>\n",
       "      <td>A candidate for initiation</td>\n",
       "      <td>M</td>\n",
       "      <td>Y</td>\n",
       "    </tr>\n",
       "    <tr>\n",
       "      <th>6179</th>\n",
       "      <td>493 B.C.</td>\n",
       "      <td>0.0</td>\n",
       "      <td>GREECE</td>\n",
       "      <td>Shipwrecked Persian Fleet</td>\n",
       "      <td>males</td>\n",
       "      <td>M</td>\n",
       "      <td>Y</td>\n",
       "    </tr>\n",
       "    <tr>\n",
       "      <th>...</th>\n",
       "      <td>...</td>\n",
       "      <td>...</td>\n",
       "      <td>...</td>\n",
       "      <td>...</td>\n",
       "      <td>...</td>\n",
       "      <td>...</td>\n",
       "      <td>...</td>\n",
       "    </tr>\n",
       "    <tr>\n",
       "      <th>6297</th>\n",
       "      <td>Before 1903</td>\n",
       "      <td>0.0</td>\n",
       "      <td>AUSTRALIA</td>\n",
       "      <td>Diving</td>\n",
       "      <td>male</td>\n",
       "      <td>M</td>\n",
       "      <td>Y</td>\n",
       "    </tr>\n",
       "    <tr>\n",
       "      <th>6298</th>\n",
       "      <td>Before 1903</td>\n",
       "      <td>0.0</td>\n",
       "      <td>AUSTRALIA</td>\n",
       "      <td>Pearl diving</td>\n",
       "      <td>Ahmun</td>\n",
       "      <td>M</td>\n",
       "      <td>Y</td>\n",
       "    </tr>\n",
       "    <tr>\n",
       "      <th>6299</th>\n",
       "      <td>1900-1905</td>\n",
       "      <td>0.0</td>\n",
       "      <td>USA</td>\n",
       "      <td>Swimming</td>\n",
       "      <td>Coast Guard personnel</td>\n",
       "      <td>M</td>\n",
       "      <td>Y</td>\n",
       "    </tr>\n",
       "    <tr>\n",
       "      <th>6300</th>\n",
       "      <td>1883-1889</td>\n",
       "      <td>0.0</td>\n",
       "      <td>PANAMA</td>\n",
       "      <td>NaN</td>\n",
       "      <td>Jules Patterson</td>\n",
       "      <td>M</td>\n",
       "      <td>Y</td>\n",
       "    </tr>\n",
       "    <tr>\n",
       "      <th>6301</th>\n",
       "      <td>1845-1853</td>\n",
       "      <td>0.0</td>\n",
       "      <td>CEYLON (SRI LANKA)</td>\n",
       "      <td>Swimming</td>\n",
       "      <td>male</td>\n",
       "      <td>M</td>\n",
       "      <td>Y</td>\n",
       "    </tr>\n",
       "  </tbody>\n",
       "</table>\n",
       "<p>126 rows × 7 columns</p>\n",
       "</div>"
      ],
      "text/plain": [
       "                      date  year             country  \\\n",
       "187   Reported 08-Jan-2017   NaN           AUSTRALIA   \n",
       "6079  Reported 19-Aug-1836   NaN             ENGLAND   \n",
       "6177          Ca. 214 B.C.   0.0                 NaN   \n",
       "6178         Ca. 336.B.C..   0.0              GREECE   \n",
       "6179              493 B.C.   0.0              GREECE   \n",
       "...                    ...   ...                 ...   \n",
       "6297           Before 1903   0.0           AUSTRALIA   \n",
       "6298           Before 1903   0.0           AUSTRALIA   \n",
       "6299             1900-1905   0.0                 USA   \n",
       "6300             1883-1889   0.0              PANAMA   \n",
       "6301             1845-1853   0.0  CEYLON (SRI LANKA)   \n",
       "\n",
       "                                               activity  \\\n",
       "187                                        Spearfishing   \n",
       "6079                                           Swimming   \n",
       "6177                              Ascending from a dive   \n",
       "6178  Washing his pig in preparation for a religious...   \n",
       "6179                          Shipwrecked Persian Fleet   \n",
       "...                                                 ...   \n",
       "6297                                             Diving   \n",
       "6298                                       Pearl diving   \n",
       "6299                                           Swimming   \n",
       "6300                                                NaN   \n",
       "6301                                           Swimming   \n",
       "\n",
       "                            name sex fatal  \n",
       "187                 Kerry Daniel   M   NaN  \n",
       "6079                       a boy   M     Y  \n",
       "6177     Tharsys, a sponge diver   M     Y  \n",
       "6178  A candidate for initiation   M     Y  \n",
       "6179                       males   M     Y  \n",
       "...                          ...  ..   ...  \n",
       "6297                        male   M     Y  \n",
       "6298                       Ahmun   M     Y  \n",
       "6299       Coast Guard personnel   M     Y  \n",
       "6300             Jules Patterson   M     Y  \n",
       "6301                        male   M     Y  \n",
       "\n",
       "[126 rows x 7 columns]"
      ]
     },
     "execution_count": 343,
     "metadata": {},
     "output_type": "execute_result"
    }
   ],
   "source": [
    "missing_year = (df.year.isna())|(df.year == 0)\n",
    "df.loc[missing_year,:]"
   ]
  },
  {
   "cell_type": "markdown",
   "metadata": {},
   "source": [
    "Transform the column 'date' type to str so we can check/filter the pattern of intervals."
   ]
  },
  {
   "cell_type": "code",
   "execution_count": 344,
   "metadata": {
    "ExecuteTime": {
     "end_time": "2020-06-17T11:37:56.647081Z",
     "start_time": "2020-06-17T11:37:56.617810Z"
    }
   },
   "outputs": [
    {
     "data": {
      "text/plain": [
       "0       25-Jun-2018\n",
       "1       18-Jun-2018\n",
       "2       09-Jun-2018\n",
       "3       08-Jun-2018\n",
       "4       04-Jun-2018\n",
       "           ...     \n",
       "6297    Before 1903\n",
       "6298    Before 1903\n",
       "6299      1900-1905\n",
       "6300      1883-1889\n",
       "6301      1845-1853\n",
       "Name: date, Length: 6290, dtype: object"
      ]
     },
     "execution_count": 344,
     "metadata": {},
     "output_type": "execute_result"
    }
   ],
   "source": [
    "df.date.astype(str)"
   ]
  },
  {
   "cell_type": "markdown",
   "metadata": {
    "hide_input": false
   },
   "source": [
    "Fill the column year(rows with interval in date) with the last year available of the interval."
   ]
  },
  {
   "cell_type": "code",
   "execution_count": 345,
   "metadata": {
    "ExecuteTime": {
     "end_time": "2020-06-17T11:37:56.697105Z",
     "start_time": "2020-06-17T11:37:56.652366Z"
    }
   },
   "outputs": [],
   "source": [
    "interval_pattern = df['date'].str.contains('\\d\\d\\d\\d\\s?-\\s?\\d\\d\\d\\d')\n",
    "df.loc[interval_pattern,'year'] = df.loc[interval_pattern,\n",
    "                        'date'].apply(lambda x: re.findall('\\d{4}', x)[-1])"
   ]
  },
  {
   "cell_type": "code",
   "execution_count": 346,
   "metadata": {
    "ExecuteTime": {
     "end_time": "2020-06-17T11:37:56.761773Z",
     "start_time": "2020-06-17T11:37:56.704161Z"
    }
   },
   "outputs": [
    {
     "data": {
      "text/html": [
       "<div>\n",
       "<style scoped>\n",
       "    .dataframe tbody tr th:only-of-type {\n",
       "        vertical-align: middle;\n",
       "    }\n",
       "\n",
       "    .dataframe tbody tr th {\n",
       "        vertical-align: top;\n",
       "    }\n",
       "\n",
       "    .dataframe thead th {\n",
       "        text-align: right;\n",
       "    }\n",
       "</style>\n",
       "<table border=\"1\" class=\"dataframe\">\n",
       "  <thead>\n",
       "    <tr style=\"text-align: right;\">\n",
       "      <th></th>\n",
       "      <th>date</th>\n",
       "      <th>year</th>\n",
       "      <th>country</th>\n",
       "      <th>activity</th>\n",
       "      <th>name</th>\n",
       "      <th>sex</th>\n",
       "      <th>fatal</th>\n",
       "    </tr>\n",
       "  </thead>\n",
       "  <tbody>\n",
       "    <tr>\n",
       "      <th>4029</th>\n",
       "      <td>1960-1961</td>\n",
       "      <td>1961</td>\n",
       "      <td>FIJI</td>\n",
       "      <td>Spearfishing</td>\n",
       "      <td>Lindsay Phillips</td>\n",
       "      <td>M</td>\n",
       "      <td>N</td>\n",
       "    </tr>\n",
       "    <tr>\n",
       "      <th>4172</th>\n",
       "      <td>1958-1959</td>\n",
       "      <td>1959</td>\n",
       "      <td>TONGA</td>\n",
       "      <td>Spearfishing</td>\n",
       "      <td>male</td>\n",
       "      <td>M</td>\n",
       "      <td>N</td>\n",
       "    </tr>\n",
       "    <tr>\n",
       "      <th>4418</th>\n",
       "      <td>1952-1954</td>\n",
       "      <td>1954</td>\n",
       "      <td>LIBERIA</td>\n",
       "      <td>Diving, recovering fish killed by dynamite</td>\n",
       "      <td>male</td>\n",
       "      <td>M</td>\n",
       "      <td>Y</td>\n",
       "    </tr>\n",
       "    <tr>\n",
       "      <th>4488</th>\n",
       "      <td>1950 - 1951</td>\n",
       "      <td>1951</td>\n",
       "      <td>LIBERIA</td>\n",
       "      <td>Defecating in water beneath the docks</td>\n",
       "      <td>a dock worker</td>\n",
       "      <td>M</td>\n",
       "      <td>Y</td>\n",
       "    </tr>\n",
       "    <tr>\n",
       "      <th>4522</th>\n",
       "      <td>1949-1950</td>\n",
       "      <td>1950</td>\n",
       "      <td>ITALY</td>\n",
       "      <td>Fishing, on a boat</td>\n",
       "      <td>male</td>\n",
       "      <td>M</td>\n",
       "      <td>N</td>\n",
       "    </tr>\n",
       "    <tr>\n",
       "      <th>5212</th>\n",
       "      <td>1923-1924</td>\n",
       "      <td>1924</td>\n",
       "      <td>PHILIPPINES</td>\n",
       "      <td>NaN</td>\n",
       "      <td>male</td>\n",
       "      <td>M</td>\n",
       "      <td>Y</td>\n",
       "    </tr>\n",
       "    <tr>\n",
       "      <th>5602</th>\n",
       "      <td>1898-1899</td>\n",
       "      <td>1899</td>\n",
       "      <td>USA</td>\n",
       "      <td>NaN</td>\n",
       "      <td>boy</td>\n",
       "      <td>M</td>\n",
       "      <td>N</td>\n",
       "    </tr>\n",
       "    <tr>\n",
       "      <th>6189</th>\n",
       "      <td>1880-1899</td>\n",
       "      <td>1899</td>\n",
       "      <td>AUSTRALIA</td>\n",
       "      <td>NaN</td>\n",
       "      <td>Lassie</td>\n",
       "      <td>F</td>\n",
       "      <td>N</td>\n",
       "    </tr>\n",
       "    <tr>\n",
       "      <th>6193</th>\n",
       "      <td>Between   1951-1963</td>\n",
       "      <td>1963</td>\n",
       "      <td>GREECE</td>\n",
       "      <td>Swimming</td>\n",
       "      <td>Martha Hatagouei</td>\n",
       "      <td>F</td>\n",
       "      <td>Y</td>\n",
       "    </tr>\n",
       "    <tr>\n",
       "      <th>6203</th>\n",
       "      <td>1896-1913</td>\n",
       "      <td>1913</td>\n",
       "      <td>LIBYA</td>\n",
       "      <td>Sponge diving</td>\n",
       "      <td>a diver from Kalymnos</td>\n",
       "      <td>M</td>\n",
       "      <td>Y</td>\n",
       "    </tr>\n",
       "    <tr>\n",
       "      <th>6259</th>\n",
       "      <td>1941-1945</td>\n",
       "      <td>1945</td>\n",
       "      <td>NaN</td>\n",
       "      <td>A group of survivors on a raft for 17-days</td>\n",
       "      <td>C.</td>\n",
       "      <td>NaN</td>\n",
       "      <td>Y</td>\n",
       "    </tr>\n",
       "    <tr>\n",
       "      <th>6260</th>\n",
       "      <td>\"During the war\" 1943-1945</td>\n",
       "      <td>1945</td>\n",
       "      <td>SOLOMON ISLANDS</td>\n",
       "      <td>Floating on his back</td>\n",
       "      <td>American male</td>\n",
       "      <td>M</td>\n",
       "      <td>N</td>\n",
       "    </tr>\n",
       "    <tr>\n",
       "      <th>6262</th>\n",
       "      <td>Said to be 1941-1945, more likely 1945</td>\n",
       "      <td>1945</td>\n",
       "      <td>IRAN</td>\n",
       "      <td>Fishing in ankle-deep water</td>\n",
       "      <td>an old fisherman</td>\n",
       "      <td>M</td>\n",
       "      <td>Y</td>\n",
       "    </tr>\n",
       "    <tr>\n",
       "      <th>6263</th>\n",
       "      <td>1941-1945</td>\n",
       "      <td>1945</td>\n",
       "      <td>IRAN</td>\n",
       "      <td>NaN</td>\n",
       "      <td>a local dignitary</td>\n",
       "      <td>M</td>\n",
       "      <td>Y</td>\n",
       "    </tr>\n",
       "    <tr>\n",
       "      <th>6264</th>\n",
       "      <td>1941-1945</td>\n",
       "      <td>1945</td>\n",
       "      <td>IRAN</td>\n",
       "      <td>Standing, washing rear wheels of his ambulance...</td>\n",
       "      <td>I.A.S. C. driver</td>\n",
       "      <td>M</td>\n",
       "      <td>Y</td>\n",
       "    </tr>\n",
       "    <tr>\n",
       "      <th>6265</th>\n",
       "      <td>1941-1942</td>\n",
       "      <td>1942</td>\n",
       "      <td>IRAQ</td>\n",
       "      <td>Swimming</td>\n",
       "      <td>male</td>\n",
       "      <td>M</td>\n",
       "      <td>Y</td>\n",
       "    </tr>\n",
       "    <tr>\n",
       "      <th>6266</th>\n",
       "      <td>1940 - 1950</td>\n",
       "      <td>1950</td>\n",
       "      <td>SAUDI ARABIA</td>\n",
       "      <td>Diving</td>\n",
       "      <td>a pearl diver</td>\n",
       "      <td>M</td>\n",
       "      <td>Y</td>\n",
       "    </tr>\n",
       "    <tr>\n",
       "      <th>6267</th>\n",
       "      <td>1940 - 1950</td>\n",
       "      <td>1950</td>\n",
       "      <td>SAUDI ARABIA</td>\n",
       "      <td>Diving</td>\n",
       "      <td>a fisherman / diver</td>\n",
       "      <td>M</td>\n",
       "      <td>N</td>\n",
       "    </tr>\n",
       "    <tr>\n",
       "      <th>6268</th>\n",
       "      <td>1940 - 1950</td>\n",
       "      <td>1950</td>\n",
       "      <td>SAUDI ARABIA</td>\n",
       "      <td>Diving</td>\n",
       "      <td>a pearl diver</td>\n",
       "      <td>M</td>\n",
       "      <td>N</td>\n",
       "    </tr>\n",
       "    <tr>\n",
       "      <th>6269</th>\n",
       "      <td>1940-1946</td>\n",
       "      <td>1946</td>\n",
       "      <td>PACIFIC OCEAN</td>\n",
       "      <td>NaN</td>\n",
       "      <td>8 US airmen in the water, 1 was bitten by a shark</td>\n",
       "      <td>M</td>\n",
       "      <td>Y</td>\n",
       "    </tr>\n",
       "    <tr>\n",
       "      <th>6282</th>\n",
       "      <td>1920 -1923</td>\n",
       "      <td>1923</td>\n",
       "      <td>AUSTRALIA</td>\n",
       "      <td>NaN</td>\n",
       "      <td>3 Japanese divers</td>\n",
       "      <td>M</td>\n",
       "      <td>Y</td>\n",
       "    </tr>\n",
       "    <tr>\n",
       "      <th>6299</th>\n",
       "      <td>1900-1905</td>\n",
       "      <td>1905</td>\n",
       "      <td>USA</td>\n",
       "      <td>Swimming</td>\n",
       "      <td>Coast Guard personnel</td>\n",
       "      <td>M</td>\n",
       "      <td>Y</td>\n",
       "    </tr>\n",
       "    <tr>\n",
       "      <th>6300</th>\n",
       "      <td>1883-1889</td>\n",
       "      <td>1889</td>\n",
       "      <td>PANAMA</td>\n",
       "      <td>NaN</td>\n",
       "      <td>Jules Patterson</td>\n",
       "      <td>M</td>\n",
       "      <td>Y</td>\n",
       "    </tr>\n",
       "    <tr>\n",
       "      <th>6301</th>\n",
       "      <td>1845-1853</td>\n",
       "      <td>1853</td>\n",
       "      <td>CEYLON (SRI LANKA)</td>\n",
       "      <td>Swimming</td>\n",
       "      <td>male</td>\n",
       "      <td>M</td>\n",
       "      <td>Y</td>\n",
       "    </tr>\n",
       "  </tbody>\n",
       "</table>\n",
       "</div>"
      ],
      "text/plain": [
       "                                        date  year             country  \\\n",
       "4029                               1960-1961  1961                FIJI   \n",
       "4172                               1958-1959  1959               TONGA   \n",
       "4418                               1952-1954  1954             LIBERIA   \n",
       "4488                             1950 - 1951  1951             LIBERIA   \n",
       "4522                               1949-1950  1950               ITALY   \n",
       "5212                               1923-1924  1924         PHILIPPINES   \n",
       "5602                               1898-1899  1899                 USA   \n",
       "6189                               1880-1899  1899           AUSTRALIA   \n",
       "6193                     Between   1951-1963  1963              GREECE   \n",
       "6203                               1896-1913  1913               LIBYA   \n",
       "6259                               1941-1945  1945                 NaN   \n",
       "6260              \"During the war\" 1943-1945  1945     SOLOMON ISLANDS   \n",
       "6262  Said to be 1941-1945, more likely 1945  1945                IRAN   \n",
       "6263                               1941-1945  1945                IRAN   \n",
       "6264                               1941-1945  1945                IRAN   \n",
       "6265                               1941-1942  1942                IRAQ   \n",
       "6266                             1940 - 1950  1950        SAUDI ARABIA   \n",
       "6267                             1940 - 1950  1950        SAUDI ARABIA   \n",
       "6268                             1940 - 1950  1950        SAUDI ARABIA   \n",
       "6269                               1940-1946  1946       PACIFIC OCEAN   \n",
       "6282                              1920 -1923  1923           AUSTRALIA   \n",
       "6299                               1900-1905  1905                 USA   \n",
       "6300                               1883-1889  1889              PANAMA   \n",
       "6301                               1845-1853  1853  CEYLON (SRI LANKA)   \n",
       "\n",
       "                                               activity  \\\n",
       "4029                                       Spearfishing   \n",
       "4172                                       Spearfishing   \n",
       "4418         Diving, recovering fish killed by dynamite   \n",
       "4488              Defecating in water beneath the docks   \n",
       "4522                                 Fishing, on a boat   \n",
       "5212                                                NaN   \n",
       "5602                                                NaN   \n",
       "6189                                                NaN   \n",
       "6193                                           Swimming   \n",
       "6203                                      Sponge diving   \n",
       "6259         A group of survivors on a raft for 17-days   \n",
       "6260                               Floating on his back   \n",
       "6262                        Fishing in ankle-deep water   \n",
       "6263                                                NaN   \n",
       "6264  Standing, washing rear wheels of his ambulance...   \n",
       "6265                                           Swimming   \n",
       "6266                                             Diving   \n",
       "6267                                             Diving   \n",
       "6268                                             Diving   \n",
       "6269                                                NaN   \n",
       "6282                                                NaN   \n",
       "6299                                           Swimming   \n",
       "6300                                                NaN   \n",
       "6301                                           Swimming   \n",
       "\n",
       "                                                   name  sex fatal  \n",
       "4029                                   Lindsay Phillips    M     N  \n",
       "4172                                               male    M     N  \n",
       "4418                                               male    M     Y  \n",
       "4488                                      a dock worker    M     Y  \n",
       "4522                                               male    M     N  \n",
       "5212                                               male    M     Y  \n",
       "5602                                                boy    M     N  \n",
       "6189                                             Lassie    F     N  \n",
       "6193                                   Martha Hatagouei    F     Y  \n",
       "6203                              a diver from Kalymnos    M     Y  \n",
       "6259                                                 C.  NaN     Y  \n",
       "6260                                      American male    M     N  \n",
       "6262                                   an old fisherman    M     Y  \n",
       "6263                                  a local dignitary    M     Y  \n",
       "6264                                  I.A.S. C. driver     M     Y  \n",
       "6265                                               male    M     Y  \n",
       "6266                                      a pearl diver    M     Y  \n",
       "6267                                a fisherman / diver    M     N  \n",
       "6268                                      a pearl diver    M     N  \n",
       "6269  8 US airmen in the water, 1 was bitten by a shark    M     Y  \n",
       "6282                                  3 Japanese divers    M     Y  \n",
       "6299                              Coast Guard personnel    M     Y  \n",
       "6300                                    Jules Patterson    M     Y  \n",
       "6301                                               male    M     Y  "
      ]
     },
     "execution_count": 346,
     "metadata": {},
     "output_type": "execute_result"
    }
   ],
   "source": [
    "df.loc[interval_pattern, :]"
   ]
  },
  {
   "cell_type": "code",
   "execution_count": 347,
   "metadata": {
    "ExecuteTime": {
     "end_time": "2020-06-17T11:37:56.826624Z",
     "start_time": "2020-06-17T11:37:56.767312Z"
    }
   },
   "outputs": [
    {
     "data": {
      "text/html": [
       "<div>\n",
       "<style scoped>\n",
       "    .dataframe tbody tr th:only-of-type {\n",
       "        vertical-align: middle;\n",
       "    }\n",
       "\n",
       "    .dataframe tbody tr th {\n",
       "        vertical-align: top;\n",
       "    }\n",
       "\n",
       "    .dataframe thead th {\n",
       "        text-align: right;\n",
       "    }\n",
       "</style>\n",
       "<table border=\"1\" class=\"dataframe\">\n",
       "  <thead>\n",
       "    <tr style=\"text-align: right;\">\n",
       "      <th></th>\n",
       "      <th>date</th>\n",
       "      <th>year</th>\n",
       "      <th>country</th>\n",
       "      <th>activity</th>\n",
       "      <th>name</th>\n",
       "      <th>sex</th>\n",
       "      <th>fatal</th>\n",
       "    </tr>\n",
       "  </thead>\n",
       "  <tbody>\n",
       "    <tr>\n",
       "      <th>5863</th>\n",
       "      <td>Before 1878</td>\n",
       "      <td>1877</td>\n",
       "      <td>INDIA</td>\n",
       "      <td>NaN</td>\n",
       "      <td>Indian</td>\n",
       "      <td>M</td>\n",
       "      <td>N</td>\n",
       "    </tr>\n",
       "    <tr>\n",
       "      <th>5909</th>\n",
       "      <td>Before 1871</td>\n",
       "      <td>1871</td>\n",
       "      <td>AUSTRALIA</td>\n",
       "      <td>NaN</td>\n",
       "      <td>male</td>\n",
       "      <td>M</td>\n",
       "      <td>N</td>\n",
       "    </tr>\n",
       "    <tr>\n",
       "      <th>5910</th>\n",
       "      <td>Before 1871</td>\n",
       "      <td>1871</td>\n",
       "      <td>AUSTRALIA</td>\n",
       "      <td>Fishing</td>\n",
       "      <td>2 males, aborigines</td>\n",
       "      <td>M</td>\n",
       "      <td>N</td>\n",
       "    </tr>\n",
       "    <tr>\n",
       "      <th>6181</th>\n",
       "      <td>Before 1939</td>\n",
       "      <td>0</td>\n",
       "      <td>CANADA</td>\n",
       "      <td>Fishing</td>\n",
       "      <td>Joe Folsom</td>\n",
       "      <td>M</td>\n",
       "      <td>N</td>\n",
       "    </tr>\n",
       "    <tr>\n",
       "      <th>6183</th>\n",
       "      <td>Before 2016</td>\n",
       "      <td>0</td>\n",
       "      <td>KENYA</td>\n",
       "      <td>Diving</td>\n",
       "      <td>Hamisi Njenga</td>\n",
       "      <td>M</td>\n",
       "      <td>Y</td>\n",
       "    </tr>\n",
       "    <tr>\n",
       "      <th>...</th>\n",
       "      <td>...</td>\n",
       "      <td>...</td>\n",
       "      <td>...</td>\n",
       "      <td>...</td>\n",
       "      <td>...</td>\n",
       "      <td>...</td>\n",
       "      <td>...</td>\n",
       "    </tr>\n",
       "    <tr>\n",
       "      <th>6293</th>\n",
       "      <td>Before 1906</td>\n",
       "      <td>0</td>\n",
       "      <td>AUSTRALIA</td>\n",
       "      <td>Fishing</td>\n",
       "      <td>boy</td>\n",
       "      <td>M</td>\n",
       "      <td>Y</td>\n",
       "    </tr>\n",
       "    <tr>\n",
       "      <th>6294</th>\n",
       "      <td>Before 1906</td>\n",
       "      <td>0</td>\n",
       "      <td>AUSTRALIA</td>\n",
       "      <td>Fishing</td>\n",
       "      <td>fisherman</td>\n",
       "      <td>M</td>\n",
       "      <td>Y</td>\n",
       "    </tr>\n",
       "    <tr>\n",
       "      <th>6296</th>\n",
       "      <td>Before 1906</td>\n",
       "      <td>0</td>\n",
       "      <td>AUSTRALIA</td>\n",
       "      <td>Swimming</td>\n",
       "      <td>Arab boy</td>\n",
       "      <td>M</td>\n",
       "      <td>Y</td>\n",
       "    </tr>\n",
       "    <tr>\n",
       "      <th>6297</th>\n",
       "      <td>Before 1903</td>\n",
       "      <td>0</td>\n",
       "      <td>AUSTRALIA</td>\n",
       "      <td>Diving</td>\n",
       "      <td>male</td>\n",
       "      <td>M</td>\n",
       "      <td>Y</td>\n",
       "    </tr>\n",
       "    <tr>\n",
       "      <th>6298</th>\n",
       "      <td>Before 1903</td>\n",
       "      <td>0</td>\n",
       "      <td>AUSTRALIA</td>\n",
       "      <td>Pearl diving</td>\n",
       "      <td>Ahmun</td>\n",
       "      <td>M</td>\n",
       "      <td>Y</td>\n",
       "    </tr>\n",
       "  </tbody>\n",
       "</table>\n",
       "<p>86 rows × 7 columns</p>\n",
       "</div>"
      ],
      "text/plain": [
       "             date  year    country      activity                 name sex  \\\n",
       "5863  Before 1878  1877      INDIA           NaN               Indian   M   \n",
       "5909  Before 1871  1871  AUSTRALIA           NaN                 male   M   \n",
       "5910  Before 1871  1871  AUSTRALIA       Fishing  2 males, aborigines   M   \n",
       "6181  Before 1939     0     CANADA       Fishing           Joe Folsom   M   \n",
       "6183  Before 2016     0      KENYA        Diving        Hamisi Njenga   M   \n",
       "...           ...   ...        ...           ...                  ...  ..   \n",
       "6293  Before 1906     0  AUSTRALIA       Fishing                  boy   M   \n",
       "6294  Before 1906     0  AUSTRALIA       Fishing            fisherman   M   \n",
       "6296  Before 1906     0  AUSTRALIA      Swimming             Arab boy   M   \n",
       "6297  Before 1903     0  AUSTRALIA        Diving                 male   M   \n",
       "6298  Before 1903     0  AUSTRALIA  Pearl diving                Ahmun   M   \n",
       "\n",
       "     fatal  \n",
       "5863     N  \n",
       "5909     N  \n",
       "5910     N  \n",
       "6181     N  \n",
       "6183     Y  \n",
       "...    ...  \n",
       "6293     Y  \n",
       "6294     Y  \n",
       "6296     Y  \n",
       "6297     Y  \n",
       "6298     Y  \n",
       "\n",
       "[86 rows x 7 columns]"
      ]
     },
     "execution_count": 347,
     "metadata": {},
     "output_type": "execute_result"
    }
   ],
   "source": [
    "df.loc[df.date.str.contains('[Bb]efore', regex = True),:]"
   ]
  },
  {
   "cell_type": "code",
   "execution_count": 348,
   "metadata": {
    "ExecuteTime": {
     "end_time": "2020-06-17T11:37:56.873643Z",
     "start_time": "2020-06-17T11:37:56.841993Z"
    }
   },
   "outputs": [
    {
     "data": {
      "text/plain": [
       "array(['Before 1878', 'Before 1871', 'Before 1939', 'Before 2016',\n",
       "       'Before Oct-2009', 'Before 1934', 'Before 1930', 'Before 1909',\n",
       "       'Before 2012', 'Before 1916', 'Before 1908', 'Before 1900',\n",
       "       'Before 1876', 'Before 2011', 'Before 2009', 'Before 1963',\n",
       "       'Before 1936', 'Before 08-Jun-1912', 'Before 1911', 'Before 1901',\n",
       "       'Before 2006', 'Before 2003', 'Before 2004', 'Before 1962',\n",
       "       'No date, Before 1963', 'Before Feb-1998',\n",
       "       'No date, Before May-1996', 'No date, Before Mar-1995',\n",
       "       'Before 1996', 'No date, Before Aug-1989',\n",
       "       'No date, Before Aug-1987', 'No date, Before 1987',\n",
       "       'No date, Before  1975', 'No date, Before 1975',\n",
       "       'No date, Before 1969', 'No date, Before 3-Jan-1967',\n",
       "       'No date, Before 8-May-1965', 'No date, Before 1902',\n",
       "       'No date, After August 1926 and before 1936', 'Before 1961',\n",
       "       'Before 1960', 'Before  19-Jun-1959', 'Before  24 Apr-1959',\n",
       "       'Before  1958', 'Before 1958', 'Before 1957', 'Before 1956',\n",
       "       'Before Mar-1956', 'Before 1952', 'Before 1905',\n",
       "       'A few years before 1938', 'Before 1927', 'Before 1921',\n",
       "       'Before 1917', 'Before 17-Jul-1916', 'Before 19-Jul-1913',\n",
       "       'Before 1906', 'Before 1903'], dtype=object)"
      ]
     },
     "execution_count": 348,
     "metadata": {},
     "output_type": "execute_result"
    }
   ],
   "source": [
    "df.loc[df.date.str.contains('[Bb]efore .*\\d{4}', regex = True), \n",
    "       'date'].unique()"
   ]
  },
  {
   "cell_type": "code",
   "execution_count": 349,
   "metadata": {
    "ExecuteTime": {
     "end_time": "2020-06-17T11:37:56.904953Z",
     "start_time": "2020-06-17T11:37:56.881320Z"
    }
   },
   "outputs": [],
   "source": [
    "before_pattern = df.date.str.contains('[Bb]efore.*\\d{4}', regex = True)"
   ]
  },
  {
   "cell_type": "code",
   "execution_count": 350,
   "metadata": {
    "ExecuteTime": {
     "end_time": "2020-06-17T11:37:56.936117Z",
     "start_time": "2020-06-17T11:37:56.909648Z"
    }
   },
   "outputs": [],
   "source": [
    "df.loc[before_pattern,'year'] = df.loc[before_pattern, \n",
    "                                       'date'].apply(lambda x : int(re.findall('\\d{4}', x)[0]) - 1)"
   ]
  },
  {
   "cell_type": "code",
   "execution_count": 351,
   "metadata": {
    "ExecuteTime": {
     "end_time": "2020-06-17T11:37:56.966912Z",
     "start_time": "2020-06-17T11:37:56.940985Z"
    }
   },
   "outputs": [
    {
     "data": {
      "text/plain": [
       "5863    1877\n",
       "5909    1870\n",
       "5910    1870\n",
       "6181    1938\n",
       "6183    2015\n",
       "        ... \n",
       "6293    1905\n",
       "6294    1905\n",
       "6296    1905\n",
       "6297    1902\n",
       "6298    1902\n",
       "Name: year, Length: 85, dtype: object"
      ]
     },
     "execution_count": 351,
     "metadata": {},
     "output_type": "execute_result"
    }
   ],
   "source": [
    "df.loc[before_pattern,'year']"
   ]
  },
  {
   "cell_type": "code",
   "execution_count": 352,
   "metadata": {
    "ExecuteTime": {
     "end_time": "2020-06-17T11:37:56.997758Z",
     "start_time": "2020-06-17T11:37:56.970770Z"
    }
   },
   "outputs": [],
   "source": [
    "before_pattern1 = df.date.str.contains('[Bb]efore', regex = True)"
   ]
  },
  {
   "cell_type": "code",
   "execution_count": 353,
   "metadata": {
    "ExecuteTime": {
     "end_time": "2020-06-17T11:37:57.030128Z",
     "start_time": "2020-06-17T11:37:57.003192Z"
    }
   },
   "outputs": [
    {
     "data": {
      "text/plain": [
       "187                                  Reported 08-Jan-2017\n",
       "6079                                 Reported 19-Aug-1836\n",
       "6177                                         Ca. 214 B.C.\n",
       "6178                                        Ca. 336.B.C..\n",
       "6179                                             493 B.C.\n",
       "6180                                         Ca. 725 B.C.\n",
       "6182                                         1990 or 1991\n",
       "6187                                                2009?\n",
       "6209                                  No date, late 1960s\n",
       "6214                                                1950s\n",
       "6216                                                2003?\n",
       "6217                                              No date\n",
       "6218                                              No date\n",
       "6241                                                1960s\n",
       "6242                                                1960s\n",
       "6243                                                1960s\n",
       "6261                                     \"Before the war\"\n",
       "6271                                         World War II\n",
       "6272                                         World War II\n",
       "6275                                              No date\n",
       "6276                                          Early 1930s\n",
       "6278                                  Between 1918 & 1939\n",
       "6279                                              No date\n",
       "6280                                              No date\n",
       "6281                                              No date\n",
       "6289    No date (3 days after preceding incident) & pr...\n",
       "6292                                           Circa 1862\n",
       "Name: date, dtype: object"
      ]
     },
     "execution_count": 353,
     "metadata": {},
     "output_type": "execute_result"
    }
   ],
   "source": [
    "df.loc[(df['year'].isnull()) | (df['year'] == 0),'date']"
   ]
  },
  {
   "cell_type": "code",
   "execution_count": 354,
   "metadata": {
    "ExecuteTime": {
     "end_time": "2020-06-17T11:37:57.061874Z",
     "start_time": "2020-06-17T11:37:57.033138Z"
    }
   },
   "outputs": [],
   "source": [
    "before_christ = df.date.str.contains('B\\.C', case = False, regex= True)"
   ]
  },
  {
   "cell_type": "code",
   "execution_count": 355,
   "metadata": {
    "ExecuteTime": {
     "end_time": "2020-06-17T11:37:57.096145Z",
     "start_time": "2020-06-17T11:37:57.067175Z"
    }
   },
   "outputs": [
    {
     "data": {
      "text/html": [
       "<div>\n",
       "<style scoped>\n",
       "    .dataframe tbody tr th:only-of-type {\n",
       "        vertical-align: middle;\n",
       "    }\n",
       "\n",
       "    .dataframe tbody tr th {\n",
       "        vertical-align: top;\n",
       "    }\n",
       "\n",
       "    .dataframe thead th {\n",
       "        text-align: right;\n",
       "    }\n",
       "</style>\n",
       "<table border=\"1\" class=\"dataframe\">\n",
       "  <thead>\n",
       "    <tr style=\"text-align: right;\">\n",
       "      <th></th>\n",
       "      <th>date</th>\n",
       "      <th>year</th>\n",
       "      <th>country</th>\n",
       "      <th>activity</th>\n",
       "      <th>name</th>\n",
       "      <th>sex</th>\n",
       "      <th>fatal</th>\n",
       "    </tr>\n",
       "  </thead>\n",
       "  <tbody>\n",
       "    <tr>\n",
       "      <th>6177</th>\n",
       "      <td>Ca. 214 B.C.</td>\n",
       "      <td>0</td>\n",
       "      <td>NaN</td>\n",
       "      <td>Ascending from a dive</td>\n",
       "      <td>Tharsys, a sponge diver</td>\n",
       "      <td>M</td>\n",
       "      <td>Y</td>\n",
       "    </tr>\n",
       "    <tr>\n",
       "      <th>6178</th>\n",
       "      <td>Ca. 336.B.C..</td>\n",
       "      <td>0</td>\n",
       "      <td>GREECE</td>\n",
       "      <td>Washing his pig in preparation for a religious...</td>\n",
       "      <td>A candidate for initiation</td>\n",
       "      <td>M</td>\n",
       "      <td>Y</td>\n",
       "    </tr>\n",
       "    <tr>\n",
       "      <th>6179</th>\n",
       "      <td>493 B.C.</td>\n",
       "      <td>0</td>\n",
       "      <td>GREECE</td>\n",
       "      <td>Shipwrecked Persian Fleet</td>\n",
       "      <td>males</td>\n",
       "      <td>M</td>\n",
       "      <td>Y</td>\n",
       "    </tr>\n",
       "    <tr>\n",
       "      <th>6180</th>\n",
       "      <td>Ca. 725 B.C.</td>\n",
       "      <td>0</td>\n",
       "      <td>ITALY</td>\n",
       "      <td>Shipwreck</td>\n",
       "      <td>males</td>\n",
       "      <td>M</td>\n",
       "      <td>Y</td>\n",
       "    </tr>\n",
       "  </tbody>\n",
       "</table>\n",
       "</div>"
      ],
      "text/plain": [
       "               date year country  \\\n",
       "6177   Ca. 214 B.C.    0     NaN   \n",
       "6178  Ca. 336.B.C..    0  GREECE   \n",
       "6179       493 B.C.    0  GREECE   \n",
       "6180   Ca. 725 B.C.    0   ITALY   \n",
       "\n",
       "                                               activity  \\\n",
       "6177                              Ascending from a dive   \n",
       "6178  Washing his pig in preparation for a religious...   \n",
       "6179                          Shipwrecked Persian Fleet   \n",
       "6180                                          Shipwreck   \n",
       "\n",
       "                            name sex fatal  \n",
       "6177     Tharsys, a sponge diver   M     Y  \n",
       "6178  A candidate for initiation   M     Y  \n",
       "6179                       males   M     Y  \n",
       "6180                       males   M     Y  "
      ]
     },
     "execution_count": 355,
     "metadata": {},
     "output_type": "execute_result"
    }
   ],
   "source": [
    "df.loc[before_christ,:]"
   ]
  },
  {
   "cell_type": "code",
   "execution_count": 356,
   "metadata": {
    "ExecuteTime": {
     "end_time": "2020-06-17T11:37:57.112113Z",
     "start_time": "2020-06-17T11:37:57.100142Z"
    }
   },
   "outputs": [],
   "source": [
    "df = df.drop(index = df.loc[before_christ,:].index)"
   ]
  },
  {
   "cell_type": "markdown",
   "metadata": {},
   "source": [
    "Mask to filter data left with the column year null or zero that contains 4 digits."
   ]
  },
  {
   "cell_type": "code",
   "execution_count": 357,
   "metadata": {
    "ExecuteTime": {
     "end_time": "2020-06-17T11:37:57.162713Z",
     "start_time": "2020-06-17T11:37:57.114110Z"
    }
   },
   "outputs": [
    {
     "data": {
      "text/plain": [
       "187                                  Reported 08-Jan-2017\n",
       "6079                                 Reported 19-Aug-1836\n",
       "6182                                         1990 or 1991\n",
       "6187                                                2009?\n",
       "6209                                  No date, late 1960s\n",
       "6214                                                1950s\n",
       "6216                                                2003?\n",
       "6241                                                1960s\n",
       "6242                                                1960s\n",
       "6243                                                1960s\n",
       "6276                                          Early 1930s\n",
       "6278                                  Between 1918 & 1939\n",
       "6289    No date (3 days after preceding incident) & pr...\n",
       "6292                                           Circa 1862\n",
       "Name: date, dtype: object"
      ]
     },
     "execution_count": 357,
     "metadata": {},
     "output_type": "execute_result"
    }
   ],
   "source": [
    "null_or_0 = (df['year'].isnull()) | (df['year'] == 0)\n",
    "year_pattern = (df.date.str.contains('\\d{4}', regex = True))\n",
    "df.loc[null_or_0 & year_pattern ,'date']"
   ]
  },
  {
   "cell_type": "code",
   "execution_count": 358,
   "metadata": {
    "ExecuteTime": {
     "end_time": "2020-06-17T11:37:57.195535Z",
     "start_time": "2020-06-17T11:37:57.167701Z"
    }
   },
   "outputs": [],
   "source": [
    "df.loc[null_or_0 & year_pattern ,'year'] = df.loc[null_or_0 & year_pattern ,\n",
    "                                                  'date'].apply(lambda x: re.findall('\\d{4}',x)[-1])"
   ]
  },
  {
   "cell_type": "code",
   "execution_count": 359,
   "metadata": {
    "ExecuteTime": {
     "end_time": "2020-06-17T11:37:57.242048Z",
     "start_time": "2020-06-17T11:37:57.199652Z"
    }
   },
   "outputs": [
    {
     "data": {
      "text/html": [
       "<div>\n",
       "<style scoped>\n",
       "    .dataframe tbody tr th:only-of-type {\n",
       "        vertical-align: middle;\n",
       "    }\n",
       "\n",
       "    .dataframe tbody tr th {\n",
       "        vertical-align: top;\n",
       "    }\n",
       "\n",
       "    .dataframe thead th {\n",
       "        text-align: right;\n",
       "    }\n",
       "</style>\n",
       "<table border=\"1\" class=\"dataframe\">\n",
       "  <thead>\n",
       "    <tr style=\"text-align: right;\">\n",
       "      <th></th>\n",
       "      <th>date</th>\n",
       "      <th>year</th>\n",
       "    </tr>\n",
       "  </thead>\n",
       "  <tbody>\n",
       "    <tr>\n",
       "      <th>187</th>\n",
       "      <td>Reported 08-Jan-2017</td>\n",
       "      <td>2017</td>\n",
       "    </tr>\n",
       "    <tr>\n",
       "      <th>6079</th>\n",
       "      <td>Reported 19-Aug-1836</td>\n",
       "      <td>1836</td>\n",
       "    </tr>\n",
       "    <tr>\n",
       "      <th>6182</th>\n",
       "      <td>1990 or 1991</td>\n",
       "      <td>1991</td>\n",
       "    </tr>\n",
       "    <tr>\n",
       "      <th>6187</th>\n",
       "      <td>2009?</td>\n",
       "      <td>2009</td>\n",
       "    </tr>\n",
       "    <tr>\n",
       "      <th>6209</th>\n",
       "      <td>No date, late 1960s</td>\n",
       "      <td>1960</td>\n",
       "    </tr>\n",
       "    <tr>\n",
       "      <th>6214</th>\n",
       "      <td>1950s</td>\n",
       "      <td>1950</td>\n",
       "    </tr>\n",
       "    <tr>\n",
       "      <th>6216</th>\n",
       "      <td>2003?</td>\n",
       "      <td>2003</td>\n",
       "    </tr>\n",
       "    <tr>\n",
       "      <th>6241</th>\n",
       "      <td>1960s</td>\n",
       "      <td>1960</td>\n",
       "    </tr>\n",
       "    <tr>\n",
       "      <th>6242</th>\n",
       "      <td>1960s</td>\n",
       "      <td>1960</td>\n",
       "    </tr>\n",
       "    <tr>\n",
       "      <th>6243</th>\n",
       "      <td>1960s</td>\n",
       "      <td>1960</td>\n",
       "    </tr>\n",
       "    <tr>\n",
       "      <th>6276</th>\n",
       "      <td>Early 1930s</td>\n",
       "      <td>1930</td>\n",
       "    </tr>\n",
       "    <tr>\n",
       "      <th>6278</th>\n",
       "      <td>Between 1918 &amp; 1939</td>\n",
       "      <td>1939</td>\n",
       "    </tr>\n",
       "    <tr>\n",
       "      <th>6289</th>\n",
       "      <td>No date (3 days after preceding incident) &amp; pr...</td>\n",
       "      <td>1913</td>\n",
       "    </tr>\n",
       "    <tr>\n",
       "      <th>6292</th>\n",
       "      <td>Circa 1862</td>\n",
       "      <td>1862</td>\n",
       "    </tr>\n",
       "  </tbody>\n",
       "</table>\n",
       "</div>"
      ],
      "text/plain": [
       "                                                   date  year\n",
       "187                                Reported 08-Jan-2017  2017\n",
       "6079                               Reported 19-Aug-1836  1836\n",
       "6182                                       1990 or 1991  1991\n",
       "6187                                              2009?  2009\n",
       "6209                                No date, late 1960s  1960\n",
       "6214                                              1950s  1950\n",
       "6216                                              2003?  2003\n",
       "6241                                              1960s  1960\n",
       "6242                                              1960s  1960\n",
       "6243                                              1960s  1960\n",
       "6276                                        Early 1930s  1930\n",
       "6278                                Between 1918 & 1939  1939\n",
       "6289  No date (3 days after preceding incident) & pr...  1913\n",
       "6292                                         Circa 1862  1862"
      ]
     },
     "execution_count": 359,
     "metadata": {},
     "output_type": "execute_result"
    }
   ],
   "source": [
    "df.loc[null_or_0 & year_pattern ,['date','year']]"
   ]
  },
  {
   "cell_type": "markdown",
   "metadata": {},
   "source": [
    "These rows do not have any information about the year so we maintain the values as zeros."
   ]
  },
  {
   "cell_type": "code",
   "execution_count": 360,
   "metadata": {
    "ExecuteTime": {
     "end_time": "2020-06-17T11:37:57.295879Z",
     "start_time": "2020-06-17T11:37:57.246955Z"
    }
   },
   "outputs": [
    {
     "data": {
      "text/html": [
       "<div>\n",
       "<style scoped>\n",
       "    .dataframe tbody tr th:only-of-type {\n",
       "        vertical-align: middle;\n",
       "    }\n",
       "\n",
       "    .dataframe tbody tr th {\n",
       "        vertical-align: top;\n",
       "    }\n",
       "\n",
       "    .dataframe thead th {\n",
       "        text-align: right;\n",
       "    }\n",
       "</style>\n",
       "<table border=\"1\" class=\"dataframe\">\n",
       "  <thead>\n",
       "    <tr style=\"text-align: right;\">\n",
       "      <th></th>\n",
       "      <th>date</th>\n",
       "      <th>year</th>\n",
       "      <th>country</th>\n",
       "      <th>activity</th>\n",
       "      <th>name</th>\n",
       "      <th>sex</th>\n",
       "      <th>fatal</th>\n",
       "    </tr>\n",
       "  </thead>\n",
       "  <tbody>\n",
       "    <tr>\n",
       "      <th>6217</th>\n",
       "      <td>No date</td>\n",
       "      <td>0</td>\n",
       "      <td>USA</td>\n",
       "      <td>Kitesurfing</td>\n",
       "      <td>Paul Menta</td>\n",
       "      <td>M</td>\n",
       "      <td>N</td>\n",
       "    </tr>\n",
       "    <tr>\n",
       "      <th>6218</th>\n",
       "      <td>No date</td>\n",
       "      <td>0</td>\n",
       "      <td>REUNION</td>\n",
       "      <td>yachtsman in a zodiac</td>\n",
       "      <td>NaN</td>\n",
       "      <td>M</td>\n",
       "      <td>N</td>\n",
       "    </tr>\n",
       "    <tr>\n",
       "      <th>6261</th>\n",
       "      <td>\"Before the war\"</td>\n",
       "      <td>0</td>\n",
       "      <td>AUSTRALIA</td>\n",
       "      <td>Free diving</td>\n",
       "      <td>Mortakee</td>\n",
       "      <td>M</td>\n",
       "      <td>N</td>\n",
       "    </tr>\n",
       "    <tr>\n",
       "      <th>6271</th>\n",
       "      <td>World War II</td>\n",
       "      <td>0</td>\n",
       "      <td>PAPUA NEW GUINEA</td>\n",
       "      <td>Spent 8 days in dinghy</td>\n",
       "      <td>pilot</td>\n",
       "      <td>M</td>\n",
       "      <td>N</td>\n",
       "    </tr>\n",
       "    <tr>\n",
       "      <th>6272</th>\n",
       "      <td>World War II</td>\n",
       "      <td>0</td>\n",
       "      <td>PAPUA NEW GUINEA</td>\n",
       "      <td>Aircraft ditched in the sea, swimming ashore</td>\n",
       "      <td>male</td>\n",
       "      <td>M</td>\n",
       "      <td>N</td>\n",
       "    </tr>\n",
       "    <tr>\n",
       "      <th>6275</th>\n",
       "      <td>No date</td>\n",
       "      <td>0</td>\n",
       "      <td>GREECE</td>\n",
       "      <td>Sponge diving</td>\n",
       "      <td>Psarofa-gomenes</td>\n",
       "      <td>M</td>\n",
       "      <td>N</td>\n",
       "    </tr>\n",
       "    <tr>\n",
       "      <th>6279</th>\n",
       "      <td>No date</td>\n",
       "      <td>0</td>\n",
       "      <td>SOUTH AFRICA</td>\n",
       "      <td>Wading</td>\n",
       "      <td>Madelaine Dalton</td>\n",
       "      <td>F</td>\n",
       "      <td>N</td>\n",
       "    </tr>\n",
       "    <tr>\n",
       "      <th>6280</th>\n",
       "      <td>No date</td>\n",
       "      <td>0</td>\n",
       "      <td>AUSTRALIA</td>\n",
       "      <td>Pearl diving</td>\n",
       "      <td>Jaringoorli</td>\n",
       "      <td>M</td>\n",
       "      <td>N</td>\n",
       "    </tr>\n",
       "    <tr>\n",
       "      <th>6281</th>\n",
       "      <td>No date</td>\n",
       "      <td>0</td>\n",
       "      <td>SOUTH AFRICA</td>\n",
       "      <td>Swimming in pool formed by construction of a w...</td>\n",
       "      <td>Indian boy</td>\n",
       "      <td>M</td>\n",
       "      <td>Y</td>\n",
       "    </tr>\n",
       "  </tbody>\n",
       "</table>\n",
       "</div>"
      ],
      "text/plain": [
       "                  date year           country  \\\n",
       "6217           No date    0               USA   \n",
       "6218           No date    0           REUNION   \n",
       "6261  \"Before the war\"    0         AUSTRALIA   \n",
       "6271      World War II    0  PAPUA NEW GUINEA   \n",
       "6272      World War II    0  PAPUA NEW GUINEA   \n",
       "6275           No date    0            GREECE   \n",
       "6279           No date    0      SOUTH AFRICA   \n",
       "6280           No date    0         AUSTRALIA   \n",
       "6281           No date    0      SOUTH AFRICA   \n",
       "\n",
       "                                               activity              name sex  \\\n",
       "6217                                        Kitesurfing        Paul Menta   M   \n",
       "6218                              yachtsman in a zodiac               NaN   M   \n",
       "6261                                        Free diving          Mortakee   M   \n",
       "6271                             Spent 8 days in dinghy             pilot   M   \n",
       "6272       Aircraft ditched in the sea, swimming ashore              male   M   \n",
       "6275                                      Sponge diving   Psarofa-gomenes   M   \n",
       "6279                                             Wading  Madelaine Dalton   F   \n",
       "6280                                       Pearl diving       Jaringoorli   M   \n",
       "6281  Swimming in pool formed by construction of a w...        Indian boy   M   \n",
       "\n",
       "     fatal  \n",
       "6217     N  \n",
       "6218     N  \n",
       "6261     N  \n",
       "6271     N  \n",
       "6272     N  \n",
       "6275     N  \n",
       "6279     N  \n",
       "6280     N  \n",
       "6281     Y  "
      ]
     },
     "execution_count": 360,
     "metadata": {},
     "output_type": "execute_result"
    }
   ],
   "source": [
    "df.loc[df['year'] == 0, :]"
   ]
  },
  {
   "cell_type": "code",
   "execution_count": 361,
   "metadata": {
    "ExecuteTime": {
     "end_time": "2020-06-17T11:37:57.327116Z",
     "start_time": "2020-06-17T11:37:57.300644Z"
    }
   },
   "outputs": [
    {
     "name": "stdout",
     "output_type": "stream",
     "text": [
      "<class 'pandas.core.frame.DataFrame'>\n",
      "Int64Index: 6286 entries, 0 to 6301\n",
      "Data columns (total 7 columns):\n",
      " #   Column    Non-Null Count  Dtype \n",
      "---  ------    --------------  ----- \n",
      " 0   date      6286 non-null   object\n",
      " 1   year      6286 non-null   object\n",
      " 2   country   6237 non-null   object\n",
      " 3   activity  5743 non-null   object\n",
      " 4   name      6076 non-null   object\n",
      " 5   sex       5723 non-null   object\n",
      " 6   fatal     5747 non-null   object\n",
      "dtypes: object(7)\n",
      "memory usage: 392.9+ KB\n"
     ]
    }
   ],
   "source": [
    "df.info()"
   ]
  },
  {
   "cell_type": "markdown",
   "metadata": {},
   "source": [
    "### Cleaning 'country' column."
   ]
  },
  {
   "cell_type": "code",
   "execution_count": 362,
   "metadata": {
    "ExecuteTime": {
     "end_time": "2020-06-17T11:37:57.360885Z",
     "start_time": "2020-06-17T11:37:57.335175Z"
    }
   },
   "outputs": [
    {
     "data": {
      "text/plain": [
       "array(['USA', 'AUSTRALIA', 'MEXICO', 'BRAZIL', 'ENGLAND', 'SOUTH AFRICA',\n",
       "       'THAILAND', 'COSTA RICA', 'MALDIVES', 'BAHAMAS', 'NEW CALEDONIA',\n",
       "       'ECUADOR', 'MALAYSIA', 'LIBYA', nan, 'CUBA', 'MAURITIUS',\n",
       "       'NEW ZEALAND', 'SPAIN', 'SAMOA', 'SOLOMON ISLANDS', 'JAPAN',\n",
       "       'EGYPT', 'ST HELENA, British overseas territory', 'COMOROS',\n",
       "       'REUNION', 'FRENCH POLYNESIA', 'UNITED KINGDOM',\n",
       "       'UNITED ARAB EMIRATES', 'PHILIPPINES', 'INDONESIA', 'CHINA',\n",
       "       'COLUMBIA', 'CAPE VERDE', 'Fiji', 'DOMINICAN REPUBLIC',\n",
       "       'CAYMAN ISLANDS', 'ARUBA', 'MOZAMBIQUE', 'FIJI', 'PUERTO RICO',\n",
       "       'ITALY', 'ATLANTIC OCEAN', 'GREECE', 'ST. MARTIN', 'FRANCE',\n",
       "       'PAPUA NEW GUINEA', 'TRINIDAD & TOBAGO', 'KIRIBATI', 'ISRAEL',\n",
       "       'DIEGO GARCIA', 'TAIWAN', 'JAMAICA', 'PALESTINIAN TERRITORIES',\n",
       "       'GUAM', 'SEYCHELLES', 'BELIZE', 'NIGERIA', 'TONGA', 'SCOTLAND',\n",
       "       'CANADA', 'CROATIA', 'SAUDI ARABIA', 'CHILE', 'ANTIGUA', 'KENYA',\n",
       "       'RUSSIA', 'TURKS & CAICOS', 'UNITED ARAB EMIRATES (UAE)', 'AZORES',\n",
       "       'SOUTH KOREA', 'MALTA', 'VIETNAM', 'MADAGASCAR', 'PANAMA',\n",
       "       'SOMALIA', 'NEVIS', 'BRITISH VIRGIN ISLANDS', 'NORWAY', 'SENEGAL',\n",
       "       'YEMEN', 'GULF OF ADEN', 'Sierra Leone', 'ST. MAARTIN',\n",
       "       'GRAND CAYMAN', 'Seychelles', 'LIBERIA', 'VANUATU', 'MEXICO ',\n",
       "       'HONDURAS', 'VENEZUELA', 'SRI LANKA', ' TONGA', 'URUGUAY', 'INDIA',\n",
       "       'MICRONESIA', 'CARIBBEAN SEA', 'OKINAWA', 'TANZANIA',\n",
       "       'MARSHALL ISLANDS', 'EGYPT / ISRAEL', 'NORTHERN ARABIAN SEA',\n",
       "       'HONG KONG', 'EL SALVADOR', 'ANGOLA', 'BERMUDA', 'MONTENEGRO',\n",
       "       'IRAN', 'TUNISIA', 'NAMIBIA', 'NORTH ATLANTIC OCEAN', 'PORTUGAL',\n",
       "       'SOUTH CHINA SEA', 'BANGLADESH', 'PALAU', 'WESTERN SAMOA',\n",
       "       'PACIFIC OCEAN ', 'BRITISH ISLES', 'GRENADA', 'IRAQ', 'TURKEY',\n",
       "       'SINGAPORE', 'NEW BRITAIN', 'SUDAN', 'JOHNSTON ISLAND',\n",
       "       'SOUTH PACIFIC OCEAN', 'NEW GUINEA', 'RED SEA',\n",
       "       'NORTH PACIFIC OCEAN', 'FEDERATED STATES OF MICRONESIA',\n",
       "       'MID ATLANTIC OCEAN', 'ADMIRALTY ISLANDS', 'BRITISH WEST INDIES',\n",
       "       'SOUTH ATLANTIC OCEAN', 'PERSIAN GULF', 'RED SEA / INDIAN OCEAN',\n",
       "       'PACIFIC OCEAN', 'NORTH SEA', 'NICARAGUA ', 'MALDIVE ISLANDS',\n",
       "       'AMERICAN SAMOA', 'ANDAMAN / NICOBAR ISLANDAS', 'GABON', 'MAYOTTE',\n",
       "       'NORTH ATLANTIC OCEAN ', 'THE BALKANS', 'SUDAN?', 'ARGENTINA',\n",
       "       'MARTINIQUE', 'INDIAN OCEAN', 'GUATEMALA', 'NETHERLANDS ANTILLES',\n",
       "       'NORTHERN MARIANA ISLANDS', 'IRAN / IRAQ', 'JAVA', 'SIERRA LEONE',\n",
       "       ' PHILIPPINES', 'NICARAGUA', 'CENTRAL PACIFIC',\n",
       "       'SOLOMON ISLANDS / VANUATU', 'SOUTHWEST PACIFIC OCEAN',\n",
       "       'BAY OF BENGAL', 'MID-PACIFC OCEAN', 'SLOVENIA', 'CURACAO',\n",
       "       'ICELAND', 'ITALY / CROATIA', 'BARBADOS', 'MONACO', 'GUYANA',\n",
       "       'HAITI', 'SAN DOMINGO', 'IRELAND', 'KUWAIT', 'YEMEN ',\n",
       "       'REUNION ISLAND', 'FALKLAND ISLANDS', 'CRETE', 'CYPRUS', 'EGYPT ',\n",
       "       'WEST INDIES', 'BURMA', 'LEBANON', 'PARAGUAY',\n",
       "       'BRITISH NEW GUINEA', 'CEYLON', 'OCEAN', 'GEORGIA', 'SYRIA',\n",
       "       'TUVALU', 'INDIAN OCEAN?', 'GUINEA', 'ANDAMAN ISLANDS',\n",
       "       'EQUATORIAL GUINEA / CAMEROON', 'COOK ISLANDS', 'TOBAGO', 'PERU',\n",
       "       'AFRICA', 'ALGERIA', 'Coast of AFRICA', 'TASMAN SEA', 'GHANA',\n",
       "       'GREENLAND', 'MEDITERRANEAN SEA', 'SWEDEN', 'ROATAN',\n",
       "       'Between PORTUGAL & INDIA', 'DJIBOUTI', 'BAHREIN', 'KOREA',\n",
       "       'RED SEA?', 'ASIA?', 'CEYLON (SRI LANKA)'], dtype=object)"
      ]
     },
     "execution_count": 362,
     "metadata": {},
     "output_type": "execute_result"
    }
   ],
   "source": [
    "df.country.unique()"
   ]
  },
  {
   "cell_type": "code",
   "execution_count": 363,
   "metadata": {
    "ExecuteTime": {
     "end_time": "2020-06-17T11:37:57.395002Z",
     "start_time": "2020-06-17T11:37:57.366356Z"
    }
   },
   "outputs": [],
   "source": [
    "df.country = df.country.apply(lambda x: x.upper() if type(x) == str else x )"
   ]
  },
  {
   "cell_type": "code",
   "execution_count": 364,
   "metadata": {
    "ExecuteTime": {
     "end_time": "2020-06-17T11:37:57.477722Z",
     "start_time": "2020-06-17T11:37:57.399582Z"
    }
   },
   "outputs": [
    {
     "data": {
      "text/html": [
       "<div>\n",
       "<style scoped>\n",
       "    .dataframe tbody tr th:only-of-type {\n",
       "        vertical-align: middle;\n",
       "    }\n",
       "\n",
       "    .dataframe tbody tr th {\n",
       "        vertical-align: top;\n",
       "    }\n",
       "\n",
       "    .dataframe thead th {\n",
       "        text-align: right;\n",
       "    }\n",
       "</style>\n",
       "<table border=\"1\" class=\"dataframe\">\n",
       "  <thead>\n",
       "    <tr style=\"text-align: right;\">\n",
       "      <th></th>\n",
       "      <th>date</th>\n",
       "      <th>year</th>\n",
       "      <th>country</th>\n",
       "      <th>activity</th>\n",
       "      <th>name</th>\n",
       "      <th>sex</th>\n",
       "      <th>fatal</th>\n",
       "    </tr>\n",
       "  </thead>\n",
       "  <tbody>\n",
       "    <tr>\n",
       "      <th>62</th>\n",
       "      <td>Reported 13-Nov-2017</td>\n",
       "      <td>2017</td>\n",
       "      <td>NaN</td>\n",
       "      <td>Surfing</td>\n",
       "      <td>Timur Yunusov</td>\n",
       "      <td>M</td>\n",
       "      <td>N</td>\n",
       "    </tr>\n",
       "    <tr>\n",
       "      <th>525</th>\n",
       "      <td>Aug-2014</td>\n",
       "      <td>2014</td>\n",
       "      <td>NaN</td>\n",
       "      <td>Sea disaster</td>\n",
       "      <td>Cuban refugees</td>\n",
       "      <td>M</td>\n",
       "      <td>NaN</td>\n",
       "    </tr>\n",
       "    <tr>\n",
       "      <th>2956</th>\n",
       "      <td>Ca. 1983</td>\n",
       "      <td>1983</td>\n",
       "      <td>NaN</td>\n",
       "      <td>Swimming</td>\n",
       "      <td>Padma Shri Taranath Narayan Shenoy</td>\n",
       "      <td>M</td>\n",
       "      <td>N</td>\n",
       "    </tr>\n",
       "    <tr>\n",
       "      <th>3378</th>\n",
       "      <td>Nov-1970</td>\n",
       "      <td>1970</td>\n",
       "      <td>NaN</td>\n",
       "      <td>NaN</td>\n",
       "      <td>Heinz Plotsky</td>\n",
       "      <td>M</td>\n",
       "      <td>N</td>\n",
       "    </tr>\n",
       "    <tr>\n",
       "      <th>3387</th>\n",
       "      <td>02-Aug-1970</td>\n",
       "      <td>1970</td>\n",
       "      <td>NaN</td>\n",
       "      <td>Sea Disaster Sinking of ferryboat Christina</td>\n",
       "      <td>NaN</td>\n",
       "      <td>NaN</td>\n",
       "      <td>NaN</td>\n",
       "    </tr>\n",
       "    <tr>\n",
       "      <th>3388</th>\n",
       "      <td>5-Jul-1970</td>\n",
       "      <td>1970</td>\n",
       "      <td>NaN</td>\n",
       "      <td>NaN</td>\n",
       "      <td>male</td>\n",
       "      <td>M</td>\n",
       "      <td>N</td>\n",
       "    </tr>\n",
       "    <tr>\n",
       "      <th>3395</th>\n",
       "      <td>Apr-1970</td>\n",
       "      <td>1970</td>\n",
       "      <td>NaN</td>\n",
       "      <td>Freediving</td>\n",
       "      <td>Lionel Jarvis</td>\n",
       "      <td>M</td>\n",
       "      <td>N</td>\n",
       "    </tr>\n",
       "    <tr>\n",
       "      <th>3399</th>\n",
       "      <td>5-Feb-1970</td>\n",
       "      <td>1970</td>\n",
       "      <td>NaN</td>\n",
       "      <td>Wading</td>\n",
       "      <td>Sally Anne Irvine</td>\n",
       "      <td>F</td>\n",
       "      <td>N</td>\n",
       "    </tr>\n",
       "    <tr>\n",
       "      <th>3425</th>\n",
       "      <td>Aug-1969</td>\n",
       "      <td>1969</td>\n",
       "      <td>NaN</td>\n",
       "      <td>NaN</td>\n",
       "      <td>Rodney Hughes</td>\n",
       "      <td>M</td>\n",
       "      <td>N</td>\n",
       "    </tr>\n",
       "    <tr>\n",
       "      <th>3605</th>\n",
       "      <td>21-Oct-1965</td>\n",
       "      <td>1965</td>\n",
       "      <td>NaN</td>\n",
       "      <td>The boat Caribou II sank</td>\n",
       "      <td>Mario Castellanos</td>\n",
       "      <td>M</td>\n",
       "      <td>N</td>\n",
       "    </tr>\n",
       "    <tr>\n",
       "      <th>3661</th>\n",
       "      <td>27-Sep-1964</td>\n",
       "      <td>1964</td>\n",
       "      <td>NaN</td>\n",
       "      <td>Spearfishing</td>\n",
       "      <td>Giancarlo Griffon</td>\n",
       "      <td>M</td>\n",
       "      <td>NaN</td>\n",
       "    </tr>\n",
       "    <tr>\n",
       "      <th>4018</th>\n",
       "      <td>26-Jan-1960</td>\n",
       "      <td>1960</td>\n",
       "      <td>NaN</td>\n",
       "      <td>Portuguese Airliner with 9 people aboard went ...</td>\n",
       "      <td>NaN</td>\n",
       "      <td>NaN</td>\n",
       "      <td>N</td>\n",
       "    </tr>\n",
       "    <tr>\n",
       "      <th>4231</th>\n",
       "      <td>13-Sep-1956</td>\n",
       "      <td>1956</td>\n",
       "      <td>NaN</td>\n",
       "      <td>Climbing back on ship</td>\n",
       "      <td>male</td>\n",
       "      <td>M</td>\n",
       "      <td>Y</td>\n",
       "    </tr>\n",
       "    <tr>\n",
       "      <th>4266</th>\n",
       "      <td>1956</td>\n",
       "      <td>1956</td>\n",
       "      <td>NaN</td>\n",
       "      <td>Shipwreck</td>\n",
       "      <td>Captain Eric Hunt, the cook &amp; a French passenger</td>\n",
       "      <td>M</td>\n",
       "      <td>Y</td>\n",
       "    </tr>\n",
       "    <tr>\n",
       "      <th>4498</th>\n",
       "      <td>Dec-1949</td>\n",
       "      <td>1949</td>\n",
       "      <td>NaN</td>\n",
       "      <td>Sea Disaster, sinking of the motorship Wingate</td>\n",
       "      <td>Albert Battles, James Dean &amp; 4 crew</td>\n",
       "      <td>M</td>\n",
       "      <td>Y</td>\n",
       "    </tr>\n",
       "    <tr>\n",
       "      <th>4639</th>\n",
       "      <td>24-Oct-1944</td>\n",
       "      <td>1944</td>\n",
       "      <td>NaN</td>\n",
       "      <td>Japanese POW ship Arisan Maru with 1800 Americ...</td>\n",
       "      <td>NaN</td>\n",
       "      <td>M</td>\n",
       "      <td>Y</td>\n",
       "    </tr>\n",
       "    <tr>\n",
       "      <th>4700</th>\n",
       "      <td>Nov-1942</td>\n",
       "      <td>1942</td>\n",
       "      <td>NaN</td>\n",
       "      <td>Dutch merchant ship Zaandam torpedoed  by the ...</td>\n",
       "      <td>NaN</td>\n",
       "      <td>M</td>\n",
       "      <td>Y</td>\n",
       "    </tr>\n",
       "    <tr>\n",
       "      <th>4712</th>\n",
       "      <td>Jun-1942</td>\n",
       "      <td>1942</td>\n",
       "      <td>NaN</td>\n",
       "      <td>On life raft tethered to lifeboat. A seaman pu...</td>\n",
       "      <td>male</td>\n",
       "      <td>M</td>\n",
       "      <td>N</td>\n",
       "    </tr>\n",
       "    <tr>\n",
       "      <th>4726</th>\n",
       "      <td>1942</td>\n",
       "      <td>1942</td>\n",
       "      <td>NaN</td>\n",
       "      <td>Jumped overboard from torpedoed Panamanian fre...</td>\n",
       "      <td>male</td>\n",
       "      <td>M</td>\n",
       "      <td>Y</td>\n",
       "    </tr>\n",
       "    <tr>\n",
       "      <th>4729</th>\n",
       "      <td>1942</td>\n",
       "      <td>1942</td>\n",
       "      <td>NaN</td>\n",
       "      <td>Days before the surrender of Singapore, the 3 ...</td>\n",
       "      <td>Bombardier J. Hall, Private Green of the Sherw...</td>\n",
       "      <td>M</td>\n",
       "      <td>N</td>\n",
       "    </tr>\n",
       "    <tr>\n",
       "      <th>4911</th>\n",
       "      <td>Reported 12-Apr-1935</td>\n",
       "      <td>1935</td>\n",
       "      <td>NaN</td>\n",
       "      <td>Diving</td>\n",
       "      <td>Pearl Purdy Scott</td>\n",
       "      <td>F</td>\n",
       "      <td>N</td>\n",
       "    </tr>\n",
       "    <tr>\n",
       "      <th>5020</th>\n",
       "      <td>Reported 27-Apr-1931</td>\n",
       "      <td>1931</td>\n",
       "      <td>NaN</td>\n",
       "      <td>Fishing, boat capsized</td>\n",
       "      <td>Quillezic</td>\n",
       "      <td>M</td>\n",
       "      <td>Y</td>\n",
       "    </tr>\n",
       "    <tr>\n",
       "      <th>5060</th>\n",
       "      <td>Reported 09-Dec-1929</td>\n",
       "      <td>1929</td>\n",
       "      <td>NaN</td>\n",
       "      <td>NaN</td>\n",
       "      <td>Thomas Duggan</td>\n",
       "      <td>M</td>\n",
       "      <td>Y</td>\n",
       "    </tr>\n",
       "    <tr>\n",
       "      <th>5425</th>\n",
       "      <td>17-Jan-1909</td>\n",
       "      <td>1909</td>\n",
       "      <td>NaN</td>\n",
       "      <td>Jumped overboard</td>\n",
       "      <td>Thomas Butler</td>\n",
       "      <td>M</td>\n",
       "      <td>NaN</td>\n",
       "    </tr>\n",
       "    <tr>\n",
       "      <th>5586</th>\n",
       "      <td>Reported 19-Sep-1898</td>\n",
       "      <td>1898</td>\n",
       "      <td>NaN</td>\n",
       "      <td>Diving</td>\n",
       "      <td>Halletts</td>\n",
       "      <td>M</td>\n",
       "      <td>N</td>\n",
       "    </tr>\n",
       "    <tr>\n",
       "      <th>5587</th>\n",
       "      <td>Reported 19-Sep-1898</td>\n",
       "      <td>1898</td>\n",
       "      <td>NaN</td>\n",
       "      <td>Diving</td>\n",
       "      <td>male</td>\n",
       "      <td>M</td>\n",
       "      <td>N</td>\n",
       "    </tr>\n",
       "    <tr>\n",
       "      <th>5612</th>\n",
       "      <td>Reported 15-Mar-1897</td>\n",
       "      <td>1897</td>\n",
       "      <td>NaN</td>\n",
       "      <td>Swimming</td>\n",
       "      <td>male</td>\n",
       "      <td>M</td>\n",
       "      <td>Y</td>\n",
       "    </tr>\n",
       "    <tr>\n",
       "      <th>5636</th>\n",
       "      <td>Reported 13-Jun-1895</td>\n",
       "      <td>1895</td>\n",
       "      <td>NaN</td>\n",
       "      <td>Diving</td>\n",
       "      <td>Marsh</td>\n",
       "      <td>M</td>\n",
       "      <td>N</td>\n",
       "    </tr>\n",
       "    <tr>\n",
       "      <th>5742</th>\n",
       "      <td>30-Jul-1887</td>\n",
       "      <td>1887</td>\n",
       "      <td>NaN</td>\n",
       "      <td>Sea disaster, wreck of the sloop Sara</td>\n",
       "      <td>2 males</td>\n",
       "      <td>M</td>\n",
       "      <td>Y</td>\n",
       "    </tr>\n",
       "    <tr>\n",
       "      <th>5770</th>\n",
       "      <td>Reported 16-Apr-1885</td>\n",
       "      <td>1885</td>\n",
       "      <td>NaN</td>\n",
       "      <td>Swimming</td>\n",
       "      <td>2 males</td>\n",
       "      <td>M</td>\n",
       "      <td>Y</td>\n",
       "    </tr>\n",
       "    <tr>\n",
       "      <th>5808</th>\n",
       "      <td>Reported 16-Aug-1881</td>\n",
       "      <td>1881</td>\n",
       "      <td>NaN</td>\n",
       "      <td>Floating, holding onto an oar after dory capsized</td>\n",
       "      <td>George Sedgwick</td>\n",
       "      <td>M</td>\n",
       "      <td>Y</td>\n",
       "    </tr>\n",
       "    <tr>\n",
       "      <th>5810</th>\n",
       "      <td>25-Jul-1881</td>\n",
       "      <td>1881</td>\n",
       "      <td>NaN</td>\n",
       "      <td>Bathing</td>\n",
       "      <td>Father Hudson</td>\n",
       "      <td>M</td>\n",
       "      <td>N</td>\n",
       "    </tr>\n",
       "    <tr>\n",
       "      <th>5839</th>\n",
       "      <td>13-Oct-1878</td>\n",
       "      <td>1878</td>\n",
       "      <td>NaN</td>\n",
       "      <td>Jumped overboard after murdering 2 shipmates</td>\n",
       "      <td>Sherrington</td>\n",
       "      <td>M</td>\n",
       "      <td>Y</td>\n",
       "    </tr>\n",
       "    <tr>\n",
       "      <th>5885</th>\n",
       "      <td>Reported 15-Jun-1874</td>\n",
       "      <td>1874</td>\n",
       "      <td>NaN</td>\n",
       "      <td>Salvaging a shipwreck</td>\n",
       "      <td>male</td>\n",
       "      <td>M</td>\n",
       "      <td>N</td>\n",
       "    </tr>\n",
       "    <tr>\n",
       "      <th>5920</th>\n",
       "      <td>10-Apr-1869</td>\n",
       "      <td>1869</td>\n",
       "      <td>NaN</td>\n",
       "      <td>Fell overboard</td>\n",
       "      <td>Christian Frederick</td>\n",
       "      <td>M</td>\n",
       "      <td>NaN</td>\n",
       "    </tr>\n",
       "    <tr>\n",
       "      <th>5996</th>\n",
       "      <td>Reported 20-Nov-1856</td>\n",
       "      <td>1856</td>\n",
       "      <td>NaN</td>\n",
       "      <td>Swimming</td>\n",
       "      <td>Cornelius Conhlren</td>\n",
       "      <td>M</td>\n",
       "      <td>Y</td>\n",
       "    </tr>\n",
       "    <tr>\n",
       "      <th>6001</th>\n",
       "      <td>28-Jul-1855</td>\n",
       "      <td>1855</td>\n",
       "      <td>NaN</td>\n",
       "      <td>Bathing</td>\n",
       "      <td>a young boy, one of the crew of the Post Boy</td>\n",
       "      <td>M</td>\n",
       "      <td>Y</td>\n",
       "    </tr>\n",
       "    <tr>\n",
       "      <th>6092</th>\n",
       "      <td>Reported 22-Apr-1830</td>\n",
       "      <td>1830</td>\n",
       "      <td>NaN</td>\n",
       "      <td>NaN</td>\n",
       "      <td>Jose</td>\n",
       "      <td>M</td>\n",
       "      <td>Y</td>\n",
       "    </tr>\n",
       "    <tr>\n",
       "      <th>6119</th>\n",
       "      <td>01-Mar-1811</td>\n",
       "      <td>1811</td>\n",
       "      <td>NaN</td>\n",
       "      <td>Fell overboard</td>\n",
       "      <td>John Walker</td>\n",
       "      <td>M</td>\n",
       "      <td>Y</td>\n",
       "    </tr>\n",
       "    <tr>\n",
       "      <th>6131</th>\n",
       "      <td>Reported 18-Dec-1801</td>\n",
       "      <td>1801</td>\n",
       "      <td>NaN</td>\n",
       "      <td>Standing on landed shark's tail</td>\n",
       "      <td>Stephen Pettigew</td>\n",
       "      <td>N</td>\n",
       "      <td>Y</td>\n",
       "    </tr>\n",
       "    <tr>\n",
       "      <th>6133</th>\n",
       "      <td>Reported May-28-1797</td>\n",
       "      <td>1797</td>\n",
       "      <td>NaN</td>\n",
       "      <td>Dropped overboard</td>\n",
       "      <td>child</td>\n",
       "      <td>NaN</td>\n",
       "      <td>Y</td>\n",
       "    </tr>\n",
       "    <tr>\n",
       "      <th>6137</th>\n",
       "      <td>05-Jul-1787</td>\n",
       "      <td>1787</td>\n",
       "      <td>NaN</td>\n",
       "      <td>Swimming</td>\n",
       "      <td>Private Isaac Hicksled</td>\n",
       "      <td>M</td>\n",
       "      <td>Y</td>\n",
       "    </tr>\n",
       "    <tr>\n",
       "      <th>6155</th>\n",
       "      <td>17-Dec-1742</td>\n",
       "      <td>1742</td>\n",
       "      <td>NaN</td>\n",
       "      <td>Swimming</td>\n",
       "      <td>2 impressed seamen</td>\n",
       "      <td>M</td>\n",
       "      <td>Y</td>\n",
       "    </tr>\n",
       "    <tr>\n",
       "      <th>6165</th>\n",
       "      <td>Reported 1638</td>\n",
       "      <td>1638</td>\n",
       "      <td>NaN</td>\n",
       "      <td>NaN</td>\n",
       "      <td>sailors</td>\n",
       "      <td>M</td>\n",
       "      <td>UNKNOWN</td>\n",
       "    </tr>\n",
       "    <tr>\n",
       "      <th>6171</th>\n",
       "      <td>1555</td>\n",
       "      <td>1555</td>\n",
       "      <td>NaN</td>\n",
       "      <td>Swimming</td>\n",
       "      <td>male</td>\n",
       "      <td>M</td>\n",
       "      <td>UNKNOWN</td>\n",
       "    </tr>\n",
       "    <tr>\n",
       "      <th>6175</th>\n",
       "      <td>77  A.D.</td>\n",
       "      <td>77</td>\n",
       "      <td>NaN</td>\n",
       "      <td>Sponge diving</td>\n",
       "      <td>males</td>\n",
       "      <td>M</td>\n",
       "      <td>Y</td>\n",
       "    </tr>\n",
       "    <tr>\n",
       "      <th>6199</th>\n",
       "      <td>Before 2011</td>\n",
       "      <td>2010</td>\n",
       "      <td>NaN</td>\n",
       "      <td>NaN</td>\n",
       "      <td>Phillip Peters</td>\n",
       "      <td>M</td>\n",
       "      <td>N</td>\n",
       "    </tr>\n",
       "    <tr>\n",
       "      <th>6206</th>\n",
       "      <td>Before 2012</td>\n",
       "      <td>2011</td>\n",
       "      <td>NaN</td>\n",
       "      <td>Netting shrimp</td>\n",
       "      <td>Sametra Mestri</td>\n",
       "      <td>F</td>\n",
       "      <td>N</td>\n",
       "    </tr>\n",
       "    <tr>\n",
       "      <th>6259</th>\n",
       "      <td>1941-1945</td>\n",
       "      <td>1945</td>\n",
       "      <td>NaN</td>\n",
       "      <td>A group of survivors on a raft for 17-days</td>\n",
       "      <td>C.</td>\n",
       "      <td>NaN</td>\n",
       "      <td>Y</td>\n",
       "    </tr>\n",
       "  </tbody>\n",
       "</table>\n",
       "</div>"
      ],
      "text/plain": [
       "                      date  year country  \\\n",
       "62    Reported 13-Nov-2017  2017     NaN   \n",
       "525               Aug-2014  2014     NaN   \n",
       "2956              Ca. 1983  1983     NaN   \n",
       "3378              Nov-1970  1970     NaN   \n",
       "3387           02-Aug-1970  1970     NaN   \n",
       "3388            5-Jul-1970  1970     NaN   \n",
       "3395              Apr-1970  1970     NaN   \n",
       "3399            5-Feb-1970  1970     NaN   \n",
       "3425              Aug-1969  1969     NaN   \n",
       "3605           21-Oct-1965  1965     NaN   \n",
       "3661           27-Sep-1964  1964     NaN   \n",
       "4018           26-Jan-1960  1960     NaN   \n",
       "4231           13-Sep-1956  1956     NaN   \n",
       "4266                  1956  1956     NaN   \n",
       "4498              Dec-1949  1949     NaN   \n",
       "4639           24-Oct-1944  1944     NaN   \n",
       "4700              Nov-1942  1942     NaN   \n",
       "4712              Jun-1942  1942     NaN   \n",
       "4726                  1942  1942     NaN   \n",
       "4729                  1942  1942     NaN   \n",
       "4911  Reported 12-Apr-1935  1935     NaN   \n",
       "5020  Reported 27-Apr-1931  1931     NaN   \n",
       "5060  Reported 09-Dec-1929  1929     NaN   \n",
       "5425           17-Jan-1909  1909     NaN   \n",
       "5586  Reported 19-Sep-1898  1898     NaN   \n",
       "5587  Reported 19-Sep-1898  1898     NaN   \n",
       "5612  Reported 15-Mar-1897  1897     NaN   \n",
       "5636  Reported 13-Jun-1895  1895     NaN   \n",
       "5742           30-Jul-1887  1887     NaN   \n",
       "5770  Reported 16-Apr-1885  1885     NaN   \n",
       "5808  Reported 16-Aug-1881  1881     NaN   \n",
       "5810           25-Jul-1881  1881     NaN   \n",
       "5839           13-Oct-1878  1878     NaN   \n",
       "5885  Reported 15-Jun-1874  1874     NaN   \n",
       "5920           10-Apr-1869  1869     NaN   \n",
       "5996  Reported 20-Nov-1856  1856     NaN   \n",
       "6001           28-Jul-1855  1855     NaN   \n",
       "6092  Reported 22-Apr-1830  1830     NaN   \n",
       "6119           01-Mar-1811  1811     NaN   \n",
       "6131  Reported 18-Dec-1801  1801     NaN   \n",
       "6133  Reported May-28-1797  1797     NaN   \n",
       "6137           05-Jul-1787  1787     NaN   \n",
       "6155           17-Dec-1742  1742     NaN   \n",
       "6165         Reported 1638  1638     NaN   \n",
       "6171                  1555  1555     NaN   \n",
       "6175              77  A.D.    77     NaN   \n",
       "6199           Before 2011  2010     NaN   \n",
       "6206           Before 2012  2011     NaN   \n",
       "6259             1941-1945  1945     NaN   \n",
       "\n",
       "                                               activity  \\\n",
       "62                                              Surfing   \n",
       "525                                        Sea disaster   \n",
       "2956                                           Swimming   \n",
       "3378                                                NaN   \n",
       "3387        Sea Disaster Sinking of ferryboat Christina   \n",
       "3388                                                NaN   \n",
       "3395                                         Freediving   \n",
       "3399                                             Wading   \n",
       "3425                                                NaN   \n",
       "3605                           The boat Caribou II sank   \n",
       "3661                                       Spearfishing   \n",
       "4018  Portuguese Airliner with 9 people aboard went ...   \n",
       "4231                              Climbing back on ship   \n",
       "4266                                          Shipwreck   \n",
       "4498     Sea Disaster, sinking of the motorship Wingate   \n",
       "4639  Japanese POW ship Arisan Maru with 1800 Americ...   \n",
       "4700  Dutch merchant ship Zaandam torpedoed  by the ...   \n",
       "4712  On life raft tethered to lifeboat. A seaman pu...   \n",
       "4726  Jumped overboard from torpedoed Panamanian fre...   \n",
       "4729  Days before the surrender of Singapore, the 3 ...   \n",
       "4911                                             Diving   \n",
       "5020                             Fishing, boat capsized   \n",
       "5060                                                NaN   \n",
       "5425                                  Jumped overboard    \n",
       "5586                                             Diving   \n",
       "5587                                             Diving   \n",
       "5612                                           Swimming   \n",
       "5636                                             Diving   \n",
       "5742              Sea disaster, wreck of the sloop Sara   \n",
       "5770                                           Swimming   \n",
       "5808  Floating, holding onto an oar after dory capsized   \n",
       "5810                                            Bathing   \n",
       "5839       Jumped overboard after murdering 2 shipmates   \n",
       "5885                              Salvaging a shipwreck   \n",
       "5920                                     Fell overboard   \n",
       "5996                                           Swimming   \n",
       "6001                                            Bathing   \n",
       "6092                                                NaN   \n",
       "6119                                     Fell overboard   \n",
       "6131                    Standing on landed shark's tail   \n",
       "6133                                  Dropped overboard   \n",
       "6137                                           Swimming   \n",
       "6155                                           Swimming   \n",
       "6165                                                NaN   \n",
       "6171                                           Swimming   \n",
       "6175                                      Sponge diving   \n",
       "6199                                                NaN   \n",
       "6206                                     Netting shrimp   \n",
       "6259         A group of survivors on a raft for 17-days   \n",
       "\n",
       "                                                   name  sex    fatal  \n",
       "62                                        Timur Yunusov    M        N  \n",
       "525                                      Cuban refugees    M      NaN  \n",
       "2956                 Padma Shri Taranath Narayan Shenoy    M        N  \n",
       "3378                                      Heinz Plotsky    M        N  \n",
       "3387                                                NaN  NaN      NaN  \n",
       "3388                                               male    M        N  \n",
       "3395                                      Lionel Jarvis    M        N  \n",
       "3399                                  Sally Anne Irvine    F        N  \n",
       "3425                                      Rodney Hughes    M        N  \n",
       "3605                                  Mario Castellanos    M        N  \n",
       "3661                                  Giancarlo Griffon    M      NaN  \n",
       "4018                                                NaN  NaN        N  \n",
       "4231                                               male    M        Y  \n",
       "4266   Captain Eric Hunt, the cook & a French passenger    M        Y  \n",
       "4498                Albert Battles, James Dean & 4 crew    M        Y  \n",
       "4639                                                NaN    M        Y  \n",
       "4700                                                NaN    M        Y  \n",
       "4712                                               male    M        N  \n",
       "4726                                               male    M        Y  \n",
       "4729  Bombardier J. Hall, Private Green of the Sherw...    M        N  \n",
       "4911                                  Pearl Purdy Scott    F        N  \n",
       "5020                                          Quillezic    M        Y  \n",
       "5060                                      Thomas Duggan    M        Y  \n",
       "5425                                      Thomas Butler    M      NaN  \n",
       "5586                                           Halletts    M        N  \n",
       "5587                                               male    M        N  \n",
       "5612                                               male    M        Y  \n",
       "5636                                              Marsh    M        N  \n",
       "5742                                            2 males    M        Y  \n",
       "5770                                            2 males    M        Y  \n",
       "5808                                    George Sedgwick    M        Y  \n",
       "5810                                      Father Hudson    M        N  \n",
       "5839                                        Sherrington    M        Y  \n",
       "5885                                               male    M        N  \n",
       "5920                                Christian Frederick    M      NaN  \n",
       "5996                                 Cornelius Conhlren    M        Y  \n",
       "6001       a young boy, one of the crew of the Post Boy    M        Y  \n",
       "6092                                               Jose    M        Y  \n",
       "6119                                        John Walker    M        Y  \n",
       "6131                                   Stephen Pettigew    N        Y  \n",
       "6133                                              child  NaN        Y  \n",
       "6137                             Private Isaac Hicksled    M        Y  \n",
       "6155                                 2 impressed seamen    M        Y  \n",
       "6165                                            sailors    M  UNKNOWN  \n",
       "6171                                               male    M  UNKNOWN  \n",
       "6175                                              males    M        Y  \n",
       "6199                                     Phillip Peters    M        N  \n",
       "6206                                     Sametra Mestri    F        N  \n",
       "6259                                                 C.  NaN        Y  "
      ]
     },
     "execution_count": 364,
     "metadata": {},
     "output_type": "execute_result"
    }
   ],
   "source": [
    "df.loc[df['country'].isna(),:] "
   ]
  },
  {
   "cell_type": "markdown",
   "metadata": {},
   "source": [
    "Rows with the column country null were filled by 'Undefined', because there ain't enought information."
   ]
  },
  {
   "cell_type": "code",
   "execution_count": 365,
   "metadata": {
    "ExecuteTime": {
     "end_time": "2020-06-17T11:37:57.511506Z",
     "start_time": "2020-06-17T11:37:57.484837Z"
    }
   },
   "outputs": [],
   "source": [
    "df.loc[df['country'].isna(),'country'] = 'UNDEFINED' "
   ]
  },
  {
   "cell_type": "code",
   "execution_count": 366,
   "metadata": {
    "ExecuteTime": {
     "end_time": "2020-06-17T11:37:57.542256Z",
     "start_time": "2020-06-17T11:37:57.514500Z"
    }
   },
   "outputs": [
    {
     "data": {
      "text/plain": [
       "country\n",
       "USA                 2222\n",
       "AUSTRALIA           1337\n",
       "SOUTH AFRICA         578\n",
       "PAPUA NEW GUINEA     132\n",
       "NEW ZEALAND          128\n",
       "BRAZIL               112\n",
       "BAHAMAS              109\n",
       "MEXICO                89\n",
       "ITALY                 70\n",
       "FIJI                  65\n",
       "PHILIPPINES           61\n",
       "REUNION               60\n",
       "NEW CALEDONIA         53\n",
       "UNDEFINED             49\n",
       "CUBA                  46\n",
       "MOZAMBIQUE            45\n",
       "SPAIN                 44\n",
       "INDIA                 39\n",
       "EGYPT                 38\n",
       "JAPAN                 34\n",
       "CROATIA               34\n",
       "PANAMA                32\n",
       "SOLOMON ISLANDS       30\n",
       "IRAN                  29\n",
       "JAMAICA               27\n",
       "FRENCH POLYNESIA      25\n",
       "HONG KONG             24\n",
       "ENGLAND               23\n",
       "INDONESIA             23\n",
       "GREECE                23\n",
       "Name: date, dtype: int64"
      ]
     },
     "execution_count": 366,
     "metadata": {},
     "output_type": "execute_result"
    }
   ],
   "source": [
    "df.groupby(by = 'country').date.count().sort_values(ascending = False).head(30)"
   ]
  },
  {
   "cell_type": "code",
   "execution_count": 367,
   "metadata": {
    "ExecuteTime": {
     "end_time": "2020-06-17T11:37:57.573180Z",
     "start_time": "2020-06-17T11:37:57.546349Z"
    }
   },
   "outputs": [
    {
     "name": "stdout",
     "output_type": "stream",
     "text": [
      "<class 'pandas.core.frame.DataFrame'>\n",
      "Int64Index: 6286 entries, 0 to 6301\n",
      "Data columns (total 7 columns):\n",
      " #   Column    Non-Null Count  Dtype \n",
      "---  ------    --------------  ----- \n",
      " 0   date      6286 non-null   object\n",
      " 1   year      6286 non-null   object\n",
      " 2   country   6286 non-null   object\n",
      " 3   activity  5743 non-null   object\n",
      " 4   name      6076 non-null   object\n",
      " 5   sex       5723 non-null   object\n",
      " 6   fatal     5747 non-null   object\n",
      "dtypes: object(7)\n",
      "memory usage: 392.9+ KB\n"
     ]
    }
   ],
   "source": [
    "df.info()"
   ]
  },
  {
   "cell_type": "markdown",
   "metadata": {},
   "source": [
    "### Cleaning 'fatal' column."
   ]
  },
  {
   "cell_type": "code",
   "execution_count": 368,
   "metadata": {
    "ExecuteTime": {
     "end_time": "2020-06-17T11:37:57.588743Z",
     "start_time": "2020-06-17T11:37:57.575468Z"
    }
   },
   "outputs": [
    {
     "data": {
      "text/plain": [
       "array(['N', 'Y', nan, 'M', 'UNKNOWN', '2017', ' N', 'N ', 'y'],\n",
       "      dtype=object)"
      ]
     },
     "execution_count": 368,
     "metadata": {},
     "output_type": "execute_result"
    }
   ],
   "source": [
    "df.fatal.unique()"
   ]
  },
  {
   "cell_type": "code",
   "execution_count": 369,
   "metadata": {
    "ExecuteTime": {
     "end_time": "2020-06-17T11:37:57.637285Z",
     "start_time": "2020-06-17T11:37:57.593611Z"
    }
   },
   "outputs": [
    {
     "data": {
      "text/html": [
       "<div>\n",
       "<style scoped>\n",
       "    .dataframe tbody tr th:only-of-type {\n",
       "        vertical-align: middle;\n",
       "    }\n",
       "\n",
       "    .dataframe tbody tr th {\n",
       "        vertical-align: top;\n",
       "    }\n",
       "\n",
       "    .dataframe thead th {\n",
       "        text-align: right;\n",
       "    }\n",
       "</style>\n",
       "<table border=\"1\" class=\"dataframe\">\n",
       "  <thead>\n",
       "    <tr style=\"text-align: right;\">\n",
       "      <th></th>\n",
       "      <th>date</th>\n",
       "      <th>year</th>\n",
       "      <th>country</th>\n",
       "      <th>activity</th>\n",
       "      <th>name</th>\n",
       "      <th>sex</th>\n",
       "      <th>fatal</th>\n",
       "    </tr>\n",
       "  </thead>\n",
       "  <tbody>\n",
       "    <tr>\n",
       "      <th>624</th>\n",
       "      <td>08-Sep-2013</td>\n",
       "      <td>2013</td>\n",
       "      <td>USA</td>\n",
       "      <td>NaN</td>\n",
       "      <td>female</td>\n",
       "      <td>F</td>\n",
       "      <td>UNKNOWN</td>\n",
       "    </tr>\n",
       "    <tr>\n",
       "      <th>1270</th>\n",
       "      <td>20-Apr-2008</td>\n",
       "      <td>2008</td>\n",
       "      <td>AUSTRALIA</td>\n",
       "      <td>NaN</td>\n",
       "      <td>Jamie Adlington</td>\n",
       "      <td>M</td>\n",
       "      <td>UNKNOWN</td>\n",
       "    </tr>\n",
       "    <tr>\n",
       "      <th>2250</th>\n",
       "      <td>07-Jun-1997</td>\n",
       "      <td>1997</td>\n",
       "      <td>BRAZIL</td>\n",
       "      <td>Bathing</td>\n",
       "      <td>José Luiz Lipiani</td>\n",
       "      <td>M</td>\n",
       "      <td>UNKNOWN</td>\n",
       "    </tr>\n",
       "    <tr>\n",
       "      <th>2260</th>\n",
       "      <td>21-Feb-1997</td>\n",
       "      <td>1997</td>\n",
       "      <td>USA</td>\n",
       "      <td>NaN</td>\n",
       "      <td>Gersome Perreno</td>\n",
       "      <td>M</td>\n",
       "      <td>UNKNOWN</td>\n",
       "    </tr>\n",
       "    <tr>\n",
       "      <th>2267</th>\n",
       "      <td>29-Dec-1996</td>\n",
       "      <td>1996</td>\n",
       "      <td>AUSTRALIA</td>\n",
       "      <td>Surfing</td>\n",
       "      <td>Blair Hall</td>\n",
       "      <td>M</td>\n",
       "      <td>UNKNOWN</td>\n",
       "    </tr>\n",
       "    <tr>\n",
       "      <th>...</th>\n",
       "      <td>...</td>\n",
       "      <td>...</td>\n",
       "      <td>...</td>\n",
       "      <td>...</td>\n",
       "      <td>...</td>\n",
       "      <td>...</td>\n",
       "      <td>...</td>\n",
       "    </tr>\n",
       "    <tr>\n",
       "      <th>6167</th>\n",
       "      <td>Reported 1617</td>\n",
       "      <td>1617</td>\n",
       "      <td>INDIA</td>\n",
       "      <td>NaN</td>\n",
       "      <td>Indian people</td>\n",
       "      <td>NaN</td>\n",
       "      <td>UNKNOWN</td>\n",
       "    </tr>\n",
       "    <tr>\n",
       "      <th>6169</th>\n",
       "      <td>1595</td>\n",
       "      <td>1595</td>\n",
       "      <td>INDIA</td>\n",
       "      <td>Ship lay at anchor &amp; man was working on its ru...</td>\n",
       "      <td>male</td>\n",
       "      <td>M</td>\n",
       "      <td>UNKNOWN</td>\n",
       "    </tr>\n",
       "    <tr>\n",
       "      <th>6171</th>\n",
       "      <td>1555</td>\n",
       "      <td>1555</td>\n",
       "      <td>UNDEFINED</td>\n",
       "      <td>Swimming</td>\n",
       "      <td>male</td>\n",
       "      <td>M</td>\n",
       "      <td>UNKNOWN</td>\n",
       "    </tr>\n",
       "    <tr>\n",
       "      <th>6172</th>\n",
       "      <td>Ca. 1554</td>\n",
       "      <td>1554</td>\n",
       "      <td>FRANCE</td>\n",
       "      <td>NaN</td>\n",
       "      <td>males (wearing armor)</td>\n",
       "      <td>M</td>\n",
       "      <td>UNKNOWN</td>\n",
       "    </tr>\n",
       "    <tr>\n",
       "      <th>6277</th>\n",
       "      <td>Before 1927</td>\n",
       "      <td>1926</td>\n",
       "      <td>AUSTRALIA</td>\n",
       "      <td>NaN</td>\n",
       "      <td>male, the Sergeant of Marines</td>\n",
       "      <td>M</td>\n",
       "      <td>UNKNOWN</td>\n",
       "    </tr>\n",
       "  </tbody>\n",
       "</table>\n",
       "<p>70 rows × 7 columns</p>\n",
       "</div>"
      ],
      "text/plain": [
       "               date  year    country  \\\n",
       "624     08-Sep-2013  2013        USA   \n",
       "1270    20-Apr-2008  2008  AUSTRALIA   \n",
       "2250    07-Jun-1997  1997     BRAZIL   \n",
       "2260    21-Feb-1997  1997        USA   \n",
       "2267    29-Dec-1996  1996  AUSTRALIA   \n",
       "...             ...   ...        ...   \n",
       "6167  Reported 1617  1617      INDIA   \n",
       "6169           1595  1595      INDIA   \n",
       "6171           1555  1555  UNDEFINED   \n",
       "6172       Ca. 1554  1554     FRANCE   \n",
       "6277    Before 1927  1926  AUSTRALIA   \n",
       "\n",
       "                                               activity  \\\n",
       "624                                                 NaN   \n",
       "1270                                                NaN   \n",
       "2250                                            Bathing   \n",
       "2260                                                NaN   \n",
       "2267                                            Surfing   \n",
       "...                                                 ...   \n",
       "6167                                                NaN   \n",
       "6169  Ship lay at anchor & man was working on its ru...   \n",
       "6171                                           Swimming   \n",
       "6172                                                NaN   \n",
       "6277                                                NaN   \n",
       "\n",
       "                               name  sex    fatal  \n",
       "624                          female    F  UNKNOWN  \n",
       "1270                Jamie Adlington    M  UNKNOWN  \n",
       "2250              José Luiz Lipiani    M  UNKNOWN  \n",
       "2260                Gersome Perreno    M  UNKNOWN  \n",
       "2267                     Blair Hall    M  UNKNOWN  \n",
       "...                             ...  ...      ...  \n",
       "6167                  Indian people  NaN  UNKNOWN  \n",
       "6169                           male    M  UNKNOWN  \n",
       "6171                           male    M  UNKNOWN  \n",
       "6172          males (wearing armor)    M  UNKNOWN  \n",
       "6277  male, the Sergeant of Marines    M  UNKNOWN  \n",
       "\n",
       "[70 rows x 7 columns]"
      ]
     },
     "execution_count": 369,
     "metadata": {},
     "output_type": "execute_result"
    }
   ],
   "source": [
    "unknown = df.fatal == 'UNKNOWN'\n",
    "df.loc[unknown, :]"
   ]
  },
  {
   "cell_type": "code",
   "execution_count": 370,
   "metadata": {
    "ExecuteTime": {
     "end_time": "2020-06-17T11:37:57.691487Z",
     "start_time": "2020-06-17T11:37:57.642215Z"
    }
   },
   "outputs": [
    {
     "data": {
      "text/html": [
       "<div>\n",
       "<style scoped>\n",
       "    .dataframe tbody tr th:only-of-type {\n",
       "        vertical-align: middle;\n",
       "    }\n",
       "\n",
       "    .dataframe tbody tr th {\n",
       "        vertical-align: top;\n",
       "    }\n",
       "\n",
       "    .dataframe thead th {\n",
       "        text-align: right;\n",
       "    }\n",
       "</style>\n",
       "<table border=\"1\" class=\"dataframe\">\n",
       "  <thead>\n",
       "    <tr style=\"text-align: right;\">\n",
       "      <th></th>\n",
       "      <th>date</th>\n",
       "      <th>year</th>\n",
       "      <th>country</th>\n",
       "      <th>activity</th>\n",
       "      <th>name</th>\n",
       "      <th>sex</th>\n",
       "      <th>fatal</th>\n",
       "    </tr>\n",
       "  </thead>\n",
       "  <tbody>\n",
       "    <tr>\n",
       "      <th>27</th>\n",
       "      <td>15-Apr-2018</td>\n",
       "      <td>2018</td>\n",
       "      <td>BRAZIL</td>\n",
       "      <td>Swimming</td>\n",
       "      <td>Pablo de Melo</td>\n",
       "      <td>M</td>\n",
       "      <td>NaN</td>\n",
       "    </tr>\n",
       "    <tr>\n",
       "      <th>76</th>\n",
       "      <td>01-Oct-2017</td>\n",
       "      <td>2017</td>\n",
       "      <td>SOUTH AFRICA</td>\n",
       "      <td>Scuba Diving</td>\n",
       "      <td>Bradley Fick</td>\n",
       "      <td>M</td>\n",
       "      <td>NaN</td>\n",
       "    </tr>\n",
       "    <tr>\n",
       "      <th>79</th>\n",
       "      <td>24-Sep-2017</td>\n",
       "      <td>2017</td>\n",
       "      <td>USA</td>\n",
       "      <td>Surfing</td>\n",
       "      <td>Michah Behrend</td>\n",
       "      <td>M</td>\n",
       "      <td>NaN</td>\n",
       "    </tr>\n",
       "    <tr>\n",
       "      <th>84</th>\n",
       "      <td>15-Sep-2017</td>\n",
       "      <td>2017</td>\n",
       "      <td>SOUTH AFRICA</td>\n",
       "      <td>Scuba Diving</td>\n",
       "      <td>Wayon Love</td>\n",
       "      <td>M</td>\n",
       "      <td>NaN</td>\n",
       "    </tr>\n",
       "    <tr>\n",
       "      <th>98</th>\n",
       "      <td>26-Aug-2017</td>\n",
       "      <td>2017</td>\n",
       "      <td>SPAIN</td>\n",
       "      <td>Swimming</td>\n",
       "      <td>female</td>\n",
       "      <td>F</td>\n",
       "      <td>NaN</td>\n",
       "    </tr>\n",
       "    <tr>\n",
       "      <th>...</th>\n",
       "      <td>...</td>\n",
       "      <td>...</td>\n",
       "      <td>...</td>\n",
       "      <td>...</td>\n",
       "      <td>...</td>\n",
       "      <td>...</td>\n",
       "      <td>...</td>\n",
       "    </tr>\n",
       "    <tr>\n",
       "      <th>6147</th>\n",
       "      <td>1767</td>\n",
       "      <td>1767</td>\n",
       "      <td>FRANCE</td>\n",
       "      <td>Bathing</td>\n",
       "      <td>Samuel Matthews</td>\n",
       "      <td>M</td>\n",
       "      <td>NaN</td>\n",
       "    </tr>\n",
       "    <tr>\n",
       "      <th>6157</th>\n",
       "      <td>1733</td>\n",
       "      <td>1733</td>\n",
       "      <td>ICELAND</td>\n",
       "      <td>NaN</td>\n",
       "      <td>NaN</td>\n",
       "      <td>NaN</td>\n",
       "      <td>NaN</td>\n",
       "    </tr>\n",
       "    <tr>\n",
       "      <th>6158</th>\n",
       "      <td>1723</td>\n",
       "      <td>1723</td>\n",
       "      <td>ROATAN</td>\n",
       "      <td>NaN</td>\n",
       "      <td>Philip Ashton</td>\n",
       "      <td>M</td>\n",
       "      <td>NaN</td>\n",
       "    </tr>\n",
       "    <tr>\n",
       "      <th>6164</th>\n",
       "      <td>Late 1600s Reported 1728</td>\n",
       "      <td>1642</td>\n",
       "      <td>GUINEA</td>\n",
       "      <td>Went overboard</td>\n",
       "      <td>crew member of the Nieuwstadt</td>\n",
       "      <td>M</td>\n",
       "      <td>NaN</td>\n",
       "    </tr>\n",
       "    <tr>\n",
       "      <th>6232</th>\n",
       "      <td>No date, Before 1963</td>\n",
       "      <td>1962</td>\n",
       "      <td>USA</td>\n",
       "      <td>Diving</td>\n",
       "      <td>Val Valentine</td>\n",
       "      <td>M</td>\n",
       "      <td>NaN</td>\n",
       "    </tr>\n",
       "  </tbody>\n",
       "</table>\n",
       "<p>539 rows × 7 columns</p>\n",
       "</div>"
      ],
      "text/plain": [
       "                          date  year       country        activity  \\\n",
       "27                 15-Apr-2018  2018        BRAZIL        Swimming   \n",
       "76                 01-Oct-2017  2017  SOUTH AFRICA    Scuba Diving   \n",
       "79                 24-Sep-2017  2017           USA         Surfing   \n",
       "84                 15-Sep-2017  2017  SOUTH AFRICA    Scuba Diving   \n",
       "98                 26-Aug-2017  2017         SPAIN        Swimming   \n",
       "...                        ...   ...           ...             ...   \n",
       "6147                      1767  1767        FRANCE         Bathing   \n",
       "6157                      1733  1733       ICELAND             NaN   \n",
       "6158                      1723  1723        ROATAN             NaN   \n",
       "6164  Late 1600s Reported 1728  1642        GUINEA  Went overboard   \n",
       "6232      No date, Before 1963  1962           USA          Diving   \n",
       "\n",
       "                               name  sex fatal  \n",
       "27                    Pablo de Melo    M   NaN  \n",
       "76                     Bradley Fick    M   NaN  \n",
       "79                   Michah Behrend    M   NaN  \n",
       "84                       Wayon Love    M   NaN  \n",
       "98                           female    F   NaN  \n",
       "...                             ...  ...   ...  \n",
       "6147                Samuel Matthews    M   NaN  \n",
       "6157                            NaN  NaN   NaN  \n",
       "6158                  Philip Ashton    M   NaN  \n",
       "6164  crew member of the Nieuwstadt    M   NaN  \n",
       "6232                  Val Valentine    M   NaN  \n",
       "\n",
       "[539 rows x 7 columns]"
      ]
     },
     "execution_count": 370,
     "metadata": {},
     "output_type": "execute_result"
    }
   ],
   "source": [
    "missing = df.fatal.isna()\n",
    "df.loc[missing, :]"
   ]
  },
  {
   "cell_type": "markdown",
   "metadata": {},
   "source": [
    "Standardizing the values of the column fatal and inputing 'UNKNOWN' for the null values, as we are unable to infer if the incident was fatal or not."
   ]
  },
  {
   "cell_type": "code",
   "execution_count": 371,
   "metadata": {
    "ExecuteTime": {
     "end_time": "2020-06-17T11:37:57.729451Z",
     "start_time": "2020-06-17T11:37:57.692523Z"
    }
   },
   "outputs": [],
   "source": [
    "df.fatal = df.fatal.apply(lambda x: x.upper().strip() if type(x) == str else 'UNKNOWN')"
   ]
  },
  {
   "cell_type": "code",
   "execution_count": 372,
   "metadata": {
    "ExecuteTime": {
     "end_time": "2020-06-17T11:37:57.827844Z",
     "start_time": "2020-06-17T11:37:57.732623Z"
    }
   },
   "outputs": [
    {
     "data": {
      "text/plain": [
       "array(['N', 'Y', 'UNKNOWN', 'M', '2017'], dtype=object)"
      ]
     },
     "execution_count": 372,
     "metadata": {},
     "output_type": "execute_result"
    }
   ],
   "source": [
    "df.fatal.unique()"
   ]
  },
  {
   "cell_type": "code",
   "execution_count": 373,
   "metadata": {
    "ExecuteTime": {
     "end_time": "2020-06-17T11:37:57.878298Z",
     "start_time": "2020-06-17T11:37:57.830404Z"
    }
   },
   "outputs": [
    {
     "data": {
      "text/html": [
       "<div>\n",
       "<style scoped>\n",
       "    .dataframe tbody tr th:only-of-type {\n",
       "        vertical-align: middle;\n",
       "    }\n",
       "\n",
       "    .dataframe tbody tr th {\n",
       "        vertical-align: top;\n",
       "    }\n",
       "\n",
       "    .dataframe thead th {\n",
       "        text-align: right;\n",
       "    }\n",
       "</style>\n",
       "<table border=\"1\" class=\"dataframe\">\n",
       "  <thead>\n",
       "    <tr style=\"text-align: right;\">\n",
       "      <th></th>\n",
       "      <th>date</th>\n",
       "      <th>year</th>\n",
       "      <th>country</th>\n",
       "      <th>activity</th>\n",
       "      <th>name</th>\n",
       "      <th>sex</th>\n",
       "      <th>fatal</th>\n",
       "    </tr>\n",
       "  </thead>\n",
       "  <tbody>\n",
       "    <tr>\n",
       "      <th>285</th>\n",
       "      <td>18-Apr-2016</td>\n",
       "      <td>2016</td>\n",
       "      <td>FRENCH POLYNESIA</td>\n",
       "      <td>Spearfishing</td>\n",
       "      <td>Hoata Iotua</td>\n",
       "      <td>M</td>\n",
       "      <td>M</td>\n",
       "    </tr>\n",
       "    <tr>\n",
       "      <th>786</th>\n",
       "      <td>10-Jun-2012</td>\n",
       "      <td>2012</td>\n",
       "      <td>ITALY</td>\n",
       "      <td>Attempting to rescue an injured &amp; beached shark</td>\n",
       "      <td>Giorgio Zara</td>\n",
       "      <td>M</td>\n",
       "      <td>2017</td>\n",
       "    </tr>\n",
       "  </tbody>\n",
       "</table>\n",
       "</div>"
      ],
      "text/plain": [
       "            date  year           country  \\\n",
       "285  18-Apr-2016  2016  FRENCH POLYNESIA   \n",
       "786  10-Jun-2012  2012             ITALY   \n",
       "\n",
       "                                            activity          name sex fatal  \n",
       "285                                     Spearfishing   Hoata Iotua   M     M  \n",
       "786  Attempting to rescue an injured & beached shark  Giorgio Zara   M  2017  "
      ]
     },
     "execution_count": 373,
     "metadata": {},
     "output_type": "execute_result"
    }
   ],
   "source": [
    "strange_values = (df.fatal == 'M') | (df.fatal == '2017')\n",
    "df.loc[strange_values,:]"
   ]
  },
  {
   "cell_type": "markdown",
   "metadata": {},
   "source": [
    "Due to the lack of information we will consider thoses cases as 'UNKNOWN'."
   ]
  },
  {
   "cell_type": "code",
   "execution_count": 374,
   "metadata": {
    "ExecuteTime": {
     "end_time": "2020-06-17T11:37:57.910280Z",
     "start_time": "2020-06-17T11:37:57.884906Z"
    }
   },
   "outputs": [],
   "source": [
    "df.loc[strange_values,'fatal'] = 'UNKNOWN'"
   ]
  },
  {
   "cell_type": "markdown",
   "metadata": {},
   "source": [
    "### Cleaning 'sex' column."
   ]
  },
  {
   "cell_type": "code",
   "execution_count": 375,
   "metadata": {
    "ExecuteTime": {
     "end_time": "2020-06-17T11:37:57.945312Z",
     "start_time": "2020-06-17T11:37:57.918764Z"
    }
   },
   "outputs": [
    {
     "data": {
      "text/plain": [
       "array(['F', 'M', nan, 'M ', 'lli', 'N', '.'], dtype=object)"
      ]
     },
     "execution_count": 375,
     "metadata": {},
     "output_type": "execute_result"
    }
   ],
   "source": [
    "df.sex.unique()"
   ]
  },
  {
   "cell_type": "code",
   "execution_count": 376,
   "metadata": {
    "ExecuteTime": {
     "end_time": "2020-06-17T11:37:58.012674Z",
     "start_time": "2020-06-17T11:37:57.951218Z"
    }
   },
   "outputs": [
    {
     "data": {
      "text/html": [
       "<div>\n",
       "<style scoped>\n",
       "    .dataframe tbody tr th:only-of-type {\n",
       "        vertical-align: middle;\n",
       "    }\n",
       "\n",
       "    .dataframe tbody tr th {\n",
       "        vertical-align: top;\n",
       "    }\n",
       "\n",
       "    .dataframe thead th {\n",
       "        text-align: right;\n",
       "    }\n",
       "</style>\n",
       "<table border=\"1\" class=\"dataframe\">\n",
       "  <thead>\n",
       "    <tr style=\"text-align: right;\">\n",
       "      <th></th>\n",
       "      <th>date</th>\n",
       "      <th>year</th>\n",
       "      <th>country</th>\n",
       "      <th>activity</th>\n",
       "      <th>name</th>\n",
       "      <th>sex</th>\n",
       "      <th>fatal</th>\n",
       "    </tr>\n",
       "  </thead>\n",
       "  <tbody>\n",
       "    <tr>\n",
       "      <th>32</th>\n",
       "      <td>09-Apr-2018</td>\n",
       "      <td>2018</td>\n",
       "      <td>NEW CALEDONIA</td>\n",
       "      <td>Windsurfing</td>\n",
       "      <td>NaN</td>\n",
       "      <td>NaN</td>\n",
       "      <td>N</td>\n",
       "    </tr>\n",
       "    <tr>\n",
       "      <th>59</th>\n",
       "      <td>Reported 25-Nov-2017</td>\n",
       "      <td>2017</td>\n",
       "      <td>LIBYA</td>\n",
       "      <td>2 boats capsized</td>\n",
       "      <td>31 migrants</td>\n",
       "      <td>NaN</td>\n",
       "      <td>Y</td>\n",
       "    </tr>\n",
       "    <tr>\n",
       "      <th>86</th>\n",
       "      <td>Sep-2017</td>\n",
       "      <td>2017</td>\n",
       "      <td>AUSTRALIA</td>\n",
       "      <td>Fishing</td>\n",
       "      <td>NaN</td>\n",
       "      <td>NaN</td>\n",
       "      <td>N</td>\n",
       "    </tr>\n",
       "    <tr>\n",
       "      <th>124</th>\n",
       "      <td>02-Jul-2017</td>\n",
       "      <td>2017</td>\n",
       "      <td>COMOROS</td>\n",
       "      <td>Fishing</td>\n",
       "      <td>NaN</td>\n",
       "      <td>NaN</td>\n",
       "      <td>UNKNOWN</td>\n",
       "    </tr>\n",
       "    <tr>\n",
       "      <th>154</th>\n",
       "      <td>17-Apr-2017</td>\n",
       "      <td>2017</td>\n",
       "      <td>USA</td>\n",
       "      <td>NaN</td>\n",
       "      <td>NaN</td>\n",
       "      <td>NaN</td>\n",
       "      <td>N</td>\n",
       "    </tr>\n",
       "    <tr>\n",
       "      <th>...</th>\n",
       "      <td>...</td>\n",
       "      <td>...</td>\n",
       "      <td>...</td>\n",
       "      <td>...</td>\n",
       "      <td>...</td>\n",
       "      <td>...</td>\n",
       "      <td>...</td>\n",
       "    </tr>\n",
       "    <tr>\n",
       "      <th>6212</th>\n",
       "      <td>Before 2004</td>\n",
       "      <td>2003</td>\n",
       "      <td>MOZAMBIQUE</td>\n",
       "      <td>Fishing</td>\n",
       "      <td>4.8-metre skiboat, Occupants: Rod Salm &amp; 4 fri...</td>\n",
       "      <td>NaN</td>\n",
       "      <td>N</td>\n",
       "    </tr>\n",
       "    <tr>\n",
       "      <th>6237</th>\n",
       "      <td>No date, Before 1963</td>\n",
       "      <td>1962</td>\n",
       "      <td>SINGAPORE</td>\n",
       "      <td>Swimming</td>\n",
       "      <td>NaN</td>\n",
       "      <td>NaN</td>\n",
       "      <td>N</td>\n",
       "    </tr>\n",
       "    <tr>\n",
       "      <th>6259</th>\n",
       "      <td>1941-1945</td>\n",
       "      <td>1945</td>\n",
       "      <td>UNDEFINED</td>\n",
       "      <td>A group of survivors on a raft for 17-days</td>\n",
       "      <td>C.</td>\n",
       "      <td>NaN</td>\n",
       "      <td>Y</td>\n",
       "    </tr>\n",
       "    <tr>\n",
       "      <th>6278</th>\n",
       "      <td>Between 1918 &amp; 1939</td>\n",
       "      <td>1939</td>\n",
       "      <td>REUNION</td>\n",
       "      <td>Swimming</td>\n",
       "      <td>NaN</td>\n",
       "      <td>NaN</td>\n",
       "      <td>Y</td>\n",
       "    </tr>\n",
       "    <tr>\n",
       "      <th>6287</th>\n",
       "      <td>Before 1917</td>\n",
       "      <td>1916</td>\n",
       "      <td>FIJI</td>\n",
       "      <td>Wreck of  large double sailing canoe</td>\n",
       "      <td>20 Fijians</td>\n",
       "      <td>NaN</td>\n",
       "      <td>Y</td>\n",
       "    </tr>\n",
       "  </tbody>\n",
       "</table>\n",
       "<p>563 rows × 7 columns</p>\n",
       "</div>"
      ],
      "text/plain": [
       "                      date  year        country  \\\n",
       "32             09-Apr-2018  2018  NEW CALEDONIA   \n",
       "59    Reported 25-Nov-2017  2017          LIBYA   \n",
       "86                Sep-2017  2017      AUSTRALIA   \n",
       "124            02-Jul-2017  2017        COMOROS   \n",
       "154            17-Apr-2017  2017            USA   \n",
       "...                    ...   ...            ...   \n",
       "6212           Before 2004  2003     MOZAMBIQUE   \n",
       "6237  No date, Before 1963  1962      SINGAPORE   \n",
       "6259             1941-1945  1945      UNDEFINED   \n",
       "6278   Between 1918 & 1939  1939        REUNION   \n",
       "6287           Before 1917  1916           FIJI   \n",
       "\n",
       "                                        activity  \\\n",
       "32                                   Windsurfing   \n",
       "59                              2 boats capsized   \n",
       "86                                       Fishing   \n",
       "124                                      Fishing   \n",
       "154                                          NaN   \n",
       "...                                          ...   \n",
       "6212                                     Fishing   \n",
       "6237                                    Swimming   \n",
       "6259  A group of survivors on a raft for 17-days   \n",
       "6278                                    Swimming   \n",
       "6287        Wreck of  large double sailing canoe   \n",
       "\n",
       "                                                   name  sex    fatal  \n",
       "32                                                  NaN  NaN        N  \n",
       "59                                          31 migrants  NaN        Y  \n",
       "86                                                  NaN  NaN        N  \n",
       "124                                                 NaN  NaN  UNKNOWN  \n",
       "154                                                 NaN  NaN        N  \n",
       "...                                                 ...  ...      ...  \n",
       "6212  4.8-metre skiboat, Occupants: Rod Salm & 4 fri...  NaN        N  \n",
       "6237                                                NaN  NaN        N  \n",
       "6259                                                 C.  NaN        Y  \n",
       "6278                                                NaN  NaN        Y  \n",
       "6287                                         20 Fijians  NaN        Y  \n",
       "\n",
       "[563 rows x 7 columns]"
      ]
     },
     "execution_count": 376,
     "metadata": {},
     "output_type": "execute_result"
    }
   ],
   "source": [
    "missing_sex = df.sex.isna()\n",
    "df.loc[missing_sex,:]"
   ]
  },
  {
   "cell_type": "code",
   "execution_count": 377,
   "metadata": {
    "ExecuteTime": {
     "end_time": "2020-06-17T11:37:58.043344Z",
     "start_time": "2020-06-17T11:37:58.019275Z"
    }
   },
   "outputs": [],
   "source": [
    "df.sex = df.sex.apply(lambda x: x.strip() if type(x) == str else 'UNKNOWN')"
   ]
  },
  {
   "cell_type": "code",
   "execution_count": 378,
   "metadata": {
    "ExecuteTime": {
     "end_time": "2020-06-17T11:37:58.112648Z",
     "start_time": "2020-06-17T11:37:58.051361Z"
    }
   },
   "outputs": [
    {
     "data": {
      "text/html": [
       "<div>\n",
       "<style scoped>\n",
       "    .dataframe tbody tr th:only-of-type {\n",
       "        vertical-align: middle;\n",
       "    }\n",
       "\n",
       "    .dataframe tbody tr th {\n",
       "        vertical-align: top;\n",
       "    }\n",
       "\n",
       "    .dataframe thead th {\n",
       "        text-align: right;\n",
       "    }\n",
       "</style>\n",
       "<table border=\"1\" class=\"dataframe\">\n",
       "  <thead>\n",
       "    <tr style=\"text-align: right;\">\n",
       "      <th></th>\n",
       "      <th>date</th>\n",
       "      <th>year</th>\n",
       "      <th>country</th>\n",
       "      <th>activity</th>\n",
       "      <th>name</th>\n",
       "      <th>sex</th>\n",
       "      <th>fatal</th>\n",
       "    </tr>\n",
       "  </thead>\n",
       "  <tbody>\n",
       "    <tr>\n",
       "      <th>1624</th>\n",
       "      <td>11-Nov-2004</td>\n",
       "      <td>2004</td>\n",
       "      <td>USA</td>\n",
       "      <td>Surfing</td>\n",
       "      <td>Brian Kang</td>\n",
       "      <td>lli</td>\n",
       "      <td>N</td>\n",
       "    </tr>\n",
       "    <tr>\n",
       "      <th>4938</th>\n",
       "      <td>11-Jul-1934</td>\n",
       "      <td>1934</td>\n",
       "      <td>AUSTRALIA</td>\n",
       "      <td>Fishing</td>\n",
       "      <td>18' boat, occupants William &amp; Leslie Newton</td>\n",
       "      <td>N</td>\n",
       "      <td>N</td>\n",
       "    </tr>\n",
       "    <tr>\n",
       "      <th>5437</th>\n",
       "      <td>Reported 02-Jun-1908</td>\n",
       "      <td>1908</td>\n",
       "      <td>PAPUA NEW GUINEA</td>\n",
       "      <td>.</td>\n",
       "      <td>NaN</td>\n",
       "      <td>.</td>\n",
       "      <td>Y</td>\n",
       "    </tr>\n",
       "    <tr>\n",
       "      <th>6131</th>\n",
       "      <td>Reported 18-Dec-1801</td>\n",
       "      <td>1801</td>\n",
       "      <td>UNDEFINED</td>\n",
       "      <td>Standing on landed shark's tail</td>\n",
       "      <td>Stephen Pettigew</td>\n",
       "      <td>N</td>\n",
       "      <td>Y</td>\n",
       "    </tr>\n",
       "  </tbody>\n",
       "</table>\n",
       "</div>"
      ],
      "text/plain": [
       "                      date  year           country  \\\n",
       "1624           11-Nov-2004  2004               USA   \n",
       "4938           11-Jul-1934  1934         AUSTRALIA   \n",
       "5437  Reported 02-Jun-1908  1908  PAPUA NEW GUINEA   \n",
       "6131  Reported 18-Dec-1801  1801         UNDEFINED   \n",
       "\n",
       "                             activity  \\\n",
       "1624                          Surfing   \n",
       "4938                          Fishing   \n",
       "5437                                .   \n",
       "6131  Standing on landed shark's tail   \n",
       "\n",
       "                                             name  sex fatal  \n",
       "1624                                   Brian Kang  lli     N  \n",
       "4938  18' boat, occupants William & Leslie Newton    N     N  \n",
       "5437                                          NaN    .     Y  \n",
       "6131                             Stephen Pettigew    N     Y  "
      ]
     },
     "execution_count": 378,
     "metadata": {},
     "output_type": "execute_result"
    }
   ],
   "source": [
    "strange_sex = (df.sex == 'lli')|(df.sex == 'N')|(df.sex == '.')\n",
    "df.loc[strange_sex,:]"
   ]
  },
  {
   "cell_type": "markdown",
   "metadata": {},
   "source": [
    "We assume that 'Brian' and 'Stephen' are male names."
   ]
  },
  {
   "cell_type": "code",
   "execution_count": 379,
   "metadata": {
    "ExecuteTime": {
     "end_time": "2020-06-17T11:37:58.145418Z",
     "start_time": "2020-06-17T11:37:58.113684Z"
    }
   },
   "outputs": [],
   "source": [
    "brian_stephen = (df.name == 'Brian Kang')|(df.name == 'Stephen Pettigew')\n",
    "df.loc[brian_stephen, 'sex'] = 'M'"
   ]
  },
  {
   "cell_type": "markdown",
   "metadata": {
    "ExecuteTime": {
     "end_time": "2020-06-16T19:50:40.437157Z",
     "start_time": "2020-06-16T19:50:40.431175Z"
    }
   },
   "source": [
    "Due to the lack of information we will consider thoses cases as 'UNKNOWN'."
   ]
  },
  {
   "cell_type": "code",
   "execution_count": 380,
   "metadata": {
    "ExecuteTime": {
     "end_time": "2020-06-17T11:37:58.176125Z",
     "start_time": "2020-06-17T11:37:58.148047Z"
    }
   },
   "outputs": [],
   "source": [
    "unknown_sex = (df.sex == 'N')|(df.sex == '.')\n",
    "df.loc[unknown_sex, 'sex'] = 'UNKNOWN'"
   ]
  },
  {
   "cell_type": "code",
   "execution_count": 381,
   "metadata": {
    "ExecuteTime": {
     "end_time": "2020-06-17T11:37:58.229199Z",
     "start_time": "2020-06-17T11:37:58.181836Z"
    },
    "scrolled": true
   },
   "outputs": [
    {
     "name": "stdout",
     "output_type": "stream",
     "text": [
      "<class 'pandas.core.frame.DataFrame'>\n",
      "Int64Index: 6286 entries, 0 to 6301\n",
      "Data columns (total 7 columns):\n",
      " #   Column    Non-Null Count  Dtype \n",
      "---  ------    --------------  ----- \n",
      " 0   date      6286 non-null   object\n",
      " 1   year      6286 non-null   object\n",
      " 2   country   6286 non-null   object\n",
      " 3   activity  5743 non-null   object\n",
      " 4   name      6076 non-null   object\n",
      " 5   sex       6286 non-null   object\n",
      " 6   fatal     6286 non-null   object\n",
      "dtypes: object(7)\n",
      "memory usage: 392.9+ KB\n"
     ]
    }
   ],
   "source": [
    "df.info()"
   ]
  },
  {
   "cell_type": "markdown",
   "metadata": {},
   "source": [
    "## Data Analysis"
   ]
  },
  {
   "cell_type": "code",
   "execution_count": 382,
   "metadata": {
    "ExecuteTime": {
     "end_time": "2020-06-17T11:37:58.345587Z",
     "start_time": "2020-06-17T11:37:58.231594Z"
    }
   },
   "outputs": [
    {
     "data": {
      "text/html": [
       "<div>\n",
       "<style scoped>\n",
       "    .dataframe tbody tr th:only-of-type {\n",
       "        vertical-align: middle;\n",
       "    }\n",
       "\n",
       "    .dataframe tbody tr th {\n",
       "        vertical-align: top;\n",
       "    }\n",
       "\n",
       "    .dataframe thead th {\n",
       "        text-align: right;\n",
       "    }\n",
       "</style>\n",
       "<table border=\"1\" class=\"dataframe\">\n",
       "  <thead>\n",
       "    <tr style=\"text-align: right;\">\n",
       "      <th></th>\n",
       "      <th>date</th>\n",
       "      <th>year</th>\n",
       "      <th>country</th>\n",
       "      <th>activity</th>\n",
       "      <th>name</th>\n",
       "      <th>sex</th>\n",
       "      <th>fatal</th>\n",
       "    </tr>\n",
       "  </thead>\n",
       "  <tbody>\n",
       "    <tr>\n",
       "      <th>count</th>\n",
       "      <td>6286</td>\n",
       "      <td>6286.0</td>\n",
       "      <td>6286</td>\n",
       "      <td>5743</td>\n",
       "      <td>6076</td>\n",
       "      <td>6286</td>\n",
       "      <td>6286</td>\n",
       "    </tr>\n",
       "    <tr>\n",
       "      <th>unique</th>\n",
       "      <td>5429</td>\n",
       "      <td>274.0</td>\n",
       "      <td>210</td>\n",
       "      <td>1529</td>\n",
       "      <td>5228</td>\n",
       "      <td>3</td>\n",
       "      <td>3</td>\n",
       "    </tr>\n",
       "    <tr>\n",
       "      <th>top</th>\n",
       "      <td>1957</td>\n",
       "      <td>2015.0</td>\n",
       "      <td>USA</td>\n",
       "      <td>Surfing</td>\n",
       "      <td>male</td>\n",
       "      <td>M</td>\n",
       "      <td>N</td>\n",
       "    </tr>\n",
       "    <tr>\n",
       "      <th>freq</th>\n",
       "      <td>11</td>\n",
       "      <td>144.0</td>\n",
       "      <td>2222</td>\n",
       "      <td>966</td>\n",
       "      <td>543</td>\n",
       "      <td>5084</td>\n",
       "      <td>4292</td>\n",
       "    </tr>\n",
       "  </tbody>\n",
       "</table>\n",
       "</div>"
      ],
      "text/plain": [
       "        date    year country activity  name   sex fatal\n",
       "count   6286  6286.0    6286     5743  6076  6286  6286\n",
       "unique  5429   274.0     210     1529  5228     3     3\n",
       "top     1957  2015.0     USA  Surfing  male     M     N\n",
       "freq      11   144.0    2222      966   543  5084  4292"
      ]
     },
     "execution_count": 382,
     "metadata": {},
     "output_type": "execute_result"
    }
   ],
   "source": [
    "df.describe()"
   ]
  },
  {
   "cell_type": "markdown",
   "metadata": {},
   "source": [
    "### Analysis of incidents per sex"
   ]
  },
  {
   "cell_type": "code",
   "execution_count": 383,
   "metadata": {
    "ExecuteTime": {
     "end_time": "2020-06-17T11:37:58.395652Z",
     "start_time": "2020-06-17T11:37:58.349931Z"
    }
   },
   "outputs": [
    {
     "data": {
      "text/plain": [
       "sex\n",
       "M          80.878142\n",
       "F          10.133630\n",
       "UNKNOWN     8.988228\n",
       "Name: year, dtype: float64"
      ]
     },
     "execution_count": 383,
     "metadata": {},
     "output_type": "execute_result"
    }
   ],
   "source": [
    "ds_sex = df.groupby('sex').count()['year'] / df.groupby('sex').count()['year'].sum() * 100\n",
    "ds_sex.sort_values(ascending=False)"
   ]
  },
  {
   "cell_type": "markdown",
   "metadata": {},
   "source": [
    "Regarding the sex of the victims, we concluded that:\n",
    "<ul>\n",
    "    <li><b>80.88%</b> were male,</li>\n",
    "    <li><b>10.13%</b> were female,</li>\n",
    "    <li><b>8.99%</b> did not have the sex reported.</li>\n",
    "</ul>"
   ]
  },
  {
   "cell_type": "code",
   "execution_count": 384,
   "metadata": {
    "ExecuteTime": {
     "end_time": "2020-06-17T11:37:58.427302Z",
     "start_time": "2020-06-17T11:37:58.400757Z"
    }
   },
   "outputs": [
    {
     "name": "stdout",
     "output_type": "stream",
     "text": [
      "F: 10.13 % of total cases.\n",
      "M: 80.88 % of total cases.\n",
      "UNKNOWN: 8.99 % of total cases.\n"
     ]
    },
    {
     "data": {
      "text/plain": [
       "[None, None, None]"
      ]
     },
     "execution_count": 384,
     "metadata": {},
     "output_type": "execute_result"
    }
   ],
   "source": [
    "[print('{}: {} % of total cases.'.format(x,round(ds_sex[x],2))) for x in ds_sex.index]"
   ]
  },
  {
   "cell_type": "markdown",
   "metadata": {},
   "source": [
    "### Analysis of incidents per mortality"
   ]
  },
  {
   "cell_type": "code",
   "execution_count": 385,
   "metadata": {
    "ExecuteTime": {
     "end_time": "2020-06-17T11:37:58.478879Z",
     "start_time": "2020-06-17T11:37:58.431353Z"
    }
   },
   "outputs": [
    {
     "data": {
      "text/plain": [
       "fatal\n",
       "N          68.278715\n",
       "Y          22.001273\n",
       "UNKNOWN     9.720013\n",
       "Name: year, dtype: float64"
      ]
     },
     "execution_count": 385,
     "metadata": {},
     "output_type": "execute_result"
    }
   ],
   "source": [
    "ds_fatal = df.groupby('fatal').count()['year'] / df.groupby('fatal').count()['year'].sum() * 100\n",
    "ds_fatal.sort_values(ascending=False)"
   ]
  },
  {
   "cell_type": "markdown",
   "metadata": {
    "ExecuteTime": {
     "end_time": "2020-06-16T21:51:43.504908Z",
     "start_time": "2020-06-16T21:51:43.499111Z"
    }
   },
   "source": [
    "In connection with the mortality, we concluded that\n",
    ":\n",
    "<ul>\n",
    "    <li><b>68.28%</b> were not fatal,</li>\n",
    "    <li><b>9.72%</b> were fatal,</li>\n",
    "    <li><b>22.0%</b> did not have the information.</li>\n",
    "</ul>"
   ]
  },
  {
   "cell_type": "code",
   "execution_count": 386,
   "metadata": {
    "ExecuteTime": {
     "end_time": "2020-06-17T11:37:58.512247Z",
     "start_time": "2020-06-17T11:37:58.479874Z"
    }
   },
   "outputs": [
    {
     "name": "stdout",
     "output_type": "stream",
     "text": [
      "N: 68.28 % of total cases.\n",
      "UNKNOWN: 9.72 % of total cases.\n",
      "Y: 22.0 % of total cases.\n"
     ]
    },
    {
     "data": {
      "text/plain": [
       "[None, None, None]"
      ]
     },
     "execution_count": 386,
     "metadata": {},
     "output_type": "execute_result"
    }
   ],
   "source": [
    "[print('{}: {} % of total cases.'.format(x,round(ds_fatal[x],2))) for x in ds_fatal.index]"
   ]
  },
  {
   "cell_type": "markdown",
   "metadata": {},
   "source": [
    "### Combined analysis of incidents per sex and mortality"
   ]
  },
  {
   "cell_type": "code",
   "execution_count": 387,
   "metadata": {
    "ExecuteTime": {
     "end_time": "2020-06-17T11:37:58.592597Z",
     "start_time": "2020-06-17T11:37:58.517019Z"
    }
   },
   "outputs": [
    {
     "name": "stdout",
     "output_type": "stream",
     "text": [
      "---------------\n",
      "For female victms:\n",
      "Not fatal: 73.47 % of total cases.\n",
      "Not reported: 9.73 % of total cases.\n",
      "Fatal: 16.8 % of total cases.\n",
      "---------------\n",
      "For male victms:\n",
      "Not fatal: 68.37 % of total cases.\n",
      "Not reported: 8.65 % of total cases.\n",
      "Fatal: 22.97 % of total cases.\n",
      "---------------\n",
      "For victms without sex reported:\n",
      "Not fatal: 61.59 % of total cases.\n",
      "Not reported: 19.29 % of total cases.\n",
      "Fatal: 19.12 % of total cases.\n"
     ]
    },
    {
     "data": {
      "text/plain": [
       "[None, None, None]"
      ]
     },
     "execution_count": 387,
     "metadata": {},
     "output_type": "execute_result"
    }
   ],
   "source": [
    "def format_message(s):\n",
    "    if s == 'N':\n",
    "        return 'Not fatal'\n",
    "    elif s == 'Y':\n",
    "        return 'Fatal'\n",
    "    else:\n",
    "        return 'Not reported'\n",
    "\n",
    "ds_sex_fatal = df.groupby(['sex', 'fatal'],as_index=False).count()\n",
    "df_sex_fatal = pd.DataFrame(ds_sex_fatal)\n",
    "ds_t = df_sex_fatal.groupby('sex')['year'].sum()\n",
    "print('---------------')\n",
    "ds_f = df_sex_fatal.loc[df_sex_fatal['sex'] == 'F'].groupby('fatal')['year'].sum()\n",
    "print('For female victms:')\n",
    "[print('{}: {} % of total cases.'.format(format_message(x), round(ds_f[x]/ ds_t[0] * 100,2))) for x in ds_f.index]\n",
    "print('---------------')\n",
    "ds_m = df_sex_fatal.loc[df_sex_fatal['sex'] == 'M'].groupby('fatal')['year'].sum()\n",
    "print('For male victms:')\n",
    "[print('{}: {} % of total cases.'.format(format_message(x), round(ds_m[x]/ ds_t[1] * 100,2))) for x in ds_m.index]\n",
    "print('---------------')\n",
    "ds_u = df_sex_fatal.loc[df_sex_fatal['sex'] == 'UNKNOWN'].groupby('fatal')['year'].sum()\n",
    "print('For victms without sex reported:')\n",
    "[print('{}: {} % of total cases.'.format(format_message(x), round(ds_u[x]/ ds_t[2] * 100,2))) for x in ds_u.index]"
   ]
  },
  {
   "cell_type": "markdown",
   "metadata": {},
   "source": [
    "### Analysis of incidents per decade"
   ]
  },
  {
   "cell_type": "code",
   "execution_count": 388,
   "metadata": {
    "ExecuteTime": {
     "end_time": "2020-06-17T11:37:58.627478Z",
     "start_time": "2020-06-17T11:37:58.596156Z"
    }
   },
   "outputs": [
    {
     "data": {
      "text/html": [
       "<div>\n",
       "<style scoped>\n",
       "    .dataframe tbody tr th:only-of-type {\n",
       "        vertical-align: middle;\n",
       "    }\n",
       "\n",
       "    .dataframe tbody tr th {\n",
       "        vertical-align: top;\n",
       "    }\n",
       "\n",
       "    .dataframe thead th {\n",
       "        text-align: right;\n",
       "    }\n",
       "</style>\n",
       "<table border=\"1\" class=\"dataframe\">\n",
       "  <thead>\n",
       "    <tr style=\"text-align: right;\">\n",
       "      <th></th>\n",
       "      <th>date</th>\n",
       "      <th>year</th>\n",
       "      <th>country</th>\n",
       "      <th>activity</th>\n",
       "      <th>name</th>\n",
       "      <th>sex</th>\n",
       "      <th>fatal</th>\n",
       "    </tr>\n",
       "  </thead>\n",
       "  <tbody>\n",
       "    <tr>\n",
       "      <th>6174</th>\n",
       "      <td>Circa 500 A.D.</td>\n",
       "      <td>500</td>\n",
       "      <td>MEXICO</td>\n",
       "      <td>NaN</td>\n",
       "      <td>male</td>\n",
       "      <td>M</td>\n",
       "      <td>N</td>\n",
       "    </tr>\n",
       "    <tr>\n",
       "      <th>6175</th>\n",
       "      <td>77  A.D.</td>\n",
       "      <td>77</td>\n",
       "      <td>UNDEFINED</td>\n",
       "      <td>Sponge diving</td>\n",
       "      <td>males</td>\n",
       "      <td>M</td>\n",
       "      <td>Y</td>\n",
       "    </tr>\n",
       "    <tr>\n",
       "      <th>6176</th>\n",
       "      <td>Ca. 5 A.D.</td>\n",
       "      <td>5</td>\n",
       "      <td>AUSTRALIA</td>\n",
       "      <td>NaN</td>\n",
       "      <td>male</td>\n",
       "      <td>M</td>\n",
       "      <td>N</td>\n",
       "    </tr>\n",
       "    <tr>\n",
       "      <th>6217</th>\n",
       "      <td>No date</td>\n",
       "      <td>0</td>\n",
       "      <td>USA</td>\n",
       "      <td>Kitesurfing</td>\n",
       "      <td>Paul Menta</td>\n",
       "      <td>M</td>\n",
       "      <td>N</td>\n",
       "    </tr>\n",
       "    <tr>\n",
       "      <th>6218</th>\n",
       "      <td>No date</td>\n",
       "      <td>0</td>\n",
       "      <td>REUNION</td>\n",
       "      <td>yachtsman in a zodiac</td>\n",
       "      <td>NaN</td>\n",
       "      <td>M</td>\n",
       "      <td>N</td>\n",
       "    </tr>\n",
       "    <tr>\n",
       "      <th>6261</th>\n",
       "      <td>\"Before the war\"</td>\n",
       "      <td>0</td>\n",
       "      <td>AUSTRALIA</td>\n",
       "      <td>Free diving</td>\n",
       "      <td>Mortakee</td>\n",
       "      <td>M</td>\n",
       "      <td>N</td>\n",
       "    </tr>\n",
       "    <tr>\n",
       "      <th>6271</th>\n",
       "      <td>World War II</td>\n",
       "      <td>0</td>\n",
       "      <td>PAPUA NEW GUINEA</td>\n",
       "      <td>Spent 8 days in dinghy</td>\n",
       "      <td>pilot</td>\n",
       "      <td>M</td>\n",
       "      <td>N</td>\n",
       "    </tr>\n",
       "    <tr>\n",
       "      <th>6272</th>\n",
       "      <td>World War II</td>\n",
       "      <td>0</td>\n",
       "      <td>PAPUA NEW GUINEA</td>\n",
       "      <td>Aircraft ditched in the sea, swimming ashore</td>\n",
       "      <td>male</td>\n",
       "      <td>M</td>\n",
       "      <td>N</td>\n",
       "    </tr>\n",
       "    <tr>\n",
       "      <th>6275</th>\n",
       "      <td>No date</td>\n",
       "      <td>0</td>\n",
       "      <td>GREECE</td>\n",
       "      <td>Sponge diving</td>\n",
       "      <td>Psarofa-gomenes</td>\n",
       "      <td>M</td>\n",
       "      <td>N</td>\n",
       "    </tr>\n",
       "    <tr>\n",
       "      <th>6279</th>\n",
       "      <td>No date</td>\n",
       "      <td>0</td>\n",
       "      <td>SOUTH AFRICA</td>\n",
       "      <td>Wading</td>\n",
       "      <td>Madelaine Dalton</td>\n",
       "      <td>F</td>\n",
       "      <td>N</td>\n",
       "    </tr>\n",
       "    <tr>\n",
       "      <th>6280</th>\n",
       "      <td>No date</td>\n",
       "      <td>0</td>\n",
       "      <td>AUSTRALIA</td>\n",
       "      <td>Pearl diving</td>\n",
       "      <td>Jaringoorli</td>\n",
       "      <td>M</td>\n",
       "      <td>N</td>\n",
       "    </tr>\n",
       "    <tr>\n",
       "      <th>6281</th>\n",
       "      <td>No date</td>\n",
       "      <td>0</td>\n",
       "      <td>SOUTH AFRICA</td>\n",
       "      <td>Swimming in pool formed by construction of a w...</td>\n",
       "      <td>Indian boy</td>\n",
       "      <td>M</td>\n",
       "      <td>Y</td>\n",
       "    </tr>\n",
       "  </tbody>\n",
       "</table>\n",
       "</div>"
      ],
      "text/plain": [
       "                  date year           country  \\\n",
       "6174    Circa 500 A.D.  500            MEXICO   \n",
       "6175          77  A.D.   77         UNDEFINED   \n",
       "6176        Ca. 5 A.D.    5         AUSTRALIA   \n",
       "6217           No date    0               USA   \n",
       "6218           No date    0           REUNION   \n",
       "6261  \"Before the war\"    0         AUSTRALIA   \n",
       "6271      World War II    0  PAPUA NEW GUINEA   \n",
       "6272      World War II    0  PAPUA NEW GUINEA   \n",
       "6275           No date    0            GREECE   \n",
       "6279           No date    0      SOUTH AFRICA   \n",
       "6280           No date    0         AUSTRALIA   \n",
       "6281           No date    0      SOUTH AFRICA   \n",
       "\n",
       "                                               activity              name sex  \\\n",
       "6174                                                NaN              male   M   \n",
       "6175                                      Sponge diving             males   M   \n",
       "6176                                                NaN              male   M   \n",
       "6217                                        Kitesurfing        Paul Menta   M   \n",
       "6218                              yachtsman in a zodiac               NaN   M   \n",
       "6261                                        Free diving          Mortakee   M   \n",
       "6271                             Spent 8 days in dinghy             pilot   M   \n",
       "6272       Aircraft ditched in the sea, swimming ashore              male   M   \n",
       "6275                                      Sponge diving   Psarofa-gomenes   M   \n",
       "6279                                             Wading  Madelaine Dalton   F   \n",
       "6280                                       Pearl diving       Jaringoorli   M   \n",
       "6281  Swimming in pool formed by construction of a w...        Indian boy   M   \n",
       "\n",
       "     fatal  \n",
       "6174     N  \n",
       "6175     Y  \n",
       "6176     N  \n",
       "6217     N  \n",
       "6218     N  \n",
       "6261     N  \n",
       "6271     N  \n",
       "6272     N  \n",
       "6275     N  \n",
       "6279     N  \n",
       "6280     N  \n",
       "6281     Y  "
      ]
     },
     "execution_count": 388,
     "metadata": {},
     "output_type": "execute_result"
    }
   ],
   "source": [
    "mask_1500 = df['year'].astype(int) <= 1500\n",
    "df.loc[mask_1500,:]"
   ]
  },
  {
   "cell_type": "code",
   "execution_count": 389,
   "metadata": {
    "ExecuteTime": {
     "end_time": "2020-06-17T11:37:58.643867Z",
     "start_time": "2020-06-17T11:37:58.630471Z"
    }
   },
   "outputs": [],
   "source": [
    "df['year'] = df['year'].astype(int)"
   ]
  },
  {
   "cell_type": "code",
   "execution_count": 390,
   "metadata": {
    "ExecuteTime": {
     "end_time": "2020-06-17T11:37:58.674356Z",
     "start_time": "2020-06-17T11:37:58.646865Z"
    }
   },
   "outputs": [],
   "source": [
    "df['decades'] = df['year'].apply(lambda x: str(x)[:3] + '0' if len(str(x)) == 4 else '0')"
   ]
  },
  {
   "cell_type": "code",
   "execution_count": 391,
   "metadata": {
    "ExecuteTime": {
     "end_time": "2020-06-17T11:37:58.708214Z",
     "start_time": "2020-06-17T11:37:58.679470Z"
    }
   },
   "outputs": [],
   "source": [
    "ds_decades = df.loc[df['decades'] != '0',:].groupby('decades')['year'].count()"
   ]
  },
  {
   "cell_type": "code",
   "execution_count": 392,
   "metadata": {
    "ExecuteTime": {
     "end_time": "2020-06-17T11:37:58.724178Z",
     "start_time": "2020-06-17T11:37:58.712027Z"
    }
   },
   "outputs": [],
   "source": [
    "import matplotlib.pyplot as plt"
   ]
  },
  {
   "cell_type": "code",
   "execution_count": 393,
   "metadata": {
    "ExecuteTime": {
     "end_time": "2020-06-17T11:37:59.359614Z",
     "start_time": "2020-06-17T11:37:58.745330Z"
    }
   },
   "outputs": [
    {
     "data": {
      "text/plain": [
       "[<matplotlib.lines.Line2D at 0x2c707fe7ec8>]"
      ]
     },
     "execution_count": 393,
     "metadata": {},
     "output_type": "execute_result"
    },
    {
     "data": {
      "image/png": "[encoded data removed]",
      "text/plain": [
       "<Figure size 432x288 with 1 Axes>"
      ]
     },
     "metadata": {
      "needs_background": "light"
     },
     "output_type": "display_data"
    }
   ],
   "source": [
    "plt.plot(ds_decades)"
   ]
  },
  {
   "cell_type": "code",
   "execution_count": 394,
   "metadata": {
    "ExecuteTime": {
     "end_time": "2020-06-17T11:37:59.391666Z",
     "start_time": "2020-06-17T11:37:59.365658Z"
    }
   },
   "outputs": [
    {
     "data": {
      "text/plain": [
       "decades\n",
       "1540       1\n",
       "1550       2\n",
       "1580       1\n",
       "1590       1\n",
       "1610       1\n",
       "1630       2\n",
       "1640       2\n",
       "1700       4\n",
       "1720       2\n",
       "1730       2\n",
       "1740       3\n",
       "1750       4\n",
       "1760       2\n",
       "1770       4\n",
       "1780       7\n",
       "1790       3\n",
       "1800      11\n",
       "1810      11\n",
       "1820      17\n",
       "1830      22\n",
       "1840      43\n",
       "1850      43\n",
       "1860      69\n",
       "1870      91\n",
       "1880     118\n",
       "1890     150\n",
       "1900     167\n",
       "1910     157\n",
       "1920     214\n",
       "1930     281\n",
       "1940     287\n",
       "1950     482\n",
       "1960     636\n",
       "1970     336\n",
       "1980     436\n",
       "1990     574\n",
       "2000    1027\n",
       "2010    1061\n",
       "Name: year, dtype: int64"
      ]
     },
     "execution_count": 394,
     "metadata": {},
     "output_type": "execute_result"
    }
   ],
   "source": [
    "ds_decades"
   ]
  },
  {
   "cell_type": "markdown",
   "metadata": {},
   "source": [
    "According to our observation, the increase on the numbers of incidents reported almost doubled in the turn of 20th century \n",
    "due to the popularization of internet access and personal computers."
   ]
  },
  {
   "cell_type": "markdown",
   "metadata": {},
   "source": [
    "## Final Output - Exporting final DataFrame to csv file."
   ]
  },
  {
   "cell_type": "code",
   "execution_count": 395,
   "metadata": {
    "ExecuteTime": {
     "end_time": "2020-06-17T11:37:59.461302Z",
     "start_time": "2020-06-17T11:37:59.396856Z"
    }
   },
   "outputs": [],
   "source": [
    "df.to_csv('final_df.csv', index = False)"
   ]
  },
  {
   "cell_type": "code",
   "execution_count": null,
   "metadata": {},
   "outputs": [],
   "source": []
  }
 ],
 "metadata": {
  "hide_input": false,
  "kernelspec": {
   "display_name": "Python 3",
   "language": "python",
   "name": "python3"
  },
  "language_info": {
   "codemirror_mode": {
    "name": "ipython",
    "version": 3
   },
   "file_extension": ".py",
   "mimetype": "text/x-python",
   "name": "python",
   "nbconvert_exporter": "python",
   "pygments_lexer": "ipython3",
   "version": "3.7.4"
  },
  "toc": {
   "base_numbering": 1,
   "nav_menu": {},
   "number_sections": true,
   "sideBar": true,
   "skip_h1_title": false,
   "title_cell": "Table of Contents",
   "title_sidebar": "Contents",
   "toc_cell": false,
   "toc_position": {
    "height": "calc(100% - 180px)",
    "left": "10px",
    "top": "150px",
    "width": "339.2px"
   },
   "toc_section_display": true,
   "toc_window_display": true
  },
  "varInspector": {
   "cols": {
    "lenName": 16,
    "lenType": 16,
    "lenVar": 40
   },
   "kernels_config": {
    "python": {
     "delete_cmd_postfix": "",
     "delete_cmd_prefix": "del ",
     "library": "var_list.py",
     "varRefreshCmd": "print(var_dic_list())"
    },
    "r": {
     "delete_cmd_postfix": ") ",
     "delete_cmd_prefix": "rm(",
     "library": "var_list.r",
     "varRefreshCmd": "cat(var_dic_list()) "
    }
   },
   "types_to_exclude": [
    "module",
    "function",
    "builtin_function_or_method",
    "instance",
    "_Feature"
   ],
   "window_display": false
  }
 },
 "nbformat": 4,
 "nbformat_minor": 2
}
