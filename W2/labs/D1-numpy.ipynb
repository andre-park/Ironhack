{
 "cells": [
  {
   "cell_type": "markdown",
   "metadata": {
    "colab_type": "text",
    "id": "mN9kpE7hMEP-"
   },
   "source": [
    "![Ironhack logo](https://i.imgur.com/1QgrNNw.png)\n",
    "\n",
    "# Lab | Numpy\n",
    "\n",
    "## Introduction\n",
    "\n",
    "An important ability of a data scientist/data engineer is to know where and how to find information that helps you to accomplish your work. In the exercise, you will both practice the Numpy features we discussed in the lesson and learn new features by looking up documentations and references. You will work on your own but remember the teaching staff is at your service whenever you encounter problems.\n",
    "\n",
    "## Getting Started\n",
    "There are a bunch of comments which instruct what you are supposed to do step by step. Follow the order of the instructions from top to bottom. Read each instruction carefully and provide your answer beneath it. You should also test your answers to make sure your responses are correct. If one of your responses is incorrect, you may not be able to proceed because later responses may depend upon previous responses.\n",
    "\n",
    "\n",
    "## Resources\n",
    "\n",
    "Some of the questions in the assignment are not covered in our lesson. You will learn how to efficiently look up the information on your own. Below are some resources you can find the information you need.\n",
    "\n",
    "[Numpy User Guide](https://docs.scipy.org/doc/numpy/user/index.html)\n",
    "\n",
    "[Numpy Reference](https://docs.scipy.org/doc/numpy/reference/)\n",
    "\n",
    "[Google Search](https://www.google.com/search?q=how+to+use+numpy)\n",
    "\n"
   ]
  },
  {
   "cell_type": "markdown",
   "metadata": {
    "colab_type": "text",
    "id": "-we_8UVrwCc1"
   },
   "source": [
    "# Intrduction to NumPy\n",
    "\n",
    "\n",
    "#### 1. Import NumPy under the name np."
   ]
  },
  {
   "cell_type": "code",
   "execution_count": 4,
   "metadata": {
    "ExecuteTime": {
     "end_time": "2020-06-08T19:00:53.749861Z",
     "start_time": "2020-06-08T19:00:09.022073Z"
    }
   },
   "outputs": [
    {
     "name": "stdout",
     "output_type": "stream",
     "text": [
      "Collecting numpy\n",
      "  Downloading https://files.pythonhosted.org/packages/e4/01/7a26148f7de9eb6c27f95b29eba16b7e820827cb9ebaae182d7483e44711/numpy-1.18.5-cp37-cp37m-win_amd64.whl (12.7MB)\n",
      "Installing collected packages: numpy\n",
      "Successfully installed numpy-1.18.5\n",
      "Note: you may need to restart the kernel to use updated packages.\n"
     ]
    },
    {
     "name": "stderr",
     "output_type": "stream",
     "text": [
      "  WARNING: The script f2py.exe is installed in 'C:\\Users\\55119\\AppData\\Roaming\\Python\\Python37\\Scripts' which is not on PATH.\n",
      "  Consider adding this directory to PATH or, if you prefer to suppress this warning, use --no-warn-script-location.\n"
     ]
    }
   ],
   "source": [
    "pip install numpy --upgrade --user"
   ]
  },
  {
   "cell_type": "code",
   "execution_count": 1,
   "metadata": {
    "ExecuteTime": {
     "end_time": "2020-06-08T20:19:22.061756Z",
     "start_time": "2020-06-08T20:19:22.058797Z"
    }
   },
   "outputs": [],
   "source": [
    "import numpy as np"
   ]
  },
  {
   "cell_type": "markdown",
   "metadata": {
    "colab_type": "text",
    "id": "8Xtbl_EvwCc9"
   },
   "source": [
    "#### 2. Print your NumPy version."
   ]
  },
  {
   "cell_type": "code",
   "execution_count": 2,
   "metadata": {
    "ExecuteTime": {
     "end_time": "2020-06-08T20:19:25.943488Z",
     "start_time": "2020-06-08T20:19:25.932508Z"
    },
    "colab": {},
    "colab_type": "code",
    "id": "3fRJ8mtHwCc5"
   },
   "outputs": [
    {
     "data": {
      "text/plain": [
       "'1.18.5'"
      ]
     },
     "execution_count": 2,
     "metadata": {},
     "output_type": "execute_result"
    }
   ],
   "source": [
    "# your code here\n",
    "np.__version__"
   ]
  },
  {
   "cell_type": "markdown",
   "metadata": {
    "colab_type": "text",
    "id": "FpKgyatowCdC"
   },
   "source": [
    "#### 3. Generate a 3x2x5 3-dimensional array with random values. Assign the array to variable *a*.\n",
    "**Challenge**: there are at least three easy ways that use numpy to generate random arrays. How many ways can you find?\n",
    "\n",
    "**Example of output**:\n",
    "````python\n",
    "[[[0.29932768, 0.85812686, 0.75266145, 0.09278988, 0.78358352],\n",
    "  [0.13437453, 0.65695946, 0.82047594, 0.09764179, 0.52230096]],\n",
    " \n",
    " [[0.54248247, 0.06431281, 0.65902257, 0.92736679, 0.3302839 ],\n",
    "  [0.86867236, 0.33960592, 0.62295821, 0.74563567, 0.24351584]],\n",
    " \n",
    " [[0.21276812, 0.06917533, 0.35106591, 0.82273425, 0.7910178 ],\n",
    "  [0.37768961, 0.56107736, 0.99965953, 0.97615549, 0.2445537 ]]]\n",
    "````"
   ]
  },
  {
   "cell_type": "code",
   "execution_count": 48,
   "metadata": {
    "ExecuteTime": {
     "end_time": "2020-06-08T21:19:58.347670Z",
     "start_time": "2020-06-08T21:19:58.339648Z"
    },
    "colab": {},
    "colab_type": "code",
    "id": "609Z4Zn3wCdD"
   },
   "outputs": [
    {
     "data": {
      "text/plain": [
       "array([[[0.3040892 , 0.88007542, 0.75253061, 0.12524407, 0.40597767],\n",
       "        [0.37198086, 0.71555864, 0.02428527, 0.58001608, 0.49455023]],\n",
       "\n",
       "       [[0.96205835, 0.63921314, 0.61583763, 0.72295386, 0.90649163],\n",
       "        [0.93304043, 0.65998481, 0.11912147, 0.87922369, 0.21927991]],\n",
       "\n",
       "       [[0.77967735, 0.9492639 , 0.72529214, 0.52624611, 0.21253169],\n",
       "        [0.848267  , 0.11778919, 0.48972358, 0.38514018, 0.13455497]]])"
      ]
     },
     "execution_count": 48,
     "metadata": {},
     "output_type": "execute_result"
    }
   ],
   "source": [
    "# Method 1\n",
    "a = np.random.random(size = (3,2,5))\n",
    "a"
   ]
  },
  {
   "cell_type": "code",
   "execution_count": 49,
   "metadata": {
    "ExecuteTime": {
     "end_time": "2020-06-08T21:19:58.738618Z",
     "start_time": "2020-06-08T21:19:58.732634Z"
    },
    "colab": {},
    "colab_type": "code",
    "id": "q6dKJNO4wCdH"
   },
   "outputs": [
    {
     "data": {
      "text/plain": [
       "array([[[0.38364192, 0.71879405, 0.53883012, 0.576047  , 0.76345049],\n",
       "        [0.029733  , 0.47780808, 0.73995622, 0.02138544, 0.15075016]],\n",
       "\n",
       "       [[0.37036288, 0.07044659, 0.9181781 , 0.78193152, 0.50253118],\n",
       "        [0.79493324, 0.9815391 , 0.74332067, 0.28653941, 0.14547074]],\n",
       "\n",
       "       [[0.12810875, 0.47422298, 0.10106875, 0.41532468, 0.62719123],\n",
       "        [0.14124981, 0.74834477, 0.02799449, 0.94941727, 0.67936528]]])"
      ]
     },
     "execution_count": 49,
     "metadata": {},
     "output_type": "execute_result"
    }
   ],
   "source": [
    "# Method 2\n",
    "a = np.random.rand(3,2,5)\n",
    "a"
   ]
  },
  {
   "cell_type": "code",
   "execution_count": 50,
   "metadata": {
    "ExecuteTime": {
     "end_time": "2020-06-08T21:19:59.274623Z",
     "start_time": "2020-06-08T21:19:59.269662Z"
    },
    "colab": {},
    "colab_type": "code",
    "id": "xILn36GWwCdK"
   },
   "outputs": [
    {
     "data": {
      "text/plain": [
       "array([[[ 0.79123656,  0.70163622, -0.17983752,  1.04760522,\n",
       "          2.28272477],\n",
       "        [ 1.14616508, -0.79919023, -0.85386856,  0.2811657 ,\n",
       "         -0.90665439]],\n",
       "\n",
       "       [[-0.13680709, -0.56554001,  1.31375968,  0.65261809,\n",
       "          1.57292253],\n",
       "        [-1.95015852,  0.50917076, -0.74134184, -0.75518158,\n",
       "          1.98802683]],\n",
       "\n",
       "       [[-0.51220389,  1.95392807, -0.53669118,  0.55051626,\n",
       "         -1.72912296],\n",
       "        [ 0.7454108 , -0.15481822, -0.05841659,  0.61847147,\n",
       "         -0.02057492]]])"
      ]
     },
     "execution_count": 50,
     "metadata": {},
     "output_type": "execute_result"
    }
   ],
   "source": [
    "# Method 3\n",
    "a = np. random.randn(3,2,5)\n",
    "a"
   ]
  },
  {
   "cell_type": "markdown",
   "metadata": {
    "colab_type": "text",
    "id": "aMHxBSCDwCdP"
   },
   "source": [
    "#### 4. Print *a*.\n"
   ]
  },
  {
   "cell_type": "code",
   "execution_count": 51,
   "metadata": {
    "ExecuteTime": {
     "end_time": "2020-06-08T21:20:03.875302Z",
     "start_time": "2020-06-08T21:20:03.870314Z"
    },
    "colab": {},
    "colab_type": "code",
    "id": "N_NYL3pHwCdQ"
   },
   "outputs": [
    {
     "name": "stdout",
     "output_type": "stream",
     "text": [
      "[[[ 0.79123656  0.70163622 -0.17983752  1.04760522  2.28272477]\n",
      "  [ 1.14616508 -0.79919023 -0.85386856  0.2811657  -0.90665439]]\n",
      "\n",
      " [[-0.13680709 -0.56554001  1.31375968  0.65261809  1.57292253]\n",
      "  [-1.95015852  0.50917076 -0.74134184 -0.75518158  1.98802683]]\n",
      "\n",
      " [[-0.51220389  1.95392807 -0.53669118  0.55051626 -1.72912296]\n",
      "  [ 0.7454108  -0.15481822 -0.05841659  0.61847147 -0.02057492]]]\n"
     ]
    }
   ],
   "source": [
    "# your code here\n",
    "print(a)"
   ]
  },
  {
   "cell_type": "markdown",
   "metadata": {
    "colab_type": "text",
    "id": "kws-mAPSwCdU"
   },
   "source": [
    "#### 5. Create a 5x2x3 3-dimensional array with all values equaling 1. Assign the array to variable *b*."
   ]
  },
  {
   "cell_type": "markdown",
   "metadata": {
    "colab_type": "text",
    "id": "SMAUJKLwJS-8"
   },
   "source": [
    "Expected output:\n",
    "\n",
    "````python\n",
    "      [[[1, 1, 1],\n",
    "        [1, 1, 1]],\n",
    "\n",
    "       [[1, 1, 1],\n",
    "        [1, 1, 1]],\n",
    "\n",
    "       [[1, 1, 1],\n",
    "        [1, 1, 1]],\n",
    "\n",
    "       [[1, 1, 1],\n",
    "        [1, 1, 1]],\n",
    "\n",
    "       [[1, 1, 1],\n",
    "        [1, 1, 1]]]\n",
    "````"
   ]
  },
  {
   "cell_type": "code",
   "execution_count": 11,
   "metadata": {
    "ExecuteTime": {
     "end_time": "2020-06-08T20:33:43.183945Z",
     "start_time": "2020-06-08T20:33:43.178958Z"
    },
    "colab": {},
    "colab_type": "code",
    "id": "anCmbtrtwCdW"
   },
   "outputs": [],
   "source": [
    "# your code here\n",
    "b = np.ones(shape = (5,2,3))"
   ]
  },
  {
   "cell_type": "markdown",
   "metadata": {
    "colab_type": "text",
    "id": "FsYdwPxPwCdZ"
   },
   "source": [
    "#### 6. Print *b*.\n"
   ]
  },
  {
   "cell_type": "code",
   "execution_count": 12,
   "metadata": {
    "ExecuteTime": {
     "end_time": "2020-06-08T20:34:07.935100Z",
     "start_time": "2020-06-08T20:34:07.932136Z"
    },
    "colab": {},
    "colab_type": "code",
    "id": "Y3rcPurpwCda"
   },
   "outputs": [
    {
     "name": "stdout",
     "output_type": "stream",
     "text": [
      "[[[1. 1. 1.]\n",
      "  [1. 1. 1.]]\n",
      "\n",
      " [[1. 1. 1.]\n",
      "  [1. 1. 1.]]\n",
      "\n",
      " [[1. 1. 1.]\n",
      "  [1. 1. 1.]]\n",
      "\n",
      " [[1. 1. 1.]\n",
      "  [1. 1. 1.]]\n",
      "\n",
      " [[1. 1. 1.]\n",
      "  [1. 1. 1.]]]\n"
     ]
    }
   ],
   "source": [
    "# your code here\n",
    "print(b)"
   ]
  },
  {
   "cell_type": "markdown",
   "metadata": {
    "colab_type": "text",
    "id": "hGblsnk5wCde"
   },
   "source": [
    "#### 7. Do *a* and *b* have the same size? How do you prove that in Python code?"
   ]
  },
  {
   "cell_type": "code",
   "execution_count": 13,
   "metadata": {
    "ExecuteTime": {
     "end_time": "2020-06-08T20:35:26.005541Z",
     "start_time": "2020-06-08T20:35:26.000557Z"
    },
    "colab": {},
    "colab_type": "code",
    "id": "YmKeIpGWwCdf"
   },
   "outputs": [
    {
     "data": {
      "text/plain": [
       "False"
      ]
     },
     "execution_count": 13,
     "metadata": {},
     "output_type": "execute_result"
    }
   ],
   "source": [
    "# your code here\n",
    "a.shape == b.shape"
   ]
  },
  {
   "cell_type": "markdown",
   "metadata": {
    "colab_type": "text",
    "id": "o9UzXk9IwCdi"
   },
   "source": [
    "#### 8. Are you able to add *a* and *b*? Why or why not?\n"
   ]
  },
  {
   "cell_type": "code",
   "execution_count": 0,
   "metadata": {
    "colab": {},
    "colab_type": "code",
    "id": "drdAyKPywCdj"
   },
   "outputs": [],
   "source": [
    "# your answer here\n",
    "# The operation of sum for two arrays is only possible if they have the samen shape."
   ]
  },
  {
   "cell_type": "markdown",
   "metadata": {
    "colab_type": "text",
    "id": "DTsSOpvYwCdm"
   },
   "source": [
    "#### 9. Reshape *b* so that it has the same structure of *a* (i.e. become a 3x2x5 array). Assign the reshaped array to variable *c*.\n",
    "\n",
    "Expected output:\n",
    "\n",
    "````python\n",
    "      [[[1, 1, 1, 1, 1],\n",
    "        [1, 1, 1, 1, 1]],\n",
    "\n",
    "       [[1, 1, 1, 1, 1],\n",
    "        [1, 1, 1, 1, 1]],\n",
    "\n",
    "       [[1, 1, 1, 1, 1],\n",
    "        [1, 1, 1, 1, 1]]]\n",
    "````"
   ]
  },
  {
   "cell_type": "code",
   "execution_count": 52,
   "metadata": {
    "ExecuteTime": {
     "end_time": "2020-06-08T21:20:29.739294Z",
     "start_time": "2020-06-08T21:20:29.735337Z"
    },
    "colab": {},
    "colab_type": "code",
    "id": "DjLlRJUtwCdn"
   },
   "outputs": [],
   "source": [
    "# your code here\n",
    "c = b.reshape((3,2,5))"
   ]
  },
  {
   "cell_type": "markdown",
   "metadata": {
    "colab_type": "text",
    "id": "fvHocQ9EwCdq"
   },
   "source": [
    "#### 10. Try to add *a* and *c*. Now it should work. Assign the sum to variable *d*. But why does it work now?"
   ]
  },
  {
   "cell_type": "code",
   "execution_count": 53,
   "metadata": {
    "ExecuteTime": {
     "end_time": "2020-06-08T21:20:32.708690Z",
     "start_time": "2020-06-08T21:20:32.705699Z"
    },
    "colab": {},
    "colab_type": "code",
    "id": "Ohf5yh5ZwCdr"
   },
   "outputs": [],
   "source": [
    "# your code/answer here\n",
    "d = a + c\n",
    "# Both arrays have the same shape."
   ]
  },
  {
   "cell_type": "code",
   "execution_count": 54,
   "metadata": {
    "ExecuteTime": {
     "end_time": "2020-06-08T21:20:33.469134Z",
     "start_time": "2020-06-08T21:20:33.464147Z"
    }
   },
   "outputs": [
    {
     "data": {
      "text/plain": [
       "array([[[ 1.79123656,  1.70163622,  0.82016248,  2.04760522,\n",
       "          3.28272477],\n",
       "        [ 2.14616508,  0.20080977,  0.14613144,  1.2811657 ,\n",
       "          0.09334561]],\n",
       "\n",
       "       [[ 0.86319291,  0.43445999,  2.31375968,  1.65261809,\n",
       "          2.57292253],\n",
       "        [-0.95015852,  1.50917076,  0.25865816,  0.24481842,\n",
       "          2.98802683]],\n",
       "\n",
       "       [[ 0.48779611,  2.95392807,  0.46330882,  1.55051626,\n",
       "         -0.72912296],\n",
       "        [ 1.7454108 ,  0.84518178,  0.94158341,  1.61847147,\n",
       "          0.97942508]]])"
      ]
     },
     "execution_count": 54,
     "metadata": {},
     "output_type": "execute_result"
    }
   ],
   "source": [
    "d"
   ]
  },
  {
   "cell_type": "markdown",
   "metadata": {
    "colab_type": "text",
    "id": "DuQBMzQBwCdw"
   },
   "source": [
    "#### 11. Print *a* and *d*. Notice the difference and relation of the two array in terms of the values? Explain."
   ]
  },
  {
   "cell_type": "code",
   "execution_count": 55,
   "metadata": {
    "ExecuteTime": {
     "end_time": "2020-06-08T21:20:42.499428Z",
     "start_time": "2020-06-08T21:20:42.495434Z"
    },
    "colab": {},
    "colab_type": "code",
    "id": "gEuh7iv1wCdx"
   },
   "outputs": [
    {
     "name": "stdout",
     "output_type": "stream",
     "text": [
      "[[[ 0.79123656  0.70163622 -0.17983752  1.04760522  2.28272477]\n",
      "  [ 1.14616508 -0.79919023 -0.85386856  0.2811657  -0.90665439]]\n",
      "\n",
      " [[-0.13680709 -0.56554001  1.31375968  0.65261809  1.57292253]\n",
      "  [-1.95015852  0.50917076 -0.74134184 -0.75518158  1.98802683]]\n",
      "\n",
      " [[-0.51220389  1.95392807 -0.53669118  0.55051626 -1.72912296]\n",
      "  [ 0.7454108  -0.15481822 -0.05841659  0.61847147 -0.02057492]]]\n",
      "[[[ 1.79123656  1.70163622  0.82016248  2.04760522  3.28272477]\n",
      "  [ 2.14616508  0.20080977  0.14613144  1.2811657   0.09334561]]\n",
      "\n",
      " [[ 0.86319291  0.43445999  2.31375968  1.65261809  2.57292253]\n",
      "  [-0.95015852  1.50917076  0.25865816  0.24481842  2.98802683]]\n",
      "\n",
      " [[ 0.48779611  2.95392807  0.46330882  1.55051626 -0.72912296]\n",
      "  [ 1.7454108   0.84518178  0.94158341  1.61847147  0.97942508]]]\n"
     ]
    }
   ],
   "source": [
    "# your code/answer here\n",
    "print(a)\n",
    "print(d)\n",
    "\n",
    "#The array d is equal to the array a plus 1 in every element."
   ]
  },
  {
   "cell_type": "markdown",
   "metadata": {
    "colab_type": "text",
    "id": "Ka1popJ3wCd0"
   },
   "source": [
    "#### 12. Multiply *a* and *c*. Assign the result to *e*."
   ]
  },
  {
   "cell_type": "code",
   "execution_count": 19,
   "metadata": {
    "ExecuteTime": {
     "end_time": "2020-06-08T20:47:01.048187Z",
     "start_time": "2020-06-08T20:47:01.044197Z"
    },
    "colab": {},
    "colab_type": "code",
    "id": "hLeCMiSEwCd1"
   },
   "outputs": [],
   "source": [
    "# your code here\n",
    "e = a*c"
   ]
  },
  {
   "cell_type": "markdown",
   "metadata": {
    "colab_type": "text",
    "id": "1QCqP6lMwCd5"
   },
   "source": [
    "#### 13. Does *e* equal to *a*? Why or why not?\n"
   ]
  },
  {
   "cell_type": "code",
   "execution_count": 22,
   "metadata": {
    "ExecuteTime": {
     "end_time": "2020-06-08T20:50:19.148921Z",
     "start_time": "2020-06-08T20:50:19.144912Z"
    },
    "colab": {},
    "colab_type": "code",
    "id": "oxoat0cbwCd6"
   },
   "outputs": [
    {
     "data": {
      "text/plain": [
       "array([[[ True,  True,  True,  True,  True],\n",
       "        [ True,  True,  True,  True,  True]],\n",
       "\n",
       "       [[ True,  True,  True,  True,  True],\n",
       "        [ True,  True,  True,  True,  True]],\n",
       "\n",
       "       [[ True,  True,  True,  True,  True],\n",
       "        [ True,  True,  True,  True,  True]]])"
      ]
     },
     "execution_count": 22,
     "metadata": {},
     "output_type": "execute_result"
    }
   ],
   "source": [
    "# your code/answer here\n",
    "e == a\n",
    "# They are the same."
   ]
  },
  {
   "cell_type": "markdown",
   "metadata": {
    "colab_type": "text",
    "id": "b7ceZMcswCd9"
   },
   "source": [
    "#### 14. Identify the max, min, and mean values in *d*. Assign those values to variables *d_max*, *d_min* and *d_mean*."
   ]
  },
  {
   "cell_type": "code",
   "execution_count": 56,
   "metadata": {
    "ExecuteTime": {
     "end_time": "2020-06-08T21:20:52.706327Z",
     "start_time": "2020-06-08T21:20:52.702309Z"
    },
    "colab": {},
    "colab_type": "code",
    "id": "ljd7J4ucwCd-"
   },
   "outputs": [],
   "source": [
    "# your code here\n",
    "d_max = d.max()\n",
    "d_min = d.min()\n",
    "d_mean = d.mean()"
   ]
  },
  {
   "cell_type": "markdown",
   "metadata": {
    "colab_type": "text",
    "id": "bBmZ1bg3wCeC"
   },
   "source": [
    "#### 15. Now we want to label the values in *d*. First create an empty array *f* with the same shape (i.e. 3x2x5) as *d* using `np.empty`.\n"
   ]
  },
  {
   "cell_type": "code",
   "execution_count": 57,
   "metadata": {
    "ExecuteTime": {
     "end_time": "2020-06-08T21:20:53.793816Z",
     "start_time": "2020-06-08T21:20:53.789827Z"
    },
    "colab": {},
    "colab_type": "code",
    "id": "GVU7znV7wCeD"
   },
   "outputs": [],
   "source": [
    "# your code here\n",
    "f = np.empty((3,2,5))"
   ]
  },
  {
   "cell_type": "markdown",
   "metadata": {
    "colab_type": "text",
    "id": "cwZMaPTawCeG"
   },
   "source": [
    "#### 16. Populate the values in *f*. \n",
    "\n",
    "For each value in *d*, if it's larger than *d_min* but smaller than *d_mean*, assign 25 to the corresponding value in *f*. If a value in *d* is larger than *d_mean* but smaller than *d_max*, assign 75 to the corresponding value in *f*. If a value equals to *d_mean*, assign 50 to the corresponding value in *f*. Assign 0 to the corresponding value(s) in *f* for *d_min* in *d*. Assign 100 to the corresponding value(s) in *f* for *d_max* in *d*. In the end, f should have only the following values: 0, 25, 50, 75, and 100.\n",
    "\n",
    "**Note**: you don't have to use Numpy in this question."
   ]
  },
  {
   "cell_type": "code",
   "execution_count": 58,
   "metadata": {
    "ExecuteTime": {
     "end_time": "2020-06-08T21:20:56.291096Z",
     "start_time": "2020-06-08T21:20:56.284149Z"
    },
    "colab": {},
    "colab_type": "code",
    "id": "He3bA8_vwCeI"
   },
   "outputs": [],
   "source": [
    "# your code here\n",
    "for m in range(3):\n",
    "    for r in range(2):\n",
    "        for c in range(5):\n",
    "            if d[m,r,c] > d_min and d[m,r,c] < d_mean:\n",
    "                f[m,r,c] = 25\n",
    "            elif d[m,r,c] > d_mean and d[m,r,c] < d_max:\n",
    "                f[m,r,c] = 75\n",
    "            elif d[m,r,c] == d_mean:\n",
    "                f[m,r,c] = 50\n",
    "            elif d[m,r,c] < d_min:\n",
    "                f[m,r,c] = 0\n",
    "            elif d[m,r,c] > d_max:\n",
    "                f[m,r,c] = 100"
   ]
  },
  {
   "cell_type": "markdown",
   "metadata": {
    "colab_type": "text",
    "id": "DtXatajMwCeM"
   },
   "source": [
    "#### 17. Print *d* and *f*. Do you have your expected *f*?\n",
    "For instance, if your *d* is:\n",
    "```python\n",
    "[[[1.85836099, 1.67064465, 1.62576044, 1.40243961, 1.88454931],\n",
    "  [1.75354326, 1.69403643, 1.36729252, 1.61415071, 1.12104981],\n",
    "  [1.72201435, 1.1862918 , 1.87078449, 1.7726778 , 1.88180042]],\n",
    " \n",
    " [[1.44747908, 1.31673383, 1.02000951, 1.52218947, 1.97066381],\n",
    "  [1.79129243, 1.74983003, 1.96028037, 1.85166831, 1.65450881],\n",
    "  [1.18068344, 1.9587381 , 1.00656599, 1.93402165, 1.73514584]]]\n",
    "```\n",
    "Your *f* should be:\n",
    "```python\n",
    "[[[ 75.,  75.,  75.,  25.,  75.],\n",
    "  [ 75.,  75.,  25.,  25.,  25.],\n",
    "  [ 75.,  25.,  75.,  75.,  75.]],\n",
    " \n",
    " [[ 25.,  25.,  25.,  25., 100.],\n",
    "  [ 75.,  75.,  75.,  75.,  75.],\n",
    "  [ 25.,  75.,   0.,  75.,  75.]]]\n",
    "```"
   ]
  },
  {
   "cell_type": "code",
   "execution_count": 59,
   "metadata": {
    "ExecuteTime": {
     "end_time": "2020-06-08T21:21:02.303502Z",
     "start_time": "2020-06-08T21:21:02.297546Z"
    },
    "colab": {},
    "colab_type": "code",
    "id": "wvC83zaUwCeN"
   },
   "outputs": [
    {
     "name": "stdout",
     "output_type": "stream",
     "text": [
      "[[[ 1.79123656  1.70163622  0.82016248  2.04760522  3.28272477]\n",
      "  [ 2.14616508  0.20080977  0.14613144  1.2811657   0.09334561]]\n",
      "\n",
      " [[ 0.86319291  0.43445999  2.31375968  1.65261809  2.57292253]\n",
      "  [-0.95015852  1.50917076  0.25865816  0.24481842  2.98802683]]\n",
      "\n",
      " [[ 0.48779611  2.95392807  0.46330882  1.55051626 -0.72912296]\n",
      "  [ 1.7454108   0.84518178  0.94158341  1.61847147  0.97942508]]]\n",
      "_____________________________________________________\n",
      "[[[75. 75. 25. 75. 25.]\n",
      "  [75. 25. 25. 75. 25.]]\n",
      "\n",
      " [[25. 25. 75. 75. 75.]\n",
      "  [25. 75. 25. 25. 75.]]\n",
      "\n",
      " [[25. 75. 25. 75. 25.]\n",
      "  [75. 25. 25. 75. 25.]]]\n"
     ]
    }
   ],
   "source": [
    "# your code here\n",
    "print(d)\n",
    "print('_____________________________________________________')\n",
    "print(f)"
   ]
  },
  {
   "cell_type": "markdown",
   "metadata": {
    "colab_type": "text",
    "id": "ppRoFFJBwCeS"
   },
   "source": [
    "#### 18. Bonus question: instead of using numbers (i.e. 0, 25, 50, 75, and 100), use string values  (\"A\", \"B\", \"C\", \"D\", and \"E\") to label the array elements. For the example above, the expected result is:\n",
    "\n",
    "```python\n",
    "[[[ 'D',  'D',  'D',  'B',  'D'],\n",
    "  [ 'D',  'D',  'B',  'B',  'B'],\n",
    "  [ 'D',  'B',  'D',  'D',  'D']],\n",
    " \n",
    " [[ 'B',  'B',  'B',  'B',  'E'],\n",
    "  [ 'D',  'D',  'D',  'D',  'D'],\n",
    "  [ 'B',  'D',   'A',  'D', 'D']]]\n",
    "```\n",
    "**Note**: you don't have to use Numpy in this question."
   ]
  },
  {
   "cell_type": "code",
   "execution_count": 65,
   "metadata": {
    "ExecuteTime": {
     "end_time": "2020-06-08T21:34:47.858271Z",
     "start_time": "2020-06-08T21:34:47.846271Z"
    },
    "colab": {},
    "colab_type": "code",
    "id": "xbBNSrnCwCeU"
   },
   "outputs": [
    {
     "data": {
      "text/plain": [
       "array([[['D', 'D', 'B', 'D', 'B'],\n",
       "        ['D', 'B', 'B', 'D', 'B']],\n",
       "\n",
       "       [['B', 'B', 'D', 'D', 'D'],\n",
       "        ['B', 'D', 'B', 'B', 'D']],\n",
       "\n",
       "       [['B', 'D', 'B', 'D', 'B'],\n",
       "        ['D', 'B', 'B', 'D', 'B']]], dtype='<U1')"
      ]
     },
     "execution_count": 65,
     "metadata": {},
     "output_type": "execute_result"
    }
   ],
   "source": [
    "# your code here\n",
    "g = np.empty(shape = (3,2,5), dtype = str)\n",
    "\n",
    "for m in range(3):\n",
    "    for r in range(2):\n",
    "        for c in range(5):\n",
    "            if f[m,r,c] == 25:\n",
    "                g[m,r,c] = 'B'\n",
    "            elif f[m,r,c] == 75:\n",
    "                g[m,r,c] = 'D'\n",
    "            elif f[m,r,c] == 50:\n",
    "                g[m,r,c] = 'C'\n",
    "            elif f[m,r,c] == 0:\n",
    "                g[m,r,c] = 'A'\n",
    "            elif f[m,r,c] == 100:\n",
    "                g[m,r,c] = 'E'\n",
    "g"
   ]
  },
  {
   "cell_type": "markdown",
   "metadata": {
    "colab_type": "text",
    "id": "QzJyLQiFMsyT"
   },
   "source": [
    "## Additional Challenges for the Nerds\n",
    "\n",
    "If you are way ahead of your classmates and willing to accept some tough challenges about Numpy, take one or several of the following Codewar *katas*. \tYou need to already possess a good amount of knowledge in Python and statistics because you will need to write Python functions, do loops, write conditionals, and deal with matrices.\n",
    "\n",
    "* [Insert dashes](https://www.codewars.com/kata/insert-dashes)\n",
    "* [Thinkful - Logic Drills: Red and bumpy](https://www.codewars.com/kata/thinkful-logic-drills-red-and-bumpy)"
   ]
  },
  {
   "cell_type": "code",
   "execution_count": 0,
   "metadata": {
    "colab": {},
    "colab_type": "code",
    "id": "fy2EwolQMtfJ"
   },
   "outputs": [],
   "source": []
  }
 ],
 "metadata": {
  "colab": {
   "collapsed_sections": [],
   "name": "main.ipynb",
   "provenance": []
  },
  "kernelspec": {
   "display_name": "Python 3",
   "language": "python",
   "name": "python3"
  },
  "language_info": {
   "codemirror_mode": {
    "name": "ipython",
    "version": 3
   },
   "file_extension": ".py",
   "mimetype": "text/x-python",
   "name": "python",
   "nbconvert_exporter": "python",
   "pygments_lexer": "ipython3",
   "version": "3.7.4"
  },
  "toc": {
   "base_numbering": 1,
   "nav_menu": {},
   "number_sections": true,
   "sideBar": true,
   "skip_h1_title": false,
   "title_cell": "Table of Contents",
   "title_sidebar": "Contents",
   "toc_cell": false,
   "toc_position": {},
   "toc_section_display": true,
   "toc_window_display": false
  },
  "varInspector": {
   "cols": {
    "lenName": 16,
    "lenType": 16,
    "lenVar": 40
   },
   "kernels_config": {
    "python": {
     "delete_cmd_postfix": "",
     "delete_cmd_prefix": "del ",
     "library": "var_list.py",
     "varRefreshCmd": "print(var_dic_list())"
    },
    "r": {
     "delete_cmd_postfix": ") ",
     "delete_cmd_prefix": "rm(",
     "library": "var_list.r",
     "varRefreshCmd": "cat(var_dic_list()) "
    }
   },
   "types_to_exclude": [
    "module",
    "function",
    "builtin_function_or_method",
    "instance",
    "_Feature"
   ],
   "window_display": false
  }
 },
 "nbformat": 4,
 "nbformat_minor": 1
}
