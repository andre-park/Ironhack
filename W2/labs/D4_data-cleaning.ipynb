{
 "cells": [
  {
   "cell_type": "markdown",
   "metadata": {
    "colab_type": "text",
    "id": "n5PumiMUZIVK"
   },
   "source": [
    "![Ironhack logo](https://i.imgur.com/1QgrNNw.png)\n",
    "\n",
    "# Lab | Data Cleaning\n",
    "\n",
    "## Introduction\n",
    "\n",
    "We keep seeing a common phrase that 80% of the work of a data scientist is data cleaning. We have no idea whether this number is accurate but a data scientist indeed spends lots of time and effort in collecting, cleaning and preparing the data for analysis. This is because datasets are usually messy and complex in nature. It is a very important ability for a data scientist to refine and restructure datasets into a usable state in order to proceed to the data analysis stage.\n",
    "\n",
    "In this exercise, you will both practice the data cleaning techniques we discussed in the lesson and learn new techniques by looking up documentations and references. You will work on your own but remember the teaching staff is at your service whenever you encounter problems.\n",
    "\n",
    "## Getting Started\n",
    "\n",
    "Read the instructions for each cell and provide your answers. Make sure to test your answers in each cell and save. Jupyter Notebook should automatically save your work progress. But it's a good idea to periodically save your work manually just in case.\n",
    "\n",
    "\n",
    "## Resources\n",
    "\n",
    "[Data Cleaning Tutorial](https://www.tutorialspoint.com/python/python_data_cleansing.html)\n",
    "\n",
    "[Data Cleaning with Numpy and Pandas](https://realpython.com/python-data-cleaning-numpy-pandas/#python-data-cleaning-recap-and-resources)\n",
    "\n",
    "[Data Cleaning Video](https://www.youtube.com/watch?v=ZOX18HfLHGQ)\n",
    "\n",
    "[Data Preparation](https://www.kdnuggets.com/2017/06/7-steps-mastering-data-preparation-python.html)\n",
    "\n",
    "[Google Search](https://www.google.es/search?q=how+to+clean+data+with+python)"
   ]
  },
  {
   "cell_type": "markdown",
   "metadata": {
    "colab_type": "text",
    "id": "zuHDm8EtZD4X"
   },
   "source": [
    "# Data Cleaning "
   ]
  },
  {
   "cell_type": "code",
   "execution_count": 1,
   "metadata": {
    "ExecuteTime": {
     "end_time": "2020-06-15T22:21:20.892470Z",
     "start_time": "2020-06-15T22:21:20.288608Z"
    },
    "colab": {},
    "colab_type": "code",
    "id": "mzok3P1NZD4Z"
   },
   "outputs": [],
   "source": [
    "import pandas as pd"
   ]
  },
  {
   "cell_type": "markdown",
   "metadata": {
    "colab_type": "text",
    "id": "JgKT-j3aZD4e"
   },
   "source": [
    "# Read the users dataset.\n",
    "\n",
    "Take a look at what is the `users.csv` separator."
   ]
  },
  {
   "cell_type": "code",
   "execution_count": 2,
   "metadata": {
    "ExecuteTime": {
     "end_time": "2020-06-15T22:21:21.207553Z",
     "start_time": "2020-06-15T22:21:20.912785Z"
    },
    "colab": {},
    "colab_type": "code",
    "id": "1DvZ9W7rZD4f"
   },
   "outputs": [
    {
     "data": {
      "text/plain": [
       "(40503, 14)"
      ]
     },
     "execution_count": 2,
     "metadata": {},
     "output_type": "execute_result"
    }
   ],
   "source": [
    "users = pd.read_csv('../data/users.csv', sep = '#')\n",
    "users.shape"
   ]
  },
  {
   "cell_type": "markdown",
   "metadata": {
    "colab_type": "text",
    "id": "pmZ1D4wvZD4j"
   },
   "source": [
    "## Check its shape\n",
    "\n",
    "See the number of rows and columns you're dealing."
   ]
  },
  {
   "cell_type": "markdown",
   "metadata": {
    "colab_type": "text",
    "id": "BQHpNkApZD4k"
   },
   "source": [
    "## Use the .head() to see some rows of your dataframe."
   ]
  },
  {
   "cell_type": "code",
   "execution_count": 3,
   "metadata": {
    "ExecuteTime": {
     "end_time": "2020-06-15T22:21:21.283327Z",
     "start_time": "2020-06-15T22:21:21.257072Z"
    },
    "colab": {},
    "colab_type": "code",
    "id": "d39jdumRZD4l"
   },
   "outputs": [
    {
     "data": {
      "text/html": [
       "<div>\n",
       "<style scoped>\n",
       "    .dataframe tbody tr th:only-of-type {\n",
       "        vertical-align: middle;\n",
       "    }\n",
       "\n",
       "    .dataframe tbody tr th {\n",
       "        vertical-align: top;\n",
       "    }\n",
       "\n",
       "    .dataframe thead th {\n",
       "        text-align: right;\n",
       "    }\n",
       "</style>\n",
       "<table border=\"1\" class=\"dataframe\">\n",
       "  <thead>\n",
       "    <tr style=\"text-align: right;\">\n",
       "      <th></th>\n",
       "      <th>Id</th>\n",
       "      <th>Reputation</th>\n",
       "      <th>CreationDate</th>\n",
       "      <th>DisplayName</th>\n",
       "      <th>LastAccessDate</th>\n",
       "      <th>WebsiteUrl</th>\n",
       "      <th>Location</th>\n",
       "      <th>AboutMe</th>\n",
       "      <th>Views</th>\n",
       "      <th>UpVotes</th>\n",
       "      <th>DownVotes</th>\n",
       "      <th>AccountId</th>\n",
       "      <th>Age</th>\n",
       "      <th>ProfileImageUrl</th>\n",
       "    </tr>\n",
       "  </thead>\n",
       "  <tbody>\n",
       "    <tr>\n",
       "      <th>0</th>\n",
       "      <td>-1</td>\n",
       "      <td>1</td>\n",
       "      <td>2010-07-19 06:55:26</td>\n",
       "      <td>Community</td>\n",
       "      <td>2010-07-19 06:55:26</td>\n",
       "      <td>http://meta.stackexchange.com/</td>\n",
       "      <td>on the server farm</td>\n",
       "      <td>&lt;p&gt;Hi, I'm not really a person.&lt;/p&gt;\\n\\n&lt;p&gt;I'm ...</td>\n",
       "      <td>0</td>\n",
       "      <td>5007</td>\n",
       "      <td>1920</td>\n",
       "      <td>-1</td>\n",
       "      <td>NaN</td>\n",
       "      <td>NaN</td>\n",
       "    </tr>\n",
       "    <tr>\n",
       "      <th>1</th>\n",
       "      <td>2</td>\n",
       "      <td>101</td>\n",
       "      <td>2010-07-19 14:01:36</td>\n",
       "      <td>Geoff Dalgas</td>\n",
       "      <td>2013-11-12 22:07:23</td>\n",
       "      <td>http://stackoverflow.com</td>\n",
       "      <td>Corvallis, OR</td>\n",
       "      <td>&lt;p&gt;Developer on the StackOverflow team.  Find ...</td>\n",
       "      <td>25</td>\n",
       "      <td>3</td>\n",
       "      <td>0</td>\n",
       "      <td>2</td>\n",
       "      <td>37.0</td>\n",
       "      <td>NaN</td>\n",
       "    </tr>\n",
       "    <tr>\n",
       "      <th>2</th>\n",
       "      <td>3</td>\n",
       "      <td>101</td>\n",
       "      <td>2010-07-19 15:34:50</td>\n",
       "      <td>Jarrod Dixon</td>\n",
       "      <td>2014-08-08 06:42:58</td>\n",
       "      <td>http://stackoverflow.com</td>\n",
       "      <td>New York, NY</td>\n",
       "      <td>&lt;p&gt;&lt;a href=\"http://blog.stackoverflow.com/2009...</td>\n",
       "      <td>22</td>\n",
       "      <td>19</td>\n",
       "      <td>0</td>\n",
       "      <td>3</td>\n",
       "      <td>35.0</td>\n",
       "      <td>NaN</td>\n",
       "    </tr>\n",
       "    <tr>\n",
       "      <th>3</th>\n",
       "      <td>4</td>\n",
       "      <td>101</td>\n",
       "      <td>2010-07-19 19:03:27</td>\n",
       "      <td>Emmett</td>\n",
       "      <td>2014-01-02 09:31:02</td>\n",
       "      <td>http://minesweeperonline.com</td>\n",
       "      <td>San Francisco, CA</td>\n",
       "      <td>&lt;p&gt;currently at a startup in SF&lt;/p&gt;\\n\\n&lt;p&gt;form...</td>\n",
       "      <td>11</td>\n",
       "      <td>0</td>\n",
       "      <td>0</td>\n",
       "      <td>1998</td>\n",
       "      <td>28.0</td>\n",
       "      <td>http://i.stack.imgur.com/d1oHX.jpg</td>\n",
       "    </tr>\n",
       "    <tr>\n",
       "      <th>4</th>\n",
       "      <td>5</td>\n",
       "      <td>6792</td>\n",
       "      <td>2010-07-19 19:03:57</td>\n",
       "      <td>Shane</td>\n",
       "      <td>2014-08-13 00:23:47</td>\n",
       "      <td>http://www.statalgo.com</td>\n",
       "      <td>New York, NY</td>\n",
       "      <td>&lt;p&gt;Quantitative researcher focusing on statist...</td>\n",
       "      <td>1145</td>\n",
       "      <td>662</td>\n",
       "      <td>5</td>\n",
       "      <td>54503</td>\n",
       "      <td>35.0</td>\n",
       "      <td>NaN</td>\n",
       "    </tr>\n",
       "  </tbody>\n",
       "</table>\n",
       "</div>"
      ],
      "text/plain": [
       "   Id  Reputation         CreationDate   DisplayName       LastAccessDate  \\\n",
       "0  -1           1  2010-07-19 06:55:26     Community  2010-07-19 06:55:26   \n",
       "1   2         101  2010-07-19 14:01:36  Geoff Dalgas  2013-11-12 22:07:23   \n",
       "2   3         101  2010-07-19 15:34:50  Jarrod Dixon  2014-08-08 06:42:58   \n",
       "3   4         101  2010-07-19 19:03:27        Emmett  2014-01-02 09:31:02   \n",
       "4   5        6792  2010-07-19 19:03:57         Shane  2014-08-13 00:23:47   \n",
       "\n",
       "                       WebsiteUrl            Location  \\\n",
       "0  http://meta.stackexchange.com/  on the server farm   \n",
       "1        http://stackoverflow.com       Corvallis, OR   \n",
       "2        http://stackoverflow.com        New York, NY   \n",
       "3    http://minesweeperonline.com   San Francisco, CA   \n",
       "4         http://www.statalgo.com        New York, NY   \n",
       "\n",
       "                                             AboutMe  Views  UpVotes  \\\n",
       "0  <p>Hi, I'm not really a person.</p>\\n\\n<p>I'm ...      0     5007   \n",
       "1  <p>Developer on the StackOverflow team.  Find ...     25        3   \n",
       "2  <p><a href=\"http://blog.stackoverflow.com/2009...     22       19   \n",
       "3  <p>currently at a startup in SF</p>\\n\\n<p>form...     11        0   \n",
       "4  <p>Quantitative researcher focusing on statist...   1145      662   \n",
       "\n",
       "   DownVotes  AccountId   Age                     ProfileImageUrl  \n",
       "0       1920         -1   NaN                                 NaN  \n",
       "1          0          2  37.0                                 NaN  \n",
       "2          0          3  35.0                                 NaN  \n",
       "3          0       1998  28.0  http://i.stack.imgur.com/d1oHX.jpg  \n",
       "4          5      54503  35.0                                 NaN  "
      ]
     },
     "execution_count": 3,
     "metadata": {},
     "output_type": "execute_result"
    }
   ],
   "source": [
    "users.head()"
   ]
  },
  {
   "cell_type": "markdown",
   "metadata": {
    "colab_type": "text",
    "id": "XhFTmi-hZD4o"
   },
   "source": [
    "## Get the data info. \n",
    "\n",
    "Which columns have a great number of missing values? How many space does this dataframe is occupying in your memory?\n",
    "\n",
    "Expected output:\n",
    "````\n",
    "<class 'pandas.core.frame.DataFrame'>\n",
    "RangeIndex: 40503 entries, 0 to 40502\n",
    "Data columns (total 14 columns):\n",
    " #   Column           Non-Null Count  Dtype  \n",
    "---  ------           --------------  -----  \n",
    " 0   Id               40503 non-null  int64  \n",
    " 1   Reputation       40503 non-null  int64  \n",
    " 2   CreationDate     40503 non-null  object \n",
    " 3   DisplayName      40497 non-null  object \n",
    " 4   LastAccessDate   40503 non-null  object \n",
    " 5   WebsiteUrl       8158 non-null   object \n",
    " 6   Location         11731 non-null  object \n",
    " 7   AboutMe          9424 non-null   object \n",
    " 8   Views            40503 non-null  int64  \n",
    " 9   UpVotes          40503 non-null  int64  \n",
    " 10  DownVotes        40503 non-null  int64  \n",
    " 11  AccountId        40503 non-null  int64  \n",
    " 12  Age              8352 non-null   float64\n",
    " 13  ProfileImageUrl  16540 non-null  object \n",
    "dtypes: float64(1), int64(6), object(7)\n",
    "memory usage: 4.3+ MB\n",
    "````"
   ]
  },
  {
   "cell_type": "code",
   "execution_count": 4,
   "metadata": {
    "ExecuteTime": {
     "end_time": "2020-06-15T22:21:21.461930Z",
     "start_time": "2020-06-15T22:21:21.423522Z"
    },
    "colab": {},
    "colab_type": "code",
    "id": "PXlMbs8rZD4p"
   },
   "outputs": [
    {
     "name": "stdout",
     "output_type": "stream",
     "text": [
      "<class 'pandas.core.frame.DataFrame'>\n",
      "RangeIndex: 40503 entries, 0 to 40502\n",
      "Data columns (total 14 columns):\n",
      " #   Column           Non-Null Count  Dtype  \n",
      "---  ------           --------------  -----  \n",
      " 0   Id               40503 non-null  int64  \n",
      " 1   Reputation       40503 non-null  int64  \n",
      " 2   CreationDate     40503 non-null  object \n",
      " 3   DisplayName      40497 non-null  object \n",
      " 4   LastAccessDate   40503 non-null  object \n",
      " 5   WebsiteUrl       8158 non-null   object \n",
      " 6   Location         11731 non-null  object \n",
      " 7   AboutMe          9424 non-null   object \n",
      " 8   Views            40503 non-null  int64  \n",
      " 9   UpVotes          40503 non-null  int64  \n",
      " 10  DownVotes        40503 non-null  int64  \n",
      " 11  AccountId        40503 non-null  int64  \n",
      " 12  Age              8352 non-null   float64\n",
      " 13  ProfileImageUrl  16540 non-null  object \n",
      "dtypes: float64(1), int64(6), object(7)\n",
      "memory usage: 4.3+ MB\n"
     ]
    }
   ],
   "source": [
    "users.info()"
   ]
  },
  {
   "cell_type": "markdown",
   "metadata": {
    "colab_type": "text",
    "id": "44boORWtZD4s"
   },
   "source": [
    "## Rename Id column to user_id.\n",
    "\n",
    "Remember to store you results back at the dataframe."
   ]
  },
  {
   "cell_type": "code",
   "execution_count": 5,
   "metadata": {
    "ExecuteTime": {
     "end_time": "2020-06-15T22:21:21.774011Z",
     "start_time": "2020-06-15T22:21:21.741503Z"
    },
    "colab": {},
    "colab_type": "code",
    "id": "lByJpqZ3ZD4t"
   },
   "outputs": [],
   "source": [
    "users = users.rename(columns = {'Id' : 'user_id'})"
   ]
  },
  {
   "cell_type": "markdown",
   "metadata": {
    "colab_type": "text",
    "id": "sooo8FL4ZD4x"
   },
   "source": [
    "# Import the `posts.csv` dataset.\n",
    "\n",
    "Note that this is a `gzip compressed csv`. In order to read this file correctly, you'll have to read the documentation (or help) of your `pd.read_csv()` function and check the `compression` argument. Try to understand which value of `compression=...` you should put in order to read your dataframe. "
   ]
  },
  {
   "cell_type": "code",
   "execution_count": 6,
   "metadata": {
    "ExecuteTime": {
     "end_time": "2020-06-15T22:21:26.803855Z",
     "start_time": "2020-06-15T22:21:22.067429Z"
    },
    "colab": {},
    "colab_type": "code",
    "id": "eQlM-RUvZD4y"
   },
   "outputs": [],
   "source": [
    "posts = pd.read_csv('../data/posts.csv.gzip', compression = 'gzip')"
   ]
  },
  {
   "cell_type": "markdown",
   "metadata": {
    "colab_type": "text",
    "id": "flT6V-L0ZD43"
   },
   "source": [
    "## Perform the same as above to understand a bit of your data (head, info, shape)"
   ]
  },
  {
   "cell_type": "code",
   "execution_count": 7,
   "metadata": {
    "ExecuteTime": {
     "end_time": "2020-06-15T22:21:27.046155Z",
     "start_time": "2020-06-15T22:21:26.975911Z"
    },
    "colab": {},
    "colab_type": "code",
    "id": "rSszEAG2ZD44"
   },
   "outputs": [
    {
     "data": {
      "text/html": [
       "<div>\n",
       "<style scoped>\n",
       "    .dataframe tbody tr th:only-of-type {\n",
       "        vertical-align: middle;\n",
       "    }\n",
       "\n",
       "    .dataframe tbody tr th {\n",
       "        vertical-align: top;\n",
       "    }\n",
       "\n",
       "    .dataframe thead th {\n",
       "        text-align: right;\n",
       "    }\n",
       "</style>\n",
       "<table border=\"1\" class=\"dataframe\">\n",
       "  <thead>\n",
       "    <tr style=\"text-align: right;\">\n",
       "      <th></th>\n",
       "      <th>Id</th>\n",
       "      <th>PostTypeId</th>\n",
       "      <th>AcceptedAnswerId</th>\n",
       "      <th>CreaionDate</th>\n",
       "      <th>Score</th>\n",
       "      <th>ViewCount</th>\n",
       "      <th>Body</th>\n",
       "      <th>OwnerUserId</th>\n",
       "      <th>LasActivityDate</th>\n",
       "      <th>Title</th>\n",
       "      <th>...</th>\n",
       "      <th>AnswerCount</th>\n",
       "      <th>CommentCount</th>\n",
       "      <th>FavoriteCount</th>\n",
       "      <th>LastEditorUserId</th>\n",
       "      <th>LastEditDate</th>\n",
       "      <th>CommunityOwnedDate</th>\n",
       "      <th>ParentId</th>\n",
       "      <th>ClosedDate</th>\n",
       "      <th>OwnerDisplayName</th>\n",
       "      <th>LastEditorDisplayName</th>\n",
       "    </tr>\n",
       "  </thead>\n",
       "  <tbody>\n",
       "    <tr>\n",
       "      <th>0</th>\n",
       "      <td>1</td>\n",
       "      <td>1</td>\n",
       "      <td>15.0</td>\n",
       "      <td>2010-07-19 19:12:12</td>\n",
       "      <td>23</td>\n",
       "      <td>1278.0</td>\n",
       "      <td>&lt;p&gt;How should I elicit prior distributions fro...</td>\n",
       "      <td>8.0</td>\n",
       "      <td>2010-09-15 21:08:26</td>\n",
       "      <td>Eliciting priors from experts</td>\n",
       "      <td>...</td>\n",
       "      <td>5.0</td>\n",
       "      <td>1</td>\n",
       "      <td>14.0</td>\n",
       "      <td>NaN</td>\n",
       "      <td>NaN</td>\n",
       "      <td>NaN</td>\n",
       "      <td>NaN</td>\n",
       "      <td>NaN</td>\n",
       "      <td>NaN</td>\n",
       "      <td>NaN</td>\n",
       "    </tr>\n",
       "    <tr>\n",
       "      <th>1</th>\n",
       "      <td>2</td>\n",
       "      <td>1</td>\n",
       "      <td>59.0</td>\n",
       "      <td>2010-07-19 19:12:57</td>\n",
       "      <td>22</td>\n",
       "      <td>8198.0</td>\n",
       "      <td>&lt;p&gt;In many different statistical methods there...</td>\n",
       "      <td>24.0</td>\n",
       "      <td>2012-11-12 09:21:54</td>\n",
       "      <td>What is normality?</td>\n",
       "      <td>...</td>\n",
       "      <td>7.0</td>\n",
       "      <td>1</td>\n",
       "      <td>8.0</td>\n",
       "      <td>88.0</td>\n",
       "      <td>2010-08-07 17:56:44</td>\n",
       "      <td>NaN</td>\n",
       "      <td>NaN</td>\n",
       "      <td>NaN</td>\n",
       "      <td>NaN</td>\n",
       "      <td>NaN</td>\n",
       "    </tr>\n",
       "    <tr>\n",
       "      <th>2</th>\n",
       "      <td>3</td>\n",
       "      <td>1</td>\n",
       "      <td>5.0</td>\n",
       "      <td>2010-07-19 19:13:28</td>\n",
       "      <td>54</td>\n",
       "      <td>3613.0</td>\n",
       "      <td>&lt;p&gt;What are some valuable Statistical Analysis...</td>\n",
       "      <td>18.0</td>\n",
       "      <td>2013-05-27 14:48:36</td>\n",
       "      <td>What are some valuable Statistical Analysis op...</td>\n",
       "      <td>...</td>\n",
       "      <td>19.0</td>\n",
       "      <td>4</td>\n",
       "      <td>36.0</td>\n",
       "      <td>183.0</td>\n",
       "      <td>2011-02-12 05:50:03</td>\n",
       "      <td>2010-07-19 19:13:28</td>\n",
       "      <td>NaN</td>\n",
       "      <td>NaN</td>\n",
       "      <td>NaN</td>\n",
       "      <td>NaN</td>\n",
       "    </tr>\n",
       "    <tr>\n",
       "      <th>3</th>\n",
       "      <td>4</td>\n",
       "      <td>1</td>\n",
       "      <td>135.0</td>\n",
       "      <td>2010-07-19 19:13:31</td>\n",
       "      <td>13</td>\n",
       "      <td>5224.0</td>\n",
       "      <td>&lt;p&gt;I have two groups of data.  Each with a dif...</td>\n",
       "      <td>23.0</td>\n",
       "      <td>2010-09-08 03:00:19</td>\n",
       "      <td>Assessing the significance of differences in d...</td>\n",
       "      <td>...</td>\n",
       "      <td>5.0</td>\n",
       "      <td>2</td>\n",
       "      <td>2.0</td>\n",
       "      <td>NaN</td>\n",
       "      <td>NaN</td>\n",
       "      <td>NaN</td>\n",
       "      <td>NaN</td>\n",
       "      <td>NaN</td>\n",
       "      <td>NaN</td>\n",
       "      <td>NaN</td>\n",
       "    </tr>\n",
       "    <tr>\n",
       "      <th>4</th>\n",
       "      <td>5</td>\n",
       "      <td>2</td>\n",
       "      <td>NaN</td>\n",
       "      <td>2010-07-19 19:14:43</td>\n",
       "      <td>81</td>\n",
       "      <td>NaN</td>\n",
       "      <td>&lt;p&gt;The R-project&lt;/p&gt;\\n\\n&lt;p&gt;&lt;a href=\"http://www...</td>\n",
       "      <td>23.0</td>\n",
       "      <td>2010-07-19 19:21:15</td>\n",
       "      <td>NaN</td>\n",
       "      <td>...</td>\n",
       "      <td>NaN</td>\n",
       "      <td>3</td>\n",
       "      <td>NaN</td>\n",
       "      <td>23.0</td>\n",
       "      <td>2010-07-19 19:21:15</td>\n",
       "      <td>2010-07-19 19:14:43</td>\n",
       "      <td>3.0</td>\n",
       "      <td>NaN</td>\n",
       "      <td>NaN</td>\n",
       "      <td>NaN</td>\n",
       "    </tr>\n",
       "  </tbody>\n",
       "</table>\n",
       "<p>5 rows × 21 columns</p>\n",
       "</div>"
      ],
      "text/plain": [
       "   Id  PostTypeId  AcceptedAnswerId          CreaionDate  Score  ViewCount  \\\n",
       "0   1           1              15.0  2010-07-19 19:12:12     23     1278.0   \n",
       "1   2           1              59.0  2010-07-19 19:12:57     22     8198.0   \n",
       "2   3           1               5.0  2010-07-19 19:13:28     54     3613.0   \n",
       "3   4           1             135.0  2010-07-19 19:13:31     13     5224.0   \n",
       "4   5           2               NaN  2010-07-19 19:14:43     81        NaN   \n",
       "\n",
       "                                                Body  OwnerUserId  \\\n",
       "0  <p>How should I elicit prior distributions fro...          8.0   \n",
       "1  <p>In many different statistical methods there...         24.0   \n",
       "2  <p>What are some valuable Statistical Analysis...         18.0   \n",
       "3  <p>I have two groups of data.  Each with a dif...         23.0   \n",
       "4  <p>The R-project</p>\\n\\n<p><a href=\"http://www...         23.0   \n",
       "\n",
       "       LasActivityDate                                              Title  \\\n",
       "0  2010-09-15 21:08:26                      Eliciting priors from experts   \n",
       "1  2012-11-12 09:21:54                                 What is normality?   \n",
       "2  2013-05-27 14:48:36  What are some valuable Statistical Analysis op...   \n",
       "3  2010-09-08 03:00:19  Assessing the significance of differences in d...   \n",
       "4  2010-07-19 19:21:15                                                NaN   \n",
       "\n",
       "   ... AnswerCount  CommentCount  FavoriteCount  LastEditorUserId  \\\n",
       "0  ...         5.0             1           14.0               NaN   \n",
       "1  ...         7.0             1            8.0              88.0   \n",
       "2  ...        19.0             4           36.0             183.0   \n",
       "3  ...         5.0             2            2.0               NaN   \n",
       "4  ...         NaN             3            NaN              23.0   \n",
       "\n",
       "          LastEditDate   CommunityOwnedDate ParentId  ClosedDate  \\\n",
       "0                  NaN                  NaN      NaN         NaN   \n",
       "1  2010-08-07 17:56:44                  NaN      NaN         NaN   \n",
       "2  2011-02-12 05:50:03  2010-07-19 19:13:28      NaN         NaN   \n",
       "3                  NaN                  NaN      NaN         NaN   \n",
       "4  2010-07-19 19:21:15  2010-07-19 19:14:43      3.0         NaN   \n",
       "\n",
       "  OwnerDisplayName LastEditorDisplayName  \n",
       "0              NaN                   NaN  \n",
       "1              NaN                   NaN  \n",
       "2              NaN                   NaN  \n",
       "3              NaN                   NaN  \n",
       "4              NaN                   NaN  \n",
       "\n",
       "[5 rows x 21 columns]"
      ]
     },
     "execution_count": 7,
     "metadata": {},
     "output_type": "execute_result"
    }
   ],
   "source": [
    "posts.head()"
   ]
  },
  {
   "cell_type": "code",
   "execution_count": 8,
   "metadata": {
    "ExecuteTime": {
     "end_time": "2020-06-15T22:21:27.202833Z",
     "start_time": "2020-06-15T22:21:27.191533Z"
    }
   },
   "outputs": [
    {
     "data": {
      "text/plain": [
       "(91976, 21)"
      ]
     },
     "execution_count": 8,
     "metadata": {},
     "output_type": "execute_result"
    }
   ],
   "source": [
    "posts.shape"
   ]
  },
  {
   "cell_type": "code",
   "execution_count": 9,
   "metadata": {
    "ExecuteTime": {
     "end_time": "2020-06-15T22:21:27.469898Z",
     "start_time": "2020-06-15T22:21:27.357634Z"
    }
   },
   "outputs": [
    {
     "name": "stdout",
     "output_type": "stream",
     "text": [
      "<class 'pandas.core.frame.DataFrame'>\n",
      "RangeIndex: 91976 entries, 0 to 91975\n",
      "Data columns (total 21 columns):\n",
      " #   Column                 Non-Null Count  Dtype  \n",
      "---  ------                 --------------  -----  \n",
      " 0   Id                     91976 non-null  int64  \n",
      " 1   PostTypeId             91976 non-null  int64  \n",
      " 2   AcceptedAnswerId       14700 non-null  float64\n",
      " 3   CreaionDate            91976 non-null  object \n",
      " 4   Score                  91976 non-null  int64  \n",
      " 5   ViewCount              42921 non-null  float64\n",
      " 6   Body                   91756 non-null  object \n",
      " 7   OwnerUserId            90584 non-null  float64\n",
      " 8   LasActivityDate        91976 non-null  object \n",
      " 9   Title                  42921 non-null  object \n",
      " 10  Tags                   42921 non-null  object \n",
      " 11  AnswerCount            42921 non-null  float64\n",
      " 12  CommentCount           91976 non-null  int64  \n",
      " 13  FavoriteCount          13246 non-null  float64\n",
      " 14  LastEditorUserId       44611 non-null  float64\n",
      " 15  LastEditDate           45038 non-null  object \n",
      " 16  CommunityOwnedDate     2467 non-null   object \n",
      " 17  ParentId               47755 non-null  float64\n",
      " 18  ClosedDate             1610 non-null   object \n",
      " 19  OwnerDisplayName       2509 non-null   object \n",
      " 20  LastEditorDisplayName  465 non-null    object \n",
      "dtypes: float64(7), int64(4), object(10)\n",
      "memory usage: 14.7+ MB\n"
     ]
    }
   ],
   "source": [
    "posts.info()"
   ]
  },
  {
   "cell_type": "markdown",
   "metadata": {
    "colab_type": "text",
    "id": "mlUuQ7CxZD49"
   },
   "source": [
    "## Rename Id column to post_id and OwnerUserId to user_id.\n",
    "\n",
    "Again, remember to check that your results are correctly stored inside the dataframe."
   ]
  },
  {
   "cell_type": "code",
   "execution_count": 10,
   "metadata": {
    "ExecuteTime": {
     "end_time": "2020-06-15T22:21:27.703075Z",
     "start_time": "2020-06-15T22:21:27.641626Z"
    },
    "colab": {},
    "colab_type": "code",
    "id": "I8Z4BZpFZD4-"
   },
   "outputs": [],
   "source": [
    "posts = posts.rename(columns = {'Id' : 'post_id', 'OwnerUserId' : 'user_id'})"
   ]
  },
  {
   "cell_type": "markdown",
   "metadata": {
    "colab_type": "text",
    "id": "9YyLIe4sZD5D"
   },
   "source": [
    "## Define new dataframes for users and posts with the following selected columns:\n",
    "\n",
    "**users columns**: user_id, Reputation, Views, UpVotes, DownVotes  \n",
    "**posts columns**: post_id, Score, user_id, ViewCount, CommentCount, Body"
   ]
  },
  {
   "cell_type": "code",
   "execution_count": 11,
   "metadata": {
    "ExecuteTime": {
     "end_time": "2020-06-15T22:21:27.919480Z",
     "start_time": "2020-06-15T22:21:27.874954Z"
    },
    "colab": {},
    "colab_type": "code",
    "id": "8fakUZYpZD5E"
   },
   "outputs": [],
   "source": [
    "users = users.loc[:, ['user_id', 'Reputation', 'Views', 'UpVotes', 'DownVotes']]\n",
    "posts = posts.loc[:, ['post_id', 'Score', 'user_id', 'ViewCount', 'CommentCount', 'Body']]"
   ]
  },
  {
   "cell_type": "markdown",
   "metadata": {
    "colab_type": "text",
    "id": "_z5R9scXZD5I"
   },
   "source": [
    "**Note:** Check the new posts dataframe's info. What is the most noticeable change? \n",
    "\n",
    "Explain why we have chosen only some columns of it in terms of efficiency."
   ]
  },
  {
   "cell_type": "code",
   "execution_count": 12,
   "metadata": {
    "ExecuteTime": {
     "end_time": "2020-06-15T22:21:28.002830Z",
     "start_time": "2020-06-15T22:21:27.956216Z"
    }
   },
   "outputs": [
    {
     "name": "stdout",
     "output_type": "stream",
     "text": [
      "<class 'pandas.core.frame.DataFrame'>\n",
      "RangeIndex: 91976 entries, 0 to 91975\n",
      "Data columns (total 6 columns):\n",
      " #   Column        Non-Null Count  Dtype  \n",
      "---  ------        --------------  -----  \n",
      " 0   post_id       91976 non-null  int64  \n",
      " 1   Score         91976 non-null  int64  \n",
      " 2   user_id       90584 non-null  float64\n",
      " 3   ViewCount     42921 non-null  float64\n",
      " 4   CommentCount  91976 non-null  int64  \n",
      " 5   Body          91756 non-null  object \n",
      "dtypes: float64(2), int64(3), object(1)\n",
      "memory usage: 4.2+ MB\n"
     ]
    }
   ],
   "source": [
    "posts.info()\n",
    "# The new dataframe is less than a third of the original."
   ]
  },
  {
   "cell_type": "markdown",
   "metadata": {
    "colab_type": "text",
    "id": "73DgDQfOZD5K"
   },
   "source": [
    "# Merge the new dataframes you have created, of users and posts. Create a dataframe called `posts_from_users`\n",
    "\n",
    "You will need to make an inner [merge](https://pandas.pydata.org/pandas-docs/stable/generated/pandas.DataFrame.merge.html) of posts and users dataframes. \n",
    "\n",
    "Think carefully which should be the key(s) for your merging."
   ]
  },
  {
   "cell_type": "code",
   "execution_count": 13,
   "metadata": {
    "ExecuteTime": {
     "end_time": "2020-06-15T22:21:29.817975Z",
     "start_time": "2020-06-15T22:21:29.711370Z"
    },
    "colab": {},
    "colab_type": "code",
    "id": "SvFNktC_ZD5L"
   },
   "outputs": [],
   "source": [
    "posts_from_users = pd.merge(left = posts, right = users, how = 'inner', on = 'user_id' )"
   ]
  },
  {
   "cell_type": "markdown",
   "metadata": {
    "colab_type": "text",
    "id": "hY51jNIBZD5P"
   },
   "source": [
    "## Check the number of duplicated rows.\n",
    "\n",
    "Remember you can sum the results of a mask to get how many numbers the True value appeared in the results. This occurs because `True` is interpreted as `1` in Python whereas `False` is interpreted as `0`."
   ]
  },
  {
   "cell_type": "code",
   "execution_count": 14,
   "metadata": {
    "ExecuteTime": {
     "end_time": "2020-06-15T22:21:53.097664Z",
     "start_time": "2020-06-15T22:21:52.849867Z"
    }
   },
   "outputs": [
    {
     "data": {
      "text/plain": [
       "299"
      ]
     },
     "execution_count": 14,
     "metadata": {},
     "output_type": "execute_result"
    }
   ],
   "source": [
    "posts_from_users.duplicated().sum()"
   ]
  },
  {
   "cell_type": "markdown",
   "metadata": {
    "colab_type": "text",
    "id": "w3de3Sz-ZD5T"
   },
   "source": [
    "## Find those duplicate values and try to understand what happened.\n",
    "\n",
    "*Hint:* You can use the argument `keep=False` from the `.duplicated()` method to bring the duplication.\n",
    "\n",
    "*Hint 2:* You can sort the values `by=['user_id', 'post_id']` to see them in order.\n"
   ]
  },
  {
   "cell_type": "code",
   "execution_count": 15,
   "metadata": {
    "ExecuteTime": {
     "end_time": "2020-06-15T22:21:53.247196Z",
     "start_time": "2020-06-15T22:21:53.147279Z"
    }
   },
   "outputs": [
    {
     "data": {
      "text/plain": [
       "0"
      ]
     },
     "execution_count": 15,
     "metadata": {},
     "output_type": "execute_result"
    }
   ],
   "source": [
    "posts.duplicated().sum()"
   ]
  },
  {
   "cell_type": "code",
   "execution_count": 16,
   "metadata": {
    "ExecuteTime": {
     "end_time": "2020-06-15T22:21:53.311686Z",
     "start_time": "2020-06-15T22:21:53.282501Z"
    }
   },
   "outputs": [
    {
     "data": {
      "text/plain": [
       "178"
      ]
     },
     "execution_count": 16,
     "metadata": {},
     "output_type": "execute_result"
    }
   ],
   "source": [
    "users.duplicated().sum()\n",
    "#There are duplicated rows in the users dataframe."
   ]
  },
  {
   "cell_type": "code",
   "execution_count": 17,
   "metadata": {
    "ExecuteTime": {
     "end_time": "2020-06-15T22:21:53.530404Z",
     "start_time": "2020-06-15T22:21:53.361660Z"
    },
    "colab": {},
    "colab_type": "code",
    "id": "QqD_JlrMZD5U"
   },
   "outputs": [
    {
     "data": {
      "text/html": [
       "<div>\n",
       "<style scoped>\n",
       "    .dataframe tbody tr th:only-of-type {\n",
       "        vertical-align: middle;\n",
       "    }\n",
       "\n",
       "    .dataframe tbody tr th {\n",
       "        vertical-align: top;\n",
       "    }\n",
       "\n",
       "    .dataframe thead th {\n",
       "        text-align: right;\n",
       "    }\n",
       "</style>\n",
       "<table border=\"1\" class=\"dataframe\">\n",
       "  <thead>\n",
       "    <tr style=\"text-align: right;\">\n",
       "      <th></th>\n",
       "      <th>post_id</th>\n",
       "      <th>Score</th>\n",
       "      <th>user_id</th>\n",
       "      <th>ViewCount</th>\n",
       "      <th>CommentCount</th>\n",
       "      <th>Body</th>\n",
       "      <th>Reputation</th>\n",
       "      <th>Views</th>\n",
       "      <th>UpVotes</th>\n",
       "      <th>DownVotes</th>\n",
       "    </tr>\n",
       "  </thead>\n",
       "  <tbody>\n",
       "    <tr>\n",
       "      <th>7481</th>\n",
       "      <td>1289</td>\n",
       "      <td>7</td>\n",
       "      <td>760.0</td>\n",
       "      <td>1139.0</td>\n",
       "      <td>8</td>\n",
       "      <td>&lt;p&gt;I am having difficulties to select the righ...</td>\n",
       "      <td>168</td>\n",
       "      <td>13</td>\n",
       "      <td>13</td>\n",
       "      <td>0</td>\n",
       "    </tr>\n",
       "    <tr>\n",
       "      <th>7482</th>\n",
       "      <td>1289</td>\n",
       "      <td>7</td>\n",
       "      <td>760.0</td>\n",
       "      <td>1139.0</td>\n",
       "      <td>8</td>\n",
       "      <td>&lt;p&gt;I am having difficulties to select the righ...</td>\n",
       "      <td>168</td>\n",
       "      <td>13</td>\n",
       "      <td>13</td>\n",
       "      <td>0</td>\n",
       "    </tr>\n",
       "    <tr>\n",
       "      <th>7483</th>\n",
       "      <td>8625</td>\n",
       "      <td>6</td>\n",
       "      <td>760.0</td>\n",
       "      <td>1799.0</td>\n",
       "      <td>3</td>\n",
       "      <td>&lt;p&gt;I was fiddling with PCA and LDA methods and...</td>\n",
       "      <td>168</td>\n",
       "      <td>13</td>\n",
       "      <td>13</td>\n",
       "      <td>0</td>\n",
       "    </tr>\n",
       "    <tr>\n",
       "      <th>7484</th>\n",
       "      <td>8625</td>\n",
       "      <td>6</td>\n",
       "      <td>760.0</td>\n",
       "      <td>1799.0</td>\n",
       "      <td>3</td>\n",
       "      <td>&lt;p&gt;I was fiddling with PCA and LDA methods and...</td>\n",
       "      <td>168</td>\n",
       "      <td>13</td>\n",
       "      <td>13</td>\n",
       "      <td>0</td>\n",
       "    </tr>\n",
       "    <tr>\n",
       "      <th>7485</th>\n",
       "      <td>23987</td>\n",
       "      <td>0</td>\n",
       "      <td>760.0</td>\n",
       "      <td>62.0</td>\n",
       "      <td>3</td>\n",
       "      <td>&lt;p&gt;I was studying on a PAMI article and I have...</td>\n",
       "      <td>168</td>\n",
       "      <td>13</td>\n",
       "      <td>13</td>\n",
       "      <td>0</td>\n",
       "    </tr>\n",
       "    <tr>\n",
       "      <th>...</th>\n",
       "      <td>...</td>\n",
       "      <td>...</td>\n",
       "      <td>...</td>\n",
       "      <td>...</td>\n",
       "      <td>...</td>\n",
       "      <td>...</td>\n",
       "      <td>...</td>\n",
       "      <td>...</td>\n",
       "      <td>...</td>\n",
       "      <td>...</td>\n",
       "    </tr>\n",
       "    <tr>\n",
       "      <th>90221</th>\n",
       "      <td>114527</td>\n",
       "      <td>0</td>\n",
       "      <td>54711.0</td>\n",
       "      <td>45.0</td>\n",
       "      <td>5</td>\n",
       "      <td>&lt;p&gt;From Shapiro-Wilk's test I see that the res...</td>\n",
       "      <td>4</td>\n",
       "      <td>18</td>\n",
       "      <td>0</td>\n",
       "      <td>0</td>\n",
       "    </tr>\n",
       "    <tr>\n",
       "      <th>90245</th>\n",
       "      <td>113334</td>\n",
       "      <td>3</td>\n",
       "      <td>54741.0</td>\n",
       "      <td>122.0</td>\n",
       "      <td>9</td>\n",
       "      <td>&lt;p&gt;I am confused on what I have read about the...</td>\n",
       "      <td>16</td>\n",
       "      <td>1</td>\n",
       "      <td>0</td>\n",
       "      <td>0</td>\n",
       "    </tr>\n",
       "    <tr>\n",
       "      <th>90246</th>\n",
       "      <td>113334</td>\n",
       "      <td>3</td>\n",
       "      <td>54741.0</td>\n",
       "      <td>122.0</td>\n",
       "      <td>9</td>\n",
       "      <td>&lt;p&gt;I am confused on what I have read about the...</td>\n",
       "      <td>16</td>\n",
       "      <td>1</td>\n",
       "      <td>0</td>\n",
       "      <td>0</td>\n",
       "    </tr>\n",
       "    <tr>\n",
       "      <th>90364</th>\n",
       "      <td>113691</td>\n",
       "      <td>0</td>\n",
       "      <td>54911.0</td>\n",
       "      <td>36.0</td>\n",
       "      <td>11</td>\n",
       "      <td>&lt;p&gt;I extract data related to a movie by sentim...</td>\n",
       "      <td>1</td>\n",
       "      <td>1</td>\n",
       "      <td>0</td>\n",
       "      <td>0</td>\n",
       "    </tr>\n",
       "    <tr>\n",
       "      <th>90365</th>\n",
       "      <td>113691</td>\n",
       "      <td>0</td>\n",
       "      <td>54911.0</td>\n",
       "      <td>36.0</td>\n",
       "      <td>11</td>\n",
       "      <td>&lt;p&gt;I extract data related to a movie by sentim...</td>\n",
       "      <td>1</td>\n",
       "      <td>1</td>\n",
       "      <td>0</td>\n",
       "      <td>0</td>\n",
       "    </tr>\n",
       "  </tbody>\n",
       "</table>\n",
       "<p>598 rows × 10 columns</p>\n",
       "</div>"
      ],
      "text/plain": [
       "       post_id  Score  user_id  ViewCount  CommentCount  \\\n",
       "7481      1289      7    760.0     1139.0             8   \n",
       "7482      1289      7    760.0     1139.0             8   \n",
       "7483      8625      6    760.0     1799.0             3   \n",
       "7484      8625      6    760.0     1799.0             3   \n",
       "7485     23987      0    760.0       62.0             3   \n",
       "...        ...    ...      ...        ...           ...   \n",
       "90221   114527      0  54711.0       45.0             5   \n",
       "90245   113334      3  54741.0      122.0             9   \n",
       "90246   113334      3  54741.0      122.0             9   \n",
       "90364   113691      0  54911.0       36.0            11   \n",
       "90365   113691      0  54911.0       36.0            11   \n",
       "\n",
       "                                                    Body  Reputation  Views  \\\n",
       "7481   <p>I am having difficulties to select the righ...         168     13   \n",
       "7482   <p>I am having difficulties to select the righ...         168     13   \n",
       "7483   <p>I was fiddling with PCA and LDA methods and...         168     13   \n",
       "7484   <p>I was fiddling with PCA and LDA methods and...         168     13   \n",
       "7485   <p>I was studying on a PAMI article and I have...         168     13   \n",
       "...                                                  ...         ...    ...   \n",
       "90221  <p>From Shapiro-Wilk's test I see that the res...           4     18   \n",
       "90245  <p>I am confused on what I have read about the...          16      1   \n",
       "90246  <p>I am confused on what I have read about the...          16      1   \n",
       "90364  <p>I extract data related to a movie by sentim...           1      1   \n",
       "90365  <p>I extract data related to a movie by sentim...           1      1   \n",
       "\n",
       "       UpVotes  DownVotes  \n",
       "7481        13          0  \n",
       "7482        13          0  \n",
       "7483        13          0  \n",
       "7484        13          0  \n",
       "7485        13          0  \n",
       "...        ...        ...  \n",
       "90221        0          0  \n",
       "90245        0          0  \n",
       "90246        0          0  \n",
       "90364        0          0  \n",
       "90365        0          0  \n",
       "\n",
       "[598 rows x 10 columns]"
      ]
     },
     "execution_count": 17,
     "metadata": {},
     "output_type": "execute_result"
    }
   ],
   "source": [
    "mask = posts_from_users.duplicated(keep = False)\n",
    "posts_from_users.loc[mask,:].sort_values(by = ['user_id', 'post_id'])\n",
    "#There were duplicated rows in users df, when merging with posts(inner) on 'user_id', generated duplicates row for\n",
    "#every post made by those users."
   ]
  },
  {
   "cell_type": "markdown",
   "metadata": {
    "colab_type": "text",
    "id": "gjdZ0DI-ZD5Y"
   },
   "source": [
    "## Should you drop it? If you think it is reasonable to drop it, then drop it.\n",
    "\n",
    "Think: How would you correct it in the first place? That is, what was wrong in the first place?\n",
    "\n",
    "*Hint:* There's a pandas method to drop duplicates. If you wanted to do it by hand, you could select the indexes of the duplicated values and `.drop()` it. "
   ]
  },
  {
   "cell_type": "code",
   "execution_count": 18,
   "metadata": {
    "ExecuteTime": {
     "end_time": "2020-06-15T22:21:53.696902Z",
     "start_time": "2020-06-15T22:21:53.658787Z"
    }
   },
   "outputs": [
    {
     "data": {
      "text/plain": [
       "0"
      ]
     },
     "execution_count": 18,
     "metadata": {},
     "output_type": "execute_result"
    }
   ],
   "source": [
    "#Drop the duplicated rows in dataframe users before merging with posts dataframe.\n",
    "users1 = users.drop_duplicates()\n",
    "#checking if it worked\n",
    "users1.duplicated().sum()"
   ]
  },
  {
   "cell_type": "code",
   "execution_count": 19,
   "metadata": {
    "ExecuteTime": {
     "end_time": "2020-06-15T22:22:11.564519Z",
     "start_time": "2020-06-15T22:22:11.351457Z"
    }
   },
   "outputs": [
    {
     "data": {
      "text/plain": [
       "0"
      ]
     },
     "execution_count": 19,
     "metadata": {},
     "output_type": "execute_result"
    }
   ],
   "source": [
    "#Try to merge the new users1 data frame with posts\n",
    "posts_from_users1 = pd.merge(left = posts, right = users1, on = 'user_id')\n",
    "#Check if there are duplicates\n",
    "posts_from_users1.duplicated().sum()"
   ]
  },
  {
   "cell_type": "code",
   "execution_count": 20,
   "metadata": {
    "ExecuteTime": {
     "end_time": "2020-06-15T22:22:11.797876Z",
     "start_time": "2020-06-15T22:22:11.617329Z"
    },
    "colab": {},
    "colab_type": "code",
    "id": "N0pLpPw3ZD5Y"
   },
   "outputs": [],
   "source": [
    "#dropping duplicates manually\n",
    "msk = posts_from_users.duplicated()\n",
    "duplicated_index = posts_from_users.loc[msk,:].index\n",
    "posts_from_users = posts_from_users.drop(index = duplicated_index)"
   ]
  },
  {
   "cell_type": "code",
   "execution_count": 21,
   "metadata": {
    "ExecuteTime": {
     "end_time": "2020-06-15T22:22:12.297245Z",
     "start_time": "2020-06-15T22:22:12.175439Z"
    },
    "colab": {},
    "colab_type": "code",
    "id": "c1Hd6HYcZD5c"
   },
   "outputs": [
    {
     "data": {
      "text/plain": [
       "0"
      ]
     },
     "execution_count": 21,
     "metadata": {},
     "output_type": "execute_result"
    }
   ],
   "source": [
    "#Checking if it worked\n",
    "posts_from_users.duplicated().sum()"
   ]
  },
  {
   "cell_type": "code",
   "execution_count": 22,
   "metadata": {
    "ExecuteTime": {
     "end_time": "2020-06-14T13:13:35.778830Z",
     "start_time": "2020-06-14T13:13:35.624742Z"
    }
   },
   "outputs": [],
   "source": [
    "#dropping duplicates with pandas method\n",
    "posts_from_users = posts_from_users.drop_duplicates()"
   ]
  },
  {
   "cell_type": "code",
   "execution_count": 23,
   "metadata": {
    "ExecuteTime": {
     "end_time": "2020-06-14T13:13:36.332717Z",
     "start_time": "2020-06-14T13:13:36.202048Z"
    }
   },
   "outputs": [
    {
     "data": {
      "text/plain": [
       "0"
      ]
     },
     "execution_count": 23,
     "metadata": {},
     "output_type": "execute_result"
    }
   ],
   "source": [
    "#Checking if it worked\n",
    "posts_from_users.duplicated().sum()"
   ]
  },
  {
   "cell_type": "code",
   "execution_count": 24,
   "metadata": {
    "ExecuteTime": {
     "end_time": "2020-06-14T13:13:38.371656Z",
     "start_time": "2020-06-14T13:13:38.350086Z"
    }
   },
   "outputs": [
    {
     "data": {
      "text/plain": [
       "((90584, 10), (90584, 10))"
      ]
     },
     "execution_count": 24,
     "metadata": {},
     "output_type": "execute_result"
    }
   ],
   "source": [
    "#Check if dataframes generated without the duplicates by the two methods are equal\n",
    "posts_from_users.shape, posts_from_users1.shape"
   ]
  },
  {
   "cell_type": "markdown",
   "metadata": {
    "colab_type": "text",
    "id": "11ZlVVrXZD5l"
   },
   "source": [
    "## 10. How many missing values do you have in your merged dataframe? On which columns?"
   ]
  },
  {
   "cell_type": "code",
   "execution_count": 25,
   "metadata": {
    "ExecuteTime": {
     "end_time": "2020-06-14T13:14:04.942004Z",
     "start_time": "2020-06-14T13:14:04.905130Z"
    },
    "colab": {},
    "colab_type": "code",
    "id": "i7JVp8u7ZD5n"
   },
   "outputs": [
    {
     "data": {
      "text/plain": [
       "post_id             0\n",
       "Score               0\n",
       "user_id             0\n",
       "ViewCount       48396\n",
       "CommentCount        0\n",
       "Body              220\n",
       "Reputation          0\n",
       "Views               0\n",
       "UpVotes             0\n",
       "DownVotes           0\n",
       "dtype: int64"
      ]
     },
     "execution_count": 25,
     "metadata": {},
     "output_type": "execute_result"
    }
   ],
   "source": [
    "posts_from_users.isna().sum()"
   ]
  },
  {
   "cell_type": "markdown",
   "metadata": {
    "colab_type": "text",
    "id": "SdApjJ60ZD5s"
   },
   "source": [
    "## Select only the rows in which there at least some missing values."
   ]
  },
  {
   "cell_type": "code",
   "execution_count": 26,
   "metadata": {
    "ExecuteTime": {
     "end_time": "2020-06-14T13:14:13.392131Z",
     "start_time": "2020-06-14T13:14:13.338346Z"
    },
    "colab": {},
    "colab_type": "code",
    "id": "CbLEUeGUZD5t"
   },
   "outputs": [
    {
     "data": {
      "text/html": [
       "<div>\n",
       "<style scoped>\n",
       "    .dataframe tbody tr th:only-of-type {\n",
       "        vertical-align: middle;\n",
       "    }\n",
       "\n",
       "    .dataframe tbody tr th {\n",
       "        vertical-align: top;\n",
       "    }\n",
       "\n",
       "    .dataframe thead th {\n",
       "        text-align: right;\n",
       "    }\n",
       "</style>\n",
       "<table border=\"1\" class=\"dataframe\">\n",
       "  <thead>\n",
       "    <tr style=\"text-align: right;\">\n",
       "      <th></th>\n",
       "      <th>post_id</th>\n",
       "      <th>Score</th>\n",
       "      <th>user_id</th>\n",
       "      <th>ViewCount</th>\n",
       "      <th>CommentCount</th>\n",
       "      <th>Body</th>\n",
       "      <th>Reputation</th>\n",
       "      <th>Views</th>\n",
       "      <th>UpVotes</th>\n",
       "      <th>DownVotes</th>\n",
       "    </tr>\n",
       "  </thead>\n",
       "  <tbody>\n",
       "    <tr>\n",
       "      <th>1</th>\n",
       "      <td>16</td>\n",
       "      <td>16</td>\n",
       "      <td>8.0</td>\n",
       "      <td>NaN</td>\n",
       "      <td>3</td>\n",
       "      <td>&lt;p&gt;Two projects spring to mind:&lt;/p&gt;\\n\\n&lt;ol&gt;\\n&lt;...</td>\n",
       "      <td>6764</td>\n",
       "      <td>1089</td>\n",
       "      <td>604</td>\n",
       "      <td>25</td>\n",
       "    </tr>\n",
       "    <tr>\n",
       "      <th>3</th>\n",
       "      <td>65</td>\n",
       "      <td>14</td>\n",
       "      <td>8.0</td>\n",
       "      <td>NaN</td>\n",
       "      <td>3</td>\n",
       "      <td>&lt;p&gt;The first formula is the &lt;em&gt;population&lt;/em...</td>\n",
       "      <td>6764</td>\n",
       "      <td>1089</td>\n",
       "      <td>604</td>\n",
       "      <td>25</td>\n",
       "    </tr>\n",
       "    <tr>\n",
       "      <th>4</th>\n",
       "      <td>78</td>\n",
       "      <td>33</td>\n",
       "      <td>8.0</td>\n",
       "      <td>NaN</td>\n",
       "      <td>4</td>\n",
       "      <td>&lt;p&gt;You tend to use the covariance matrix when ...</td>\n",
       "      <td>6764</td>\n",
       "      <td>1089</td>\n",
       "      <td>604</td>\n",
       "      <td>25</td>\n",
       "    </tr>\n",
       "    <tr>\n",
       "      <th>5</th>\n",
       "      <td>111</td>\n",
       "      <td>8</td>\n",
       "      <td>8.0</td>\n",
       "      <td>NaN</td>\n",
       "      <td>3</td>\n",
       "      <td>&lt;p&gt;In R, the default setting for random number...</td>\n",
       "      <td>6764</td>\n",
       "      <td>1089</td>\n",
       "      <td>604</td>\n",
       "      <td>25</td>\n",
       "    </tr>\n",
       "    <tr>\n",
       "      <th>7</th>\n",
       "      <td>129</td>\n",
       "      <td>4</td>\n",
       "      <td>8.0</td>\n",
       "      <td>NaN</td>\n",
       "      <td>0</td>\n",
       "      <td>&lt;p&gt;I quite like &lt;a href=\"http://rads.stackover...</td>\n",
       "      <td>6764</td>\n",
       "      <td>1089</td>\n",
       "      <td>604</td>\n",
       "      <td>25</td>\n",
       "    </tr>\n",
       "    <tr>\n",
       "      <th>...</th>\n",
       "      <td>...</td>\n",
       "      <td>...</td>\n",
       "      <td>...</td>\n",
       "      <td>...</td>\n",
       "      <td>...</td>\n",
       "      <td>...</td>\n",
       "      <td>...</td>\n",
       "      <td>...</td>\n",
       "      <td>...</td>\n",
       "      <td>...</td>\n",
       "    </tr>\n",
       "    <tr>\n",
       "      <th>90843</th>\n",
       "      <td>115233</td>\n",
       "      <td>0</td>\n",
       "      <td>55599.0</td>\n",
       "      <td>NaN</td>\n",
       "      <td>0</td>\n",
       "      <td>&lt;p&gt;Before computing the variance-covariance ma...</td>\n",
       "      <td>31</td>\n",
       "      <td>2</td>\n",
       "      <td>0</td>\n",
       "      <td>0</td>\n",
       "    </tr>\n",
       "    <tr>\n",
       "      <th>90844</th>\n",
       "      <td>115238</td>\n",
       "      <td>2</td>\n",
       "      <td>55599.0</td>\n",
       "      <td>NaN</td>\n",
       "      <td>0</td>\n",
       "      <td>&lt;p&gt;I agree with Glen_b. In regression problems...</td>\n",
       "      <td>31</td>\n",
       "      <td>2</td>\n",
       "      <td>0</td>\n",
       "      <td>0</td>\n",
       "    </tr>\n",
       "    <tr>\n",
       "      <th>90856</th>\n",
       "      <td>115292</td>\n",
       "      <td>2</td>\n",
       "      <td>48622.0</td>\n",
       "      <td>NaN</td>\n",
       "      <td>0</td>\n",
       "      <td>&lt;p&gt;I don't think that a list with pros and con...</td>\n",
       "      <td>21</td>\n",
       "      <td>0</td>\n",
       "      <td>1</td>\n",
       "      <td>0</td>\n",
       "    </tr>\n",
       "    <tr>\n",
       "      <th>90857</th>\n",
       "      <td>115295</td>\n",
       "      <td>0</td>\n",
       "      <td>53248.0</td>\n",
       "      <td>NaN</td>\n",
       "      <td>0</td>\n",
       "      <td>&lt;p&gt;You want to know what the probability is th...</td>\n",
       "      <td>101</td>\n",
       "      <td>0</td>\n",
       "      <td>0</td>\n",
       "      <td>0</td>\n",
       "    </tr>\n",
       "    <tr>\n",
       "      <th>90868</th>\n",
       "      <td>115338</td>\n",
       "      <td>0</td>\n",
       "      <td>55729.0</td>\n",
       "      <td>NaN</td>\n",
       "      <td>0</td>\n",
       "      <td>&lt;p&gt;All items are not solved fully correctly in...</td>\n",
       "      <td>16</td>\n",
       "      <td>1</td>\n",
       "      <td>0</td>\n",
       "      <td>0</td>\n",
       "    </tr>\n",
       "  </tbody>\n",
       "</table>\n",
       "<p>48396 rows × 10 columns</p>\n",
       "</div>"
      ],
      "text/plain": [
       "       post_id  Score  user_id  ViewCount  CommentCount  \\\n",
       "1           16     16      8.0        NaN             3   \n",
       "3           65     14      8.0        NaN             3   \n",
       "4           78     33      8.0        NaN             4   \n",
       "5          111      8      8.0        NaN             3   \n",
       "7          129      4      8.0        NaN             0   \n",
       "...        ...    ...      ...        ...           ...   \n",
       "90843   115233      0  55599.0        NaN             0   \n",
       "90844   115238      2  55599.0        NaN             0   \n",
       "90856   115292      2  48622.0        NaN             0   \n",
       "90857   115295      0  53248.0        NaN             0   \n",
       "90868   115338      0  55729.0        NaN             0   \n",
       "\n",
       "                                                    Body  Reputation  Views  \\\n",
       "1      <p>Two projects spring to mind:</p>\\n\\n<ol>\\n<...        6764   1089   \n",
       "3      <p>The first formula is the <em>population</em...        6764   1089   \n",
       "4      <p>You tend to use the covariance matrix when ...        6764   1089   \n",
       "5      <p>In R, the default setting for random number...        6764   1089   \n",
       "7      <p>I quite like <a href=\"http://rads.stackover...        6764   1089   \n",
       "...                                                  ...         ...    ...   \n",
       "90843  <p>Before computing the variance-covariance ma...          31      2   \n",
       "90844  <p>I agree with Glen_b. In regression problems...          31      2   \n",
       "90856  <p>I don't think that a list with pros and con...          21      0   \n",
       "90857  <p>You want to know what the probability is th...         101      0   \n",
       "90868  <p>All items are not solved fully correctly in...          16      1   \n",
       "\n",
       "       UpVotes  DownVotes  \n",
       "1          604         25  \n",
       "3          604         25  \n",
       "4          604         25  \n",
       "5          604         25  \n",
       "7          604         25  \n",
       "...        ...        ...  \n",
       "90843        0          0  \n",
       "90844        0          0  \n",
       "90856        1          0  \n",
       "90857        0          0  \n",
       "90868        0          0  \n",
       "\n",
       "[48396 rows x 10 columns]"
      ]
     },
     "execution_count": 26,
     "metadata": {},
     "output_type": "execute_result"
    }
   ],
   "source": [
    "missing = posts_from_users.isna().any(axis = 1)\n",
    "posts_from_users.loc[missing, :]"
   ]
  },
  {
   "cell_type": "markdown",
   "metadata": {
    "colab_type": "text",
    "id": "_FazwWY5ZD5x"
   },
   "source": [
    "## You will need to make something with missing values.  Will you clean or filling them? \n",
    "\n",
    "Pay attention. There can be different reasons for the missings numbers. Look at the `user_id` of some of them, look at the body of the message. Which ones you're sure of what should be and which one can you infer? Don't hurry up, take a look at your data."
   ]
  },
  {
   "cell_type": "code",
   "execution_count": 23,
   "metadata": {
    "ExecuteTime": {
     "end_time": "2020-06-15T22:23:09.047576Z",
     "start_time": "2020-06-15T22:23:08.991101Z"
    },
    "colab": {},
    "colab_type": "code",
    "id": "SnalSFl1ZD5y"
   },
   "outputs": [
    {
     "data": {
      "text/html": [
       "<div>\n",
       "<style scoped>\n",
       "    .dataframe tbody tr th:only-of-type {\n",
       "        vertical-align: middle;\n",
       "    }\n",
       "\n",
       "    .dataframe tbody tr th {\n",
       "        vertical-align: top;\n",
       "    }\n",
       "\n",
       "    .dataframe thead th {\n",
       "        text-align: right;\n",
       "    }\n",
       "</style>\n",
       "<table border=\"1\" class=\"dataframe\">\n",
       "  <thead>\n",
       "    <tr style=\"text-align: right;\">\n",
       "      <th></th>\n",
       "      <th>post_id</th>\n",
       "      <th>Score</th>\n",
       "      <th>user_id</th>\n",
       "      <th>ViewCount</th>\n",
       "      <th>CommentCount</th>\n",
       "      <th>Body</th>\n",
       "      <th>Reputation</th>\n",
       "      <th>Views</th>\n",
       "      <th>UpVotes</th>\n",
       "      <th>DownVotes</th>\n",
       "    </tr>\n",
       "  </thead>\n",
       "  <tbody>\n",
       "    <tr>\n",
       "      <th>689</th>\n",
       "      <td>3012</td>\n",
       "      <td>0</td>\n",
       "      <td>88.0</td>\n",
       "      <td>NaN</td>\n",
       "      <td>0</td>\n",
       "      <td>NaN</td>\n",
       "      <td>14082</td>\n",
       "      <td>3320</td>\n",
       "      <td>4235</td>\n",
       "      <td>126</td>\n",
       "    </tr>\n",
       "    <tr>\n",
       "      <th>695</th>\n",
       "      <td>3018</td>\n",
       "      <td>0</td>\n",
       "      <td>88.0</td>\n",
       "      <td>NaN</td>\n",
       "      <td>0</td>\n",
       "      <td>NaN</td>\n",
       "      <td>14082</td>\n",
       "      <td>3320</td>\n",
       "      <td>4235</td>\n",
       "      <td>126</td>\n",
       "    </tr>\n",
       "    <tr>\n",
       "      <th>817</th>\n",
       "      <td>13641</td>\n",
       "      <td>0</td>\n",
       "      <td>88.0</td>\n",
       "      <td>NaN</td>\n",
       "      <td>0</td>\n",
       "      <td>NaN</td>\n",
       "      <td>14082</td>\n",
       "      <td>3320</td>\n",
       "      <td>4235</td>\n",
       "      <td>126</td>\n",
       "    </tr>\n",
       "    <tr>\n",
       "      <th>6589</th>\n",
       "      <td>56646</td>\n",
       "      <td>0</td>\n",
       "      <td>686.0</td>\n",
       "      <td>NaN</td>\n",
       "      <td>0</td>\n",
       "      <td>NaN</td>\n",
       "      <td>44152</td>\n",
       "      <td>7357</td>\n",
       "      <td>2156</td>\n",
       "      <td>82</td>\n",
       "    </tr>\n",
       "    <tr>\n",
       "      <th>6604</th>\n",
       "      <td>57490</td>\n",
       "      <td>0</td>\n",
       "      <td>686.0</td>\n",
       "      <td>NaN</td>\n",
       "      <td>0</td>\n",
       "      <td>NaN</td>\n",
       "      <td>44152</td>\n",
       "      <td>7357</td>\n",
       "      <td>2156</td>\n",
       "      <td>82</td>\n",
       "    </tr>\n",
       "    <tr>\n",
       "      <th>...</th>\n",
       "      <td>...</td>\n",
       "      <td>...</td>\n",
       "      <td>...</td>\n",
       "      <td>...</td>\n",
       "      <td>...</td>\n",
       "      <td>...</td>\n",
       "      <td>...</td>\n",
       "      <td>...</td>\n",
       "      <td>...</td>\n",
       "      <td>...</td>\n",
       "    </tr>\n",
       "    <tr>\n",
       "      <th>29793</th>\n",
       "      <td>72983</td>\n",
       "      <td>0</td>\n",
       "      <td>7290.0</td>\n",
       "      <td>NaN</td>\n",
       "      <td>0</td>\n",
       "      <td>NaN</td>\n",
       "      <td>37083</td>\n",
       "      <td>5554</td>\n",
       "      <td>8641</td>\n",
       "      <td>125</td>\n",
       "    </tr>\n",
       "    <tr>\n",
       "      <th>29808</th>\n",
       "      <td>76603</td>\n",
       "      <td>0</td>\n",
       "      <td>7290.0</td>\n",
       "      <td>NaN</td>\n",
       "      <td>0</td>\n",
       "      <td>NaN</td>\n",
       "      <td>37083</td>\n",
       "      <td>5554</td>\n",
       "      <td>8641</td>\n",
       "      <td>125</td>\n",
       "    </tr>\n",
       "    <tr>\n",
       "      <th>29810</th>\n",
       "      <td>76631</td>\n",
       "      <td>0</td>\n",
       "      <td>7290.0</td>\n",
       "      <td>NaN</td>\n",
       "      <td>0</td>\n",
       "      <td>NaN</td>\n",
       "      <td>37083</td>\n",
       "      <td>5554</td>\n",
       "      <td>8641</td>\n",
       "      <td>125</td>\n",
       "    </tr>\n",
       "    <tr>\n",
       "      <th>29890</th>\n",
       "      <td>90803</td>\n",
       "      <td>0</td>\n",
       "      <td>7290.0</td>\n",
       "      <td>NaN</td>\n",
       "      <td>0</td>\n",
       "      <td>NaN</td>\n",
       "      <td>37083</td>\n",
       "      <td>5554</td>\n",
       "      <td>8641</td>\n",
       "      <td>125</td>\n",
       "    </tr>\n",
       "    <tr>\n",
       "      <th>29919</th>\n",
       "      <td>93185</td>\n",
       "      <td>0</td>\n",
       "      <td>7290.0</td>\n",
       "      <td>NaN</td>\n",
       "      <td>0</td>\n",
       "      <td>NaN</td>\n",
       "      <td>37083</td>\n",
       "      <td>5554</td>\n",
       "      <td>8641</td>\n",
       "      <td>125</td>\n",
       "    </tr>\n",
       "  </tbody>\n",
       "</table>\n",
       "<p>220 rows × 10 columns</p>\n",
       "</div>"
      ],
      "text/plain": [
       "       post_id  Score  user_id  ViewCount  CommentCount Body  Reputation  \\\n",
       "689       3012      0     88.0        NaN             0  NaN       14082   \n",
       "695       3018      0     88.0        NaN             0  NaN       14082   \n",
       "817      13641      0     88.0        NaN             0  NaN       14082   \n",
       "6589     56646      0    686.0        NaN             0  NaN       44152   \n",
       "6604     57490      0    686.0        NaN             0  NaN       44152   \n",
       "...        ...    ...      ...        ...           ...  ...         ...   \n",
       "29793    72983      0   7290.0        NaN             0  NaN       37083   \n",
       "29808    76603      0   7290.0        NaN             0  NaN       37083   \n",
       "29810    76631      0   7290.0        NaN             0  NaN       37083   \n",
       "29890    90803      0   7290.0        NaN             0  NaN       37083   \n",
       "29919    93185      0   7290.0        NaN             0  NaN       37083   \n",
       "\n",
       "       Views  UpVotes  DownVotes  \n",
       "689     3320     4235        126  \n",
       "695     3320     4235        126  \n",
       "817     3320     4235        126  \n",
       "6589    7357     2156         82  \n",
       "6604    7357     2156         82  \n",
       "...      ...      ...        ...  \n",
       "29793   5554     8641        125  \n",
       "29808   5554     8641        125  \n",
       "29810   5554     8641        125  \n",
       "29890   5554     8641        125  \n",
       "29919   5554     8641        125  \n",
       "\n",
       "[220 rows x 10 columns]"
      ]
     },
     "execution_count": 23,
     "metadata": {},
     "output_type": "execute_result"
    }
   ],
   "source": [
    "missing_body = posts_from_users['Body'].isna()\n",
    "posts_from_users.loc[missing_body, :]"
   ]
  },
  {
   "cell_type": "code",
   "execution_count": 28,
   "metadata": {
    "ExecuteTime": {
     "end_time": "2020-06-14T13:15:28.937897Z",
     "start_time": "2020-06-14T13:15:28.916746Z"
    }
   },
   "outputs": [
    {
     "data": {
      "text/plain": [
       "0"
      ]
     },
     "execution_count": 28,
     "metadata": {},
     "output_type": "execute_result"
    }
   ],
   "source": [
    "posts_from_users.loc[missing_body, :].Score.sum()"
   ]
  },
  {
   "cell_type": "markdown",
   "metadata": {},
   "source": [
    "posts_from_users.loc[missing_body, :].CommentCount.sum()"
   ]
  },
  {
   "cell_type": "code",
   "execution_count": 29,
   "metadata": {
    "ExecuteTime": {
     "end_time": "2020-06-14T13:15:29.873900Z",
     "start_time": "2020-06-14T13:15:29.846887Z"
    }
   },
   "outputs": [
    {
     "data": {
      "text/plain": [
       "0.0"
      ]
     },
     "execution_count": 29,
     "metadata": {},
     "output_type": "execute_result"
    }
   ],
   "source": [
    "posts_from_users.loc[missing_body, :].ViewCount.sum()"
   ]
  },
  {
   "cell_type": "code",
   "execution_count": 30,
   "metadata": {
    "ExecuteTime": {
     "end_time": "2020-06-14T13:15:30.405144Z",
     "start_time": "2020-06-14T13:15:30.395967Z"
    }
   },
   "outputs": [
    {
     "data": {
      "text/plain": [
       "0"
      ]
     },
     "execution_count": 30,
     "metadata": {},
     "output_type": "execute_result"
    }
   ],
   "source": [
    "posts_from_users.loc[missing_body, :].CommentCount.sum()"
   ]
  },
  {
   "cell_type": "markdown",
   "metadata": {},
   "source": [
    "Analizing the posts dataframe the features post_id and user_id as the name says its related to the identitity of the user and post, the other features(ViewCount, CommentCount, Score and Body) are directly related to the post made. So we can infer that when those four features are are 0 or NaN those row do not bring any useful data for analisys therefore we drop them."
   ]
  },
  {
   "cell_type": "code",
   "execution_count": 24,
   "metadata": {
    "ExecuteTime": {
     "end_time": "2020-06-15T22:23:13.926781Z",
     "start_time": "2020-06-15T22:23:13.885148Z"
    }
   },
   "outputs": [],
   "source": [
    "posts_from_users = posts_from_users.drop(index = posts_from_users.loc[missing_body, :].index)"
   ]
  },
  {
   "cell_type": "code",
   "execution_count": 27,
   "metadata": {
    "ExecuteTime": {
     "end_time": "2020-06-15T22:40:08.833348Z",
     "start_time": "2020-06-15T22:40:08.786494Z"
    }
   },
   "outputs": [
    {
     "data": {
      "text/html": [
       "<div>\n",
       "<style scoped>\n",
       "    .dataframe tbody tr th:only-of-type {\n",
       "        vertical-align: middle;\n",
       "    }\n",
       "\n",
       "    .dataframe tbody tr th {\n",
       "        vertical-align: top;\n",
       "    }\n",
       "\n",
       "    .dataframe thead th {\n",
       "        text-align: right;\n",
       "    }\n",
       "</style>\n",
       "<table border=\"1\" class=\"dataframe\">\n",
       "  <thead>\n",
       "    <tr style=\"text-align: right;\">\n",
       "      <th></th>\n",
       "      <th>post_id</th>\n",
       "      <th>Score</th>\n",
       "      <th>user_id</th>\n",
       "      <th>ViewCount</th>\n",
       "      <th>CommentCount</th>\n",
       "      <th>Body</th>\n",
       "      <th>Reputation</th>\n",
       "      <th>Views</th>\n",
       "      <th>UpVotes</th>\n",
       "      <th>DownVotes</th>\n",
       "    </tr>\n",
       "  </thead>\n",
       "  <tbody>\n",
       "    <tr>\n",
       "      <th>9986</th>\n",
       "      <td>26457</td>\n",
       "      <td>44</td>\n",
       "      <td>887.0</td>\n",
       "      <td>NaN</td>\n",
       "      <td>30</td>\n",
       "      <td>&lt;p&gt;Part of the issue is that the frequentist d...</td>\n",
       "      <td>18187</td>\n",
       "      <td>1660</td>\n",
       "      <td>230</td>\n",
       "      <td>4</td>\n",
       "    </tr>\n",
       "    <tr>\n",
       "      <th>29484</th>\n",
       "      <td>33781</td>\n",
       "      <td>69</td>\n",
       "      <td>7290.0</td>\n",
       "      <td>NaN</td>\n",
       "      <td>30</td>\n",
       "      <td>&lt;p&gt;I think there are several issues (in ascend...</td>\n",
       "      <td>37083</td>\n",
       "      <td>5554</td>\n",
       "      <td>8641</td>\n",
       "      <td>125</td>\n",
       "    </tr>\n",
       "    <tr>\n",
       "      <th>68668</th>\n",
       "      <td>69462</td>\n",
       "      <td>0</td>\n",
       "      <td>28746.0</td>\n",
       "      <td>NaN</td>\n",
       "      <td>30</td>\n",
       "      <td>&lt;p&gt;Since the purpose here is presumably to obt...</td>\n",
       "      <td>16108</td>\n",
       "      <td>1673</td>\n",
       "      <td>63</td>\n",
       "      <td>6</td>\n",
       "    </tr>\n",
       "    <tr>\n",
       "      <th>17994</th>\n",
       "      <td>9636</td>\n",
       "      <td>3</td>\n",
       "      <td>2392.0</td>\n",
       "      <td>NaN</td>\n",
       "      <td>31</td>\n",
       "      <td>&lt;p&gt;The chi-square test is good as long as the ...</td>\n",
       "      <td>11860</td>\n",
       "      <td>2359</td>\n",
       "      <td>883</td>\n",
       "      <td>7</td>\n",
       "    </tr>\n",
       "    <tr>\n",
       "      <th>64739</th>\n",
       "      <td>88453</td>\n",
       "      <td>5</td>\n",
       "      <td>25936.0</td>\n",
       "      <td>NaN</td>\n",
       "      <td>34</td>\n",
       "      <td>&lt;p&gt;For independence you want to show that the ...</td>\n",
       "      <td>2196</td>\n",
       "      <td>206</td>\n",
       "      <td>298</td>\n",
       "      <td>6</td>\n",
       "    </tr>\n",
       "    <tr>\n",
       "      <th>23134</th>\n",
       "      <td>30160</td>\n",
       "      <td>12</td>\n",
       "      <td>4856.0</td>\n",
       "      <td>NaN</td>\n",
       "      <td>35</td>\n",
       "      <td>&lt;p&gt;It is true that each element of a multivari...</td>\n",
       "      <td>17791</td>\n",
       "      <td>5927</td>\n",
       "      <td>2122</td>\n",
       "      <td>412</td>\n",
       "    </tr>\n",
       "    <tr>\n",
       "      <th>7688</th>\n",
       "      <td>6605</td>\n",
       "      <td>30</td>\n",
       "      <td>795.0</td>\n",
       "      <td>NaN</td>\n",
       "      <td>37</td>\n",
       "      <td>&lt;p&gt;for some reason, people have difficulty gra...</td>\n",
       "      <td>5606</td>\n",
       "      <td>967</td>\n",
       "      <td>1547</td>\n",
       "      <td>8</td>\n",
       "    </tr>\n",
       "    <tr>\n",
       "      <th>12835</th>\n",
       "      <td>2365</td>\n",
       "      <td>5</td>\n",
       "      <td>1124.0</td>\n",
       "      <td>NaN</td>\n",
       "      <td>41</td>\n",
       "      <td>&lt;p&gt;The problem starts with your sentence :&lt;/p&gt;...</td>\n",
       "      <td>3000</td>\n",
       "      <td>456</td>\n",
       "      <td>140</td>\n",
       "      <td>7</td>\n",
       "    </tr>\n",
       "    <tr>\n",
       "      <th>78546</th>\n",
       "      <td>92246</td>\n",
       "      <td>-5</td>\n",
       "      <td>38102.0</td>\n",
       "      <td>NaN</td>\n",
       "      <td>41</td>\n",
       "      <td>&lt;p&gt;Any paper that disproves the nil null hypot...</td>\n",
       "      <td>208</td>\n",
       "      <td>28</td>\n",
       "      <td>43</td>\n",
       "      <td>0</td>\n",
       "    </tr>\n",
       "    <tr>\n",
       "      <th>43711</th>\n",
       "      <td>31038</td>\n",
       "      <td>6</td>\n",
       "      <td>11032.0</td>\n",
       "      <td>NaN</td>\n",
       "      <td>45</td>\n",
       "      <td>&lt;p&gt;Consistency of an estimator means that as t...</td>\n",
       "      <td>22275</td>\n",
       "      <td>7395</td>\n",
       "      <td>2619</td>\n",
       "      <td>42</td>\n",
       "    </tr>\n",
       "  </tbody>\n",
       "</table>\n",
       "</div>"
      ],
      "text/plain": [
       "       post_id  Score  user_id  ViewCount  CommentCount  \\\n",
       "9986     26457     44    887.0        NaN            30   \n",
       "29484    33781     69   7290.0        NaN            30   \n",
       "68668    69462      0  28746.0        NaN            30   \n",
       "17994     9636      3   2392.0        NaN            31   \n",
       "64739    88453      5  25936.0        NaN            34   \n",
       "23134    30160     12   4856.0        NaN            35   \n",
       "7688      6605     30    795.0        NaN            37   \n",
       "12835     2365      5   1124.0        NaN            41   \n",
       "78546    92246     -5  38102.0        NaN            41   \n",
       "43711    31038      6  11032.0        NaN            45   \n",
       "\n",
       "                                                    Body  Reputation  Views  \\\n",
       "9986   <p>Part of the issue is that the frequentist d...       18187   1660   \n",
       "29484  <p>I think there are several issues (in ascend...       37083   5554   \n",
       "68668  <p>Since the purpose here is presumably to obt...       16108   1673   \n",
       "17994  <p>The chi-square test is good as long as the ...       11860   2359   \n",
       "64739  <p>For independence you want to show that the ...        2196    206   \n",
       "23134  <p>It is true that each element of a multivari...       17791   5927   \n",
       "7688   <p>for some reason, people have difficulty gra...        5606    967   \n",
       "12835  <p>The problem starts with your sentence :</p>...        3000    456   \n",
       "78546  <p>Any paper that disproves the nil null hypot...         208     28   \n",
       "43711  <p>Consistency of an estimator means that as t...       22275   7395   \n",
       "\n",
       "       UpVotes  DownVotes  \n",
       "9986       230          4  \n",
       "29484     8641        125  \n",
       "68668       63          6  \n",
       "17994      883          7  \n",
       "64739      298          6  \n",
       "23134     2122        412  \n",
       "7688      1547          8  \n",
       "12835      140          7  \n",
       "78546       43          0  \n",
       "43711     2619         42  "
      ]
     },
     "execution_count": 27,
     "metadata": {},
     "output_type": "execute_result"
    }
   ],
   "source": [
    "missing_viewcount = posts_from_users['ViewCount'].isna()\n",
    "posts_from_users.loc[missing_viewcount, :].sort_values(by = 'CommentCount').tail(10)"
   ]
  },
  {
   "cell_type": "markdown",
   "metadata": {
    "ExecuteTime": {
     "end_time": "2020-06-12T17:46:38.830245Z",
     "start_time": "2020-06-12T17:46:38.789355Z"
    }
   },
   "source": [
    "Analizing the rows that are missing the ViewCount, their features related to the post(CommentCount, Score and Body) are filled. Therefore these data will be important for the analisys so we do not drop them."
   ]
  },
  {
   "cell_type": "code",
   "execution_count": 41,
   "metadata": {
    "ExecuteTime": {
     "end_time": "2020-06-14T13:54:58.069160Z",
     "start_time": "2020-06-14T13:54:58.025888Z"
    }
   },
   "outputs": [
    {
     "data": {
      "text/plain": [
       "ViewCount       1.000000\n",
       "Score           0.532106\n",
       "Reputation      0.057293\n",
       "Views           0.056347\n",
       "UpVotes         0.046272\n",
       "CommentCount    0.044713\n",
       "DownVotes       0.033729\n",
       "Name: ViewCount, dtype: float64"
      ]
     },
     "execution_count": 41,
     "metadata": {},
     "output_type": "execute_result"
    }
   ],
   "source": [
    "posts_from_users.loc[~missing_viewcount,['ViewCount',\n",
    "                                         'Score',\n",
    "                                         'CommentCount',\n",
    "                                         'Reputation',\n",
    "                                         'Views','UpVotes'\n",
    "                                         ,'DownVotes']].corr().ViewCount.sort_values(ascending = False)"
   ]
  },
  {
   "cell_type": "markdown",
   "metadata": {},
   "source": [
    "Checking the correlation between ViewCount and the others numeric features, considering rows that do not have NaN values in the ViewCount column, the Score is the one more related(53.21%). So to fill the viewcount "
   ]
  },
  {
   "cell_type": "code",
   "execution_count": 45,
   "metadata": {
    "ExecuteTime": {
     "end_time": "2020-06-14T14:05:21.660190Z",
     "start_time": "2020-06-14T14:05:21.623013Z"
    }
   },
   "outputs": [
    {
     "data": {
      "text/html": [
       "<div>\n",
       "<style scoped>\n",
       "    .dataframe tbody tr th:only-of-type {\n",
       "        vertical-align: middle;\n",
       "    }\n",
       "\n",
       "    .dataframe tbody tr th {\n",
       "        vertical-align: top;\n",
       "    }\n",
       "\n",
       "    .dataframe thead th {\n",
       "        text-align: right;\n",
       "    }\n",
       "</style>\n",
       "<table border=\"1\" class=\"dataframe\">\n",
       "  <thead>\n",
       "    <tr style=\"text-align: right;\">\n",
       "      <th></th>\n",
       "      <th>Score</th>\n",
       "      <th>ViewCount</th>\n",
       "    </tr>\n",
       "  </thead>\n",
       "  <tbody>\n",
       "    <tr>\n",
       "      <th>0</th>\n",
       "      <td>-19</td>\n",
       "      <td>271.0</td>\n",
       "    </tr>\n",
       "    <tr>\n",
       "      <th>1</th>\n",
       "      <td>-13</td>\n",
       "      <td>749.0</td>\n",
       "    </tr>\n",
       "    <tr>\n",
       "      <th>2</th>\n",
       "      <td>-10</td>\n",
       "      <td>159.0</td>\n",
       "    </tr>\n",
       "    <tr>\n",
       "      <th>3</th>\n",
       "      <td>-9</td>\n",
       "      <td>250.0</td>\n",
       "    </tr>\n",
       "    <tr>\n",
       "      <th>4</th>\n",
       "      <td>-8</td>\n",
       "      <td>189.0</td>\n",
       "    </tr>\n",
       "    <tr>\n",
       "      <th>...</th>\n",
       "      <td>...</td>\n",
       "      <td>...</td>\n",
       "    </tr>\n",
       "    <tr>\n",
       "      <th>99</th>\n",
       "      <td>124</td>\n",
       "      <td>34780.0</td>\n",
       "    </tr>\n",
       "    <tr>\n",
       "      <th>100</th>\n",
       "      <td>152</td>\n",
       "      <td>29229.0</td>\n",
       "    </tr>\n",
       "    <tr>\n",
       "      <th>101</th>\n",
       "      <td>156</td>\n",
       "      <td>64481.0</td>\n",
       "    </tr>\n",
       "    <tr>\n",
       "      <th>102</th>\n",
       "      <td>184</td>\n",
       "      <td>66071.0</td>\n",
       "    </tr>\n",
       "    <tr>\n",
       "      <th>103</th>\n",
       "      <td>192</td>\n",
       "      <td>60964.0</td>\n",
       "    </tr>\n",
       "  </tbody>\n",
       "</table>\n",
       "<p>104 rows × 2 columns</p>\n",
       "</div>"
      ],
      "text/plain": [
       "     Score  ViewCount\n",
       "0      -19      271.0\n",
       "1      -13      749.0\n",
       "2      -10      159.0\n",
       "3       -9      250.0\n",
       "4       -8      189.0\n",
       "..     ...        ...\n",
       "99     124    34780.0\n",
       "100    152    29229.0\n",
       "101    156    64481.0\n",
       "102    184    66071.0\n",
       "103    192    60964.0\n",
       "\n",
       "[104 rows x 2 columns]"
      ]
     },
     "execution_count": 45,
     "metadata": {},
     "output_type": "execute_result"
    }
   ],
   "source": [
    "posts_from_users.loc[~missing_viewcount,:].groupby(by = 'Score', as_index = False).ViewCount.mean()"
   ]
  },
  {
   "cell_type": "markdown",
   "metadata": {
    "colab_type": "text",
    "id": "ML9wY9ngZD53"
   },
   "source": [
    "## Adjust the data types in order to avoid future issues. Which ones should be changed? "
   ]
  },
  {
   "cell_type": "code",
   "execution_count": 34,
   "metadata": {
    "ExecuteTime": {
     "end_time": "2020-06-15T22:41:42.052875Z",
     "start_time": "2020-06-15T22:41:42.021636Z"
    }
   },
   "outputs": [],
   "source": [
    "posts_from_users = posts_from_users.drop(index = posts_from_users.loc[missing_viewcount, :].index)"
   ]
  },
  {
   "cell_type": "code",
   "execution_count": 35,
   "metadata": {
    "ExecuteTime": {
     "end_time": "2020-06-15T22:41:42.722927Z",
     "start_time": "2020-06-15T22:41:42.691673Z"
    },
    "colab": {},
    "colab_type": "code",
    "id": "xGqkLRBlZD54"
   },
   "outputs": [
    {
     "name": "stdout",
     "output_type": "stream",
     "text": [
      "<class 'pandas.core.frame.DataFrame'>\n",
      "Int64Index: 42188 entries, 0 to 90882\n",
      "Data columns (total 10 columns):\n",
      " #   Column        Non-Null Count  Dtype  \n",
      "---  ------        --------------  -----  \n",
      " 0   post_id       42188 non-null  int64  \n",
      " 1   Score         42188 non-null  int64  \n",
      " 2   user_id       42188 non-null  float64\n",
      " 3   ViewCount     42188 non-null  float64\n",
      " 4   CommentCount  42188 non-null  int64  \n",
      " 5   Body          42188 non-null  object \n",
      " 6   Reputation    42188 non-null  int64  \n",
      " 7   Views         42188 non-null  int64  \n",
      " 8   UpVotes       42188 non-null  int64  \n",
      " 9   DownVotes     42188 non-null  int64  \n",
      "dtypes: float64(2), int64(7), object(1)\n",
      "memory usage: 3.5+ MB\n"
     ]
    }
   ],
   "source": [
    "posts_from_users.info()"
   ]
  },
  {
   "cell_type": "markdown",
   "metadata": {},
   "source": [
    "Columns user_id and ViewCount should be int."
   ]
  },
  {
   "cell_type": "code",
   "execution_count": 36,
   "metadata": {
    "ExecuteTime": {
     "end_time": "2020-06-15T22:42:08.782779Z",
     "start_time": "2020-06-15T22:42:08.767159Z"
    }
   },
   "outputs": [
    {
     "data": {
      "text/plain": [
       "0         1278\n",
       "2        67396\n",
       "6         1220\n",
       "9         1022\n",
       "10        7733\n",
       "         ...  \n",
       "90878       17\n",
       "90879       13\n",
       "90880       19\n",
       "90881        9\n",
       "90882        5\n",
       "Name: ViewCount, Length: 42188, dtype: int64"
      ]
     },
     "execution_count": 36,
     "metadata": {},
     "output_type": "execute_result"
    }
   ],
   "source": [
    "posts_from_users.user_id.astype('category')\n",
    "posts_from_users.ViewCount.astype('int64')"
   ]
  },
  {
   "cell_type": "markdown",
   "metadata": {
    "colab_type": "text",
    "id": "TGypCNS7ZD58"
   },
   "source": [
    "# Bonus 1: (filtering) What is the average number of comments for users who are above the average reputation?\n",
    "\n",
    "*Hint:* Calculate the average of the user Reputation. Store it in a variable called `avg_reputation` and then use that variable for filtering the dataset and generating the results for each case (for the case in which `Reputation > {avg_reputation}` and etc.\n",
    "\n",
    "*Hint 2:* You could create a variable based on that condition and use the group by function perform the task above."
   ]
  },
  {
   "cell_type": "code",
   "execution_count": 37,
   "metadata": {
    "ExecuteTime": {
     "end_time": "2020-06-15T22:42:32.834489Z",
     "start_time": "2020-06-15T22:42:32.803326Z"
    },
    "colab": {},
    "colab_type": "code",
    "id": "vpSVdJ7FZD59"
   },
   "outputs": [
    {
     "data": {
      "text/plain": [
       "2.2574113073060103"
      ]
     },
     "execution_count": 37,
     "metadata": {},
     "output_type": "execute_result"
    }
   ],
   "source": [
    "avg_reputation = posts_from_users['Reputation'].mean()\n",
    "posts_from_users.loc[posts_from_users['Reputation'] > avg_reputation, :].CommentCount.mean()"
   ]
  },
  {
   "cell_type": "markdown",
   "metadata": {
    "colab_type": "text",
    "id": "XFjudXuIZD6A"
   },
   "source": [
    "# Bonus 2: (grouping) Group your dataframe by the Reputation of your user. Calculate the mean value of ViewCount and CommentCount for each reputation value.\n",
    "\n",
    "Suppose the missing values on ViewCount are due a systemic error and you wanted to guess what values should have been there in the first place, but the system abended.\n",
    "\n",
    "Would that be an interesting candidate for inputting the value for the missing `ViewCount` values? If so, input it with these values."
   ]
  },
  {
   "cell_type": "code",
   "execution_count": 39,
   "metadata": {
    "ExecuteTime": {
     "end_time": "2020-06-15T22:43:40.797334Z",
     "start_time": "2020-06-15T22:43:40.766091Z"
    },
    "colab": {},
    "colab_type": "code",
    "id": "g7h6rTQ8ZD6B"
   },
   "outputs": [
    {
     "data": {
      "text/html": [
       "<div>\n",
       "<style scoped>\n",
       "    .dataframe tbody tr th:only-of-type {\n",
       "        vertical-align: middle;\n",
       "    }\n",
       "\n",
       "    .dataframe tbody tr th {\n",
       "        vertical-align: top;\n",
       "    }\n",
       "\n",
       "    .dataframe thead th {\n",
       "        text-align: right;\n",
       "    }\n",
       "</style>\n",
       "<table border=\"1\" class=\"dataframe\">\n",
       "  <thead>\n",
       "    <tr style=\"text-align: right;\">\n",
       "      <th></th>\n",
       "      <th>ViewCount</th>\n",
       "      <th>CommentCount</th>\n",
       "    </tr>\n",
       "    <tr>\n",
       "      <th>Reputation</th>\n",
       "      <th></th>\n",
       "      <th></th>\n",
       "    </tr>\n",
       "  </thead>\n",
       "  <tbody>\n",
       "    <tr>\n",
       "      <th>1</th>\n",
       "      <td>123.006787</td>\n",
       "      <td>1.748303</td>\n",
       "    </tr>\n",
       "    <tr>\n",
       "      <th>2</th>\n",
       "      <td>438.916667</td>\n",
       "      <td>2.333333</td>\n",
       "    </tr>\n",
       "    <tr>\n",
       "      <th>3</th>\n",
       "      <td>164.804706</td>\n",
       "      <td>1.720000</td>\n",
       "    </tr>\n",
       "    <tr>\n",
       "      <th>4</th>\n",
       "      <td>230.512821</td>\n",
       "      <td>2.410256</td>\n",
       "    </tr>\n",
       "    <tr>\n",
       "      <th>5</th>\n",
       "      <td>321.833333</td>\n",
       "      <td>2.125000</td>\n",
       "    </tr>\n",
       "    <tr>\n",
       "      <th>...</th>\n",
       "      <td>...</td>\n",
       "      <td>...</td>\n",
       "    </tr>\n",
       "    <tr>\n",
       "      <th>31170</th>\n",
       "      <td>2318.625000</td>\n",
       "      <td>1.375000</td>\n",
       "    </tr>\n",
       "    <tr>\n",
       "      <th>37083</th>\n",
       "      <td>1201.666667</td>\n",
       "      <td>2.000000</td>\n",
       "    </tr>\n",
       "    <tr>\n",
       "      <th>44152</th>\n",
       "      <td>461.419355</td>\n",
       "      <td>3.645161</td>\n",
       "    </tr>\n",
       "    <tr>\n",
       "      <th>65272</th>\n",
       "      <td>570.625000</td>\n",
       "      <td>2.750000</td>\n",
       "    </tr>\n",
       "    <tr>\n",
       "      <th>87393</th>\n",
       "      <td>1191.500000</td>\n",
       "      <td>6.750000</td>\n",
       "    </tr>\n",
       "  </tbody>\n",
       "</table>\n",
       "<p>872 rows × 2 columns</p>\n",
       "</div>"
      ],
      "text/plain": [
       "              ViewCount  CommentCount\n",
       "Reputation                           \n",
       "1            123.006787      1.748303\n",
       "2            438.916667      2.333333\n",
       "3            164.804706      1.720000\n",
       "4            230.512821      2.410256\n",
       "5            321.833333      2.125000\n",
       "...                 ...           ...\n",
       "31170       2318.625000      1.375000\n",
       "37083       1201.666667      2.000000\n",
       "44152        461.419355      3.645161\n",
       "65272        570.625000      2.750000\n",
       "87393       1191.500000      6.750000\n",
       "\n",
       "[872 rows x 2 columns]"
      ]
     },
     "execution_count": 39,
     "metadata": {},
     "output_type": "execute_result"
    }
   ],
   "source": [
    "posts_from_users.groupby(by = 'Reputation')[['ViewCount', 'CommentCount']].mean()"
   ]
  },
  {
   "cell_type": "markdown",
   "metadata": {
    "colab_type": "text",
    "id": "xZPLn894ZD6M"
   },
   "source": [
    "## refs"
   ]
  },
  {
   "cell_type": "markdown",
   "metadata": {
    "colab_type": "text",
    "id": "z9WU9zwnZD6N"
   },
   "source": [
    "Sample database used: https://relational.fit.cvut.cz/dataset/Stats\n",
    "\n",
    "Stack-overflow database: https://www.brentozar.com/archive/2015/10/how-to-download-the-stack-overflow-database-via-bittorrent/\n"
   ]
  }
 ],
 "metadata": {
  "colab": {
   "collapsed_sections": [],
   "name": "data-cleaning-lab.ipynb",
   "provenance": []
  },
  "kernelspec": {
   "display_name": "Python 3",
   "language": "python",
   "name": "python3"
  },
  "language_info": {
   "codemirror_mode": {
    "name": "ipython",
    "version": 3
   },
   "file_extension": ".py",
   "mimetype": "text/x-python",
   "name": "python",
   "nbconvert_exporter": "python",
   "pygments_lexer": "ipython3",
   "version": "3.7.4"
  },
  "toc": {
   "base_numbering": 1,
   "nav_menu": {},
   "number_sections": true,
   "sideBar": true,
   "skip_h1_title": false,
   "title_cell": "Table of Contents",
   "title_sidebar": "Contents",
   "toc_cell": false,
   "toc_position": {},
   "toc_section_display": true,
   "toc_window_display": false
  },
  "varInspector": {
   "cols": {
    "lenName": 16,
    "lenType": 16,
    "lenVar": 40
   },
   "kernels_config": {
    "python": {
     "delete_cmd_postfix": "",
     "delete_cmd_prefix": "del ",
     "library": "var_list.py",
     "varRefreshCmd": "print(var_dic_list())"
    },
    "r": {
     "delete_cmd_postfix": ") ",
     "delete_cmd_prefix": "rm(",
     "library": "var_list.r",
     "varRefreshCmd": "cat(var_dic_list()) "
    }
   },
   "types_to_exclude": [
    "module",
    "function",
    "builtin_function_or_method",
    "instance",
    "_Feature"
   ],
   "window_display": false
  }
 },
 "nbformat": 4,
 "nbformat_minor": 1
}
