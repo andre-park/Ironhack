{
 "cells": [
  {
   "cell_type": "markdown",
   "metadata": {
    "colab_type": "text",
    "id": "IGVndfDXTYvF"
   },
   "source": [
    "# Lab - Object Oriented Programming"
   ]
  },
  {
   "cell_type": "code",
   "execution_count": 10,
   "metadata": {
    "ExecuteTime": {
     "end_time": "2020-06-05T17:55:14.535856Z",
     "start_time": "2020-06-05T17:55:14.530907Z"
    },
    "colab": {},
    "colab_type": "code",
    "id": "eFUM14nhTYvJ"
   },
   "outputs": [],
   "source": [
    "import pandas as pd\n",
    "import numpy as np\n",
    "import re"
   ]
  },
  {
   "cell_type": "markdown",
   "metadata": {
    "colab_type": "text",
    "id": "VAdTxKlPTYvP"
   },
   "source": [
    "# Challenge 2"
   ]
  },
  {
   "cell_type": "markdown",
   "metadata": {
    "colab_type": "text",
    "id": "r1ytbMg1TYvR"
   },
   "source": [
    "In order to understand the benefits of simple object-oriented programming, we have to build up our classes from the beginning. "
   ]
  },
  {
   "cell_type": "markdown",
   "metadata": {
    "colab_type": "text",
    "id": "X0QMBMXqTYvS"
   },
   "source": [
    "You'll use the following dataframe generator to test some things. Try to understand what the following function does."
   ]
  },
  {
   "cell_type": "code",
   "execution_count": 6,
   "metadata": {
    "ExecuteTime": {
     "end_time": "2020-06-05T17:54:45.982628Z",
     "start_time": "2020-06-05T17:54:45.971655Z"
    },
    "colab": {},
    "colab_type": "code",
    "id": "X45Itv4vTYvU"
   },
   "outputs": [],
   "source": [
    "chars = ['a', 'b', 'c','d', 'e', 'f', ' ', 'á','é','ó']\n",
    "\n",
    "def create_weird_dataframe(size=10):\n",
    "    def create_weird_colnames(size=size):\n",
    "        probs = [.2,.2,.15,.1,.1,.1,.05,.05,.025,.025]\n",
    "\n",
    "        return [''.join(\n",
    "            [(char.upper() if np.random.random() < 0.2 else char) \n",
    "                     for char in np.random.choice(chars,size=12, p=probs)]) for i in range(size)]\n",
    "    \n",
    "    data = np.random.random(size=(size,size))\n",
    "    colnames = create_weird_colnames(size)\n",
    "    return pd.DataFrame(data=data, columns=colnames)"
   ]
  },
  {
   "cell_type": "markdown",
   "metadata": {
    "colab_type": "text",
    "id": "u2mUOpnbTYvY"
   },
   "source": [
    "Test the results of running that function below. Run it several times"
   ]
  },
  {
   "cell_type": "code",
   "execution_count": 5,
   "metadata": {
    "ExecuteTime": {
     "end_time": "2020-06-05T15:44:27.325294Z",
     "start_time": "2020-06-05T15:44:27.289421Z"
    },
    "colab": {},
    "colab_type": "code",
    "id": "sN4YC6L2TYvZ"
   },
   "outputs": [
    {
     "data": {
      "text/html": [
       "<div>\n",
       "<style scoped>\n",
       "    .dataframe tbody tr th:only-of-type {\n",
       "        vertical-align: middle;\n",
       "    }\n",
       "\n",
       "    .dataframe tbody tr th {\n",
       "        vertical-align: top;\n",
       "    }\n",
       "\n",
       "    .dataframe thead th {\n",
       "        text-align: right;\n",
       "    }\n",
       "</style>\n",
       "<table border=\"1\" class=\"dataframe\">\n",
       "  <thead>\n",
       "    <tr style=\"text-align: right;\">\n",
       "      <th></th>\n",
       "      <th>aABfcabbDdca</th>\n",
       "      <th>abAcecffácc</th>\n",
       "      <th>bbebéácdóc a</th>\n",
       "      <th>bdfácabfefdb</th>\n",
       "      <th>aáfceaeÓbfaa</th>\n",
       "      <th>báfFFcáeBceÉ</th>\n",
       "      <th>eEbbEaFc aca</th>\n",
       "      <th>acaebcacfaEb</th>\n",
       "      <th>aEécádacecaf</th>\n",
       "      <th>fAeAdE ddb e</th>\n",
       "    </tr>\n",
       "  </thead>\n",
       "  <tbody>\n",
       "    <tr>\n",
       "      <th>0</th>\n",
       "      <td>0.298178</td>\n",
       "      <td>0.981069</td>\n",
       "      <td>0.941861</td>\n",
       "      <td>0.756375</td>\n",
       "      <td>0.402579</td>\n",
       "      <td>0.638337</td>\n",
       "      <td>0.232221</td>\n",
       "      <td>0.304386</td>\n",
       "      <td>0.130704</td>\n",
       "      <td>0.709082</td>\n",
       "    </tr>\n",
       "    <tr>\n",
       "      <th>1</th>\n",
       "      <td>0.281441</td>\n",
       "      <td>0.298471</td>\n",
       "      <td>0.839181</td>\n",
       "      <td>0.870053</td>\n",
       "      <td>0.634079</td>\n",
       "      <td>0.482349</td>\n",
       "      <td>0.660553</td>\n",
       "      <td>0.441726</td>\n",
       "      <td>0.435097</td>\n",
       "      <td>0.005306</td>\n",
       "    </tr>\n",
       "    <tr>\n",
       "      <th>2</th>\n",
       "      <td>0.268530</td>\n",
       "      <td>0.433755</td>\n",
       "      <td>0.517552</td>\n",
       "      <td>0.640788</td>\n",
       "      <td>0.996781</td>\n",
       "      <td>0.250956</td>\n",
       "      <td>0.665829</td>\n",
       "      <td>0.947623</td>\n",
       "      <td>0.017984</td>\n",
       "      <td>0.879081</td>\n",
       "    </tr>\n",
       "    <tr>\n",
       "      <th>3</th>\n",
       "      <td>0.911401</td>\n",
       "      <td>0.088277</td>\n",
       "      <td>0.791806</td>\n",
       "      <td>0.857107</td>\n",
       "      <td>0.387289</td>\n",
       "      <td>0.123115</td>\n",
       "      <td>0.342859</td>\n",
       "      <td>0.369067</td>\n",
       "      <td>0.068345</td>\n",
       "      <td>0.229954</td>\n",
       "    </tr>\n",
       "    <tr>\n",
       "      <th>4</th>\n",
       "      <td>0.882484</td>\n",
       "      <td>0.567038</td>\n",
       "      <td>0.464117</td>\n",
       "      <td>0.172697</td>\n",
       "      <td>0.757080</td>\n",
       "      <td>0.996637</td>\n",
       "      <td>0.474590</td>\n",
       "      <td>0.530235</td>\n",
       "      <td>0.909537</td>\n",
       "      <td>0.025516</td>\n",
       "    </tr>\n",
       "  </tbody>\n",
       "</table>\n",
       "</div>"
      ],
      "text/plain": [
       "   aABfcabbDdca  abAcecffácc   bbebéácdóc a  bdfácabfefdb  aáfceaeÓbfaa  \\\n",
       "0      0.298178      0.981069      0.941861      0.756375      0.402579   \n",
       "1      0.281441      0.298471      0.839181      0.870053      0.634079   \n",
       "2      0.268530      0.433755      0.517552      0.640788      0.996781   \n",
       "3      0.911401      0.088277      0.791806      0.857107      0.387289   \n",
       "4      0.882484      0.567038      0.464117      0.172697      0.757080   \n",
       "\n",
       "   báfFFcáeBceÉ  eEbbEaFc aca  acaebcacfaEb  aEécádacecaf  fAeAdE ddb e  \n",
       "0      0.638337      0.232221      0.304386      0.130704      0.709082  \n",
       "1      0.482349      0.660553      0.441726      0.435097      0.005306  \n",
       "2      0.250956      0.665829      0.947623      0.017984      0.879081  \n",
       "3      0.123115      0.342859      0.369067      0.068345      0.229954  \n",
       "4      0.996637      0.474590      0.530235      0.909537      0.025516  "
      ]
     },
     "execution_count": 5,
     "metadata": {},
     "output_type": "execute_result"
    }
   ],
   "source": [
    "df = create_weird_dataframe()\n",
    "df.head()"
   ]
  },
  {
   "cell_type": "code",
   "execution_count": 6,
   "metadata": {
    "ExecuteTime": {
     "end_time": "2020-06-05T15:44:50.526602Z",
     "start_time": "2020-06-05T15:44:50.510646Z"
    }
   },
   "outputs": [
    {
     "data": {
      "text/html": [
       "<div>\n",
       "<style scoped>\n",
       "    .dataframe tbody tr th:only-of-type {\n",
       "        vertical-align: middle;\n",
       "    }\n",
       "\n",
       "    .dataframe tbody tr th {\n",
       "        vertical-align: top;\n",
       "    }\n",
       "\n",
       "    .dataframe thead th {\n",
       "        text-align: right;\n",
       "    }\n",
       "</style>\n",
       "<table border=\"1\" class=\"dataframe\">\n",
       "  <thead>\n",
       "    <tr style=\"text-align: right;\">\n",
       "      <th></th>\n",
       "      <th>a aéBábBca</th>\n",
       "      <th>cabbaafecaAó</th>\n",
       "      <th>bÁcaaAaecáac</th>\n",
       "      <th>bebóddccAcca</th>\n",
       "      <th>fdbBééa Aa d</th>\n",
       "      <th>DcebaaábfAFe</th>\n",
       "      <th>fbc BBafaccf</th>\n",
       "      <th>babefcceea a</th>\n",
       "      <th>ecAfEaadacec</th>\n",
       "      <th>bdadáefbáeDe</th>\n",
       "    </tr>\n",
       "  </thead>\n",
       "  <tbody>\n",
       "    <tr>\n",
       "      <th>0</th>\n",
       "      <td>0.231088</td>\n",
       "      <td>0.884216</td>\n",
       "      <td>0.717621</td>\n",
       "      <td>0.128726</td>\n",
       "      <td>0.295507</td>\n",
       "      <td>0.302218</td>\n",
       "      <td>0.328185</td>\n",
       "      <td>0.868176</td>\n",
       "      <td>0.215074</td>\n",
       "      <td>0.039755</td>\n",
       "    </tr>\n",
       "    <tr>\n",
       "      <th>1</th>\n",
       "      <td>0.354294</td>\n",
       "      <td>0.647409</td>\n",
       "      <td>0.073563</td>\n",
       "      <td>0.850129</td>\n",
       "      <td>0.608766</td>\n",
       "      <td>0.158606</td>\n",
       "      <td>0.176652</td>\n",
       "      <td>0.507825</td>\n",
       "      <td>0.194701</td>\n",
       "      <td>0.831302</td>\n",
       "    </tr>\n",
       "    <tr>\n",
       "      <th>2</th>\n",
       "      <td>0.268712</td>\n",
       "      <td>0.744292</td>\n",
       "      <td>0.849659</td>\n",
       "      <td>0.357521</td>\n",
       "      <td>0.765580</td>\n",
       "      <td>0.051613</td>\n",
       "      <td>0.557481</td>\n",
       "      <td>0.866969</td>\n",
       "      <td>0.608185</td>\n",
       "      <td>0.654401</td>\n",
       "    </tr>\n",
       "    <tr>\n",
       "      <th>3</th>\n",
       "      <td>0.511791</td>\n",
       "      <td>0.872636</td>\n",
       "      <td>0.104759</td>\n",
       "      <td>0.105734</td>\n",
       "      <td>0.595397</td>\n",
       "      <td>0.490411</td>\n",
       "      <td>0.356635</td>\n",
       "      <td>0.553750</td>\n",
       "      <td>0.882538</td>\n",
       "      <td>0.773164</td>\n",
       "    </tr>\n",
       "    <tr>\n",
       "      <th>4</th>\n",
       "      <td>0.033629</td>\n",
       "      <td>0.298379</td>\n",
       "      <td>0.443291</td>\n",
       "      <td>0.906378</td>\n",
       "      <td>0.673638</td>\n",
       "      <td>0.365181</td>\n",
       "      <td>0.851959</td>\n",
       "      <td>0.777479</td>\n",
       "      <td>0.963310</td>\n",
       "      <td>0.562132</td>\n",
       "    </tr>\n",
       "  </tbody>\n",
       "</table>\n",
       "</div>"
      ],
      "text/plain": [
       "    a aéBábBca   cabbaafecaAó  bÁcaaAaecáac  bebóddccAcca  fdbBééa Aa d  \\\n",
       "0      0.231088      0.884216      0.717621      0.128726      0.295507   \n",
       "1      0.354294      0.647409      0.073563      0.850129      0.608766   \n",
       "2      0.268712      0.744292      0.849659      0.357521      0.765580   \n",
       "3      0.511791      0.872636      0.104759      0.105734      0.595397   \n",
       "4      0.033629      0.298379      0.443291      0.906378      0.673638   \n",
       "\n",
       "   DcebaaábfAFe  fbc BBafaccf  babefcceea a  ecAfEaadacec  bdadáefbáeDe  \n",
       "0      0.302218      0.328185      0.868176      0.215074      0.039755  \n",
       "1      0.158606      0.176652      0.507825      0.194701      0.831302  \n",
       "2      0.051613      0.557481      0.866969      0.608185      0.654401  \n",
       "3      0.490411      0.356635      0.553750      0.882538      0.773164  \n",
       "4      0.365181      0.851959      0.777479      0.963310      0.562132  "
      ]
     },
     "execution_count": 6,
     "metadata": {},
     "output_type": "execute_result"
    }
   ],
   "source": [
    "df = create_weird_dataframe()\n",
    "df.head()"
   ]
  },
  {
   "cell_type": "code",
   "execution_count": 7,
   "metadata": {
    "ExecuteTime": {
     "end_time": "2020-06-05T15:44:58.598991Z",
     "start_time": "2020-06-05T15:44:58.581008Z"
    }
   },
   "outputs": [
    {
     "data": {
      "text/html": [
       "<div>\n",
       "<style scoped>\n",
       "    .dataframe tbody tr th:only-of-type {\n",
       "        vertical-align: middle;\n",
       "    }\n",
       "\n",
       "    .dataframe tbody tr th {\n",
       "        vertical-align: top;\n",
       "    }\n",
       "\n",
       "    .dataframe thead th {\n",
       "        text-align: right;\n",
       "    }\n",
       "</style>\n",
       "<table border=\"1\" class=\"dataframe\">\n",
       "  <thead>\n",
       "    <tr style=\"text-align: right;\">\n",
       "      <th></th>\n",
       "      <th>d ceaafbcadá</th>\n",
       "      <th>aEaeCcbAbeó</th>\n",
       "      <th>ÓbdbóóaBbcfb</th>\n",
       "      <th>cbcc Bbcácea</th>\n",
       "      <th>ffaeabábcáfE</th>\n",
       "      <th>aabbdEFbbdfé</th>\n",
       "      <th>aaáAeBa aee</th>\n",
       "      <th>AbBebBcdaabd</th>\n",
       "      <th>Dafefbácedcf</th>\n",
       "      <th>df ac aab Fb</th>\n",
       "    </tr>\n",
       "  </thead>\n",
       "  <tbody>\n",
       "    <tr>\n",
       "      <th>0</th>\n",
       "      <td>0.339553</td>\n",
       "      <td>0.774704</td>\n",
       "      <td>0.427159</td>\n",
       "      <td>0.642205</td>\n",
       "      <td>0.432552</td>\n",
       "      <td>0.182978</td>\n",
       "      <td>0.017064</td>\n",
       "      <td>0.349199</td>\n",
       "      <td>0.243550</td>\n",
       "      <td>0.083492</td>\n",
       "    </tr>\n",
       "    <tr>\n",
       "      <th>1</th>\n",
       "      <td>0.336181</td>\n",
       "      <td>0.839911</td>\n",
       "      <td>0.277888</td>\n",
       "      <td>0.198351</td>\n",
       "      <td>0.100580</td>\n",
       "      <td>0.625840</td>\n",
       "      <td>0.676688</td>\n",
       "      <td>0.509465</td>\n",
       "      <td>0.740498</td>\n",
       "      <td>0.667559</td>\n",
       "    </tr>\n",
       "    <tr>\n",
       "      <th>2</th>\n",
       "      <td>0.308982</td>\n",
       "      <td>0.508611</td>\n",
       "      <td>0.828459</td>\n",
       "      <td>0.724767</td>\n",
       "      <td>0.595469</td>\n",
       "      <td>0.025470</td>\n",
       "      <td>0.424865</td>\n",
       "      <td>0.706920</td>\n",
       "      <td>0.993897</td>\n",
       "      <td>0.628468</td>\n",
       "    </tr>\n",
       "    <tr>\n",
       "      <th>3</th>\n",
       "      <td>0.831297</td>\n",
       "      <td>0.811250</td>\n",
       "      <td>0.267391</td>\n",
       "      <td>0.553309</td>\n",
       "      <td>0.556393</td>\n",
       "      <td>0.021806</td>\n",
       "      <td>0.778493</td>\n",
       "      <td>0.835617</td>\n",
       "      <td>0.645193</td>\n",
       "      <td>0.887102</td>\n",
       "    </tr>\n",
       "    <tr>\n",
       "      <th>4</th>\n",
       "      <td>0.510087</td>\n",
       "      <td>0.720741</td>\n",
       "      <td>0.153378</td>\n",
       "      <td>0.783379</td>\n",
       "      <td>0.730610</td>\n",
       "      <td>0.407335</td>\n",
       "      <td>0.409380</td>\n",
       "      <td>0.258294</td>\n",
       "      <td>0.940177</td>\n",
       "      <td>0.058901</td>\n",
       "    </tr>\n",
       "  </tbody>\n",
       "</table>\n",
       "</div>"
      ],
      "text/plain": [
       "   d ceaafbcadá   aEaeCcbAbeó  ÓbdbóóaBbcfb  cbcc Bbcácea  ffaeabábcáfE  \\\n",
       "0      0.339553      0.774704      0.427159      0.642205      0.432552   \n",
       "1      0.336181      0.839911      0.277888      0.198351      0.100580   \n",
       "2      0.308982      0.508611      0.828459      0.724767      0.595469   \n",
       "3      0.831297      0.811250      0.267391      0.553309      0.556393   \n",
       "4      0.510087      0.720741      0.153378      0.783379      0.730610   \n",
       "\n",
       "   aabbdEFbbdfé  aaáAeBa aee   AbBebBcdaabd  Dafefbácedcf  df ac aab Fb  \n",
       "0      0.182978      0.017064      0.349199      0.243550      0.083492  \n",
       "1      0.625840      0.676688      0.509465      0.740498      0.667559  \n",
       "2      0.025470      0.424865      0.706920      0.993897      0.628468  \n",
       "3      0.021806      0.778493      0.835617      0.645193      0.887102  \n",
       "4      0.407335      0.409380      0.258294      0.940177      0.058901  "
      ]
     },
     "execution_count": 7,
     "metadata": {},
     "output_type": "execute_result"
    }
   ],
   "source": [
    "df = create_weird_dataframe()\n",
    "df.head()"
   ]
  },
  {
   "cell_type": "code",
   "execution_count": 8,
   "metadata": {
    "ExecuteTime": {
     "end_time": "2020-06-05T15:45:02.310341Z",
     "start_time": "2020-06-05T15:45:02.290397Z"
    }
   },
   "outputs": [
    {
     "data": {
      "text/html": [
       "<div>\n",
       "<style scoped>\n",
       "    .dataframe tbody tr th:only-of-type {\n",
       "        vertical-align: middle;\n",
       "    }\n",
       "\n",
       "    .dataframe tbody tr th {\n",
       "        vertical-align: top;\n",
       "    }\n",
       "\n",
       "    .dataframe thead th {\n",
       "        text-align: right;\n",
       "    }\n",
       "</style>\n",
       "<table border=\"1\" class=\"dataframe\">\n",
       "  <thead>\n",
       "    <tr style=\"text-align: right;\">\n",
       "      <th></th>\n",
       "      <th>AFedfFcá ceá</th>\n",
       "      <th>bóéAcbbaad A</th>\n",
       "      <th>c babcdebdbC</th>\n",
       "      <th>EAÁbfa eDddD</th>\n",
       "      <th>AfÓÉAbBébÉóc</th>\n",
       "      <th>cabaEeFcbeód</th>\n",
       "      <th>baaécbcéacAC</th>\n",
       "      <th>aECaCaaebÁ B</th>\n",
       "      <th>f cecFáfcbbc</th>\n",
       "      <th>áCAbbceEa  a</th>\n",
       "    </tr>\n",
       "  </thead>\n",
       "  <tbody>\n",
       "    <tr>\n",
       "      <th>0</th>\n",
       "      <td>0.440513</td>\n",
       "      <td>0.614943</td>\n",
       "      <td>0.501347</td>\n",
       "      <td>0.247478</td>\n",
       "      <td>0.987863</td>\n",
       "      <td>0.132521</td>\n",
       "      <td>0.215912</td>\n",
       "      <td>0.469715</td>\n",
       "      <td>0.653272</td>\n",
       "      <td>0.430838</td>\n",
       "    </tr>\n",
       "    <tr>\n",
       "      <th>1</th>\n",
       "      <td>0.439294</td>\n",
       "      <td>0.444948</td>\n",
       "      <td>0.842146</td>\n",
       "      <td>0.738007</td>\n",
       "      <td>0.523428</td>\n",
       "      <td>0.579406</td>\n",
       "      <td>0.031960</td>\n",
       "      <td>0.650741</td>\n",
       "      <td>0.701835</td>\n",
       "      <td>0.505311</td>\n",
       "    </tr>\n",
       "    <tr>\n",
       "      <th>2</th>\n",
       "      <td>0.056691</td>\n",
       "      <td>0.643061</td>\n",
       "      <td>0.263655</td>\n",
       "      <td>0.484002</td>\n",
       "      <td>0.962471</td>\n",
       "      <td>0.693831</td>\n",
       "      <td>0.472378</td>\n",
       "      <td>0.407731</td>\n",
       "      <td>0.693930</td>\n",
       "      <td>0.922855</td>\n",
       "    </tr>\n",
       "    <tr>\n",
       "      <th>3</th>\n",
       "      <td>0.342619</td>\n",
       "      <td>0.552191</td>\n",
       "      <td>0.787528</td>\n",
       "      <td>0.886788</td>\n",
       "      <td>0.256475</td>\n",
       "      <td>0.846277</td>\n",
       "      <td>0.275654</td>\n",
       "      <td>0.095961</td>\n",
       "      <td>0.216398</td>\n",
       "      <td>0.160279</td>\n",
       "    </tr>\n",
       "    <tr>\n",
       "      <th>4</th>\n",
       "      <td>0.157070</td>\n",
       "      <td>0.555191</td>\n",
       "      <td>0.806028</td>\n",
       "      <td>0.971397</td>\n",
       "      <td>0.087917</td>\n",
       "      <td>0.395947</td>\n",
       "      <td>0.961530</td>\n",
       "      <td>0.661300</td>\n",
       "      <td>0.278664</td>\n",
       "      <td>0.581504</td>\n",
       "    </tr>\n",
       "  </tbody>\n",
       "</table>\n",
       "</div>"
      ],
      "text/plain": [
       "   AFedfFcá ceá  bóéAcbbaad A  c babcdebdbC  EAÁbfa eDddD  AfÓÉAbBébÉóc  \\\n",
       "0      0.440513      0.614943      0.501347      0.247478      0.987863   \n",
       "1      0.439294      0.444948      0.842146      0.738007      0.523428   \n",
       "2      0.056691      0.643061      0.263655      0.484002      0.962471   \n",
       "3      0.342619      0.552191      0.787528      0.886788      0.256475   \n",
       "4      0.157070      0.555191      0.806028      0.971397      0.087917   \n",
       "\n",
       "   cabaEeFcbeód  baaécbcéacAC  aECaCaaebÁ B  f cecFáfcbbc  áCAbbceEa  a  \n",
       "0      0.132521      0.215912      0.469715      0.653272      0.430838  \n",
       "1      0.579406      0.031960      0.650741      0.701835      0.505311  \n",
       "2      0.693831      0.472378      0.407731      0.693930      0.922855  \n",
       "3      0.846277      0.275654      0.095961      0.216398      0.160279  \n",
       "4      0.395947      0.961530      0.661300      0.278664      0.581504  "
      ]
     },
     "execution_count": 8,
     "metadata": {},
     "output_type": "execute_result"
    }
   ],
   "source": [
    "df = create_weird_dataframe()\n",
    "df.head()"
   ]
  },
  {
   "cell_type": "markdown",
   "metadata": {
    "colab_type": "text",
    "id": "uk4PrJFfTYvd"
   },
   "source": [
    "## Correcting the column names\n",
    "\n",
    "We'll create a function that rename the weird column names. The idea is to, later, extend that idea to our own brand new dataframe class."
   ]
  },
  {
   "cell_type": "markdown",
   "metadata": {
    "colab_type": "text",
    "id": "n7Zt4bABTYvf"
   },
   "source": [
    "### let's start simple: get the column names of the dataframe.\n",
    "\n",
    "Store it in a variable called `col_names`\n"
   ]
  },
  {
   "cell_type": "code",
   "execution_count": 21,
   "metadata": {
    "ExecuteTime": {
     "end_time": "2020-06-05T15:56:01.735421Z",
     "start_time": "2020-06-05T15:56:01.730458Z"
    },
    "colab": {},
    "colab_type": "code",
    "id": "ZPR1hdCITYvg"
   },
   "outputs": [],
   "source": [
    "col_names = df.columns"
   ]
  },
  {
   "cell_type": "markdown",
   "metadata": {
    "colab_type": "text",
    "id": "CIkkr475TYvk"
   },
   "source": [
    "### Let's iterate through this columns and transform them into lower-case column names\n",
    "\n",
    "Create a list comprehension to do that if possible. Store it in a variable called `lower_colnames`"
   ]
  },
  {
   "cell_type": "code",
   "execution_count": 22,
   "metadata": {
    "ExecuteTime": {
     "end_time": "2020-06-05T15:56:02.591340Z",
     "start_time": "2020-06-05T15:56:02.588323Z"
    },
    "colab": {},
    "colab_type": "code",
    "id": "6TXYfFx5TYvl"
   },
   "outputs": [],
   "source": [
    "lower_colnames = [name.lower() for name in col_names]"
   ]
  },
  {
   "cell_type": "markdown",
   "metadata": {
    "colab_type": "text",
    "id": "qlTchgNbTYvp"
   },
   "source": [
    "### Let's remove the spaces of these column names!\n",
    "\n",
    "Replace each column name space ` ` for an underline `_`. Again, try to use a list comprehension to do that. \n",
    "For this first task use `.replace(' ','')` method to do that."
   ]
  },
  {
   "cell_type": "code",
   "execution_count": 23,
   "metadata": {
    "ExecuteTime": {
     "end_time": "2020-06-05T15:56:05.487907Z",
     "start_time": "2020-06-05T15:56:05.482888Z"
    },
    "colab": {},
    "colab_type": "code",
    "id": "y0JFfKgFTYvq"
   },
   "outputs": [
    {
     "data": {
      "text/plain": [
       "['afedffcá ceá',\n",
       " 'bóéacbbaad a',\n",
       " 'c babcdebdbc',\n",
       " 'eaábfa edddd',\n",
       " 'afóéabbébéóc',\n",
       " 'cabaeefcbeód',\n",
       " 'baaécbcéacac',\n",
       " 'aecacaaebá b',\n",
       " 'f cecfáfcbbc',\n",
       " 'ácabbceea  a']"
      ]
     },
     "execution_count": 23,
     "metadata": {},
     "output_type": "execute_result"
    }
   ],
   "source": [
    "lower_colnames"
   ]
  },
  {
   "cell_type": "code",
   "execution_count": 24,
   "metadata": {
    "ExecuteTime": {
     "end_time": "2020-06-05T15:56:06.827016Z",
     "start_time": "2020-06-05T15:56:06.822053Z"
    }
   },
   "outputs": [
    {
     "data": {
      "text/plain": [
       "['afedffcá_ceá',\n",
       " 'bóéacbbaad_a',\n",
       " 'c_babcdebdbc',\n",
       " 'eaábfa_edddd',\n",
       " 'afóéabbébéóc',\n",
       " 'cabaeefcbeód',\n",
       " 'baaécbcéacac',\n",
       " 'aecacaaebá_b',\n",
       " 'f_cecfáfcbbc',\n",
       " 'ácabbceea__a']"
      ]
     },
     "execution_count": 24,
     "metadata": {},
     "output_type": "execute_result"
    }
   ],
   "source": [
    "lower_colnames = [name.replace(' ','_') for name in lower_colnames]\n",
    "lower_colnames"
   ]
  },
  {
   "cell_type": "markdown",
   "metadata": {
    "colab_type": "text",
    "id": "TCj5NklYTYvu"
   },
   "source": [
    "### Create a function that groups the results obtained above and return the lower case underlined names as a list\n",
    "\n",
    "Name the function `normalize_cols`. This function should receive a dataframe, get the column names of a it and return the treated list of column names."
   ]
  },
  {
   "cell_type": "code",
   "execution_count": 25,
   "metadata": {
    "ExecuteTime": {
     "end_time": "2020-06-05T15:56:15.478667Z",
     "start_time": "2020-06-05T15:56:15.473682Z"
    },
    "colab": {},
    "colab_type": "code",
    "id": "aqYwg4EJTYvv"
   },
   "outputs": [],
   "source": [
    "def normalize_cols(df):\n",
    "    df.columns = [normalize_col.lower().replace(' ','_') for normalize_col in df.columns]\n",
    "    return df.columns"
   ]
  },
  {
   "cell_type": "markdown",
   "metadata": {
    "colab_type": "text",
    "id": "YMpWYJFwTYvz"
   },
   "source": [
    "### Test your results\n",
    "\n",
    "Use the following line of code to test your results. Run it several times to see some behaviors."
   ]
  },
  {
   "cell_type": "code",
   "execution_count": 26,
   "metadata": {
    "ExecuteTime": {
     "end_time": "2020-06-05T15:56:16.439026Z",
     "start_time": "2020-06-05T15:56:16.431044Z"
    },
    "colab": {},
    "colab_type": "code",
    "id": "fbXmMMd3TYv0"
   },
   "outputs": [
    {
     "data": {
      "text/plain": [
       "Index(['caefbbc__bóá', 'áecb_adaócbf', 'bcaócfabbóf_', 'afc_afádó_bb',\n",
       "       'caaaaebóc_ac', 'abc_fbabbbdá', 'deaca_accacb', 'b_dffcadacfb',\n",
       "       'aaócaffáfdda', 'caffaadfbábf'],\n",
       "      dtype='object')"
      ]
     },
     "execution_count": 26,
     "metadata": {},
     "output_type": "execute_result"
    }
   ],
   "source": [
    "normalize_cols(create_weird_dataframe())"
   ]
  },
  {
   "cell_type": "code",
   "execution_count": 27,
   "metadata": {
    "ExecuteTime": {
     "end_time": "2020-06-05T15:56:19.239378Z",
     "start_time": "2020-06-05T15:56:19.232419Z"
    }
   },
   "outputs": [
    {
     "data": {
      "text/plain": [
       "Index(['ceáfbcaeecbc', 'cfbfdfcba_a_', 'feéáaaacbdá_', 'béecefeecócd',\n",
       "       '_dccebfdaeba', 'dáebaedbcdaf', 'cáeaffccáaab', 'addaódbee_cf',\n",
       "       'dadccbcáaaba', 'ffdbbe_ebbcf'],\n",
       "      dtype='object')"
      ]
     },
     "execution_count": 27,
     "metadata": {},
     "output_type": "execute_result"
    }
   ],
   "source": [
    "normalize_cols(create_weird_dataframe())"
   ]
  },
  {
   "cell_type": "code",
   "execution_count": 28,
   "metadata": {
    "ExecuteTime": {
     "end_time": "2020-06-05T15:56:20.537215Z",
     "start_time": "2020-06-05T15:56:20.531204Z"
    }
   },
   "outputs": [
    {
     "data": {
      "text/plain": [
       "Index(['dac_abeadfba', 'dcaffcbdbddc', 'beeáca_aabfó', 'cdódbaebeafa',\n",
       "       'bfbcó_bdaaad', 'cddcbacfbdab', '_debóóbdaebd', 'acaafababcaf',\n",
       "       'bóécacfadebc', 'bbf_eaéeaafa'],\n",
       "      dtype='object')"
      ]
     },
     "execution_count": 28,
     "metadata": {},
     "output_type": "execute_result"
    }
   ],
   "source": [
    "normalize_cols(create_weird_dataframe())"
   ]
  },
  {
   "cell_type": "markdown",
   "metadata": {
    "colab_type": "text",
    "id": "LWMc9bikTYv4"
   },
   "source": [
    "### hmmm, we've made a mistake!\n",
    "\n",
    "We've commited several mistakes by doing this. Have observed any bugs associated with our results?"
   ]
  },
  {
   "cell_type": "markdown",
   "metadata": {
    "colab_type": "text",
    "id": "fGnyUzGATYv5"
   },
   "source": [
    "In order for us to see some problems in our results, we have to look for edge cases. \n",
    "\n",
    "For example: \n",
    "\n",
    "**Problem #1:** what if there are 2 or more following spaces? We want it to replace the spaces by several underlines or condense them into one?\n",
    "\n",
    "**Problem #2:** what if there are spaces at the beginning? Should we substitute them by underline or drop them?"
   ]
  },
  {
   "cell_type": "markdown",
   "metadata": {
    "colab_type": "text",
    "id": "BkJguuBITYv6"
   },
   "source": [
    "Let's correct each problem. Starting by problem 2."
   ]
  },
  {
   "cell_type": "markdown",
   "metadata": {
    "colab_type": "text",
    "id": "ikvacQQ3TYv7"
   },
   "source": [
    "## Correcting our function\n",
    "\n",
    "Instead of substituting the spaces at first place, let's remove the trailing and leading spaces!\n",
    "\n",
    "Recreate the `normalize_cols` with the solution to `Problem 2`.\n",
    "\n",
    "*Hint: Copy and paste the last `normalize_cols` function to change it.*"
   ]
  },
  {
   "cell_type": "code",
   "execution_count": 32,
   "metadata": {
    "ExecuteTime": {
     "end_time": "2020-06-05T15:58:02.093544Z",
     "start_time": "2020-06-05T15:58:02.089562Z"
    },
    "colab": {},
    "colab_type": "code",
    "id": "u_kX4HS1TYv8"
   },
   "outputs": [],
   "source": [
    "def normalize_cols(df):\n",
    "    df.columns = [normalize_col.lower().strip().replace(' ','_') for normalize_col in df.columns]\n",
    "    return df.columns"
   ]
  },
  {
   "cell_type": "markdown",
   "metadata": {
    "colab_type": "text",
    "id": "MXm2-PEbTYwA"
   },
   "source": [
    "### Test your results again.\n",
    "\n",
    "At least, for now, you should not have any trailing nor leading underlines."
   ]
  },
  {
   "cell_type": "code",
   "execution_count": 33,
   "metadata": {
    "ExecuteTime": {
     "end_time": "2020-06-05T15:58:03.192032Z",
     "start_time": "2020-06-05T15:58:03.185051Z"
    },
    "colab": {},
    "colab_type": "code",
    "id": "Bm9ifu5QTYwB"
   },
   "outputs": [
    {
     "data": {
      "text/plain": [
       "Index(['fbááeeebbcd', 'aabfcbfbcaca', 'éfadadbábacb', 'bbacddácáaa',\n",
       "       'adafcdbbffáá', 'bbaebddaaaf', 'ddabácédeábc', 'cbbacaaácócb',\n",
       "       'eba_céáaecbó', 'b_befacf_abb'],\n",
       "      dtype='object')"
      ]
     },
     "execution_count": 33,
     "metadata": {},
     "output_type": "execute_result"
    }
   ],
   "source": [
    "normalize_cols(create_weird_dataframe())"
   ]
  },
  {
   "cell_type": "markdown",
   "metadata": {
    "colab_type": "text",
    "id": "zNR5w4cWTYwE"
   },
   "source": [
    "### Correcting problem 1"
   ]
  },
  {
   "cell_type": "markdown",
   "metadata": {
    "colab_type": "text",
    "id": "vSJu3qCCTYwG"
   },
   "source": [
    "To correct problem 1, instead of using `.replace()` string method, we want to use a regular expression. Use the module `re` to substitute the pattern of `1 or more spaces` by 1 underline `_`.\n",
    "\n",
    "Test your solution on the variable below:"
   ]
  },
  {
   "cell_type": "code",
   "execution_count": 34,
   "metadata": {
    "ExecuteTime": {
     "end_time": "2020-06-05T17:31:20.780343Z",
     "start_time": "2020-06-05T17:31:20.772365Z"
    },
    "colab": {},
    "colab_type": "code",
    "id": "8dm4rS5mTYwH"
   },
   "outputs": [],
   "source": [
    "import re \n",
    "\n",
    "text = 'these spaces      should all be one underline'"
   ]
  },
  {
   "cell_type": "code",
   "execution_count": 35,
   "metadata": {
    "ExecuteTime": {
     "end_time": "2020-06-05T17:32:18.740243Z",
     "start_time": "2020-06-05T17:32:18.731330Z"
    },
    "colab": {},
    "colab_type": "code",
    "id": "RP-cz9kKTYwK"
   },
   "outputs": [
    {
     "data": {
      "text/plain": [
       "'these_spaces_should_all_be_one_underline'"
      ]
     },
     "execution_count": 35,
     "metadata": {},
     "output_type": "execute_result"
    }
   ],
   "source": [
    "re.sub('\\s+','_',text)"
   ]
  },
  {
   "cell_type": "markdown",
   "metadata": {
    "colab_type": "text",
    "id": "iqffTpd3TYwU"
   },
   "source": [
    "### Now correct your `normalize_cols` function\n",
    "\n",
    "*Hint: Copy and paste the last `normalize_cols` function to change it.*"
   ]
  },
  {
   "cell_type": "code",
   "execution_count": 36,
   "metadata": {
    "ExecuteTime": {
     "end_time": "2020-06-05T17:34:19.496985Z",
     "start_time": "2020-06-05T17:34:19.491000Z"
    },
    "colab": {},
    "colab_type": "code",
    "id": "7SxhpuOCTYwV"
   },
   "outputs": [],
   "source": [
    "def normalize_cols(df):\n",
    "    df.columns = [re.sub('\\s+','_',normalize_col.lower().strip()) for normalize_col in df.columns]\n",
    "    return df.columns"
   ]
  },
  {
   "cell_type": "markdown",
   "metadata": {
    "colab_type": "text",
    "id": "mn0UwlZATYwX"
   },
   "source": [
    "### Again, test your results.\n",
    "\n",
    "Now, sometimes some column names should have smaller sizes (because you are removing consecutive spaces)"
   ]
  },
  {
   "cell_type": "code",
   "execution_count": 37,
   "metadata": {
    "ExecuteTime": {
     "end_time": "2020-06-05T17:34:23.080272Z",
     "start_time": "2020-06-05T17:34:23.068117Z"
    },
    "colab": {},
    "colab_type": "code",
    "id": "LzHIKAT4TYwZ"
   },
   "outputs": [
    {
     "data": {
      "text/plain": [
       "Index(['cca_ádfefafá', 'cbaófbébdeda', 'bóbbaeacccbc', 'cbfabbdad_ec',\n",
       "       'aaaó_fdec_db', 'aafódcbabdáa', 'bec_bdcfbfca', 'ab_eaába_bóa',\n",
       "       'dábcféc_bcfá', 'bfff_ccacéba'],\n",
       "      dtype='object')"
      ]
     },
     "execution_count": 37,
     "metadata": {},
     "output_type": "execute_result"
    }
   ],
   "source": [
    "normalize_cols(create_weird_dataframe())"
   ]
  },
  {
   "cell_type": "markdown",
   "metadata": {
    "colab_type": "text",
    "id": "bs7KvyTwTYwc"
   },
   "source": [
    "## Last step: remove accents"
   ]
  },
  {
   "cell_type": "markdown",
   "metadata": {
    "colab_type": "text",
    "id": "rhQLRfoYTYwd"
   },
   "source": [
    "The last step consists in removing accents from the strings.\n",
    "\n",
    "Import the package `unidecode` to use its module also called `unidecode` to remove accents. Test on the word below."
   ]
  },
  {
   "cell_type": "code",
   "execution_count": 2,
   "metadata": {
    "ExecuteTime": {
     "end_time": "2020-06-05T17:53:31.268340Z",
     "start_time": "2020-06-05T17:53:31.260399Z"
    },
    "colab": {},
    "colab_type": "code",
    "id": "osrv7brdTYwe"
   },
   "outputs": [],
   "source": [
    "from unidecode import unidecode\n",
    "text = 'aéóúaorowó'"
   ]
  },
  {
   "cell_type": "code",
   "execution_count": 3,
   "metadata": {
    "ExecuteTime": {
     "end_time": "2020-06-05T17:53:47.146963Z",
     "start_time": "2020-06-05T17:53:47.127016Z"
    },
    "colab": {},
    "colab_type": "code",
    "id": "4fgbbUbZTYwg"
   },
   "outputs": [
    {
     "data": {
      "text/plain": [
       "'aeouaorowo'"
      ]
     },
     "execution_count": 3,
     "metadata": {},
     "output_type": "execute_result"
    }
   ],
   "source": [
    "unidecode(text)"
   ]
  },
  {
   "cell_type": "markdown",
   "metadata": {
    "colab_type": "text",
    "id": "tCoX4ZYLTYwj"
   },
   "source": [
    "### Now remove the accents for each column name in your `normalized_cols` function.\n",
    "\n",
    "*Hint: Copy and paste the last `normalize_cols` function to change it.*"
   ]
  },
  {
   "cell_type": "code",
   "execution_count": 4,
   "metadata": {
    "ExecuteTime": {
     "end_time": "2020-06-05T17:54:35.164668Z",
     "start_time": "2020-06-05T17:54:35.159684Z"
    },
    "colab": {},
    "colab_type": "code",
    "id": "3ZW9No0uTYwk"
   },
   "outputs": [],
   "source": [
    "def normalize_cols(df):\n",
    "    df.columns = [unidecode(re.sub('\\s+','_',normalize_col.lower().strip()))\n",
    "                  for normalize_col in df.columns]\n",
    "    return df.columns"
   ]
  },
  {
   "cell_type": "markdown",
   "metadata": {
    "colab_type": "text",
    "id": "MTgNfgeYTYwm"
   },
   "source": [
    "### Test your results"
   ]
  },
  {
   "cell_type": "code",
   "execution_count": 11,
   "metadata": {
    "ExecuteTime": {
     "end_time": "2020-06-05T17:55:20.469231Z",
     "start_time": "2020-06-05T17:55:20.460760Z"
    },
    "colab": {},
    "colab_type": "code",
    "id": "RxDiO0PzTYwn"
   },
   "outputs": [
    {
     "data": {
      "text/plain": [
       "Index(['fe_aaaao_cbc', 'beb_ccbfa_ad', 'bbcafbbcaco', 'aba_cfcbaaac',\n",
       "       'afcdbcaff_ca', 'afbfeeedaaea', 'fbbecadaafbf', 'aeoaefbaaeec',\n",
       "       'dfeaeacabfbb', 'ebcccaoacddb'],\n",
       "      dtype='object')"
      ]
     },
     "execution_count": 11,
     "metadata": {},
     "output_type": "execute_result"
    }
   ],
   "source": [
    "normalize_cols(create_weird_dataframe())"
   ]
  },
  {
   "cell_type": "markdown",
   "metadata": {
    "colab_type": "text",
    "id": "VQ9C0CjkTYwq"
   },
   "source": [
    "## Good job. \n",
    "\n",
    "Right now you have a function that receives a dataframe and returns its columns names with a good formatting."
   ]
  },
  {
   "cell_type": "markdown",
   "metadata": {
    "colab_type": "text",
    "id": "5swtawYcTYwq"
   },
   "source": [
    "# Creating our own dataframe."
   ]
  },
  {
   "cell_type": "code",
   "execution_count": 13,
   "metadata": {
    "ExecuteTime": {
     "end_time": "2020-06-05T17:56:24.253832Z",
     "start_time": "2020-06-05T17:56:24.249677Z"
    },
    "colab": {},
    "colab_type": "code",
    "id": "69irk1odTYwr"
   },
   "outputs": [],
   "source": [
    "from pandas import DataFrame"
   ]
  },
  {
   "cell_type": "markdown",
   "metadata": {
    "colab_type": "text",
    "id": "3vUf_BFSTYwt"
   },
   "source": [
    "A dataframe is just a simple class. It contains its own attributes and methods. \n",
    "\n",
    "When you create a pd.DataFrame() you are just instantiating the DataFrame class as an object that you can store in a variable. From this point onwards, you have access to all DataFrame class attributes (`.columns` for example) and methods (`.isna()` for example). We've been using those since always! "
   ]
  },
  {
   "cell_type": "markdown",
   "metadata": {
    "colab_type": "text",
    "id": "A5I8dflETYwu"
   },
   "source": [
    "If we wish, we could create our own class inheriting everything from a DataFrame class."
   ]
  },
  {
   "cell_type": "code",
   "execution_count": 14,
   "metadata": {
    "ExecuteTime": {
     "end_time": "2020-06-05T17:56:26.264824Z",
     "start_time": "2020-06-05T17:56:26.260804Z"
    },
    "colab": {},
    "colab_type": "code",
    "id": "xZUmnuzzTYwv"
   },
   "outputs": [],
   "source": [
    "class myDataFrame(DataFrame):\n",
    "    pass"
   ]
  },
  {
   "cell_type": "markdown",
   "metadata": {
    "colab_type": "text",
    "id": "mPSyMDn4TYwy"
   },
   "source": [
    "Instead of just creating myDataFrame, put your function inside your new inherited class, that is, transform `normalize_cols` into a method of your own DataFrame.\n",
    "\n",
    "Remember you'll have to give self as the first argument of the `normalize_cols`. So you could replace everything you once called `dataframe` inside your `normalize_cols` by `self`. \n",
    "\n",
    "At the end, return the list of the correct names."
   ]
  },
  {
   "cell_type": "code",
   "execution_count": 17,
   "metadata": {
    "ExecuteTime": {
     "end_time": "2020-06-05T17:58:19.548662Z",
     "start_time": "2020-06-05T17:58:19.540709Z"
    },
    "colab": {},
    "colab_type": "code",
    "id": "UD3uk6bkTYwz"
   },
   "outputs": [],
   "source": [
    "class myDataFrame(DataFrame):\n",
    "    \n",
    "    def normalize_cols(self):\n",
    "        self.columns = [unidecode(re.sub('\\s+','_',normalize_col.lower().strip()))\n",
    "                      for normalize_col in self.columns]\n",
    "        return self.columns\n",
    "    "
   ]
  },
  {
   "cell_type": "markdown",
   "metadata": {
    "colab_type": "text",
    "id": "lCKiKMavTYw1"
   },
   "source": [
    "Test your results."
   ]
  },
  {
   "cell_type": "code",
   "execution_count": 18,
   "metadata": {
    "ExecuteTime": {
     "end_time": "2020-06-05T17:58:37.289803Z",
     "start_time": "2020-06-05T17:58:37.280858Z"
    },
    "colab": {},
    "colab_type": "code",
    "id": "EaVQNJBbTYw2"
   },
   "outputs": [
    {
     "data": {
      "text/plain": [
       "Index(['acebbofffffc', 'adaceeaeceaa', 'ce_abbebdbea', 'ddcadfda_bdc',\n",
       "       'afd_aaebeffb', 'ecaaf_ea_ea', 'bbecdcfd_bab', 'baeaadbde_cb',\n",
       "       'acaeecbca_oo', 'cffaa_ccabdb'],\n",
       "      dtype='object')"
      ]
     },
     "execution_count": 18,
     "metadata": {},
     "output_type": "execute_result"
    }
   ],
   "source": [
    "df = myDataFrame(create_weird_dataframe())\n",
    "df.normalize_cols()"
   ]
  },
  {
   "cell_type": "markdown",
   "metadata": {
    "colab_type": "text",
    "id": "I0IlScuLTYw5"
   },
   "source": [
    "## Understanding even more the `self` argument"
   ]
  },
  {
   "cell_type": "markdown",
   "metadata": {
    "colab_type": "text",
    "id": "UF5gjA1qTYw6"
   },
   "source": [
    "Instead of returning a list containing the correct columns, you should now assign the correct columns to the `self.columns` - this will effectively replace the values of your object by the correct columns.\n",
    "\n",
    "\n",
    "Now change your method to return the dataframe itself. That is, return the `self` argument this time and see the results! \n",
    "\n",
    "```python\n",
    "class myDataFrame(DataFrame):\n",
    "    def normalize_cos(self):\n",
    "        ...\n",
    "        return self\n",
    "```"
   ]
  },
  {
   "cell_type": "code",
   "execution_count": 20,
   "metadata": {
    "ExecuteTime": {
     "end_time": "2020-06-05T18:01:36.151343Z",
     "start_time": "2020-06-05T18:01:36.122684Z"
    },
    "colab": {},
    "colab_type": "code",
    "id": "dTtylbdGTYw7"
   },
   "outputs": [
    {
     "data": {
      "text/html": [
       "<div>\n",
       "<style scoped>\n",
       "    .dataframe tbody tr th:only-of-type {\n",
       "        vertical-align: middle;\n",
       "    }\n",
       "\n",
       "    .dataframe tbody tr th {\n",
       "        vertical-align: top;\n",
       "    }\n",
       "\n",
       "    .dataframe thead th {\n",
       "        text-align: right;\n",
       "    }\n",
       "</style>\n",
       "<table border=\"1\" class=\"dataframe\">\n",
       "  <thead>\n",
       "    <tr style=\"text-align: right;\">\n",
       "      <th></th>\n",
       "      <th>aeaceadaocfc</th>\n",
       "      <th>bebb_aaedaca</th>\n",
       "      <th>ebeefbadoeda</th>\n",
       "      <th>a_ofeebaabde</th>\n",
       "      <th>baddeccfb_bf</th>\n",
       "      <th>ddeacdeddaff</th>\n",
       "      <th>bafacb_facba</th>\n",
       "      <th>aecaadccb_ab</th>\n",
       "      <th>faa_fdbeof</th>\n",
       "      <th>bacdbce_ecfc</th>\n",
       "    </tr>\n",
       "  </thead>\n",
       "  <tbody>\n",
       "    <tr>\n",
       "      <th>0</th>\n",
       "      <td>0.597703</td>\n",
       "      <td>0.983073</td>\n",
       "      <td>0.050818</td>\n",
       "      <td>0.282435</td>\n",
       "      <td>0.805425</td>\n",
       "      <td>0.759992</td>\n",
       "      <td>0.350795</td>\n",
       "      <td>0.151979</td>\n",
       "      <td>0.928785</td>\n",
       "      <td>0.244931</td>\n",
       "    </tr>\n",
       "    <tr>\n",
       "      <th>1</th>\n",
       "      <td>0.432117</td>\n",
       "      <td>0.153440</td>\n",
       "      <td>0.526749</td>\n",
       "      <td>0.211560</td>\n",
       "      <td>0.056956</td>\n",
       "      <td>0.087401</td>\n",
       "      <td>0.545785</td>\n",
       "      <td>0.713964</td>\n",
       "      <td>0.651472</td>\n",
       "      <td>0.695891</td>\n",
       "    </tr>\n",
       "    <tr>\n",
       "      <th>2</th>\n",
       "      <td>0.135994</td>\n",
       "      <td>0.801657</td>\n",
       "      <td>0.048660</td>\n",
       "      <td>0.795013</td>\n",
       "      <td>0.724310</td>\n",
       "      <td>0.015260</td>\n",
       "      <td>0.516422</td>\n",
       "      <td>0.063812</td>\n",
       "      <td>0.863300</td>\n",
       "      <td>0.678574</td>\n",
       "    </tr>\n",
       "    <tr>\n",
       "      <th>3</th>\n",
       "      <td>0.685800</td>\n",
       "      <td>0.793251</td>\n",
       "      <td>0.145046</td>\n",
       "      <td>0.520620</td>\n",
       "      <td>0.856033</td>\n",
       "      <td>0.519213</td>\n",
       "      <td>0.243965</td>\n",
       "      <td>0.545228</td>\n",
       "      <td>0.685894</td>\n",
       "      <td>0.173305</td>\n",
       "    </tr>\n",
       "    <tr>\n",
       "      <th>4</th>\n",
       "      <td>0.368386</td>\n",
       "      <td>0.815525</td>\n",
       "      <td>0.387979</td>\n",
       "      <td>0.350147</td>\n",
       "      <td>0.470992</td>\n",
       "      <td>0.778024</td>\n",
       "      <td>0.512469</td>\n",
       "      <td>0.010472</td>\n",
       "      <td>0.934598</td>\n",
       "      <td>0.169389</td>\n",
       "    </tr>\n",
       "    <tr>\n",
       "      <th>5</th>\n",
       "      <td>0.962765</td>\n",
       "      <td>0.238085</td>\n",
       "      <td>0.411170</td>\n",
       "      <td>0.055849</td>\n",
       "      <td>0.096723</td>\n",
       "      <td>0.379840</td>\n",
       "      <td>0.892295</td>\n",
       "      <td>0.560273</td>\n",
       "      <td>0.086599</td>\n",
       "      <td>0.379713</td>\n",
       "    </tr>\n",
       "    <tr>\n",
       "      <th>6</th>\n",
       "      <td>0.225870</td>\n",
       "      <td>0.677800</td>\n",
       "      <td>0.670111</td>\n",
       "      <td>0.365797</td>\n",
       "      <td>0.993948</td>\n",
       "      <td>0.658263</td>\n",
       "      <td>0.793782</td>\n",
       "      <td>0.975534</td>\n",
       "      <td>0.786283</td>\n",
       "      <td>0.285833</td>\n",
       "    </tr>\n",
       "    <tr>\n",
       "      <th>7</th>\n",
       "      <td>0.495102</td>\n",
       "      <td>0.248611</td>\n",
       "      <td>0.216939</td>\n",
       "      <td>0.461467</td>\n",
       "      <td>0.965162</td>\n",
       "      <td>0.765482</td>\n",
       "      <td>0.919644</td>\n",
       "      <td>0.131735</td>\n",
       "      <td>0.632617</td>\n",
       "      <td>0.588675</td>\n",
       "    </tr>\n",
       "    <tr>\n",
       "      <th>8</th>\n",
       "      <td>0.754046</td>\n",
       "      <td>0.147251</td>\n",
       "      <td>0.786551</td>\n",
       "      <td>0.385986</td>\n",
       "      <td>0.707157</td>\n",
       "      <td>0.287268</td>\n",
       "      <td>0.477922</td>\n",
       "      <td>0.466336</td>\n",
       "      <td>0.250519</td>\n",
       "      <td>0.751631</td>\n",
       "    </tr>\n",
       "    <tr>\n",
       "      <th>9</th>\n",
       "      <td>0.110463</td>\n",
       "      <td>0.518791</td>\n",
       "      <td>0.657539</td>\n",
       "      <td>0.951347</td>\n",
       "      <td>0.097463</td>\n",
       "      <td>0.849675</td>\n",
       "      <td>0.355851</td>\n",
       "      <td>0.907438</td>\n",
       "      <td>0.599355</td>\n",
       "      <td>0.970271</td>\n",
       "    </tr>\n",
       "  </tbody>\n",
       "</table>\n",
       "</div>"
      ],
      "text/plain": [
       "   aeaceadaocfc  bebb_aaedaca  ebeefbadoeda  a_ofeebaabde  baddeccfb_bf  \\\n",
       "0      0.597703      0.983073      0.050818      0.282435      0.805425   \n",
       "1      0.432117      0.153440      0.526749      0.211560      0.056956   \n",
       "2      0.135994      0.801657      0.048660      0.795013      0.724310   \n",
       "3      0.685800      0.793251      0.145046      0.520620      0.856033   \n",
       "4      0.368386      0.815525      0.387979      0.350147      0.470992   \n",
       "5      0.962765      0.238085      0.411170      0.055849      0.096723   \n",
       "6      0.225870      0.677800      0.670111      0.365797      0.993948   \n",
       "7      0.495102      0.248611      0.216939      0.461467      0.965162   \n",
       "8      0.754046      0.147251      0.786551      0.385986      0.707157   \n",
       "9      0.110463      0.518791      0.657539      0.951347      0.097463   \n",
       "\n",
       "   ddeacdeddaff  bafacb_facba  aecaadccb_ab  faa_fdbeof  bacdbce_ecfc  \n",
       "0      0.759992      0.350795      0.151979    0.928785      0.244931  \n",
       "1      0.087401      0.545785      0.713964    0.651472      0.695891  \n",
       "2      0.015260      0.516422      0.063812    0.863300      0.678574  \n",
       "3      0.519213      0.243965      0.545228    0.685894      0.173305  \n",
       "4      0.778024      0.512469      0.010472    0.934598      0.169389  \n",
       "5      0.379840      0.892295      0.560273    0.086599      0.379713  \n",
       "6      0.658263      0.793782      0.975534    0.786283      0.285833  \n",
       "7      0.765482      0.919644      0.131735    0.632617      0.588675  \n",
       "8      0.287268      0.477922      0.466336    0.250519      0.751631  \n",
       "9      0.849675      0.355851      0.907438    0.599355      0.970271  "
      ]
     },
     "execution_count": 20,
     "metadata": {},
     "output_type": "execute_result"
    }
   ],
   "source": [
    "class myDataFrame(DataFrame):\n",
    "    \n",
    "    def normalize_cols(self):\n",
    "        self.columns = [unidecode(re.sub('\\s+','_',normalize_col.lower().strip()))\n",
    "                      for normalize_col in self.columns]\n",
    "        return self\n",
    "    \n",
    "myDataFrame(create_weird_dataframe()).normalize_cols()    "
   ]
  },
  {
   "cell_type": "markdown",
   "metadata": {
    "colab_type": "text",
    "id": "bh1SJi3lTYxf"
   },
   "source": [
    "## Understanding the self argument"
   ]
  },
  {
   "cell_type": "markdown",
   "metadata": {
    "colab_type": "text",
    "id": "ZnGiF0QgTYxi"
   },
   "source": [
    "Now, below the `for loop` you've created, let's create the attributes of the `Car` class. Remember the attributes you wrote down earlier? Let's put them as arguments of the `__init__(self,)` function.\n",
    "\n",
    "Remember, the first argument of the `__init__(self,)` function should always be the `self` keyword. \n",
    "\n",
    "The `self` argument represents the object itself. That is a way for you to have access to the objects own attribute. \n"
   ]
  },
  {
   "cell_type": "markdown",
   "metadata": {
    "colab_type": "text",
    "id": "EuP7N9DzTYxj"
   },
   "source": [
    "### First, let's start creating one single attribute of this car."
   ]
  },
  {
   "cell_type": "markdown",
   "metadata": {
    "colab_type": "text",
    "id": "Szqw_HxlTYxk"
   },
   "source": [
    "Let's say you have chosen `name` as a car attribute (what? can't a car have a name?). \n",
    "\n",
    "If you want your class to receive a specific car name as an argument, you have to put this variable as the argument of the `__init__` function. So, to add `name`, the results of your special function definition would be:\n",
    "\n",
    "```python\n",
    "def __init__(self, name):\n",
    "    pass\n",
    "```\n",
    "\n",
    "Now, when you instantiate your Car class, the syntax would be similar to calling a function (which, by now, you should now that it is what you are effectively doing - you are calling the __init__ method), so what the syntax would be:\n",
    "\n",
    "*Hint: If you don't specify an argument, the python interpreter will complain that your class requires one argument (try that - if you don't try it now, it is not a problem, you'll try in future, even when you don't want to).*\n"
   ]
  },
  {
   "cell_type": "code",
   "execution_count": 0,
   "metadata": {
    "colab": {},
    "colab_type": "code",
    "id": "Uz0lt0tuTYxk"
   },
   "outputs": [],
   "source": [
    "# your code here"
   ]
  },
  {
   "cell_type": "markdown",
   "metadata": {
    "colab_type": "text",
    "id": "FLmjUel1TYxo"
   },
   "source": [
    "### Now let's store that new argument\n",
    "\n",
    "By now, you are only receiving the name of the car as an argument, but you are not doing anything specifically with that variable called `name`.\n",
    "\n",
    "Let's store that in the object. That's the first use of the `self` keyword.\n",
    "\n",
    "To store the variable in a way that the user can access via a `car.SOMETHING`, you have to specify that the object itself is receiving the attribute `name` (for example)\n",
    "\n",
    "Then, **create a variable called `name` that receives the argument `name`** (keep in mind that the name of the variable need not necessarily be the same, you could assing the argument `name` to an attribute called `chimpanze` for example).\n",
    "\n",
    "Also **create the other 5 attributes that you previously had in mind**\n"
   ]
  },
  {
   "cell_type": "code",
   "execution_count": 0,
   "metadata": {
    "colab": {},
    "colab_type": "code",
    "id": "7FzwacOwTYxq"
   },
   "outputs": [],
   "source": [
    "# your code here"
   ]
  },
  {
   "cell_type": "markdown",
   "metadata": {
    "colab_type": "text",
    "id": "3fS9sCKjTYxs"
   },
   "source": [
    "### Access the attribute\n",
    "\n",
    "You should now be able to access the object's attribute once you instantiate it as `my_car.name`\n",
    "\n",
    "You can try to write `my_car.<TAB>` to check what attributes or methods your object contains."
   ]
  },
  {
   "cell_type": "code",
   "execution_count": 0,
   "metadata": {
    "colab": {},
    "colab_type": "code",
    "id": "if18GWwtTYxt"
   },
   "outputs": [],
   "source": []
  },
  {
   "cell_type": "markdown",
   "metadata": {
    "colab_type": "text",
    "id": "uu5Ma2rvTYxu"
   },
   "source": [
    "## Understanding special methods"
   ]
  },
  {
   "cell_type": "markdown",
   "metadata": {
    "colab_type": "text",
    "id": "ltpSwuvTTYxv"
   },
   "source": [
    "Special methods are the ones that start with double underlines (usually called `dunder`), for example the `__init__` method, the `__doc__` method or `__repr__` method (called as `dunder init`, `dunder doc`, `dunder repr`)."
   ]
  },
  {
   "cell_type": "markdown",
   "metadata": {
    "colab_type": "text",
    "id": "dyytOn27TYxw"
   },
   "source": [
    "The `__repr__` method is responsible to show how your class will be displayed on screen when you display it.\n",
    "Let's create a `__repr__(self)` function on our `Car` class that returns the following string below (copy the string below):\n",
    "\n",
    "```python\n",
    "    car = f'''\n",
    "                  ______--------___\n",
    "                 /|             / |\n",
    "      o___________|_\\__________/__|\n",
    "     ]|___     |  |=   ||  =|___  |\"\n",
    "     //   \\\\    |  |____||_///   \\\\|\"\n",
    "    |  X  |\\--------------/|  X  |\\\"\n",
    "     \\___/                  \\___/\n",
    "    '''\n",
    "```\n",
    "\n",
    "Your class should now have two special methods, `__init__` and `__repr__`"
   ]
  },
  {
   "cell_type": "code",
   "execution_count": 0,
   "metadata": {
    "colab": {},
    "colab_type": "code",
    "id": "y4JUYVALTYxw"
   },
   "outputs": [],
   "source": [
    "class Car:\n",
    "    \n",
    "    def __init__(self, car_name):\n",
    "        self.car_name = car_name\n",
    "    \n",
    "    def __repr__(self):\n",
    "        \n",
    "        car = f'''\n",
    "                      ______--------___\n",
    "                     /|             / |\n",
    "          o___________|_\\__________/__|\n",
    "         ]|___     |  |=   ||  =|___  |\"\n",
    "         //   \\\\    |  |____||_///   \\\\|\"\n",
    "        |  X  |\\--------------/|  X  |\\\"\n",
    "         \\___/                  \\___/\n",
    "        '''\n",
    "        \n",
    "        return car"
   ]
  },
  {
   "cell_type": "markdown",
   "metadata": {
    "colab_type": "text",
    "id": "cZV4Qq62TYx4"
   },
   "source": [
    "### Now instantiate your Car class again"
   ]
  },
  {
   "cell_type": "code",
   "execution_count": 0,
   "metadata": {
    "colab": {},
    "colab_type": "code",
    "id": "K51Kjik8TYx4"
   },
   "outputs": [],
   "source": [
    "my_car = Car('Jeguinho')"
   ]
  },
  {
   "cell_type": "markdown",
   "metadata": {
    "colab_type": "text",
    "id": "ZoFEGcT1TYx8"
   },
   "source": [
    "### And check what happens when you print your object on screen"
   ]
  },
  {
   "cell_type": "code",
   "execution_count": 0,
   "metadata": {
    "colab": {},
    "colab_type": "code",
    "id": "v3JCceBBTYx9"
   },
   "outputs": [],
   "source": [
    "print(my_car)"
   ]
  },
  {
   "cell_type": "markdown",
   "metadata": {
    "colab_type": "text",
    "id": "tfhgwGFDTYyA"
   },
   "source": [
    "### Now create a simple method to receive and return the `self` variable\n",
    "\n",
    "Create a simple method inside your `class Car` and return `self` the self argument. Name this method `get_itself`."
   ]
  },
  {
   "cell_type": "code",
   "execution_count": 0,
   "metadata": {
    "colab": {},
    "colab_type": "code",
    "id": "jEQNj8r4TYyB"
   },
   "outputs": [],
   "source": [
    "class Car:\n",
    "    \n",
    "    def __init__(self, car_name):\n",
    "        self.car_name = car_name\n",
    "    \n",
    "    def __repr__(self):\n",
    "        \n",
    "        car = f'''\n",
    "                      ______--------___\n",
    "                     /|             / |\n",
    "          o___________|_\\__________/__|\n",
    "         ]|___     |  |=   ||  =|___  |\"\n",
    "         //   \\\\    |  |____||_///   \\\\|\"\n",
    "        |  X  |\\--------------/|  X  |\\\"\n",
    "         \\___/                  \\___/\n",
    "        '''\n",
    "        \n",
    "        return car\n",
    "    \n",
    "    def get_itself(self):\n",
    "        return self"
   ]
  },
  {
   "cell_type": "markdown",
   "metadata": {
    "colab_type": "text",
    "id": "Zd2avbOGTYyE"
   },
   "source": [
    "#### Now instantiate the Car class and call `get_itself()`"
   ]
  },
  {
   "cell_type": "code",
   "execution_count": 0,
   "metadata": {
    "colab": {},
    "colab_type": "code",
    "id": "pUl9ZI8YTYyF"
   },
   "outputs": [],
   "source": [
    "my_car = Car('andre')"
   ]
  },
  {
   "cell_type": "code",
   "execution_count": 0,
   "metadata": {
    "colab": {},
    "colab_type": "code",
    "id": "AZ3o-NCkTYyK"
   },
   "outputs": [],
   "source": [
    "my_car.get_itself()"
   ]
  },
  {
   "cell_type": "markdown",
   "metadata": {
    "colab_type": "text",
    "id": "QZ25I6chTYyL"
   },
   "source": [
    "This happens because you are print this specific object. "
   ]
  }
 ],
 "metadata": {
  "colab": {
   "collapsed_sections": [
    "TCj5NklYTYvu",
    "YMpWYJFwTYvz",
    "LWMc9bikTYv4",
    "ikvacQQ3TYv7",
    "MXm2-PEbTYwA",
    "zNR5w4cWTYwE",
    "iqffTpd3TYwU",
    "mn0UwlZATYwX",
    "bs7KvyTwTYwc",
    "tCoX4ZYLTYwj",
    "MTgNfgeYTYwm",
    "VQ9C0CjkTYwq",
    "I0IlScuLTYw5",
    "bh1SJi3lTYxf",
    "EuP7N9DzTYxj",
    "FLmjUel1TYxo",
    "3fS9sCKjTYxs",
    "uu5Ma2rvTYxu",
    "cZV4Qq62TYx4",
    "ZoFEGcT1TYx8",
    "tfhgwGFDTYyA",
    "Zd2avbOGTYyE"
   ],
   "name": "[BONUS] challenge-02.ipynb",
   "provenance": []
  },
  "kernelspec": {
   "display_name": "Python 3",
   "language": "python",
   "name": "python3"
  },
  "toc": {
   "base_numbering": 1,
   "nav_menu": {},
   "number_sections": true,
   "sideBar": true,
   "skip_h1_title": false,
   "title_cell": "Table of Contents",
   "title_sidebar": "Contents",
   "toc_cell": false,
   "toc_position": {},
   "toc_section_display": true,
   "toc_window_display": false
  },
  "varInspector": {
   "cols": {
    "lenName": 16,
    "lenType": 16,
    "lenVar": 40
   },
   "kernels_config": {
    "python": {
     "delete_cmd_postfix": "",
     "delete_cmd_prefix": "del ",
     "library": "var_list.py",
     "varRefreshCmd": "print(var_dic_list())"
    },
    "r": {
     "delete_cmd_postfix": ") ",
     "delete_cmd_prefix": "rm(",
     "library": "var_list.r",
     "varRefreshCmd": "cat(var_dic_list()) "
    }
   },
   "types_to_exclude": [
    "module",
    "function",
    "builtin_function_or_method",
    "instance",
    "_Feature"
   ],
   "window_display": false
  }
 },
 "nbformat": 4,
 "nbformat_minor": 1
}
